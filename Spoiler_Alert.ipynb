{
  "nbformat": 4,
  "nbformat_minor": 0,
  "metadata": {
    "colab": {
      "name": "Spoiler Alert",
      "provenance": [],
      "toc_visible": true,
      "mount_file_id": "1SZKtVT3H2148hwuyTk7NEEcJc2euexoP",
      "authorship_tag": "ABX9TyP/lrx3gZcL8xv4KxE/RHnI",
      "include_colab_link": true
    },
    "kernelspec": {
      "display_name": "Python 3",
      "name": "python3"
    }
  },
  "cells": [
    {
      "cell_type": "markdown",
      "metadata": {
        "id": "view-in-github",
        "colab_type": "text"
      },
      "source": [
        "<a href=\"https://colab.research.google.com/github/rahvlrawat/Spoiler-Alert/blob/main/Spoiler_Alert.ipynb\" target=\"_parent\"><img src=\"https://colab.research.google.com/assets/colab-badge.svg\" alt=\"Open In Colab\"/></a>"
      ]
    },
    {
      "cell_type": "markdown",
      "metadata": {
        "id": "SM-tqsbcZORw"
      },
      "source": [
        "# Imports/Installations "
      ]
    },
    {
      "cell_type": "code",
      "metadata": {
        "id": "TBra12cnLqiw"
      },
      "source": [
        "import os"
      ],
      "execution_count": 1,
      "outputs": []
    },
    {
      "cell_type": "code",
      "metadata": {
        "id": "6cyzSD0NVATD",
        "colab": {
          "base_uri": "https://localhost:8080/"
        },
        "outputId": "e23e1163-8d20-4659-ed7b-62c8c725bf5b"
      },
      "source": [
        "os.system('pip install -q kaggle')\n",
        "os.system('mkdir ~/.kaggle')\n",
        "os.system('cp /content/drive/MyDrive/kaggle.json   ~/.kaggle/')\n",
        "os.system('chmod 600 ~/.kaggle/kaggle.json')\n",
        "os.system('kaggle datasets download -d  rmisra/imdb-spoiler-dataset')\n",
        "os.system('kaggle datasets download -d   rtatman/glove-global-vectors-for-word-representation')\n",
        "os.system('unzip  /content/imdb-spoiler-dataset.zip')\n",
        "os.system('unzip /content/glove-global-vectors-for-word-representation.zip')\n",
        "\n"
      ],
      "execution_count": 2,
      "outputs": [
        {
          "output_type": "execute_result",
          "data": {
            "text/plain": [
              "0"
            ]
          },
          "metadata": {
            "tags": []
          },
          "execution_count": 2
        }
      ]
    },
    {
      "cell_type": "code",
      "metadata": {
        "id": "LcChG8Np3ban",
        "colab": {
          "base_uri": "https://localhost:8080/"
        },
        "outputId": "281216e1-89a7-4b80-80d2-3b133797303c"
      },
      "source": [
        "pip install --user -U nltk"
      ],
      "execution_count": 3,
      "outputs": [
        {
          "output_type": "stream",
          "text": [
            "Collecting nltk\n",
            "\u001b[?25l  Downloading https://files.pythonhosted.org/packages/92/75/ce35194d8e3022203cca0d2f896dbb88689f9b3fce8e9f9cff942913519d/nltk-3.5.zip (1.4MB)\n",
            "\u001b[K     |████████████████████████████████| 1.4MB 4.3MB/s \n",
            "\u001b[?25hRequirement already satisfied, skipping upgrade: click in /usr/local/lib/python3.6/dist-packages (from nltk) (7.1.2)\n",
            "Requirement already satisfied, skipping upgrade: joblib in /usr/local/lib/python3.6/dist-packages (from nltk) (0.17.0)\n",
            "Requirement already satisfied, skipping upgrade: regex in /usr/local/lib/python3.6/dist-packages (from nltk) (2019.12.20)\n",
            "Requirement already satisfied, skipping upgrade: tqdm in /usr/local/lib/python3.6/dist-packages (from nltk) (4.41.1)\n",
            "Building wheels for collected packages: nltk\n",
            "  Building wheel for nltk (setup.py) ... \u001b[?25l\u001b[?25hdone\n",
            "  Created wheel for nltk: filename=nltk-3.5-cp36-none-any.whl size=1434677 sha256=41616f1e098d7370c4d6b2abe59bbf1171c942bece1a985365e9efbc2d6733fe\n",
            "  Stored in directory: /root/.cache/pip/wheels/ae/8c/3f/b1fe0ba04555b08b57ab52ab7f86023639a526d8bc8d384306\n",
            "Successfully built nltk\n",
            "Installing collected packages: nltk\n",
            "\u001b[33m  WARNING: The script nltk is installed in '/root/.local/bin' which is not on PATH.\n",
            "  Consider adding this directory to PATH or, if you prefer to suppress this warning, use --no-warn-script-location.\u001b[0m\n",
            "Successfully installed nltk-3.5\n"
          ],
          "name": "stdout"
        }
      ]
    },
    {
      "cell_type": "code",
      "metadata": {
        "id": "JvGJVOuZZZge"
      },
      "source": [
        "import pandas as pd\n",
        "import numpy as np\n",
        "import seaborn as sns\n",
        "import matplotlib.pyplot as plt\n",
        "from numpy.linalg import norm\n",
        "\n",
        "from datetime import datetime\n",
        "import re\n",
        "from wordcloud import WordCloud, STOPWORDS\n",
        "\n",
        "from collections import Counter\n",
        "\n",
        "from sklearn import preprocessing\n",
        "from sklearn.model_selection import train_test_split\n",
        "from sklearn.metrics import confusion_matrix, classification_report, precision_recall_curve\n",
        "from sklearn.feature_extraction.text import TfidfVectorizer\n",
        "from sklearn import svm\n",
        "\n",
        "import re\n",
        "import nltk\n",
        "from nltk.corpus import stopwords\n",
        "from nltk import FreqDist\n",
        "\n",
        "from keras.preprocessing.text import Tokenizer\n",
        "from keras.preprocessing.sequence import pad_sequences"
      ],
      "execution_count": 4,
      "outputs": []
    },
    {
      "cell_type": "markdown",
      "metadata": {
        "id": "fiNOjKVrZWVs"
      },
      "source": [
        "# Data Preprocessing"
      ]
    },
    {
      "cell_type": "code",
      "metadata": {
        "id": "wlDJOp1oU97e"
      },
      "source": [
        "df_reviews = pd.read_json('/content/IMDB_reviews.json', lines=True)\n",
        "df_details = pd.read_json('/content/IMDB_movie_details.json', lines=True)\n"
      ],
      "execution_count": 5,
      "outputs": []
    },
    {
      "cell_type": "code",
      "metadata": {
        "colab": {
          "base_uri": "https://localhost:8080/",
          "height": 347
        },
        "id": "tOz_c6cXac2O",
        "outputId": "6d3069b0-0e91-49b5-b7fa-1e49fd7ced90"
      },
      "source": [
        "df_reviews.head()"
      ],
      "execution_count": 6,
      "outputs": [
        {
          "output_type": "execute_result",
          "data": {
            "text/html": [
              "<div>\n",
              "<style scoped>\n",
              "    .dataframe tbody tr th:only-of-type {\n",
              "        vertical-align: middle;\n",
              "    }\n",
              "\n",
              "    .dataframe tbody tr th {\n",
              "        vertical-align: top;\n",
              "    }\n",
              "\n",
              "    .dataframe thead th {\n",
              "        text-align: right;\n",
              "    }\n",
              "</style>\n",
              "<table border=\"1\" class=\"dataframe\">\n",
              "  <thead>\n",
              "    <tr style=\"text-align: right;\">\n",
              "      <th></th>\n",
              "      <th>review_date</th>\n",
              "      <th>movie_id</th>\n",
              "      <th>user_id</th>\n",
              "      <th>is_spoiler</th>\n",
              "      <th>review_text</th>\n",
              "      <th>rating</th>\n",
              "      <th>review_summary</th>\n",
              "    </tr>\n",
              "  </thead>\n",
              "  <tbody>\n",
              "    <tr>\n",
              "      <th>0</th>\n",
              "      <td>10 February 2006</td>\n",
              "      <td>tt0111161</td>\n",
              "      <td>ur1898687</td>\n",
              "      <td>True</td>\n",
              "      <td>In its Oscar year, Shawshank Redemption (writt...</td>\n",
              "      <td>10</td>\n",
              "      <td>A classic piece of unforgettable film-making.</td>\n",
              "    </tr>\n",
              "    <tr>\n",
              "      <th>1</th>\n",
              "      <td>6 September 2000</td>\n",
              "      <td>tt0111161</td>\n",
              "      <td>ur0842118</td>\n",
              "      <td>True</td>\n",
              "      <td>The Shawshank Redemption is without a doubt on...</td>\n",
              "      <td>10</td>\n",
              "      <td>Simply amazing. The best film of the 90's.</td>\n",
              "    </tr>\n",
              "    <tr>\n",
              "      <th>2</th>\n",
              "      <td>3 August 2001</td>\n",
              "      <td>tt0111161</td>\n",
              "      <td>ur1285640</td>\n",
              "      <td>True</td>\n",
              "      <td>I believe that this film is the best story eve...</td>\n",
              "      <td>8</td>\n",
              "      <td>The best story ever told on film</td>\n",
              "    </tr>\n",
              "    <tr>\n",
              "      <th>3</th>\n",
              "      <td>1 September 2002</td>\n",
              "      <td>tt0111161</td>\n",
              "      <td>ur1003471</td>\n",
              "      <td>True</td>\n",
              "      <td>**Yes, there are SPOILERS here**This film has ...</td>\n",
              "      <td>10</td>\n",
              "      <td>Busy dying or busy living?</td>\n",
              "    </tr>\n",
              "    <tr>\n",
              "      <th>4</th>\n",
              "      <td>20 May 2004</td>\n",
              "      <td>tt0111161</td>\n",
              "      <td>ur0226855</td>\n",
              "      <td>True</td>\n",
              "      <td>At the heart of this extraordinary movie is a ...</td>\n",
              "      <td>8</td>\n",
              "      <td>Great story, wondrously told and acted</td>\n",
              "    </tr>\n",
              "  </tbody>\n",
              "</table>\n",
              "</div>"
            ],
            "text/plain": [
              "        review_date  ...                                 review_summary\n",
              "0  10 February 2006  ...  A classic piece of unforgettable film-making.\n",
              "1  6 September 2000  ...     Simply amazing. The best film of the 90's.\n",
              "2     3 August 2001  ...               The best story ever told on film\n",
              "3  1 September 2002  ...                     Busy dying or busy living?\n",
              "4       20 May 2004  ...         Great story, wondrously told and acted\n",
              "\n",
              "[5 rows x 7 columns]"
            ]
          },
          "metadata": {
            "tags": []
          },
          "execution_count": 6
        }
      ]
    },
    {
      "cell_type": "code",
      "metadata": {
        "colab": {
          "base_uri": "https://localhost:8080/",
          "height": 464
        },
        "id": "D9WBnTpVaf23",
        "outputId": "02231d64-692f-4b16-d578-ceb0955fb26a"
      },
      "source": [
        "df_details.head()"
      ],
      "execution_count": 7,
      "outputs": [
        {
          "output_type": "execute_result",
          "data": {
            "text/html": [
              "<div>\n",
              "<style scoped>\n",
              "    .dataframe tbody tr th:only-of-type {\n",
              "        vertical-align: middle;\n",
              "    }\n",
              "\n",
              "    .dataframe tbody tr th {\n",
              "        vertical-align: top;\n",
              "    }\n",
              "\n",
              "    .dataframe thead th {\n",
              "        text-align: right;\n",
              "    }\n",
              "</style>\n",
              "<table border=\"1\" class=\"dataframe\">\n",
              "  <thead>\n",
              "    <tr style=\"text-align: right;\">\n",
              "      <th></th>\n",
              "      <th>movie_id</th>\n",
              "      <th>plot_summary</th>\n",
              "      <th>duration</th>\n",
              "      <th>genre</th>\n",
              "      <th>rating</th>\n",
              "      <th>release_date</th>\n",
              "      <th>plot_synopsis</th>\n",
              "    </tr>\n",
              "  </thead>\n",
              "  <tbody>\n",
              "    <tr>\n",
              "      <th>0</th>\n",
              "      <td>tt0105112</td>\n",
              "      <td>Former CIA analyst, Jack Ryan is in England wi...</td>\n",
              "      <td>1h 57min</td>\n",
              "      <td>[Action, Thriller]</td>\n",
              "      <td>6.9</td>\n",
              "      <td>1992-06-05</td>\n",
              "      <td>Jack Ryan (Ford) is on a \"working vacation\" in...</td>\n",
              "    </tr>\n",
              "    <tr>\n",
              "      <th>1</th>\n",
              "      <td>tt1204975</td>\n",
              "      <td>Billy (Michael Douglas), Paddy (Robert De Niro...</td>\n",
              "      <td>1h 45min</td>\n",
              "      <td>[Comedy]</td>\n",
              "      <td>6.6</td>\n",
              "      <td>2013-11-01</td>\n",
              "      <td>Four boys around the age of 10 are friends in ...</td>\n",
              "    </tr>\n",
              "    <tr>\n",
              "      <th>2</th>\n",
              "      <td>tt0243655</td>\n",
              "      <td>The setting is Camp Firewood, the year 1981. I...</td>\n",
              "      <td>1h 37min</td>\n",
              "      <td>[Comedy, Romance]</td>\n",
              "      <td>6.7</td>\n",
              "      <td>2002-04-11</td>\n",
              "      <td></td>\n",
              "    </tr>\n",
              "    <tr>\n",
              "      <th>3</th>\n",
              "      <td>tt0040897</td>\n",
              "      <td>Fred C. Dobbs and Bob Curtin, both down on the...</td>\n",
              "      <td>2h 6min</td>\n",
              "      <td>[Adventure, Drama, Western]</td>\n",
              "      <td>8.3</td>\n",
              "      <td>1948-01-24</td>\n",
              "      <td>Fred Dobbs (Humphrey Bogart) and Bob Curtin (T...</td>\n",
              "    </tr>\n",
              "    <tr>\n",
              "      <th>4</th>\n",
              "      <td>tt0126886</td>\n",
              "      <td>Tracy Flick is running unopposed for this year...</td>\n",
              "      <td>1h 43min</td>\n",
              "      <td>[Comedy, Drama, Romance]</td>\n",
              "      <td>7.3</td>\n",
              "      <td>1999-05-07</td>\n",
              "      <td>Jim McAllister (Matthew Broderick) is a much-a...</td>\n",
              "    </tr>\n",
              "  </tbody>\n",
              "</table>\n",
              "</div>"
            ],
            "text/plain": [
              "    movie_id  ...                                      plot_synopsis\n",
              "0  tt0105112  ...  Jack Ryan (Ford) is on a \"working vacation\" in...\n",
              "1  tt1204975  ...  Four boys around the age of 10 are friends in ...\n",
              "2  tt0243655  ...                                                   \n",
              "3  tt0040897  ...  Fred Dobbs (Humphrey Bogart) and Bob Curtin (T...\n",
              "4  tt0126886  ...  Jim McAllister (Matthew Broderick) is a much-a...\n",
              "\n",
              "[5 rows x 7 columns]"
            ]
          },
          "metadata": {
            "tags": []
          },
          "execution_count": 7
        }
      ]
    },
    {
      "cell_type": "code",
      "metadata": {
        "colab": {
          "base_uri": "https://localhost:8080/"
        },
        "id": "MZSz7lxMaxnO",
        "outputId": "e25883fc-bb9d-4678-a3a4-e3cf78814a79"
      },
      "source": [
        "df_reviews.columns"
      ],
      "execution_count": 8,
      "outputs": [
        {
          "output_type": "execute_result",
          "data": {
            "text/plain": [
              "Index(['review_date', 'movie_id', 'user_id', 'is_spoiler', 'review_text',\n",
              "       'rating', 'review_summary'],\n",
              "      dtype='object')"
            ]
          },
          "metadata": {
            "tags": []
          },
          "execution_count": 8
        }
      ]
    },
    {
      "cell_type": "code",
      "metadata": {
        "colab": {
          "base_uri": "https://localhost:8080/"
        },
        "id": "BzCG9WeVa0gs",
        "outputId": "d1c0baac-d8b1-4b1b-d82f-e166708defa1"
      },
      "source": [
        "df_details.columns"
      ],
      "execution_count": 9,
      "outputs": [
        {
          "output_type": "execute_result",
          "data": {
            "text/plain": [
              "Index(['movie_id', 'plot_summary', 'duration', 'genre', 'rating',\n",
              "       'release_date', 'plot_synopsis'],\n",
              "      dtype='object')"
            ]
          },
          "metadata": {
            "tags": []
          },
          "execution_count": 9
        }
      ]
    },
    {
      "cell_type": "code",
      "metadata": {
        "id": "rY4wKRSha3wZ"
      },
      "source": [
        "df=pd.merge(df_reviews,df_details,on='movie_id')"
      ],
      "execution_count": 10,
      "outputs": []
    },
    {
      "cell_type": "code",
      "metadata": {
        "colab": {
          "base_uri": "https://localhost:8080/"
        },
        "id": "4_ud-o1tb1fx",
        "outputId": "13f8ecc6-e899-478f-c5a2-6ccb2152a543"
      },
      "source": [
        "df.columns"
      ],
      "execution_count": 11,
      "outputs": [
        {
          "output_type": "execute_result",
          "data": {
            "text/plain": [
              "Index(['review_date', 'movie_id', 'user_id', 'is_spoiler', 'review_text',\n",
              "       'rating_x', 'review_summary', 'plot_summary', 'duration', 'genre',\n",
              "       'rating_y', 'release_date', 'plot_synopsis'],\n",
              "      dtype='object')"
            ]
          },
          "metadata": {
            "tags": []
          },
          "execution_count": 11
        }
      ]
    },
    {
      "cell_type": "code",
      "metadata": {
        "colab": {
          "base_uri": "https://localhost:8080/",
          "height": 634
        },
        "id": "h5b-F2V9dn87",
        "outputId": "092363c3-e680-44ac-fe9a-c3e91b996da8"
      },
      "source": [
        "df.head()"
      ],
      "execution_count": 12,
      "outputs": [
        {
          "output_type": "execute_result",
          "data": {
            "text/html": [
              "<div>\n",
              "<style scoped>\n",
              "    .dataframe tbody tr th:only-of-type {\n",
              "        vertical-align: middle;\n",
              "    }\n",
              "\n",
              "    .dataframe tbody tr th {\n",
              "        vertical-align: top;\n",
              "    }\n",
              "\n",
              "    .dataframe thead th {\n",
              "        text-align: right;\n",
              "    }\n",
              "</style>\n",
              "<table border=\"1\" class=\"dataframe\">\n",
              "  <thead>\n",
              "    <tr style=\"text-align: right;\">\n",
              "      <th></th>\n",
              "      <th>review_date</th>\n",
              "      <th>movie_id</th>\n",
              "      <th>user_id</th>\n",
              "      <th>is_spoiler</th>\n",
              "      <th>review_text</th>\n",
              "      <th>rating_x</th>\n",
              "      <th>review_summary</th>\n",
              "      <th>plot_summary</th>\n",
              "      <th>duration</th>\n",
              "      <th>genre</th>\n",
              "      <th>rating_y</th>\n",
              "      <th>release_date</th>\n",
              "      <th>plot_synopsis</th>\n",
              "    </tr>\n",
              "  </thead>\n",
              "  <tbody>\n",
              "    <tr>\n",
              "      <th>0</th>\n",
              "      <td>10 February 2006</td>\n",
              "      <td>tt0111161</td>\n",
              "      <td>ur1898687</td>\n",
              "      <td>True</td>\n",
              "      <td>In its Oscar year, Shawshank Redemption (writt...</td>\n",
              "      <td>10</td>\n",
              "      <td>A classic piece of unforgettable film-making.</td>\n",
              "      <td>Chronicles the experiences of a formerly succe...</td>\n",
              "      <td>2h 22min</td>\n",
              "      <td>[Crime, Drama]</td>\n",
              "      <td>9.3</td>\n",
              "      <td>1994-10-14</td>\n",
              "      <td>In 1947, Andy Dufresne (Tim Robbins), a banker...</td>\n",
              "    </tr>\n",
              "    <tr>\n",
              "      <th>1</th>\n",
              "      <td>6 September 2000</td>\n",
              "      <td>tt0111161</td>\n",
              "      <td>ur0842118</td>\n",
              "      <td>True</td>\n",
              "      <td>The Shawshank Redemption is without a doubt on...</td>\n",
              "      <td>10</td>\n",
              "      <td>Simply amazing. The best film of the 90's.</td>\n",
              "      <td>Chronicles the experiences of a formerly succe...</td>\n",
              "      <td>2h 22min</td>\n",
              "      <td>[Crime, Drama]</td>\n",
              "      <td>9.3</td>\n",
              "      <td>1994-10-14</td>\n",
              "      <td>In 1947, Andy Dufresne (Tim Robbins), a banker...</td>\n",
              "    </tr>\n",
              "    <tr>\n",
              "      <th>2</th>\n",
              "      <td>3 August 2001</td>\n",
              "      <td>tt0111161</td>\n",
              "      <td>ur1285640</td>\n",
              "      <td>True</td>\n",
              "      <td>I believe that this film is the best story eve...</td>\n",
              "      <td>8</td>\n",
              "      <td>The best story ever told on film</td>\n",
              "      <td>Chronicles the experiences of a formerly succe...</td>\n",
              "      <td>2h 22min</td>\n",
              "      <td>[Crime, Drama]</td>\n",
              "      <td>9.3</td>\n",
              "      <td>1994-10-14</td>\n",
              "      <td>In 1947, Andy Dufresne (Tim Robbins), a banker...</td>\n",
              "    </tr>\n",
              "    <tr>\n",
              "      <th>3</th>\n",
              "      <td>1 September 2002</td>\n",
              "      <td>tt0111161</td>\n",
              "      <td>ur1003471</td>\n",
              "      <td>True</td>\n",
              "      <td>**Yes, there are SPOILERS here**This film has ...</td>\n",
              "      <td>10</td>\n",
              "      <td>Busy dying or busy living?</td>\n",
              "      <td>Chronicles the experiences of a formerly succe...</td>\n",
              "      <td>2h 22min</td>\n",
              "      <td>[Crime, Drama]</td>\n",
              "      <td>9.3</td>\n",
              "      <td>1994-10-14</td>\n",
              "      <td>In 1947, Andy Dufresne (Tim Robbins), a banker...</td>\n",
              "    </tr>\n",
              "    <tr>\n",
              "      <th>4</th>\n",
              "      <td>20 May 2004</td>\n",
              "      <td>tt0111161</td>\n",
              "      <td>ur0226855</td>\n",
              "      <td>True</td>\n",
              "      <td>At the heart of this extraordinary movie is a ...</td>\n",
              "      <td>8</td>\n",
              "      <td>Great story, wondrously told and acted</td>\n",
              "      <td>Chronicles the experiences of a formerly succe...</td>\n",
              "      <td>2h 22min</td>\n",
              "      <td>[Crime, Drama]</td>\n",
              "      <td>9.3</td>\n",
              "      <td>1994-10-14</td>\n",
              "      <td>In 1947, Andy Dufresne (Tim Robbins), a banker...</td>\n",
              "    </tr>\n",
              "  </tbody>\n",
              "</table>\n",
              "</div>"
            ],
            "text/plain": [
              "        review_date  ...                                      plot_synopsis\n",
              "0  10 February 2006  ...  In 1947, Andy Dufresne (Tim Robbins), a banker...\n",
              "1  6 September 2000  ...  In 1947, Andy Dufresne (Tim Robbins), a banker...\n",
              "2     3 August 2001  ...  In 1947, Andy Dufresne (Tim Robbins), a banker...\n",
              "3  1 September 2002  ...  In 1947, Andy Dufresne (Tim Robbins), a banker...\n",
              "4       20 May 2004  ...  In 1947, Andy Dufresne (Tim Robbins), a banker...\n",
              "\n",
              "[5 rows x 13 columns]"
            ]
          },
          "metadata": {
            "tags": []
          },
          "execution_count": 12
        }
      ]
    },
    {
      "cell_type": "code",
      "metadata": {
        "id": "rHfb6-0Zb1bv"
      },
      "source": [
        "df.rename(columns = {'rating_x':'userrating','rating_y':'actualrating'}, inplace = True)"
      ],
      "execution_count": 13,
      "outputs": []
    },
    {
      "cell_type": "code",
      "metadata": {
        "id": "krVml47md8br"
      },
      "source": [
        "df.drop(['review_date','duration','release_date'],axis=1,inplace=True)"
      ],
      "execution_count": 14,
      "outputs": []
    },
    {
      "cell_type": "code",
      "metadata": {
        "colab": {
          "base_uri": "https://localhost:8080/",
          "height": 634
        },
        "id": "P3Zzv4ljb1Z5",
        "outputId": "be4a3b00-7cb7-452f-b096-36a5edd17b88"
      },
      "source": [
        "df.head()"
      ],
      "execution_count": 15,
      "outputs": [
        {
          "output_type": "execute_result",
          "data": {
            "text/html": [
              "<div>\n",
              "<style scoped>\n",
              "    .dataframe tbody tr th:only-of-type {\n",
              "        vertical-align: middle;\n",
              "    }\n",
              "\n",
              "    .dataframe tbody tr th {\n",
              "        vertical-align: top;\n",
              "    }\n",
              "\n",
              "    .dataframe thead th {\n",
              "        text-align: right;\n",
              "    }\n",
              "</style>\n",
              "<table border=\"1\" class=\"dataframe\">\n",
              "  <thead>\n",
              "    <tr style=\"text-align: right;\">\n",
              "      <th></th>\n",
              "      <th>movie_id</th>\n",
              "      <th>user_id</th>\n",
              "      <th>is_spoiler</th>\n",
              "      <th>review_text</th>\n",
              "      <th>userrating</th>\n",
              "      <th>review_summary</th>\n",
              "      <th>plot_summary</th>\n",
              "      <th>genre</th>\n",
              "      <th>actualrating</th>\n",
              "      <th>plot_synopsis</th>\n",
              "    </tr>\n",
              "  </thead>\n",
              "  <tbody>\n",
              "    <tr>\n",
              "      <th>0</th>\n",
              "      <td>tt0111161</td>\n",
              "      <td>ur1898687</td>\n",
              "      <td>True</td>\n",
              "      <td>In its Oscar year, Shawshank Redemption (writt...</td>\n",
              "      <td>10</td>\n",
              "      <td>A classic piece of unforgettable film-making.</td>\n",
              "      <td>Chronicles the experiences of a formerly succe...</td>\n",
              "      <td>[Crime, Drama]</td>\n",
              "      <td>9.3</td>\n",
              "      <td>In 1947, Andy Dufresne (Tim Robbins), a banker...</td>\n",
              "    </tr>\n",
              "    <tr>\n",
              "      <th>1</th>\n",
              "      <td>tt0111161</td>\n",
              "      <td>ur0842118</td>\n",
              "      <td>True</td>\n",
              "      <td>The Shawshank Redemption is without a doubt on...</td>\n",
              "      <td>10</td>\n",
              "      <td>Simply amazing. The best film of the 90's.</td>\n",
              "      <td>Chronicles the experiences of a formerly succe...</td>\n",
              "      <td>[Crime, Drama]</td>\n",
              "      <td>9.3</td>\n",
              "      <td>In 1947, Andy Dufresne (Tim Robbins), a banker...</td>\n",
              "    </tr>\n",
              "    <tr>\n",
              "      <th>2</th>\n",
              "      <td>tt0111161</td>\n",
              "      <td>ur1285640</td>\n",
              "      <td>True</td>\n",
              "      <td>I believe that this film is the best story eve...</td>\n",
              "      <td>8</td>\n",
              "      <td>The best story ever told on film</td>\n",
              "      <td>Chronicles the experiences of a formerly succe...</td>\n",
              "      <td>[Crime, Drama]</td>\n",
              "      <td>9.3</td>\n",
              "      <td>In 1947, Andy Dufresne (Tim Robbins), a banker...</td>\n",
              "    </tr>\n",
              "    <tr>\n",
              "      <th>3</th>\n",
              "      <td>tt0111161</td>\n",
              "      <td>ur1003471</td>\n",
              "      <td>True</td>\n",
              "      <td>**Yes, there are SPOILERS here**This film has ...</td>\n",
              "      <td>10</td>\n",
              "      <td>Busy dying or busy living?</td>\n",
              "      <td>Chronicles the experiences of a formerly succe...</td>\n",
              "      <td>[Crime, Drama]</td>\n",
              "      <td>9.3</td>\n",
              "      <td>In 1947, Andy Dufresne (Tim Robbins), a banker...</td>\n",
              "    </tr>\n",
              "    <tr>\n",
              "      <th>4</th>\n",
              "      <td>tt0111161</td>\n",
              "      <td>ur0226855</td>\n",
              "      <td>True</td>\n",
              "      <td>At the heart of this extraordinary movie is a ...</td>\n",
              "      <td>8</td>\n",
              "      <td>Great story, wondrously told and acted</td>\n",
              "      <td>Chronicles the experiences of a formerly succe...</td>\n",
              "      <td>[Crime, Drama]</td>\n",
              "      <td>9.3</td>\n",
              "      <td>In 1947, Andy Dufresne (Tim Robbins), a banker...</td>\n",
              "    </tr>\n",
              "  </tbody>\n",
              "</table>\n",
              "</div>"
            ],
            "text/plain": [
              "    movie_id  ...                                      plot_synopsis\n",
              "0  tt0111161  ...  In 1947, Andy Dufresne (Tim Robbins), a banker...\n",
              "1  tt0111161  ...  In 1947, Andy Dufresne (Tim Robbins), a banker...\n",
              "2  tt0111161  ...  In 1947, Andy Dufresne (Tim Robbins), a banker...\n",
              "3  tt0111161  ...  In 1947, Andy Dufresne (Tim Robbins), a banker...\n",
              "4  tt0111161  ...  In 1947, Andy Dufresne (Tim Robbins), a banker...\n",
              "\n",
              "[5 rows x 10 columns]"
            ]
          },
          "metadata": {
            "tags": []
          },
          "execution_count": 15
        }
      ]
    },
    {
      "cell_type": "code",
      "metadata": {
        "colab": {
          "base_uri": "https://localhost:8080/"
        },
        "id": "y64aypjkb1Xz",
        "outputId": "5982f413-1d14-49af-cf52-1ac87467683c"
      },
      "source": [
        "df.dtypes"
      ],
      "execution_count": 18,
      "outputs": [
        {
          "output_type": "execute_result",
          "data": {
            "text/plain": [
              "movie_id           object\n",
              "user_id            object\n",
              "is_spoiler           bool\n",
              "review_text        object\n",
              "userrating          int64\n",
              "review_summary     object\n",
              "plot_summary       object\n",
              "genre              object\n",
              "actualrating      float64\n",
              "plot_synopsis      object\n",
              "dtype: object"
            ]
          },
          "metadata": {
            "tags": []
          },
          "execution_count": 18
        }
      ]
    },
    {
      "cell_type": "code",
      "metadata": {
        "id": "GMHylc-ab1WN"
      },
      "source": [
        "df['is_spoiler']=df['is_spoiler']+0"
      ],
      "execution_count": 19,
      "outputs": []
    },
    {
      "cell_type": "code",
      "metadata": {
        "id": "Gx8qn6jKb1St"
      },
      "source": [
        "spoilers = df[df.is_spoiler == 1].sample(frac=1).reset_index(drop=True)\n",
        "notspoilers = df[df.is_spoiler == 0].sample(frac=1).reset_index(drop=True)\n"
      ],
      "execution_count": 23,
      "outputs": []
    },
    {
      "cell_type": "code",
      "metadata": {
        "colab": {
          "base_uri": "https://localhost:8080/"
        },
        "id": "lLtU5Q25b1Qn",
        "outputId": "d6d61268-2f56-4469-cb6c-0c606003388d"
      },
      "source": [
        "len(spoilers),len(notspoilers)"
      ],
      "execution_count": 25,
      "outputs": [
        {
          "output_type": "execute_result",
          "data": {
            "text/plain": [
              "(150924, 422982)"
            ]
          },
          "metadata": {
            "tags": []
          },
          "execution_count": 25
        }
      ]
    },
    {
      "cell_type": "code",
      "metadata": {
        "id": "BqZBOq6efH8F"
      },
      "source": [
        "# train set\n",
        "df = pd.concat([spoilers.head(100000), others.head(100000)]).sample(frac=1).reset_index(drop=True)\n",
        "\n",
        "# test set\n",
        "test = pd.concat([spoilers.tail(50000), others.tail(100000)]).sample(frac=1).reset_index(drop=True)"
      ],
      "execution_count": 26,
      "outputs": []
    },
    {
      "cell_type": "markdown",
      "metadata": {
        "id": "6UpLkshnfPyb"
      },
      "source": [
        "# Movie spoiler ratio"
      ]
    },
    {
      "cell_type": "code",
      "metadata": {
        "id": "F_6N4-lab1OJ"
      },
      "source": [
        "total_spoilers= df.groupby(by='movie_id').is_spoiler.agg(['sum']).reset_index().rename(columns={'sum':'total_spoilers'})"
      ],
      "execution_count": 28,
      "outputs": []
    },
    {
      "cell_type": "code",
      "metadata": {
        "id": "vOlLy0g_b1Ms"
      },
      "source": [
        "total_movies = df.groupby(by='movie_id').movie_id.agg(['count']).reset_index().rename(columns={'count':'total_movies'})"
      ],
      "execution_count": 29,
      "outputs": []
    },
    {
      "cell_type": "code",
      "metadata": {
        "id": "bvUzSoBob1Iy"
      },
      "source": [
        "msr = pd.merge(total_spoilers,total_movies, on='movie_id')"
      ],
      "execution_count": 30,
      "outputs": []
    },
    {
      "cell_type": "code",
      "metadata": {
        "id": "K4aZvjUxb1HC"
      },
      "source": [
        "msr['msr']=msr.total_spoilers/msr.total_movies"
      ],
      "execution_count": 31,
      "outputs": []
    },
    {
      "cell_type": "code",
      "metadata": {
        "colab": {
          "base_uri": "https://localhost:8080/",
          "height": 197
        },
        "id": "s03do7a4b1Do",
        "outputId": "ebb7ebbc-0de0-4c6d-b945-8e68041daa44"
      },
      "source": [
        "msr.head()"
      ],
      "execution_count": 32,
      "outputs": [
        {
          "output_type": "execute_result",
          "data": {
            "text/html": [
              "<div>\n",
              "<style scoped>\n",
              "    .dataframe tbody tr th:only-of-type {\n",
              "        vertical-align: middle;\n",
              "    }\n",
              "\n",
              "    .dataframe tbody tr th {\n",
              "        vertical-align: top;\n",
              "    }\n",
              "\n",
              "    .dataframe thead th {\n",
              "        text-align: right;\n",
              "    }\n",
              "</style>\n",
              "<table border=\"1\" class=\"dataframe\">\n",
              "  <thead>\n",
              "    <tr style=\"text-align: right;\">\n",
              "      <th></th>\n",
              "      <th>movie_id</th>\n",
              "      <th>total_spoilers</th>\n",
              "      <th>total_movies</th>\n",
              "      <th>msr</th>\n",
              "    </tr>\n",
              "  </thead>\n",
              "  <tbody>\n",
              "    <tr>\n",
              "      <th>0</th>\n",
              "      <td>tt0012349</td>\n",
              "      <td>18</td>\n",
              "      <td>73</td>\n",
              "      <td>0.246575</td>\n",
              "    </tr>\n",
              "    <tr>\n",
              "      <th>1</th>\n",
              "      <td>tt0015864</td>\n",
              "      <td>25</td>\n",
              "      <td>88</td>\n",
              "      <td>0.284091</td>\n",
              "    </tr>\n",
              "    <tr>\n",
              "      <th>2</th>\n",
              "      <td>tt0017136</td>\n",
              "      <td>49</td>\n",
              "      <td>237</td>\n",
              "      <td>0.206751</td>\n",
              "    </tr>\n",
              "    <tr>\n",
              "      <th>3</th>\n",
              "      <td>tt0017925</td>\n",
              "      <td>35</td>\n",
              "      <td>136</td>\n",
              "      <td>0.257353</td>\n",
              "    </tr>\n",
              "    <tr>\n",
              "      <th>4</th>\n",
              "      <td>tt0018455</td>\n",
              "      <td>41</td>\n",
              "      <td>121</td>\n",
              "      <td>0.338843</td>\n",
              "    </tr>\n",
              "  </tbody>\n",
              "</table>\n",
              "</div>"
            ],
            "text/plain": [
              "    movie_id  total_spoilers  total_movies       msr\n",
              "0  tt0012349              18            73  0.246575\n",
              "1  tt0015864              25            88  0.284091\n",
              "2  tt0017136              49           237  0.206751\n",
              "3  tt0017925              35           136  0.257353\n",
              "4  tt0018455              41           121  0.338843"
            ]
          },
          "metadata": {
            "tags": []
          },
          "execution_count": 32
        }
      ]
    },
    {
      "cell_type": "code",
      "metadata": {
        "id": "b-sny02ob1BW"
      },
      "source": [
        "msr.drop(['total_spoilers','total_movies'], axis=1, inplace=True)"
      ],
      "execution_count": 33,
      "outputs": []
    },
    {
      "cell_type": "code",
      "metadata": {
        "id": "oHUFxo7ub0_E"
      },
      "source": [
        "df=pd.merge(df,msr,on='movie_id')"
      ],
      "execution_count": 34,
      "outputs": []
    },
    {
      "cell_type": "code",
      "metadata": {
        "colab": {
          "base_uri": "https://localhost:8080/",
          "height": 278
        },
        "id": "igdsWO2Ab09L",
        "outputId": "31220432-a330-4ce2-c546-731c25bc2857"
      },
      "source": [
        "df_temp = pd.DataFrame({\"label\":[\"spoiler\", \"non spoiler\"],\n",
        "                        \"movie_spoiler_ratio\":[df[df.is_spoiler==1].msr.mean(), \n",
        "                                            df[df.is_spoiler==0].msr.mean()]})\n",
        "sns.barplot(x = \"label\", y = \"movie_spoiler_ratio\", data = df_temp);"
      ],
      "execution_count": 35,
      "outputs": [
        {
          "output_type": "display_data",
          "data": {
            "image/png": "[encoded data removed]",
            "text/plain": [
              "<Figure size 432x288 with 1 Axes>"
            ]
          },
          "metadata": {
            "tags": [],
            "needs_background": "light"
          }
        }
      ]
    },
    {
      "cell_type": "markdown",
      "metadata": {
        "id": "3sYllapIhgYy"
      },
      "source": [
        "#User Spoiler Ratio "
      ]
    },
    {
      "cell_type": "code",
      "metadata": {
        "id": "8csDZxEyb05Z"
      },
      "source": [
        "total_user_spoilers = df.groupby(by='user_id').is_spoiler.agg(['sum']).reset_index().rename(columns={'sum':'total_user_spoilers'})\n"
      ],
      "execution_count": 37,
      "outputs": []
    },
    {
      "cell_type": "code",
      "metadata": {
        "id": "TBwIy47Rb03r"
      },
      "source": [
        "total_users = df.groupby(by='user_id').user_id.agg(['count']).reset_index().rename(columns={'count':'total_users'})\n"
      ],
      "execution_count": 38,
      "outputs": []
    },
    {
      "cell_type": "code",
      "metadata": {
        "id": "IPm0mlSLb0z7"
      },
      "source": [
        "usr = pd.merge(total_user_spoilers,total_users, on='user_id')"
      ],
      "execution_count": 39,
      "outputs": []
    },
    {
      "cell_type": "code",
      "metadata": {
        "id": "Ul7kb4Egb0yJ"
      },
      "source": [
        "usr['usr']=usr.total_user_spoilers / usr.total_users"
      ],
      "execution_count": 40,
      "outputs": []
    },
    {
      "cell_type": "code",
      "metadata": {
        "id": "f_yy78o-b0vN"
      },
      "source": [
        "usr.drop(['total_user_spoilers','total_users'], axis=1,inplace=True)"
      ],
      "execution_count": 41,
      "outputs": []
    },
    {
      "cell_type": "code",
      "metadata": {
        "id": "QYuAWMeYb0sp"
      },
      "source": [
        "df= pd.merge(df, usr, on='user_id')"
      ],
      "execution_count": 42,
      "outputs": []
    },
    {
      "cell_type": "code",
      "metadata": {
        "id": "tVg-GK9Eb0qN"
      },
      "source": [
        "df_temp = pd.DataFrame({\"label\":[\"spoiler\", \"non spoiler\"],\n",
        "                      \"users_spoiler_ratio\":[df[df.is_spoiler==1].usr.mean(), \n",
        "                                            df[df.is_spoiler==0].usr.mean()]})\n"
      ],
      "execution_count": 43,
      "outputs": []
    },
    {
      "cell_type": "code",
      "metadata": {
        "colab": {
          "base_uri": "https://localhost:8080/",
          "height": 296
        },
        "id": "amFWAtsMb0oJ",
        "outputId": "f9359602-afa9-4586-ce27-ae3381fb61ba"
      },
      "source": [
        "sns.barplot(x = \"label\", y = \"users_spoiler_ratio\", data = df_temp)"
      ],
      "execution_count": 44,
      "outputs": [
        {
          "output_type": "execute_result",
          "data": {
            "text/plain": [
              "<matplotlib.axes._subplots.AxesSubplot at 0x7f758bb4a550>"
            ]
          },
          "metadata": {
            "tags": []
          },
          "execution_count": 44
        },
        {
          "output_type": "display_data",
          "data": {
            "image/png": "[encoded data removed]",
            "text/plain": [
              "<Figure size 432x288 with 1 Axes>"
            ]
          },
          "metadata": {
            "tags": [],
            "needs_background": "light"
          }
        }
      ]
    },
    {
      "cell_type": "code",
      "metadata": {
        "colab": {
          "base_uri": "https://localhost:8080/",
          "height": 132
        },
        "id": "cb2KBF5Qjupx",
        "outputId": "03fd1911-0b25-4ce6-827c-6a2e64a5c32f"
      },
      "source": [
        "# Todo : \n",
        "Try to show graph distribution for user /movie spoilers  \n"
      ],
      "execution_count": 45,
      "outputs": [
        {
          "output_type": "error",
          "ename": "SyntaxError",
          "evalue": "ignored",
          "traceback": [
            "\u001b[0;36m  File \u001b[0;32m\"<ipython-input-45-fadb825324e4>\"\u001b[0;36m, line \u001b[0;32m2\u001b[0m\n\u001b[0;31m    Try to show graph distribution for user /movie spoilers\u001b[0m\n\u001b[0m         ^\u001b[0m\n\u001b[0;31mSyntaxError\u001b[0m\u001b[0;31m:\u001b[0m invalid syntax\n"
          ]
        }
      ]
    },
    {
      "cell_type": "markdown",
      "metadata": {
        "id": "uuPHWrrgiroi"
      },
      "source": [
        "# Some Genres tend to have more spoilers\n",
        "\n",
        "<h2>Some genre categories combined together will produce more spoilers so our goal is to segregate those particular genre category combos and use them to predict if movie can have spoiler review or not</h2>"
      ]
    },
    {
      "cell_type": "code",
      "metadata": {
        "id": "1-VprFxAirSj"
      },
      "source": [
        "genres= np.unique(np.array(' '.join(df.genre.str.join(' ')).split()))"
      ],
      "execution_count": 50,
      "outputs": []
    },
    {
      "cell_type": "code",
      "metadata": {
        "colab": {
          "base_uri": "https://localhost:8080/"
        },
        "id": "4DDd-clYb0mb",
        "outputId": "219856b1-0c32-42fb-f534-bfd2095d7227"
      },
      "source": [
        "genres"
      ],
      "execution_count": 51,
      "outputs": [
        {
          "output_type": "execute_result",
          "data": {
            "text/plain": [
              "array(['Action', 'Adventure', 'Animation', 'Biography', 'Comedy', 'Crime',\n",
              "       'Drama', 'Family', 'Fantasy', 'Film-Noir', 'History', 'Horror',\n",
              "       'Music', 'Musical', 'Mystery', 'Romance', 'Sci-Fi', 'Sport',\n",
              "       'Thriller', 'War', 'Western'], dtype='<U9')"
            ]
          },
          "metadata": {
            "tags": []
          },
          "execution_count": 51
        }
      ]
    },
    {
      "cell_type": "code",
      "metadata": {
        "id": "W0J00CKZb0iQ"
      },
      "source": [
        "genre_df=pd.DataFrame()"
      ],
      "execution_count": 52,
      "outputs": []
    },
    {
      "cell_type": "code",
      "metadata": {
        "id": "HCfpnouwb0fm"
      },
      "source": [
        "for i in genres:\n",
        "    genre_df[i.lower()]=0"
      ],
      "execution_count": 53,
      "outputs": []
    },
    {
      "cell_type": "code",
      "metadata": {
        "id": "RwLxF2DTpVVj"
      },
      "source": [
        "c=0"
      ],
      "execution_count": 54,
      "outputs": []
    },
    {
      "cell_type": "code",
      "metadata": {
        "colab": {
          "base_uri": "https://localhost:8080/",
          "height": 0
        },
        "id": "Yhw2dXx3ssrS",
        "outputId": "29c31617-7345-4492-889c-80a7a8f0f558"
      },
      "source": [
        "df.isnull()"
      ],
      "execution_count": 55,
      "outputs": [
        {
          "output_type": "execute_result",
          "data": {
            "text/html": [
              "<div>\n",
              "<style scoped>\n",
              "    .dataframe tbody tr th:only-of-type {\n",
              "        vertical-align: middle;\n",
              "    }\n",
              "\n",
              "    .dataframe tbody tr th {\n",
              "        vertical-align: top;\n",
              "    }\n",
              "\n",
              "    .dataframe thead th {\n",
              "        text-align: right;\n",
              "    }\n",
              "</style>\n",
              "<table border=\"1\" class=\"dataframe\">\n",
              "  <thead>\n",
              "    <tr style=\"text-align: right;\">\n",
              "      <th></th>\n",
              "      <th>movie_id</th>\n",
              "      <th>user_id</th>\n",
              "      <th>is_spoiler</th>\n",
              "      <th>review_text</th>\n",
              "      <th>userrating</th>\n",
              "      <th>review_summary</th>\n",
              "      <th>plot_summary</th>\n",
              "      <th>genre</th>\n",
              "      <th>actualrating</th>\n",
              "      <th>plot_synopsis</th>\n",
              "      <th>msr</th>\n",
              "      <th>usr</th>\n",
              "    </tr>\n",
              "  </thead>\n",
              "  <tbody>\n",
              "    <tr>\n",
              "      <th>0</th>\n",
              "      <td>False</td>\n",
              "      <td>False</td>\n",
              "      <td>False</td>\n",
              "      <td>False</td>\n",
              "      <td>False</td>\n",
              "      <td>False</td>\n",
              "      <td>False</td>\n",
              "      <td>False</td>\n",
              "      <td>False</td>\n",
              "      <td>False</td>\n",
              "      <td>False</td>\n",
              "      <td>False</td>\n",
              "    </tr>\n",
              "    <tr>\n",
              "      <th>1</th>\n",
              "      <td>False</td>\n",
              "      <td>False</td>\n",
              "      <td>False</td>\n",
              "      <td>False</td>\n",
              "      <td>False</td>\n",
              "      <td>False</td>\n",
              "      <td>False</td>\n",
              "      <td>False</td>\n",
              "      <td>False</td>\n",
              "      <td>False</td>\n",
              "      <td>False</td>\n",
              "      <td>False</td>\n",
              "    </tr>\n",
              "    <tr>\n",
              "      <th>2</th>\n",
              "      <td>False</td>\n",
              "      <td>False</td>\n",
              "      <td>False</td>\n",
              "      <td>False</td>\n",
              "      <td>False</td>\n",
              "      <td>False</td>\n",
              "      <td>False</td>\n",
              "      <td>False</td>\n",
              "      <td>False</td>\n",
              "      <td>False</td>\n",
              "      <td>False</td>\n",
              "      <td>False</td>\n",
              "    </tr>\n",
              "    <tr>\n",
              "      <th>3</th>\n",
              "      <td>False</td>\n",
              "      <td>False</td>\n",
              "      <td>False</td>\n",
              "      <td>False</td>\n",
              "      <td>False</td>\n",
              "      <td>False</td>\n",
              "      <td>False</td>\n",
              "      <td>False</td>\n",
              "      <td>False</td>\n",
              "      <td>False</td>\n",
              "      <td>False</td>\n",
              "      <td>False</td>\n",
              "    </tr>\n",
              "    <tr>\n",
              "      <th>4</th>\n",
              "      <td>False</td>\n",
              "      <td>False</td>\n",
              "      <td>False</td>\n",
              "      <td>False</td>\n",
              "      <td>False</td>\n",
              "      <td>False</td>\n",
              "      <td>False</td>\n",
              "      <td>False</td>\n",
              "      <td>False</td>\n",
              "      <td>False</td>\n",
              "      <td>False</td>\n",
              "      <td>False</td>\n",
              "    </tr>\n",
              "    <tr>\n",
              "      <th>...</th>\n",
              "      <td>...</td>\n",
              "      <td>...</td>\n",
              "      <td>...</td>\n",
              "      <td>...</td>\n",
              "      <td>...</td>\n",
              "      <td>...</td>\n",
              "      <td>...</td>\n",
              "      <td>...</td>\n",
              "      <td>...</td>\n",
              "      <td>...</td>\n",
              "      <td>...</td>\n",
              "      <td>...</td>\n",
              "    </tr>\n",
              "    <tr>\n",
              "      <th>399995</th>\n",
              "      <td>False</td>\n",
              "      <td>False</td>\n",
              "      <td>False</td>\n",
              "      <td>False</td>\n",
              "      <td>False</td>\n",
              "      <td>False</td>\n",
              "      <td>False</td>\n",
              "      <td>False</td>\n",
              "      <td>False</td>\n",
              "      <td>False</td>\n",
              "      <td>False</td>\n",
              "      <td>False</td>\n",
              "    </tr>\n",
              "    <tr>\n",
              "      <th>399996</th>\n",
              "      <td>False</td>\n",
              "      <td>False</td>\n",
              "      <td>False</td>\n",
              "      <td>False</td>\n",
              "      <td>False</td>\n",
              "      <td>False</td>\n",
              "      <td>False</td>\n",
              "      <td>False</td>\n",
              "      <td>False</td>\n",
              "      <td>False</td>\n",
              "      <td>False</td>\n",
              "      <td>False</td>\n",
              "    </tr>\n",
              "    <tr>\n",
              "      <th>399997</th>\n",
              "      <td>False</td>\n",
              "      <td>False</td>\n",
              "      <td>False</td>\n",
              "      <td>False</td>\n",
              "      <td>False</td>\n",
              "      <td>False</td>\n",
              "      <td>False</td>\n",
              "      <td>False</td>\n",
              "      <td>False</td>\n",
              "      <td>False</td>\n",
              "      <td>False</td>\n",
              "      <td>False</td>\n",
              "    </tr>\n",
              "    <tr>\n",
              "      <th>399998</th>\n",
              "      <td>False</td>\n",
              "      <td>False</td>\n",
              "      <td>False</td>\n",
              "      <td>False</td>\n",
              "      <td>False</td>\n",
              "      <td>False</td>\n",
              "      <td>False</td>\n",
              "      <td>False</td>\n",
              "      <td>False</td>\n",
              "      <td>False</td>\n",
              "      <td>False</td>\n",
              "      <td>False</td>\n",
              "    </tr>\n",
              "    <tr>\n",
              "      <th>399999</th>\n",
              "      <td>False</td>\n",
              "      <td>False</td>\n",
              "      <td>False</td>\n",
              "      <td>False</td>\n",
              "      <td>False</td>\n",
              "      <td>False</td>\n",
              "      <td>False</td>\n",
              "      <td>False</td>\n",
              "      <td>False</td>\n",
              "      <td>False</td>\n",
              "      <td>False</td>\n",
              "      <td>False</td>\n",
              "    </tr>\n",
              "  </tbody>\n",
              "</table>\n",
              "<p>400000 rows × 12 columns</p>\n",
              "</div>"
            ],
            "text/plain": [
              "        movie_id  user_id  is_spoiler  ...  plot_synopsis    msr    usr\n",
              "0          False    False       False  ...          False  False  False\n",
              "1          False    False       False  ...          False  False  False\n",
              "2          False    False       False  ...          False  False  False\n",
              "3          False    False       False  ...          False  False  False\n",
              "4          False    False       False  ...          False  False  False\n",
              "...          ...      ...         ...  ...            ...    ...    ...\n",
              "399995     False    False       False  ...          False  False  False\n",
              "399996     False    False       False  ...          False  False  False\n",
              "399997     False    False       False  ...          False  False  False\n",
              "399998     False    False       False  ...          False  False  False\n",
              "399999     False    False       False  ...          False  False  False\n",
              "\n",
              "[400000 rows x 12 columns]"
            ]
          },
          "metadata": {
            "tags": []
          },
          "execution_count": 55
        }
      ]
    },
    {
      "cell_type": "code",
      "metadata": {
        "id": "Zs54h9Stb0dA"
      },
      "source": [
        "for i,data in df_details.iterrows():\n",
        "    #Assigns details pertaining to a movie to a variable\n",
        "    details=df_details[df_details.movie_id==data['movie_id']]\n",
        "    genre_df.at[i,'movie_id']=data['movie_id']\n",
        "    for genre in genres:\n",
        "        #Checks if movie belongs to the genre or not \n",
        "        genre_df.at[i,genre.lower()]=int(genre in details['genre'].tolist()[0])"
      ],
      "execution_count": 56,
      "outputs": []
    },
    {
      "cell_type": "code",
      "metadata": {
        "colab": {
          "base_uri": "https://localhost:8080/",
          "height": 0
        },
        "id": "1ZmxanY3b0aQ",
        "outputId": "65571521-aaf9-4d99-c6d1-f0a2bfe163dd"
      },
      "source": [
        "genre_df.head()"
      ],
      "execution_count": 57,
      "outputs": [
        {
          "output_type": "execute_result",
          "data": {
            "text/html": [
              "<div>\n",
              "<style scoped>\n",
              "    .dataframe tbody tr th:only-of-type {\n",
              "        vertical-align: middle;\n",
              "    }\n",
              "\n",
              "    .dataframe tbody tr th {\n",
              "        vertical-align: top;\n",
              "    }\n",
              "\n",
              "    .dataframe thead th {\n",
              "        text-align: right;\n",
              "    }\n",
              "</style>\n",
              "<table border=\"1\" class=\"dataframe\">\n",
              "  <thead>\n",
              "    <tr style=\"text-align: right;\">\n",
              "      <th></th>\n",
              "      <th>action</th>\n",
              "      <th>adventure</th>\n",
              "      <th>animation</th>\n",
              "      <th>biography</th>\n",
              "      <th>comedy</th>\n",
              "      <th>crime</th>\n",
              "      <th>drama</th>\n",
              "      <th>family</th>\n",
              "      <th>fantasy</th>\n",
              "      <th>film-noir</th>\n",
              "      <th>history</th>\n",
              "      <th>horror</th>\n",
              "      <th>music</th>\n",
              "      <th>musical</th>\n",
              "      <th>mystery</th>\n",
              "      <th>romance</th>\n",
              "      <th>sci-fi</th>\n",
              "      <th>sport</th>\n",
              "      <th>thriller</th>\n",
              "      <th>war</th>\n",
              "      <th>western</th>\n",
              "      <th>movie_id</th>\n",
              "    </tr>\n",
              "  </thead>\n",
              "  <tbody>\n",
              "    <tr>\n",
              "      <th>0</th>\n",
              "      <td>1.0</td>\n",
              "      <td>0.0</td>\n",
              "      <td>0.0</td>\n",
              "      <td>0.0</td>\n",
              "      <td>0.0</td>\n",
              "      <td>0.0</td>\n",
              "      <td>0.0</td>\n",
              "      <td>0.0</td>\n",
              "      <td>0.0</td>\n",
              "      <td>0.0</td>\n",
              "      <td>0.0</td>\n",
              "      <td>0.0</td>\n",
              "      <td>0.0</td>\n",
              "      <td>0.0</td>\n",
              "      <td>0.0</td>\n",
              "      <td>0.0</td>\n",
              "      <td>0.0</td>\n",
              "      <td>0.0</td>\n",
              "      <td>1.0</td>\n",
              "      <td>0.0</td>\n",
              "      <td>0.0</td>\n",
              "      <td>tt0105112</td>\n",
              "    </tr>\n",
              "    <tr>\n",
              "      <th>1</th>\n",
              "      <td>0.0</td>\n",
              "      <td>0.0</td>\n",
              "      <td>0.0</td>\n",
              "      <td>0.0</td>\n",
              "      <td>1.0</td>\n",
              "      <td>0.0</td>\n",
              "      <td>0.0</td>\n",
              "      <td>0.0</td>\n",
              "      <td>0.0</td>\n",
              "      <td>0.0</td>\n",
              "      <td>0.0</td>\n",
              "      <td>0.0</td>\n",
              "      <td>0.0</td>\n",
              "      <td>0.0</td>\n",
              "      <td>0.0</td>\n",
              "      <td>0.0</td>\n",
              "      <td>0.0</td>\n",
              "      <td>0.0</td>\n",
              "      <td>0.0</td>\n",
              "      <td>0.0</td>\n",
              "      <td>0.0</td>\n",
              "      <td>tt1204975</td>\n",
              "    </tr>\n",
              "    <tr>\n",
              "      <th>2</th>\n",
              "      <td>0.0</td>\n",
              "      <td>0.0</td>\n",
              "      <td>0.0</td>\n",
              "      <td>0.0</td>\n",
              "      <td>1.0</td>\n",
              "      <td>0.0</td>\n",
              "      <td>0.0</td>\n",
              "      <td>0.0</td>\n",
              "      <td>0.0</td>\n",
              "      <td>0.0</td>\n",
              "      <td>0.0</td>\n",
              "      <td>0.0</td>\n",
              "      <td>0.0</td>\n",
              "      <td>0.0</td>\n",
              "      <td>0.0</td>\n",
              "      <td>1.0</td>\n",
              "      <td>0.0</td>\n",
              "      <td>0.0</td>\n",
              "      <td>0.0</td>\n",
              "      <td>0.0</td>\n",
              "      <td>0.0</td>\n",
              "      <td>tt0243655</td>\n",
              "    </tr>\n",
              "    <tr>\n",
              "      <th>3</th>\n",
              "      <td>0.0</td>\n",
              "      <td>1.0</td>\n",
              "      <td>0.0</td>\n",
              "      <td>0.0</td>\n",
              "      <td>0.0</td>\n",
              "      <td>0.0</td>\n",
              "      <td>1.0</td>\n",
              "      <td>0.0</td>\n",
              "      <td>0.0</td>\n",
              "      <td>0.0</td>\n",
              "      <td>0.0</td>\n",
              "      <td>0.0</td>\n",
              "      <td>0.0</td>\n",
              "      <td>0.0</td>\n",
              "      <td>0.0</td>\n",
              "      <td>0.0</td>\n",
              "      <td>0.0</td>\n",
              "      <td>0.0</td>\n",
              "      <td>0.0</td>\n",
              "      <td>0.0</td>\n",
              "      <td>1.0</td>\n",
              "      <td>tt0040897</td>\n",
              "    </tr>\n",
              "    <tr>\n",
              "      <th>4</th>\n",
              "      <td>0.0</td>\n",
              "      <td>0.0</td>\n",
              "      <td>0.0</td>\n",
              "      <td>0.0</td>\n",
              "      <td>1.0</td>\n",
              "      <td>0.0</td>\n",
              "      <td>1.0</td>\n",
              "      <td>0.0</td>\n",
              "      <td>0.0</td>\n",
              "      <td>0.0</td>\n",
              "      <td>0.0</td>\n",
              "      <td>0.0</td>\n",
              "      <td>0.0</td>\n",
              "      <td>0.0</td>\n",
              "      <td>0.0</td>\n",
              "      <td>1.0</td>\n",
              "      <td>0.0</td>\n",
              "      <td>0.0</td>\n",
              "      <td>0.0</td>\n",
              "      <td>0.0</td>\n",
              "      <td>0.0</td>\n",
              "      <td>tt0126886</td>\n",
              "    </tr>\n",
              "  </tbody>\n",
              "</table>\n",
              "</div>"
            ],
            "text/plain": [
              "   action  adventure  animation  biography  ...  thriller  war  western   movie_id\n",
              "0     1.0        0.0        0.0        0.0  ...       1.0  0.0      0.0  tt0105112\n",
              "1     0.0        0.0        0.0        0.0  ...       0.0  0.0      0.0  tt1204975\n",
              "2     0.0        0.0        0.0        0.0  ...       0.0  0.0      0.0  tt0243655\n",
              "3     0.0        1.0        0.0        0.0  ...       0.0  0.0      1.0  tt0040897\n",
              "4     0.0        0.0        0.0        0.0  ...       0.0  0.0      0.0  tt0126886\n",
              "\n",
              "[5 rows x 22 columns]"
            ]
          },
          "metadata": {
            "tags": []
          },
          "execution_count": 57
        }
      ]
    },
    {
      "cell_type": "code",
      "metadata": {
        "id": "3sz-jUrOb0Y8"
      },
      "source": [
        "df_temp= pd.merge(df, genre_df, on=\"movie_id\")"
      ],
      "execution_count": 58,
      "outputs": []
    },
    {
      "cell_type": "code",
      "metadata": {
        "colab": {
          "base_uri": "https://localhost:8080/",
          "height": 0
        },
        "id": "NsdqPQGPb0VS",
        "outputId": "94e16be6-40a1-46e3-b453-ce1e0171f6dd"
      },
      "source": [
        "df_temp.head()"
      ],
      "execution_count": 59,
      "outputs": [
        {
          "output_type": "execute_result",
          "data": {
            "text/html": [
              "<div>\n",
              "<style scoped>\n",
              "    .dataframe tbody tr th:only-of-type {\n",
              "        vertical-align: middle;\n",
              "    }\n",
              "\n",
              "    .dataframe tbody tr th {\n",
              "        vertical-align: top;\n",
              "    }\n",
              "\n",
              "    .dataframe thead th {\n",
              "        text-align: right;\n",
              "    }\n",
              "</style>\n",
              "<table border=\"1\" class=\"dataframe\">\n",
              "  <thead>\n",
              "    <tr style=\"text-align: right;\">\n",
              "      <th></th>\n",
              "      <th>movie_id</th>\n",
              "      <th>user_id</th>\n",
              "      <th>is_spoiler</th>\n",
              "      <th>review_text</th>\n",
              "      <th>userrating</th>\n",
              "      <th>review_summary</th>\n",
              "      <th>plot_summary</th>\n",
              "      <th>genre</th>\n",
              "      <th>actualrating</th>\n",
              "      <th>plot_synopsis</th>\n",
              "      <th>msr</th>\n",
              "      <th>usr</th>\n",
              "      <th>action</th>\n",
              "      <th>adventure</th>\n",
              "      <th>animation</th>\n",
              "      <th>biography</th>\n",
              "      <th>comedy</th>\n",
              "      <th>crime</th>\n",
              "      <th>drama</th>\n",
              "      <th>family</th>\n",
              "      <th>fantasy</th>\n",
              "      <th>film-noir</th>\n",
              "      <th>history</th>\n",
              "      <th>horror</th>\n",
              "      <th>music</th>\n",
              "      <th>musical</th>\n",
              "      <th>mystery</th>\n",
              "      <th>romance</th>\n",
              "      <th>sci-fi</th>\n",
              "      <th>sport</th>\n",
              "      <th>thriller</th>\n",
              "      <th>war</th>\n",
              "      <th>western</th>\n",
              "    </tr>\n",
              "  </thead>\n",
              "  <tbody>\n",
              "    <tr>\n",
              "      <th>0</th>\n",
              "      <td>tt0926084</td>\n",
              "      <td>ur22236153</td>\n",
              "      <td>0</td>\n",
              "      <td>Whenever a Harry Potter book is converted into...</td>\n",
              "      <td>6</td>\n",
              "      <td>Delusions of Grandeur</td>\n",
              "      <td>Voldemort's power is growing stronger. He now ...</td>\n",
              "      <td>[Adventure, Family, Fantasy]</td>\n",
              "      <td>7.7</td>\n",
              "      <td>The film begins with Harry Potter (Daniel Radc...</td>\n",
              "      <td>0.36983</td>\n",
              "      <td>0.000000</td>\n",
              "      <td>0.0</td>\n",
              "      <td>1.0</td>\n",
              "      <td>0.0</td>\n",
              "      <td>0.0</td>\n",
              "      <td>0.0</td>\n",
              "      <td>0.0</td>\n",
              "      <td>0.0</td>\n",
              "      <td>1.0</td>\n",
              "      <td>1.0</td>\n",
              "      <td>0.0</td>\n",
              "      <td>0.0</td>\n",
              "      <td>0.0</td>\n",
              "      <td>0.0</td>\n",
              "      <td>0.0</td>\n",
              "      <td>0.0</td>\n",
              "      <td>0.0</td>\n",
              "      <td>0.0</td>\n",
              "      <td>0.0</td>\n",
              "      <td>0.0</td>\n",
              "      <td>0.0</td>\n",
              "      <td>0.0</td>\n",
              "    </tr>\n",
              "    <tr>\n",
              "      <th>1</th>\n",
              "      <td>tt0926084</td>\n",
              "      <td>ur8760936</td>\n",
              "      <td>0</td>\n",
              "      <td>Harry Potter and The Deathly Hallows, Part 1 i...</td>\n",
              "      <td>10</td>\n",
              "      <td>The Highest Praise</td>\n",
              "      <td>Voldemort's power is growing stronger. He now ...</td>\n",
              "      <td>[Adventure, Family, Fantasy]</td>\n",
              "      <td>7.7</td>\n",
              "      <td>The film begins with Harry Potter (Daniel Radc...</td>\n",
              "      <td>0.36983</td>\n",
              "      <td>0.428571</td>\n",
              "      <td>0.0</td>\n",
              "      <td>1.0</td>\n",
              "      <td>0.0</td>\n",
              "      <td>0.0</td>\n",
              "      <td>0.0</td>\n",
              "      <td>0.0</td>\n",
              "      <td>0.0</td>\n",
              "      <td>1.0</td>\n",
              "      <td>1.0</td>\n",
              "      <td>0.0</td>\n",
              "      <td>0.0</td>\n",
              "      <td>0.0</td>\n",
              "      <td>0.0</td>\n",
              "      <td>0.0</td>\n",
              "      <td>0.0</td>\n",
              "      <td>0.0</td>\n",
              "      <td>0.0</td>\n",
              "      <td>0.0</td>\n",
              "      <td>0.0</td>\n",
              "      <td>0.0</td>\n",
              "      <td>0.0</td>\n",
              "    </tr>\n",
              "    <tr>\n",
              "      <th>2</th>\n",
              "      <td>tt0926084</td>\n",
              "      <td>ur6289903</td>\n",
              "      <td>1</td>\n",
              "      <td>First of all, I must warn young kids who are h...</td>\n",
              "      <td>10</td>\n",
              "      <td>Get Ready for the final showdown!</td>\n",
              "      <td>Voldemort's power is growing stronger. He now ...</td>\n",
              "      <td>[Adventure, Family, Fantasy]</td>\n",
              "      <td>7.7</td>\n",
              "      <td>The film begins with Harry Potter (Daniel Radc...</td>\n",
              "      <td>0.36983</td>\n",
              "      <td>0.666667</td>\n",
              "      <td>0.0</td>\n",
              "      <td>1.0</td>\n",
              "      <td>0.0</td>\n",
              "      <td>0.0</td>\n",
              "      <td>0.0</td>\n",
              "      <td>0.0</td>\n",
              "      <td>0.0</td>\n",
              "      <td>1.0</td>\n",
              "      <td>1.0</td>\n",
              "      <td>0.0</td>\n",
              "      <td>0.0</td>\n",
              "      <td>0.0</td>\n",
              "      <td>0.0</td>\n",
              "      <td>0.0</td>\n",
              "      <td>0.0</td>\n",
              "      <td>0.0</td>\n",
              "      <td>0.0</td>\n",
              "      <td>0.0</td>\n",
              "      <td>0.0</td>\n",
              "      <td>0.0</td>\n",
              "      <td>0.0</td>\n",
              "    </tr>\n",
              "    <tr>\n",
              "      <th>3</th>\n",
              "      <td>tt0926084</td>\n",
              "      <td>ur22102833</td>\n",
              "      <td>0</td>\n",
              "      <td>The acting has come a LONG way and so far, thi...</td>\n",
              "      <td>9</td>\n",
              "      <td>Brilliant</td>\n",
              "      <td>Voldemort's power is growing stronger. He now ...</td>\n",
              "      <td>[Adventure, Family, Fantasy]</td>\n",
              "      <td>7.7</td>\n",
              "      <td>The film begins with Harry Potter (Daniel Radc...</td>\n",
              "      <td>0.36983</td>\n",
              "      <td>0.000000</td>\n",
              "      <td>0.0</td>\n",
              "      <td>1.0</td>\n",
              "      <td>0.0</td>\n",
              "      <td>0.0</td>\n",
              "      <td>0.0</td>\n",
              "      <td>0.0</td>\n",
              "      <td>0.0</td>\n",
              "      <td>1.0</td>\n",
              "      <td>1.0</td>\n",
              "      <td>0.0</td>\n",
              "      <td>0.0</td>\n",
              "      <td>0.0</td>\n",
              "      <td>0.0</td>\n",
              "      <td>0.0</td>\n",
              "      <td>0.0</td>\n",
              "      <td>0.0</td>\n",
              "      <td>0.0</td>\n",
              "      <td>0.0</td>\n",
              "      <td>0.0</td>\n",
              "      <td>0.0</td>\n",
              "      <td>0.0</td>\n",
              "    </tr>\n",
              "    <tr>\n",
              "      <th>4</th>\n",
              "      <td>tt0926084</td>\n",
              "      <td>ur46804064</td>\n",
              "      <td>0</td>\n",
              "      <td>The ending is closer and the movies are worse....</td>\n",
              "      <td>3</td>\n",
              "      <td>These are getting worse</td>\n",
              "      <td>Voldemort's power is growing stronger. He now ...</td>\n",
              "      <td>[Adventure, Family, Fantasy]</td>\n",
              "      <td>7.7</td>\n",
              "      <td>The film begins with Harry Potter (Daniel Radc...</td>\n",
              "      <td>0.36983</td>\n",
              "      <td>0.000000</td>\n",
              "      <td>0.0</td>\n",
              "      <td>1.0</td>\n",
              "      <td>0.0</td>\n",
              "      <td>0.0</td>\n",
              "      <td>0.0</td>\n",
              "      <td>0.0</td>\n",
              "      <td>0.0</td>\n",
              "      <td>1.0</td>\n",
              "      <td>1.0</td>\n",
              "      <td>0.0</td>\n",
              "      <td>0.0</td>\n",
              "      <td>0.0</td>\n",
              "      <td>0.0</td>\n",
              "      <td>0.0</td>\n",
              "      <td>0.0</td>\n",
              "      <td>0.0</td>\n",
              "      <td>0.0</td>\n",
              "      <td>0.0</td>\n",
              "      <td>0.0</td>\n",
              "      <td>0.0</td>\n",
              "      <td>0.0</td>\n",
              "    </tr>\n",
              "  </tbody>\n",
              "</table>\n",
              "</div>"
            ],
            "text/plain": [
              "    movie_id     user_id  is_spoiler  ... thriller  war western\n",
              "0  tt0926084  ur22236153           0  ...      0.0  0.0     0.0\n",
              "1  tt0926084   ur8760936           0  ...      0.0  0.0     0.0\n",
              "2  tt0926084   ur6289903           1  ...      0.0  0.0     0.0\n",
              "3  tt0926084  ur22102833           0  ...      0.0  0.0     0.0\n",
              "4  tt0926084  ur46804064           0  ...      0.0  0.0     0.0\n",
              "\n",
              "[5 rows x 33 columns]"
            ]
          },
          "metadata": {
            "tags": []
          },
          "execution_count": 59
        }
      ]
    },
    {
      "cell_type": "code",
      "metadata": {
        "colab": {
          "base_uri": "https://localhost:8080/"
        },
        "id": "LP9JYhbYb0Ts",
        "outputId": "39402c2d-7670-4730-a5ed-ae0d08e12d32"
      },
      "source": [
        "df_temp.shape"
      ],
      "execution_count": 60,
      "outputs": [
        {
          "output_type": "execute_result",
          "data": {
            "text/plain": [
              "(400000, 33)"
            ]
          },
          "metadata": {
            "tags": []
          },
          "execution_count": 60
        }
      ]
    },
    {
      "cell_type": "code",
      "metadata": {
        "id": "rkp6QUicb0Qe"
      },
      "source": [
        "e = 0.001\n",
        "gsr = np.zeros(len(genres))\n",
        "for i,g in enumerate(genres):\n",
        "    # i.e. total no. of reviews with spoiler belonging to a genre /total no. of reviews of movie genre\n",
        "    gsr[i] = df_temp[(df_temp.is_spoiler==1) &\n",
        "                                     (df_temp[g.lower()]==1)].shape[0] / (df_temp[df_temp[g.lower()]==1].shape[0]\n",
        "                                                                          +e)"
      ],
      "execution_count": 61,
      "outputs": []
    },
    {
      "cell_type": "code",
      "metadata": {
        "colab": {
          "base_uri": "https://localhost:8080/"
        },
        "id": "SfCrNUAduDvq",
        "outputId": "0e977a5d-2ac8-4393-a1fd-11c22dadbb69"
      },
      "source": [
        "gsr"
      ],
      "execution_count": 62,
      "outputs": [
        {
          "output_type": "execute_result",
          "data": {
            "text/plain": [
              "array([0.26935532, 0.27290849, 0.24566051, 0.22858502, 0.20354187,\n",
              "       0.23355822, 0.24329733, 0.25652094, 0.26711026, 0.26779914,\n",
              "       0.22204921, 0.28231313, 0.20532378, 0.18709838, 0.27588223,\n",
              "       0.22307143, 0.29841888, 0.23230765, 0.26972779, 0.23140147,\n",
              "       0.24680844])"
            ]
          },
          "metadata": {
            "tags": []
          },
          "execution_count": 62
        }
      ]
    },
    {
      "cell_type": "code",
      "metadata": {
        "colab": {
          "base_uri": "https://localhost:8080/",
          "height": 0
        },
        "id": "yC7YxjPkb0OQ",
        "outputId": "ef5c65a5-fde6-4a5c-b2db-9ccfdd34cbef"
      },
      "source": [
        "plt.figure(figsize=(12,12))\n",
        "ax = sns.barplot(x=gsr,y=genres)\n",
        "ax.set(xlabel=\"Spoiler ratio\",ylabel=\"Genres\");\n",
        "plt.show();"
      ],
      "execution_count": 63,
      "outputs": [
        {
          "output_type": "display_data",
          "data": {
            "image/png": "[encoded data removed]",
            "text/plain": [
              "<Figure size 864x864 with 1 Axes>"
            ]
          },
          "metadata": {
            "tags": [],
            "needs_background": "light"
          }
        }
      ]
    },
    {
      "cell_type": "markdown",
      "metadata": {
        "id": "v_3oFZK_lgCb"
      },
      "source": [
        "# Calculating spoiler ratio for combination of genres "
      ]
    },
    {
      "cell_type": "code",
      "metadata": {
        "colab": {
          "base_uri": "https://localhost:8080/",
          "height": 0
        },
        "id": "kIo_LMxwlff1",
        "outputId": "08bd1d41-33a3-41f0-978b-f525122b3833"
      },
      "source": [
        "e = 0.001\n",
        "selected = [\"Action\",\"Adventure\",\"Fantasy\",\"Horror\",\"Mystery\",\"Sci-Fi\",\"Thriller\"]\n",
        "\n",
        "genre_2_labels = []\n",
        "genre_2_ratios = []\n",
        "\n",
        "i=0\n",
        "while i < len(selected):\n",
        "    j = i+1\n",
        "    while j < len(selected):\n",
        "        # i.e. ratio of total movies reviews having spoilers belonging to selected genres / total reviews of the movies of selected genres\n",
        "        genre_2_labels.append(selected[i]+\"+\"+selected[j])\n",
        "        spoilers = df_temp[(df_temp[selected[i].lower()]==1) & (df_temp[selected[j].lower()]==1) & df_temp.is_spoiler].shape[0]\n",
        "        total = df_temp[(df_temp[selected[i].lower()]==1) & (df_temp[selected[j].lower()]==1)].shape[0]\n",
        "        genre_2_ratios.append(spoilers / (total+e))\n",
        "        j+=1\n",
        "    i+=1\n",
        "plt.figure(figsize=(10,10))    \n",
        "ax = sns.barplot(x=genre_2_ratios,y=genre_2_labels)\n",
        "ax.set(xlabel=\"Spoiler ratio\");\n",
        "plt.show();"
      ],
      "execution_count": 64,
      "outputs": [
        {
          "output_type": "display_data",
          "data": {
            "image/png": "[encoded data removed]",
            "text/plain": [
              "<Figure size 720x720 with 1 Axes>"
            ]
          },
          "metadata": {
            "tags": [],
            "needs_background": "light"
          }
        }
      ]
    },
    {
      "cell_type": "code",
      "metadata": {
        "colab": {
          "base_uri": "https://localhost:8080/",
          "height": 0
        },
        "id": "oB36AltOb0LW",
        "outputId": "19652519-c3f9-4aba-b074-7e7ce5a23070"
      },
      "source": [
        "genre_3_labels = []\n",
        "genre_3_ratios = []\n",
        "\n",
        "i=0\n",
        "while i < len(selected):\n",
        "    j = i+1\n",
        "    while j < len(selected):\n",
        "        k = j+1\n",
        "        while k < len(selected):\n",
        "            genre_3_labels.append(selected[i]+\"+\"+selected[j]+\"+\"+selected[k])\n",
        "            spoilers = df_temp[(df_temp[selected[k].lower()]==1) & (df_temp[selected[i].lower()]==1) & (df_temp[selected[j].lower()]==1) & df_temp.is_spoiler].shape[0]\n",
        "            total = df_temp[(df_temp[selected[k].lower()]==1) & (df_temp[selected[i].lower()]==1) & (df_temp[selected[j].lower()]==1)].shape[0]\n",
        "            genre_3_ratios.append(spoilers / (total+e))\n",
        "            k+=1\n",
        "        j+=1\n",
        "    i+=1\n",
        "    \n",
        "plt.figure(figsize=(10,10))\n",
        "ax = sns.barplot(x=genre_3_ratios,y=genre_3_labels)\n",
        "ax.set(xlabel=\"Spoiler ratio\");\n",
        "plt.show();"
      ],
      "execution_count": 65,
      "outputs": [
        {
          "output_type": "display_data",
          "data": {
            "image/png": "[encoded data removed]",
            "text/plain": [
              "<Figure size 720x720 with 1 Axes>"
            ]
          },
          "metadata": {
            "tags": [],
            "needs_background": "light"
          }
        }
      ]
    },
    {
      "cell_type": "code",
      "metadata": {
        "id": "lZ2SAaLpb0Id"
      },
      "source": [
        "def isListSubset(a,b):\n",
        "    count = 0\n",
        "    for i,v in enumerate(a):\n",
        "        if v in b:\n",
        "            count += 1\n",
        "    return count == len(a)\n",
        "\n",
        "def getGenreRatio(genres):\n",
        "    return isListSubset([\"Fantasy\",\"Sci-Fi\"], genres) or isListSubset([\"Adventure\",\"Mystery\"], genres) or isListSubset([\"Action\",\"Mystery\",\"Sci-Fi\"], genres) or isListSubset([\"Adventure\",\"Horror\",\"Thriller\"], genres) or isListSubset([\"Adventure\",\"Thriller\"], genres) or isListSubset([\"Fantasy\",\"Mystery\"], genres)"
      ],
      "execution_count": 66,
      "outputs": []
    },
    {
      "cell_type": "code",
      "metadata": {
        "colab": {
          "base_uri": "https://localhost:8080/",
          "height": 0
        },
        "id": "ALykWkFBwgnU",
        "outputId": "18f6fdcc-e284-45bc-9c1d-70efdba83dac"
      },
      "source": [
        "df_details.head()"
      ],
      "execution_count": 67,
      "outputs": [
        {
          "output_type": "execute_result",
          "data": {
            "text/html": [
              "<div>\n",
              "<style scoped>\n",
              "    .dataframe tbody tr th:only-of-type {\n",
              "        vertical-align: middle;\n",
              "    }\n",
              "\n",
              "    .dataframe tbody tr th {\n",
              "        vertical-align: top;\n",
              "    }\n",
              "\n",
              "    .dataframe thead th {\n",
              "        text-align: right;\n",
              "    }\n",
              "</style>\n",
              "<table border=\"1\" class=\"dataframe\">\n",
              "  <thead>\n",
              "    <tr style=\"text-align: right;\">\n",
              "      <th></th>\n",
              "      <th>movie_id</th>\n",
              "      <th>plot_summary</th>\n",
              "      <th>duration</th>\n",
              "      <th>genre</th>\n",
              "      <th>rating</th>\n",
              "      <th>release_date</th>\n",
              "      <th>plot_synopsis</th>\n",
              "    </tr>\n",
              "  </thead>\n",
              "  <tbody>\n",
              "    <tr>\n",
              "      <th>0</th>\n",
              "      <td>tt0105112</td>\n",
              "      <td>Former CIA analyst, Jack Ryan is in England wi...</td>\n",
              "      <td>1h 57min</td>\n",
              "      <td>[Action, Thriller]</td>\n",
              "      <td>6.9</td>\n",
              "      <td>1992-06-05</td>\n",
              "      <td>Jack Ryan (Ford) is on a \"working vacation\" in...</td>\n",
              "    </tr>\n",
              "    <tr>\n",
              "      <th>1</th>\n",
              "      <td>tt1204975</td>\n",
              "      <td>Billy (Michael Douglas), Paddy (Robert De Niro...</td>\n",
              "      <td>1h 45min</td>\n",
              "      <td>[Comedy]</td>\n",
              "      <td>6.6</td>\n",
              "      <td>2013-11-01</td>\n",
              "      <td>Four boys around the age of 10 are friends in ...</td>\n",
              "    </tr>\n",
              "    <tr>\n",
              "      <th>2</th>\n",
              "      <td>tt0243655</td>\n",
              "      <td>The setting is Camp Firewood, the year 1981. I...</td>\n",
              "      <td>1h 37min</td>\n",
              "      <td>[Comedy, Romance]</td>\n",
              "      <td>6.7</td>\n",
              "      <td>2002-04-11</td>\n",
              "      <td></td>\n",
              "    </tr>\n",
              "    <tr>\n",
              "      <th>3</th>\n",
              "      <td>tt0040897</td>\n",
              "      <td>Fred C. Dobbs and Bob Curtin, both down on the...</td>\n",
              "      <td>2h 6min</td>\n",
              "      <td>[Adventure, Drama, Western]</td>\n",
              "      <td>8.3</td>\n",
              "      <td>1948-01-24</td>\n",
              "      <td>Fred Dobbs (Humphrey Bogart) and Bob Curtin (T...</td>\n",
              "    </tr>\n",
              "    <tr>\n",
              "      <th>4</th>\n",
              "      <td>tt0126886</td>\n",
              "      <td>Tracy Flick is running unopposed for this year...</td>\n",
              "      <td>1h 43min</td>\n",
              "      <td>[Comedy, Drama, Romance]</td>\n",
              "      <td>7.3</td>\n",
              "      <td>1999-05-07</td>\n",
              "      <td>Jim McAllister (Matthew Broderick) is a much-a...</td>\n",
              "    </tr>\n",
              "  </tbody>\n",
              "</table>\n",
              "</div>"
            ],
            "text/plain": [
              "    movie_id  ...                                      plot_synopsis\n",
              "0  tt0105112  ...  Jack Ryan (Ford) is on a \"working vacation\" in...\n",
              "1  tt1204975  ...  Four boys around the age of 10 are friends in ...\n",
              "2  tt0243655  ...                                                   \n",
              "3  tt0040897  ...  Fred Dobbs (Humphrey Bogart) and Bob Curtin (T...\n",
              "4  tt0126886  ...  Jim McAllister (Matthew Broderick) is a much-a...\n",
              "\n",
              "[5 rows x 7 columns]"
            ]
          },
          "metadata": {
            "tags": []
          },
          "execution_count": 67
        }
      ]
    },
    {
      "cell_type": "code",
      "metadata": {
        "id": "25dUQ139l0sk"
      },
      "source": [
        "df['gsr'] = pd.merge(df,df_details.drop(['genre'],axis=1),on=\"movie_id\").genre.apply(getGenreRatio)+0"
      ],
      "execution_count": 68,
      "outputs": []
    },
    {
      "cell_type": "code",
      "metadata": {
        "colab": {
          "base_uri": "https://localhost:8080/",
          "height": 0
        },
        "id": "E7c39dMywwxW",
        "outputId": "7676df79-437c-4d30-877f-d2317304d734"
      },
      "source": [
        "df.head()"
      ],
      "execution_count": 69,
      "outputs": [
        {
          "output_type": "execute_result",
          "data": {
            "text/html": [
              "<div>\n",
              "<style scoped>\n",
              "    .dataframe tbody tr th:only-of-type {\n",
              "        vertical-align: middle;\n",
              "    }\n",
              "\n",
              "    .dataframe tbody tr th {\n",
              "        vertical-align: top;\n",
              "    }\n",
              "\n",
              "    .dataframe thead th {\n",
              "        text-align: right;\n",
              "    }\n",
              "</style>\n",
              "<table border=\"1\" class=\"dataframe\">\n",
              "  <thead>\n",
              "    <tr style=\"text-align: right;\">\n",
              "      <th></th>\n",
              "      <th>movie_id</th>\n",
              "      <th>user_id</th>\n",
              "      <th>is_spoiler</th>\n",
              "      <th>review_text</th>\n",
              "      <th>userrating</th>\n",
              "      <th>review_summary</th>\n",
              "      <th>plot_summary</th>\n",
              "      <th>genre</th>\n",
              "      <th>actualrating</th>\n",
              "      <th>plot_synopsis</th>\n",
              "      <th>msr</th>\n",
              "      <th>usr</th>\n",
              "      <th>gsr</th>\n",
              "    </tr>\n",
              "  </thead>\n",
              "  <tbody>\n",
              "    <tr>\n",
              "      <th>0</th>\n",
              "      <td>tt0926084</td>\n",
              "      <td>ur22236153</td>\n",
              "      <td>0</td>\n",
              "      <td>Whenever a Harry Potter book is converted into...</td>\n",
              "      <td>6</td>\n",
              "      <td>Delusions of Grandeur</td>\n",
              "      <td>Voldemort's power is growing stronger. He now ...</td>\n",
              "      <td>[Adventure, Family, Fantasy]</td>\n",
              "      <td>7.7</td>\n",
              "      <td>The film begins with Harry Potter (Daniel Radc...</td>\n",
              "      <td>0.369830</td>\n",
              "      <td>0.0</td>\n",
              "      <td>0</td>\n",
              "    </tr>\n",
              "    <tr>\n",
              "      <th>1</th>\n",
              "      <td>tt0499549</td>\n",
              "      <td>ur22236153</td>\n",
              "      <td>0</td>\n",
              "      <td>First of all I would like to place upon my sin...</td>\n",
              "      <td>10</td>\n",
              "      <td>The Greatest Movie Ever Made....</td>\n",
              "      <td>When his brother is killed in a robbery, parap...</td>\n",
              "      <td>[Action, Adventure, Fantasy]</td>\n",
              "      <td>7.8</td>\n",
              "      <td>Opening scene: a camera sweeps high across the...</td>\n",
              "      <td>0.235632</td>\n",
              "      <td>0.0</td>\n",
              "      <td>0</td>\n",
              "    </tr>\n",
              "    <tr>\n",
              "      <th>2</th>\n",
              "      <td>tt1228705</td>\n",
              "      <td>ur22236153</td>\n",
              "      <td>0</td>\n",
              "      <td>Before Iron Man was made John Favreau said he ...</td>\n",
              "      <td>10</td>\n",
              "      <td>Iron Man 2 = Double Awesomeness!!</td>\n",
              "      <td>With the world now aware of his dual life as t...</td>\n",
              "      <td>[Action, Adventure, Sci-Fi]</td>\n",
              "      <td>7.0</td>\n",
              "      <td>The movie opens several months after the event...</td>\n",
              "      <td>0.320513</td>\n",
              "      <td>0.0</td>\n",
              "      <td>0</td>\n",
              "    </tr>\n",
              "    <tr>\n",
              "      <th>3</th>\n",
              "      <td>tt1375666</td>\n",
              "      <td>ur22236153</td>\n",
              "      <td>0</td>\n",
              "      <td>What is the most resilient parasite? An Idea! ...</td>\n",
              "      <td>10</td>\n",
              "      <td>Insanely Brilliant ! Nolan has outdone himself !!</td>\n",
              "      <td>Dom Cobb is a skilled thief, the absolute best...</td>\n",
              "      <td>[Action, Adventure, Sci-Fi]</td>\n",
              "      <td>8.8</td>\n",
              "      <td>A young man, exhausted and delirious, washes u...</td>\n",
              "      <td>0.318548</td>\n",
              "      <td>0.0</td>\n",
              "      <td>0</td>\n",
              "    </tr>\n",
              "    <tr>\n",
              "      <th>4</th>\n",
              "      <td>tt1345836</td>\n",
              "      <td>ur22236153</td>\n",
              "      <td>0</td>\n",
              "      <td>You just don't watch a Nolan movie. You experi...</td>\n",
              "      <td>8</td>\n",
              "      <td>The surprisingly fitting epic finale!</td>\n",
              "      <td>Despite his tarnished reputation after the eve...</td>\n",
              "      <td>[Action, Thriller]</td>\n",
              "      <td>8.4</td>\n",
              "      <td>Commissioner James Gordon (Gary Oldman) is del...</td>\n",
              "      <td>0.342975</td>\n",
              "      <td>0.0</td>\n",
              "      <td>0</td>\n",
              "    </tr>\n",
              "  </tbody>\n",
              "</table>\n",
              "</div>"
            ],
            "text/plain": [
              "    movie_id     user_id  is_spoiler  ...       msr  usr gsr\n",
              "0  tt0926084  ur22236153           0  ...  0.369830  0.0   0\n",
              "1  tt0499549  ur22236153           0  ...  0.235632  0.0   0\n",
              "2  tt1228705  ur22236153           0  ...  0.320513  0.0   0\n",
              "3  tt1375666  ur22236153           0  ...  0.318548  0.0   0\n",
              "4  tt1345836  ur22236153           0  ...  0.342975  0.0   0\n",
              "\n",
              "[5 rows x 13 columns]"
            ]
          },
          "metadata": {
            "tags": []
          },
          "execution_count": 69
        }
      ]
    },
    {
      "cell_type": "markdown",
      "metadata": {
        "id": "wFuKV9jWytKg"
      },
      "source": [
        "# Spoiler Text in review "
      ]
    },
    {
      "cell_type": "code",
      "metadata": {
        "colab": {
          "base_uri": "https://localhost:8080/",
          "height": 1000
        },
        "id": "LoPosySYxXO_",
        "outputId": "ae946e6c-1675-46c8-9993-8dd0300aeab4"
      },
      "source": [
        "df[df.review_text.str.contains('SPOILERS')]"
      ],
      "execution_count": 70,
      "outputs": [
        {
          "output_type": "execute_result",
          "data": {
            "text/html": [
              "<div>\n",
              "<style scoped>\n",
              "    .dataframe tbody tr th:only-of-type {\n",
              "        vertical-align: middle;\n",
              "    }\n",
              "\n",
              "    .dataframe tbody tr th {\n",
              "        vertical-align: top;\n",
              "    }\n",
              "\n",
              "    .dataframe thead th {\n",
              "        text-align: right;\n",
              "    }\n",
              "</style>\n",
              "<table border=\"1\" class=\"dataframe\">\n",
              "  <thead>\n",
              "    <tr style=\"text-align: right;\">\n",
              "      <th></th>\n",
              "      <th>movie_id</th>\n",
              "      <th>user_id</th>\n",
              "      <th>is_spoiler</th>\n",
              "      <th>review_text</th>\n",
              "      <th>userrating</th>\n",
              "      <th>review_summary</th>\n",
              "      <th>plot_summary</th>\n",
              "      <th>genre</th>\n",
              "      <th>actualrating</th>\n",
              "      <th>plot_synopsis</th>\n",
              "      <th>msr</th>\n",
              "      <th>usr</th>\n",
              "      <th>gsr</th>\n",
              "    </tr>\n",
              "  </thead>\n",
              "  <tbody>\n",
              "    <tr>\n",
              "      <th>822</th>\n",
              "      <td>tt0120657</td>\n",
              "      <td>ur0002746</td>\n",
              "      <td>1</td>\n",
              "      <td>(SPOILERS???) I really wanted to like this mov...</td>\n",
              "      <td>5</td>\n",
              "      <td>Plot holes &amp; miscasting spoil this great idea.</td>\n",
              "      <td>In AD 922, Arab Ahmad Ibn Fadlan is sent to th...</td>\n",
              "      <td>[Action, Adventure, History]</td>\n",
              "      <td>6.6</td>\n",
              "      <td>Based on award-winning author Michael Crichton...</td>\n",
              "      <td>0.129032</td>\n",
              "      <td>0.691176</td>\n",
              "      <td>0</td>\n",
              "    </tr>\n",
              "    <tr>\n",
              "      <th>829</th>\n",
              "      <td>tt0209163</td>\n",
              "      <td>ur0002746</td>\n",
              "      <td>1</td>\n",
              "      <td>This movie was a slight bit of a let down.  Ho...</td>\n",
              "      <td>8</td>\n",
              "      <td>Fun to watch, but isn't that much original.</td>\n",
              "      <td>Many years ago, in Ancient Egypt, the Scorpion...</td>\n",
              "      <td>[Action, Adventure, Fantasy]</td>\n",
              "      <td>6.3</td>\n",
              "      <td>In 3067 BC, a warrior known as the Scorpion Ki...</td>\n",
              "      <td>0.109375</td>\n",
              "      <td>0.691176</td>\n",
              "      <td>0</td>\n",
              "    </tr>\n",
              "    <tr>\n",
              "      <th>863</th>\n",
              "      <td>tt0253754</td>\n",
              "      <td>ur0002746</td>\n",
              "      <td>1</td>\n",
              "      <td>(SPOILERS!!)Got a chance to see this and it tu...</td>\n",
              "      <td>5</td>\n",
              "      <td>Makes Insurrection look good.</td>\n",
              "      <td>After a joyous wedding between William Riker a...</td>\n",
              "      <td>[Action, Adventure, Sci-Fi]</td>\n",
              "      <td>6.4</td>\n",
              "      <td>At the beginning of the movie, we first see a ...</td>\n",
              "      <td>0.316354</td>\n",
              "      <td>0.691176</td>\n",
              "      <td>0</td>\n",
              "    </tr>\n",
              "    <tr>\n",
              "      <th>2202</th>\n",
              "      <td>tt0926084</td>\n",
              "      <td>ur22750085</td>\n",
              "      <td>1</td>\n",
              "      <td>WARNING: Typically I keep my reviews spoiler f...</td>\n",
              "      <td>8</td>\n",
              "      <td>Somewhat Rushed, but Overall Good</td>\n",
              "      <td>Voldemort's power is growing stronger. He now ...</td>\n",
              "      <td>[Adventure, Family, Fantasy]</td>\n",
              "      <td>7.7</td>\n",
              "      <td>The film begins with Harry Potter (Daniel Radc...</td>\n",
              "      <td>0.369830</td>\n",
              "      <td>0.133333</td>\n",
              "      <td>0</td>\n",
              "    </tr>\n",
              "    <tr>\n",
              "      <th>2212</th>\n",
              "      <td>tt0417741</td>\n",
              "      <td>ur22750085</td>\n",
              "      <td>1</td>\n",
              "      <td>Harry Potter and the Half-Blood Prince Rating:...</td>\n",
              "      <td>9</td>\n",
              "      <td>An Imperfect Adaptation but Still a Good Film</td>\n",
              "      <td>In the sixth year at Hogwarts School of Witchc...</td>\n",
              "      <td>[Adventure, Family, Fantasy]</td>\n",
              "      <td>7.6</td>\n",
              "      <td>Scarred by his experience at the Ministry of M...</td>\n",
              "      <td>0.458848</td>\n",
              "      <td>0.133333</td>\n",
              "      <td>0</td>\n",
              "    </tr>\n",
              "    <tr>\n",
              "      <th>...</th>\n",
              "      <td>...</td>\n",
              "      <td>...</td>\n",
              "      <td>...</td>\n",
              "      <td>...</td>\n",
              "      <td>...</td>\n",
              "      <td>...</td>\n",
              "      <td>...</td>\n",
              "      <td>...</td>\n",
              "      <td>...</td>\n",
              "      <td>...</td>\n",
              "      <td>...</td>\n",
              "      <td>...</td>\n",
              "      <td>...</td>\n",
              "    </tr>\n",
              "    <tr>\n",
              "      <th>398855</th>\n",
              "      <td>tt0104797</td>\n",
              "      <td>ur39905647</td>\n",
              "      <td>1</td>\n",
              "      <td>**MAY CONTAIN SPOILERS**Spike Lee has beautifu...</td>\n",
              "      <td>9</td>\n",
              "      <td>The Story that Can't Be Told Enough</td>\n",
              "      <td>Biograpical epic of Malcolm X, the legendary A...</td>\n",
              "      <td>[Biography, Drama, History]</td>\n",
              "      <td>7.7</td>\n",
              "      <td>As the opening credits roll, we hear Malcolm X...</td>\n",
              "      <td>0.274725</td>\n",
              "      <td>1.000000</td>\n",
              "      <td>0</td>\n",
              "    </tr>\n",
              "    <tr>\n",
              "      <th>399471</th>\n",
              "      <td>tt0120890</td>\n",
              "      <td>ur1233308</td>\n",
              "      <td>1</td>\n",
              "      <td>This review might contain SPOILERS, read at yo...</td>\n",
              "      <td>5</td>\n",
              "      <td>Overcomplicated storyline makes it less enjoyable</td>\n",
              "      <td>In south Florida, a high school counselor is a...</td>\n",
              "      <td>[Crime, Drama, Mystery]</td>\n",
              "      <td>6.5</td>\n",
              "      <td>Two female students -- wealthy, popular Kelly ...</td>\n",
              "      <td>0.140449</td>\n",
              "      <td>1.000000</td>\n",
              "      <td>0</td>\n",
              "    </tr>\n",
              "    <tr>\n",
              "      <th>399572</th>\n",
              "      <td>tt0109424</td>\n",
              "      <td>ur23097907</td>\n",
              "      <td>0</td>\n",
              "      <td>WARNING: SMALL SPOILERS MAY BE GIVEN BELOWToda...</td>\n",
              "      <td>10</td>\n",
              "      <td>A midst pining, sometimes a second chance is r...</td>\n",
              "      <td>Wong Kar-Wai's movie about two love-struck cop...</td>\n",
              "      <td>[Crime, Drama, Romance]</td>\n",
              "      <td>8.1</td>\n",
              "      <td>The movie comprises two different stories, tol...</td>\n",
              "      <td>0.263736</td>\n",
              "      <td>0.000000</td>\n",
              "      <td>0</td>\n",
              "    </tr>\n",
              "    <tr>\n",
              "      <th>399598</th>\n",
              "      <td>tt0100029</td>\n",
              "      <td>ur3128262</td>\n",
              "      <td>1</td>\n",
              "      <td>This movie is very good. I watched this from a...</td>\n",
              "      <td>9</td>\n",
              "      <td>One of Van Dammes best!</td>\n",
              "      <td>Lyon Gaultier is a deserter in the Foreign Leg...</td>\n",
              "      <td>[Action, Crime, Drama]</td>\n",
              "      <td>6.2</td>\n",
              "      <td>A man is buying drugs from a dealer until his ...</td>\n",
              "      <td>0.311111</td>\n",
              "      <td>1.000000</td>\n",
              "      <td>0</td>\n",
              "    </tr>\n",
              "    <tr>\n",
              "      <th>399703</th>\n",
              "      <td>tt0102782</td>\n",
              "      <td>ur1265514</td>\n",
              "      <td>1</td>\n",
              "      <td>This review WILL contain SPOILERS.  You have b...</td>\n",
              "      <td>5</td>\n",
              "      <td>Repeats, Romance, and Rivalry</td>\n",
              "      <td>While the general theme of this film resembles...</td>\n",
              "      <td>[Adventure, Drama, Romance]</td>\n",
              "      <td>5.1</td>\n",
              "      <td>Set in the South Pacific Ocean in the year 189...</td>\n",
              "      <td>0.428571</td>\n",
              "      <td>1.000000</td>\n",
              "      <td>0</td>\n",
              "    </tr>\n",
              "  </tbody>\n",
              "</table>\n",
              "<p>3335 rows × 13 columns</p>\n",
              "</div>"
            ],
            "text/plain": [
              "         movie_id     user_id  is_spoiler  ...       msr       usr gsr\n",
              "822     tt0120657   ur0002746           1  ...  0.129032  0.691176   0\n",
              "829     tt0209163   ur0002746           1  ...  0.109375  0.691176   0\n",
              "863     tt0253754   ur0002746           1  ...  0.316354  0.691176   0\n",
              "2202    tt0926084  ur22750085           1  ...  0.369830  0.133333   0\n",
              "2212    tt0417741  ur22750085           1  ...  0.458848  0.133333   0\n",
              "...           ...         ...         ...  ...       ...       ...  ..\n",
              "398855  tt0104797  ur39905647           1  ...  0.274725  1.000000   0\n",
              "399471  tt0120890   ur1233308           1  ...  0.140449  1.000000   0\n",
              "399572  tt0109424  ur23097907           0  ...  0.263736  0.000000   0\n",
              "399598  tt0100029   ur3128262           1  ...  0.311111  1.000000   0\n",
              "399703  tt0102782   ur1265514           1  ...  0.428571  1.000000   0\n",
              "\n",
              "[3335 rows x 13 columns]"
            ]
          },
          "metadata": {
            "tags": []
          },
          "execution_count": 70
        }
      ]
    },
    {
      "cell_type": "code",
      "metadata": {
        "id": "r1NYgMS0yk2w"
      },
      "source": [
        "df['spoiltext'] = df.review_text.str.contains('SPOILERS')+0"
      ],
      "execution_count": 71,
      "outputs": []
    },
    {
      "cell_type": "code",
      "metadata": {
        "colab": {
          "base_uri": "https://localhost:8080/",
          "height": 551
        },
        "id": "8TzsqK1r1QDf",
        "outputId": "0bc7eeb2-a134-4d77-e6dd-6354ee55d31e"
      },
      "source": [
        "df.head()"
      ],
      "execution_count": 72,
      "outputs": [
        {
          "output_type": "execute_result",
          "data": {
            "text/html": [
              "<div>\n",
              "<style scoped>\n",
              "    .dataframe tbody tr th:only-of-type {\n",
              "        vertical-align: middle;\n",
              "    }\n",
              "\n",
              "    .dataframe tbody tr th {\n",
              "        vertical-align: top;\n",
              "    }\n",
              "\n",
              "    .dataframe thead th {\n",
              "        text-align: right;\n",
              "    }\n",
              "</style>\n",
              "<table border=\"1\" class=\"dataframe\">\n",
              "  <thead>\n",
              "    <tr style=\"text-align: right;\">\n",
              "      <th></th>\n",
              "      <th>movie_id</th>\n",
              "      <th>user_id</th>\n",
              "      <th>is_spoiler</th>\n",
              "      <th>review_text</th>\n",
              "      <th>userrating</th>\n",
              "      <th>review_summary</th>\n",
              "      <th>plot_summary</th>\n",
              "      <th>genre</th>\n",
              "      <th>actualrating</th>\n",
              "      <th>plot_synopsis</th>\n",
              "      <th>msr</th>\n",
              "      <th>usr</th>\n",
              "      <th>gsr</th>\n",
              "      <th>spoiltext</th>\n",
              "    </tr>\n",
              "  </thead>\n",
              "  <tbody>\n",
              "    <tr>\n",
              "      <th>0</th>\n",
              "      <td>tt0926084</td>\n",
              "      <td>ur22236153</td>\n",
              "      <td>0</td>\n",
              "      <td>Whenever a Harry Potter book is converted into...</td>\n",
              "      <td>6</td>\n",
              "      <td>Delusions of Grandeur</td>\n",
              "      <td>Voldemort's power is growing stronger. He now ...</td>\n",
              "      <td>[Adventure, Family, Fantasy]</td>\n",
              "      <td>7.7</td>\n",
              "      <td>The film begins with Harry Potter (Daniel Radc...</td>\n",
              "      <td>0.369830</td>\n",
              "      <td>0.0</td>\n",
              "      <td>0</td>\n",
              "      <td>0</td>\n",
              "    </tr>\n",
              "    <tr>\n",
              "      <th>1</th>\n",
              "      <td>tt0499549</td>\n",
              "      <td>ur22236153</td>\n",
              "      <td>0</td>\n",
              "      <td>First of all I would like to place upon my sin...</td>\n",
              "      <td>10</td>\n",
              "      <td>The Greatest Movie Ever Made....</td>\n",
              "      <td>When his brother is killed in a robbery, parap...</td>\n",
              "      <td>[Action, Adventure, Fantasy]</td>\n",
              "      <td>7.8</td>\n",
              "      <td>Opening scene: a camera sweeps high across the...</td>\n",
              "      <td>0.235632</td>\n",
              "      <td>0.0</td>\n",
              "      <td>0</td>\n",
              "      <td>0</td>\n",
              "    </tr>\n",
              "    <tr>\n",
              "      <th>2</th>\n",
              "      <td>tt1228705</td>\n",
              "      <td>ur22236153</td>\n",
              "      <td>0</td>\n",
              "      <td>Before Iron Man was made John Favreau said he ...</td>\n",
              "      <td>10</td>\n",
              "      <td>Iron Man 2 = Double Awesomeness!!</td>\n",
              "      <td>With the world now aware of his dual life as t...</td>\n",
              "      <td>[Action, Adventure, Sci-Fi]</td>\n",
              "      <td>7.0</td>\n",
              "      <td>The movie opens several months after the event...</td>\n",
              "      <td>0.320513</td>\n",
              "      <td>0.0</td>\n",
              "      <td>0</td>\n",
              "      <td>0</td>\n",
              "    </tr>\n",
              "    <tr>\n",
              "      <th>3</th>\n",
              "      <td>tt1375666</td>\n",
              "      <td>ur22236153</td>\n",
              "      <td>0</td>\n",
              "      <td>What is the most resilient parasite? An Idea! ...</td>\n",
              "      <td>10</td>\n",
              "      <td>Insanely Brilliant ! Nolan has outdone himself !!</td>\n",
              "      <td>Dom Cobb is a skilled thief, the absolute best...</td>\n",
              "      <td>[Action, Adventure, Sci-Fi]</td>\n",
              "      <td>8.8</td>\n",
              "      <td>A young man, exhausted and delirious, washes u...</td>\n",
              "      <td>0.318548</td>\n",
              "      <td>0.0</td>\n",
              "      <td>0</td>\n",
              "      <td>0</td>\n",
              "    </tr>\n",
              "    <tr>\n",
              "      <th>4</th>\n",
              "      <td>tt1345836</td>\n",
              "      <td>ur22236153</td>\n",
              "      <td>0</td>\n",
              "      <td>You just don't watch a Nolan movie. You experi...</td>\n",
              "      <td>8</td>\n",
              "      <td>The surprisingly fitting epic finale!</td>\n",
              "      <td>Despite his tarnished reputation after the eve...</td>\n",
              "      <td>[Action, Thriller]</td>\n",
              "      <td>8.4</td>\n",
              "      <td>Commissioner James Gordon (Gary Oldman) is del...</td>\n",
              "      <td>0.342975</td>\n",
              "      <td>0.0</td>\n",
              "      <td>0</td>\n",
              "      <td>0</td>\n",
              "    </tr>\n",
              "  </tbody>\n",
              "</table>\n",
              "</div>"
            ],
            "text/plain": [
              "    movie_id     user_id  is_spoiler  ...  usr  gsr spoiltext\n",
              "0  tt0926084  ur22236153           0  ...  0.0    0         0\n",
              "1  tt0499549  ur22236153           0  ...  0.0    0         0\n",
              "2  tt1228705  ur22236153           0  ...  0.0    0         0\n",
              "3  tt1375666  ur22236153           0  ...  0.0    0         0\n",
              "4  tt1345836  ur22236153           0  ...  0.0    0         0\n",
              "\n",
              "[5 rows x 14 columns]"
            ]
          },
          "metadata": {
            "tags": []
          },
          "execution_count": 72
        }
      ]
    },
    {
      "cell_type": "markdown",
      "metadata": {
        "id": "NgpMH6rpl7Iu"
      },
      "source": [
        "# For Rating"
      ]
    },
    {
      "cell_type": "code",
      "metadata": {
        "colab": {
          "base_uri": "https://localhost:8080/",
          "height": 297
        },
        "id": "kQoXXAK-l6aw",
        "outputId": "fc9136e6-c049-4650-d0fe-7be710596bc1"
      },
      "source": [
        "#sns.boxplot(x=df_reviews.is_spoiler,y=df_reviews.rating)\n",
        "sns.boxplot(x= df.is_spoiler,y=df.actualrating)"
      ],
      "execution_count": 73,
      "outputs": [
        {
          "output_type": "execute_result",
          "data": {
            "text/plain": [
              "<matplotlib.axes._subplots.AxesSubplot at 0x7f758bba6f60>"
            ]
          },
          "metadata": {
            "tags": []
          },
          "execution_count": 73
        },
        {
          "output_type": "display_data",
          "data": {
            "image/png": "[encoded data removed]",
            "text/plain": [
              "<Figure size 432x288 with 1 Axes>"
            ]
          },
          "metadata": {
            "tags": [],
            "needs_background": "light"
          }
        }
      ]
    },
    {
      "cell_type": "code",
      "metadata": {
        "colab": {
          "base_uri": "https://localhost:8080/",
          "height": 297
        },
        "id": "kIjsZK9-2IL9",
        "outputId": "203cca5c-80ed-43b5-fdcf-8356bac4af42"
      },
      "source": [
        "sns.boxplot(x= df.is_spoiler,y=df.userrating)"
      ],
      "execution_count": 74,
      "outputs": [
        {
          "output_type": "execute_result",
          "data": {
            "text/plain": [
              "<matplotlib.axes._subplots.AxesSubplot at 0x7f758bbc6eb8>"
            ]
          },
          "metadata": {
            "tags": []
          },
          "execution_count": 74
        },
        {
          "output_type": "display_data",
          "data": {
            "image/png": "[encoded data removed]",
            "text/plain": [
              "<Figure size 432x288 with 1 Axes>"
            ]
          },
          "metadata": {
            "tags": [],
            "needs_background": "light"
          }
        }
      ]
    },
    {
      "cell_type": "markdown",
      "metadata": {
        "id": "n2ylU9EmmE1T"
      },
      "source": [
        "As can be observed from the boxplots above,the review ratings don't have much to offer regarding the spoilers ."
      ]
    },
    {
      "cell_type": "markdown",
      "metadata": {
        "id": "665NThyrmIVG"
      },
      "source": [
        "#  Matching Text from reviews with plot summary\n",
        "\n",
        "\n",
        "Comparing the similarity of spoiler reviews to movie plot summary will be a good indicator as to if a review contains spoiler or not "
      ]
    },
    {
      "cell_type": "code",
      "metadata": {
        "colab": {
          "base_uri": "https://localhost:8080/"
        },
        "id": "0UatC0PE4sZK",
        "outputId": "dcef4c81-8c1d-4bd9-b523-753ff447047f"
      },
      "source": [
        "nltk.download('stopwords')\n"
      ],
      "execution_count": 75,
      "outputs": [
        {
          "output_type": "stream",
          "text": [
            "[nltk_data] Downloading package stopwords to /root/nltk_data...\n",
            "[nltk_data]   Unzipping corpora/stopwords.zip.\n"
          ],
          "name": "stdout"
        },
        {
          "output_type": "execute_result",
          "data": {
            "text/plain": [
              "True"
            ]
          },
          "metadata": {
            "tags": []
          },
          "execution_count": 75
        }
      ]
    },
    {
      "cell_type": "code",
      "metadata": {
        "id": "92-bW23tmEN5"
      },
      "source": [
        "stopwords=set(stopwords.words('english'))"
      ],
      "execution_count": 76,
      "outputs": []
    },
    {
      "cell_type": "code",
      "metadata": {
        "colab": {
          "base_uri": "https://localhost:8080/"
        },
        "id": "ERqWlIMwl6Xa",
        "outputId": "e18ba4df-aa8a-4924-8efc-e32d1bade755"
      },
      "source": [
        "len(stopwords)"
      ],
      "execution_count": 77,
      "outputs": [
        {
          "output_type": "execute_result",
          "data": {
            "text/plain": [
              "179"
            ]
          },
          "metadata": {
            "tags": []
          },
          "execution_count": 77
        }
      ]
    },
    {
      "cell_type": "code",
      "metadata": {
        "id": "ojjOo_l5l6Up"
      },
      "source": [
        "stopwords_dict=Counter(stopwords)"
      ],
      "execution_count": 78,
      "outputs": []
    },
    {
      "cell_type": "code",
      "metadata": {
        "id": "ksysl8f8l6SC"
      },
      "source": [
        "def preprocesstext(review):\n",
        "    review=review.lower()\n",
        "    review=re.sub('[^a-zA-Z]',' ',review)\n",
        "    words=review.split()\n",
        "    word=[word for word in words if word not in stopwords_dict]\n",
        "    review=\" \".join(words)\n",
        "    return review"
      ],
      "execution_count": 79,
      "outputs": []
    },
    {
      "cell_type": "code",
      "metadata": {
        "id": "Ne28pIFFl6Pc"
      },
      "source": [
        "df.review_text=df.review_text.apply(preprocesstext)"
      ],
      "execution_count": 80,
      "outputs": []
    },
    {
      "cell_type": "code",
      "metadata": {
        "colab": {
          "base_uri": "https://localhost:8080/"
        },
        "id": "16mZU3Yjl6Mu",
        "outputId": "998dbae4-2b2a-430e-aa14-db5af8b215d4"
      },
      "source": [
        "df.review_text"
      ],
      "execution_count": 81,
      "outputs": [
        {
          "output_type": "execute_result",
          "data": {
            "text/plain": [
              "0         whenever a harry potter book is converted into...\n",
              "1         first of all i would like to place upon my sin...\n",
              "2         before iron man was made john favreau said he ...\n",
              "3         what is the most resilient parasite an idea ye...\n",
              "4         you just don t watch a nolan movie you experie...\n",
              "                                ...                        \n",
              "399995    the post is a solid hollywood retelling of the...\n",
              "399996    this movie is a perfect portrayal of the nutcr...\n",
              "399997    the nutcracker has always been a somewhat prob...\n",
              "399998    as far as i can recall balanchine s alteration...\n",
              "399999    the best thing about this movie was the orches...\n",
              "Name: review_text, Length: 400000, dtype: object"
            ]
          },
          "metadata": {
            "tags": []
          },
          "execution_count": 81
        }
      ]
    },
    {
      "cell_type": "markdown",
      "metadata": {
        "id": "Q9o1K8NkmU7j"
      },
      "source": [
        "Using glove-global-vectors for words.These pre-trained embeddings are used  to quantify word co-occurrence (which also captures some aspects of word meaning). This dataset contains 50-dimensional, 100-dimensional and 200-dimensional pre trained word vectors"
      ]
    },
    {
      "cell_type": "code",
      "metadata": {
        "id": "eTdyCAG8l6JU"
      },
      "source": [
        "#Saving the words and their corresponding vectors in  a dictionary\n",
        "embeddings=dict()\n",
        "f=open('/content/glove.6B.50d.txt')\n",
        "for i in f: \n",
        "    values=i.split()\n",
        "    word=values[0]\n",
        "    cofss = np.asarray(values[1:], dtype='float32')\n",
        "    embeddings[word]=cofss\n",
        "f.close()    "
      ],
      "execution_count": 82,
      "outputs": []
    },
    {
      "cell_type": "code",
      "metadata": {
        "id": "ZPwHn7Yul6Gx"
      },
      "source": [
        "def getAvgWordEmbedding(text):\n",
        "    words = text.split()\n",
        "    n = 0\n",
        "    sumEmbed = np.zeros(50)\n",
        "    # because 50 dim of word vectors\n",
        "    \n",
        "    for word in words:\n",
        "        if word in embeddings:\n",
        "            sumEmbed += embeddings[word]\n",
        "            n += 1\n",
        "    \n",
        "    avgEmbed = sumEmbed / n\n",
        "    return avgEmbed\n",
        "    \n",
        "def Dist(e1, e2):\n",
        "    return np.sum(np.square(e1-e2), axis = 1)"
      ],
      "execution_count": 83,
      "outputs": []
    },
    {
      "cell_type": "code",
      "metadata": {
        "colab": {
          "base_uri": "https://localhost:8080/"
        },
        "id": "afLa4ON1l6D_",
        "outputId": "e53f6ec5-3969-406f-be1a-9e24498e6032"
      },
      "source": [
        "df_details.plot_summary"
      ],
      "execution_count": 84,
      "outputs": [
        {
          "output_type": "execute_result",
          "data": {
            "text/plain": [
              "0       Former CIA analyst, Jack Ryan is in England wi...\n",
              "1       Billy (Michael Douglas), Paddy (Robert De Niro...\n",
              "2       The setting is Camp Firewood, the year 1981. I...\n",
              "3       Fred C. Dobbs and Bob Curtin, both down on the...\n",
              "4       Tracy Flick is running unopposed for this year...\n",
              "                              ...                        \n",
              "1567    Evan Treborn grows up in a small town with his...\n",
              "1568    Brandon is a 30-something man living in New Yo...\n",
              "1569    Evacuation of Allied soldiers from the British...\n",
              "1570    For a while now, beautiful 24-year-old Diana B...\n",
              "1571    The marriage of David Burgess, a senior execut...\n",
              "Name: plot_summary, Length: 1572, dtype: object"
            ]
          },
          "metadata": {
            "tags": []
          },
          "execution_count": 84
        }
      ]
    },
    {
      "cell_type": "code",
      "metadata": {
        "id": "g8Ifb1cMl57W"
      },
      "source": [
        "plot_embed = df.plot_summary.apply(getAvgWordEmbedding)\n",
        "review_embed = df.review_text.apply(getAvgWordEmbedding)"
      ],
      "execution_count": 85,
      "outputs": []
    },
    {
      "cell_type": "code",
      "metadata": {
        "id": "J6UsyZRFl54L"
      },
      "source": [
        "distance=Dist(np.stack(review_embed),np.stack(plot_embed))"
      ],
      "execution_count": 86,
      "outputs": []
    },
    {
      "cell_type": "code",
      "metadata": {
        "id": "vWExkRAJl51q"
      },
      "source": [
        "df['distance']=distance"
      ],
      "execution_count": 87,
      "outputs": []
    },
    {
      "cell_type": "code",
      "metadata": {
        "colab": {
          "base_uri": "https://localhost:8080/",
          "height": 281
        },
        "id": "XWakD0_el5yR",
        "outputId": "212e5930-a295-4a2b-b48d-f9a593037848"
      },
      "source": [
        "df_temp = pd.DataFrame({\"label\":[\"spoiler\", \"non spoiler\"], \n",
        "                        \"distance\":[df[df.is_spoiler==1].distance.mean(), \n",
        "                                        df[df.is_spoiler==0].distance.mean()]})\n",
        "sns.barplot(x = \"label\", y = \"distance\", data = df_temp);"
      ],
      "execution_count": 88,
      "outputs": [
        {
          "output_type": "display_data",
          "data": {
            "image/png": "[encoded data removed]",
            "text/plain": [
              "<Figure size 432x288 with 1 Axes>"
            ]
          },
          "metadata": {
            "tags": [],
            "needs_background": "light"
          }
        }
      ]
    },
    {
      "cell_type": "markdown",
      "metadata": {
        "id": "t8C8Zl6Tmk_F"
      },
      "source": [
        "As can be seen from all the above new dimensions introduced we don't have a single  criteria to distinguish between spoiler and non spoiler reviews  but its dependent a no. of criterias  so in order to solve this problem we will now look into a way to unify all these criterias using machine learning to help us in separating non spoiler reviews from spoiler reviews.\n"
      ]
    },
    {
      "cell_type": "markdown",
      "metadata": {
        "id": "FN-RK3IG-5De"
      },
      "source": [
        "# Training an SVM model using the newly created dimensions for the reviews"
      ]
    },
    {
      "cell_type": "code",
      "metadata": {
        "colab": {
          "base_uri": "https://localhost:8080/"
        },
        "id": "5IxEWoIG9xYL",
        "outputId": "136690b4-3bb2-4459-b42e-4858b47b92cd"
      },
      "source": [
        "df.columns"
      ],
      "execution_count": 89,
      "outputs": [
        {
          "output_type": "execute_result",
          "data": {
            "text/plain": [
              "Index(['movie_id', 'user_id', 'is_spoiler', 'review_text', 'userrating',\n",
              "       'review_summary', 'plot_summary', 'genre', 'actualrating',\n",
              "       'plot_synopsis', 'msr', 'usr', 'gsr', 'spoiltext', 'distance'],\n",
              "      dtype='object')"
            ]
          },
          "metadata": {
            "tags": []
          },
          "execution_count": 89
        }
      ]
    },
    {
      "cell_type": "code",
      "metadata": {
        "id": "k7kFT2OCl5tK"
      },
      "source": [
        "x = df[['msr','usr','gsr','distance','spoiltext']]\n",
        "x = x.fillna(0)"
      ],
      "execution_count": 119,
      "outputs": []
    },
    {
      "cell_type": "code",
      "metadata": {
        "colab": {
          "base_uri": "https://localhost:8080/"
        },
        "id": "f-6COeNKl5qC",
        "outputId": "dacc9403-222a-4b36-ef0e-735c37afa545"
      },
      "source": [
        "x.shape"
      ],
      "execution_count": 120,
      "outputs": [
        {
          "output_type": "execute_result",
          "data": {
            "text/plain": [
              "(400000, 5)"
            ]
          },
          "metadata": {
            "tags": []
          },
          "execution_count": 120
        }
      ]
    },
    {
      "cell_type": "code",
      "metadata": {
        "id": "SvEYndmql5nn"
      },
      "source": [
        "model_svm = svm.SVC(gamma='scale',C=10)\n",
        "model_svm.fit(x, df.is_spoiler)"
      ],
      "execution_count": null,
      "outputs": []
    },
    {
      "cell_type": "code",
      "metadata": {
        "id": "ZrFfpSv-l5lM"
      },
      "source": [
        "preds = model_svm.predict(x)"
      ],
      "execution_count": null,
      "outputs": []
    },
    {
      "cell_type": "code",
      "metadata": {
        "id": "63CZOB2wl5g6"
      },
      "source": [
        "print(classification_report(df.is_spoiler, preds))\n",
        "print(confusion_matrix(df.is_spoiler, preds))"
      ],
      "execution_count": null,
      "outputs": []
    },
    {
      "cell_type": "code",
      "metadata": {
        "id": "-Flzuz0al5d6"
      },
      "source": [
        "test1 = pd.merge(test, usr, how = 'left', on = 'user_id')\n",
        "test1 = pd.merge(test1, msr, how = 'left', on = 'movie_id')\n",
        "test1['gsr'] = test1.genre.apply(getGenreRatio)+0\n",
        "test1.review_text = test1.review_text.apply(preprocesstext)\n",
        "review_embed_test = test1.review_text.apply(getAvgWordEmbedding)\n",
        "plot_embed_test = test.plot_summary.apply(getAvgWordEmbedding)\n",
        "test1['distance'] = Dist(np.stack(review_embed_test), np.stack(plot_embed_test))"
      ],
      "execution_count": null,
      "outputs": []
    },
    {
      "cell_type": "code",
      "metadata": {
        "id": "Dqav-bEuvdUs"
      },
      "source": [
        "test1['spoiltext'] = test1.review_summary.str.contains('SPOILERS')+0"
      ],
      "execution_count": null,
      "outputs": []
    },
    {
      "cell_type": "code",
      "metadata": {
        "id": "cgq8VXMBrT6T"
      },
      "source": [
        "test1.columns"
      ],
      "execution_count": null,
      "outputs": []
    },
    {
      "cell_type": "code",
      "metadata": {
        "id": "xJMKFTY-l5bD"
      },
      "source": [
        "x_test = test1[['msr','usr','gsr','distance','spoiltext']]\n",
        "x_test = x_test.fillna(0)"
      ],
      "execution_count": null,
      "outputs": []
    },
    {
      "cell_type": "code",
      "metadata": {
        "id": "jJJb-GySl5YE"
      },
      "source": [
        "predictions_new = model_svm.predict(x_test)"
      ],
      "execution_count": null,
      "outputs": []
    },
    {
      "cell_type": "code",
      "metadata": {
        "id": "wkmZFb0Wl5VG"
      },
      "source": [
        "print(classification_report(test1.is_spoiler, predictions_new))\n",
        "print(confusion_matrix(test1.is_spoiler, predictions_new))"
      ],
      "execution_count": null,
      "outputs": []
    },
    {
      "cell_type": "code",
      "metadata": {
        "id": "Y9GKhy55l47p"
      },
      "source": [
        ""
      ],
      "execution_count": null,
      "outputs": []
    },
    {
      "cell_type": "code",
      "metadata": {
        "id": "e-xsXdhLl44Z"
      },
      "source": [
        ""
      ],
      "execution_count": null,
      "outputs": []
    },
    {
      "cell_type": "code",
      "metadata": {
        "id": "x9UAULv0l42K"
      },
      "source": [
        ""
      ],
      "execution_count": null,
      "outputs": []
    },
    {
      "cell_type": "code",
      "metadata": {
        "id": "ICAlUOP-l4y1"
      },
      "source": [
        ""
      ],
      "execution_count": null,
      "outputs": []
    },
    {
      "cell_type": "code",
      "metadata": {
        "id": "af21Wq_ol4wl"
      },
      "source": [
        ""
      ],
      "execution_count": null,
      "outputs": []
    },
    {
      "cell_type": "code",
      "metadata": {
        "id": "tOJshbixl4t4"
      },
      "source": [
        ""
      ],
      "execution_count": null,
      "outputs": []
    },
    {
      "cell_type": "code",
      "metadata": {
        "id": "QQliZLLpl4rr"
      },
      "source": [
        ""
      ],
      "execution_count": null,
      "outputs": []
    },
    {
      "cell_type": "code",
      "metadata": {
        "id": "-AiIOhEYl4o0"
      },
      "source": [
        ""
      ],
      "execution_count": null,
      "outputs": []
    }
  ]
}