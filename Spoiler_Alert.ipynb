{
  "nbformat": 4,
  "nbformat_minor": 0,
  "metadata": {
    "colab": {
      "name": "Spoiler Alert",
      "provenance": [],
      "collapsed_sections": [
        "SM-tqsbcZORw",
        "fiNOjKVrZWVs",
        "6PeC3yp60m_s",
        "6UpLkshnfPyb",
        "3sYllapIhgYy",
        "uuPHWrrgiroi",
        "wFuKV9jWytKg",
        "665NThyrmIVG",
        "-D9lPdOZ_HoR"
      ],
      "toc_visible": true,
      "mount_file_id": "1SZKtVT3H2148hwuyTk7NEEcJc2euexoP",
      "authorship_tag": "ABX9TyP41jk1zL78XSlVbb3nBXYX",
      "include_colab_link": true
    },
    "kernelspec": {
      "display_name": "Python 3",
      "name": "python3"
    }
  },
  "cells": [
    {
      "cell_type": "markdown",
      "metadata": {
        "id": "view-in-github",
        "colab_type": "text"
      },
      "source": [
        "<a href=\"https://colab.research.google.com/github/rahvlrawat/Spoiler-Alert/blob/main/Spoiler_Alert.ipynb\" target=\"_parent\"><img src=\"https://colab.research.google.com/assets/colab-badge.svg\" alt=\"Open In Colab\"/></a>"
      ]
    },
    {
      "cell_type": "markdown",
      "metadata": {
        "id": "SM-tqsbcZORw"
      },
      "source": [
        "# Imports/Installations "
      ]
    },
    {
      "cell_type": "code",
      "metadata": {
        "id": "TBra12cnLqiw"
      },
      "source": [
        "import os"
      ],
      "execution_count": 4,
      "outputs": []
    },
    {
      "cell_type": "code",
      "metadata": {
        "colab": {
          "base_uri": "https://localhost:8080/"
        },
        "id": "6cyzSD0NVATD",
        "outputId": "03ae116e-e4f7-41b9-86f9-3ae6f32b2c00"
      },
      "source": [
        "os.system('pip install -q kaggle')\n",
        "os.system('mkdir ~/.kaggle')\n",
        "os.system('cp /content/drive/MyDrive/kaggle.json   ~/.kaggle/')\n",
        "os.system('chmod 600 ~/.kaggle/kaggle.json')\n",
        "os.system('kaggle datasets download -d  rmisra/imdb-spoiler-dataset')\n",
        "os.system('kaggle datasets download -d   rtatman/glove-global-vectors-for-word-representation')\n",
        "\n",
        "\n"
      ],
      "execution_count": 5,
      "outputs": [
        {
          "output_type": "execute_result",
          "data": {
            "text/plain": [
              "0"
            ]
          },
          "metadata": {
            "tags": []
          },
          "execution_count": 5
        }
      ]
    },
    {
      "cell_type": "code",
      "metadata": {
        "colab": {
          "base_uri": "https://localhost:8080/"
        },
        "id": "5vaDvghQlBFu",
        "outputId": "8a63460f-4f9e-470f-e553-a1357001a5cb"
      },
      "source": [
        "os.system('unzip  /content/imdb-spoiler-dataset.zip')"
      ],
      "execution_count": 6,
      "outputs": [
        {
          "output_type": "execute_result",
          "data": {
            "text/plain": [
              "256"
            ]
          },
          "metadata": {
            "tags": []
          },
          "execution_count": 6
        }
      ]
    },
    {
      "cell_type": "code",
      "metadata": {
        "colab": {
          "base_uri": "https://localhost:8080/"
        },
        "id": "nUsGJ1xpkNqn",
        "outputId": "dec935dc-6f7c-43e1-a49d-7e93078d0af1"
      },
      "source": [
        "os.system('unzip /content/glove-global-vectors-for-word-representation.zip')"
      ],
      "execution_count": 7,
      "outputs": [
        {
          "output_type": "execute_result",
          "data": {
            "text/plain": [
              "256"
            ]
          },
          "metadata": {
            "tags": []
          },
          "execution_count": 7
        }
      ]
    },
    {
      "cell_type": "code",
      "metadata": {
        "colab": {
          "base_uri": "https://localhost:8080/"
        },
        "id": "LcChG8Np3ban",
        "outputId": "a1205470-69af-439e-e926-82f550371e4a"
      },
      "source": [
        "pip install --user -U nltk"
      ],
      "execution_count": 8,
      "outputs": [
        {
          "output_type": "stream",
          "text": [
            "Requirement already up-to-date: nltk in /root/.local/lib/python3.6/site-packages (3.5)\n",
            "Requirement already satisfied, skipping upgrade: click in /usr/local/lib/python3.6/dist-packages (from nltk) (7.1.2)\n",
            "Requirement already satisfied, skipping upgrade: joblib in /usr/local/lib/python3.6/dist-packages (from nltk) (0.17.0)\n",
            "Requirement already satisfied, skipping upgrade: tqdm in /usr/local/lib/python3.6/dist-packages (from nltk) (4.41.1)\n",
            "Requirement already satisfied, skipping upgrade: regex in /usr/local/lib/python3.6/dist-packages (from nltk) (2019.12.20)\n"
          ],
          "name": "stdout"
        }
      ]
    },
    {
      "cell_type": "code",
      "metadata": {
        "id": "JvGJVOuZZZge"
      },
      "source": [
        "import pandas as pd\n",
        "import numpy as np\n",
        "import seaborn as sns\n",
        "import matplotlib.pyplot as plt\n",
        "from numpy.linalg import norm\n",
        "\n",
        "from datetime import datetime\n",
        "import re\n",
        "from wordcloud import WordCloud, STOPWORDS\n",
        "\n",
        "from collections import Counter\n",
        "\n",
        "from sklearn import preprocessing\n",
        "from sklearn.model_selection import train_test_split\n",
        "from sklearn.metrics import confusion_matrix, classification_report, precision_recall_curve\n",
        "\n",
        "from sklearn import svm\n",
        "\n",
        "import re\n",
        "import nltk\n",
        "from nltk.corpus import stopwords\n"
      ],
      "execution_count": 9,
      "outputs": []
    },
    {
      "cell_type": "markdown",
      "metadata": {
        "id": "fiNOjKVrZWVs"
      },
      "source": [
        "# Data Preprocessing"
      ]
    },
    {
      "cell_type": "code",
      "metadata": {
        "id": "wlDJOp1oU97e"
      },
      "source": [
        "df_reviews = pd.read_json('/content/IMDB_reviews.json', lines=True)\n",
        "df_details = pd.read_json('/content/IMDB_movie_details.json', lines=True)\n"
      ],
      "execution_count": 10,
      "outputs": []
    },
    {
      "cell_type": "code",
      "metadata": {
        "colab": {
          "base_uri": "https://localhost:8080/",
          "height": 0
        },
        "id": "tOz_c6cXac2O",
        "outputId": "e3014773-52b9-4885-cbfc-bfd441aac907"
      },
      "source": [
        "df_reviews.head()"
      ],
      "execution_count": 11,
      "outputs": [
        {
          "output_type": "execute_result",
          "data": {
            "text/html": [
              "<div>\n",
              "<style scoped>\n",
              "    .dataframe tbody tr th:only-of-type {\n",
              "        vertical-align: middle;\n",
              "    }\n",
              "\n",
              "    .dataframe tbody tr th {\n",
              "        vertical-align: top;\n",
              "    }\n",
              "\n",
              "    .dataframe thead th {\n",
              "        text-align: right;\n",
              "    }\n",
              "</style>\n",
              "<table border=\"1\" class=\"dataframe\">\n",
              "  <thead>\n",
              "    <tr style=\"text-align: right;\">\n",
              "      <th></th>\n",
              "      <th>review_date</th>\n",
              "      <th>movie_id</th>\n",
              "      <th>user_id</th>\n",
              "      <th>is_spoiler</th>\n",
              "      <th>review_text</th>\n",
              "      <th>rating</th>\n",
              "      <th>review_summary</th>\n",
              "    </tr>\n",
              "  </thead>\n",
              "  <tbody>\n",
              "    <tr>\n",
              "      <th>0</th>\n",
              "      <td>10 February 2006</td>\n",
              "      <td>tt0111161</td>\n",
              "      <td>ur1898687</td>\n",
              "      <td>True</td>\n",
              "      <td>In its Oscar year, Shawshank Redemption (writt...</td>\n",
              "      <td>10</td>\n",
              "      <td>A classic piece of unforgettable film-making.</td>\n",
              "    </tr>\n",
              "    <tr>\n",
              "      <th>1</th>\n",
              "      <td>6 September 2000</td>\n",
              "      <td>tt0111161</td>\n",
              "      <td>ur0842118</td>\n",
              "      <td>True</td>\n",
              "      <td>The Shawshank Redemption is without a doubt on...</td>\n",
              "      <td>10</td>\n",
              "      <td>Simply amazing. The best film of the 90's.</td>\n",
              "    </tr>\n",
              "    <tr>\n",
              "      <th>2</th>\n",
              "      <td>3 August 2001</td>\n",
              "      <td>tt0111161</td>\n",
              "      <td>ur1285640</td>\n",
              "      <td>True</td>\n",
              "      <td>I believe that this film is the best story eve...</td>\n",
              "      <td>8</td>\n",
              "      <td>The best story ever told on film</td>\n",
              "    </tr>\n",
              "    <tr>\n",
              "      <th>3</th>\n",
              "      <td>1 September 2002</td>\n",
              "      <td>tt0111161</td>\n",
              "      <td>ur1003471</td>\n",
              "      <td>True</td>\n",
              "      <td>**Yes, there are SPOILERS here**This film has ...</td>\n",
              "      <td>10</td>\n",
              "      <td>Busy dying or busy living?</td>\n",
              "    </tr>\n",
              "    <tr>\n",
              "      <th>4</th>\n",
              "      <td>20 May 2004</td>\n",
              "      <td>tt0111161</td>\n",
              "      <td>ur0226855</td>\n",
              "      <td>True</td>\n",
              "      <td>At the heart of this extraordinary movie is a ...</td>\n",
              "      <td>8</td>\n",
              "      <td>Great story, wondrously told and acted</td>\n",
              "    </tr>\n",
              "  </tbody>\n",
              "</table>\n",
              "</div>"
            ],
            "text/plain": [
              "        review_date  ...                                 review_summary\n",
              "0  10 February 2006  ...  A classic piece of unforgettable film-making.\n",
              "1  6 September 2000  ...     Simply amazing. The best film of the 90's.\n",
              "2     3 August 2001  ...               The best story ever told on film\n",
              "3  1 September 2002  ...                     Busy dying or busy living?\n",
              "4       20 May 2004  ...         Great story, wondrously told and acted\n",
              "\n",
              "[5 rows x 7 columns]"
            ]
          },
          "metadata": {
            "tags": []
          },
          "execution_count": 11
        }
      ]
    },
    {
      "cell_type": "code",
      "metadata": {
        "colab": {
          "base_uri": "https://localhost:8080/",
          "height": 0
        },
        "id": "D9WBnTpVaf23",
        "outputId": "2d39b87e-dbdb-43f0-b3f9-76307fb0f8ea"
      },
      "source": [
        "df_details.head()"
      ],
      "execution_count": 12,
      "outputs": [
        {
          "output_type": "execute_result",
          "data": {
            "text/html": [
              "<div>\n",
              "<style scoped>\n",
              "    .dataframe tbody tr th:only-of-type {\n",
              "        vertical-align: middle;\n",
              "    }\n",
              "\n",
              "    .dataframe tbody tr th {\n",
              "        vertical-align: top;\n",
              "    }\n",
              "\n",
              "    .dataframe thead th {\n",
              "        text-align: right;\n",
              "    }\n",
              "</style>\n",
              "<table border=\"1\" class=\"dataframe\">\n",
              "  <thead>\n",
              "    <tr style=\"text-align: right;\">\n",
              "      <th></th>\n",
              "      <th>movie_id</th>\n",
              "      <th>plot_summary</th>\n",
              "      <th>duration</th>\n",
              "      <th>genre</th>\n",
              "      <th>rating</th>\n",
              "      <th>release_date</th>\n",
              "      <th>plot_synopsis</th>\n",
              "    </tr>\n",
              "  </thead>\n",
              "  <tbody>\n",
              "    <tr>\n",
              "      <th>0</th>\n",
              "      <td>tt0105112</td>\n",
              "      <td>Former CIA analyst, Jack Ryan is in England wi...</td>\n",
              "      <td>1h 57min</td>\n",
              "      <td>[Action, Thriller]</td>\n",
              "      <td>6.9</td>\n",
              "      <td>1992-06-05</td>\n",
              "      <td>Jack Ryan (Ford) is on a \"working vacation\" in...</td>\n",
              "    </tr>\n",
              "    <tr>\n",
              "      <th>1</th>\n",
              "      <td>tt1204975</td>\n",
              "      <td>Billy (Michael Douglas), Paddy (Robert De Niro...</td>\n",
              "      <td>1h 45min</td>\n",
              "      <td>[Comedy]</td>\n",
              "      <td>6.6</td>\n",
              "      <td>2013-11-01</td>\n",
              "      <td>Four boys around the age of 10 are friends in ...</td>\n",
              "    </tr>\n",
              "    <tr>\n",
              "      <th>2</th>\n",
              "      <td>tt0243655</td>\n",
              "      <td>The setting is Camp Firewood, the year 1981. I...</td>\n",
              "      <td>1h 37min</td>\n",
              "      <td>[Comedy, Romance]</td>\n",
              "      <td>6.7</td>\n",
              "      <td>2002-04-11</td>\n",
              "      <td></td>\n",
              "    </tr>\n",
              "    <tr>\n",
              "      <th>3</th>\n",
              "      <td>tt0040897</td>\n",
              "      <td>Fred C. Dobbs and Bob Curtin, both down on the...</td>\n",
              "      <td>2h 6min</td>\n",
              "      <td>[Adventure, Drama, Western]</td>\n",
              "      <td>8.3</td>\n",
              "      <td>1948-01-24</td>\n",
              "      <td>Fred Dobbs (Humphrey Bogart) and Bob Curtin (T...</td>\n",
              "    </tr>\n",
              "    <tr>\n",
              "      <th>4</th>\n",
              "      <td>tt0126886</td>\n",
              "      <td>Tracy Flick is running unopposed for this year...</td>\n",
              "      <td>1h 43min</td>\n",
              "      <td>[Comedy, Drama, Romance]</td>\n",
              "      <td>7.3</td>\n",
              "      <td>1999-05-07</td>\n",
              "      <td>Jim McAllister (Matthew Broderick) is a much-a...</td>\n",
              "    </tr>\n",
              "  </tbody>\n",
              "</table>\n",
              "</div>"
            ],
            "text/plain": [
              "    movie_id  ...                                      plot_synopsis\n",
              "0  tt0105112  ...  Jack Ryan (Ford) is on a \"working vacation\" in...\n",
              "1  tt1204975  ...  Four boys around the age of 10 are friends in ...\n",
              "2  tt0243655  ...                                                   \n",
              "3  tt0040897  ...  Fred Dobbs (Humphrey Bogart) and Bob Curtin (T...\n",
              "4  tt0126886  ...  Jim McAllister (Matthew Broderick) is a much-a...\n",
              "\n",
              "[5 rows x 7 columns]"
            ]
          },
          "metadata": {
            "tags": []
          },
          "execution_count": 12
        }
      ]
    },
    {
      "cell_type": "code",
      "metadata": {
        "colab": {
          "base_uri": "https://localhost:8080/"
        },
        "id": "MZSz7lxMaxnO",
        "outputId": "1277b288-ff9b-44b5-c25c-02b611de8a53"
      },
      "source": [
        "df_reviews.columns"
      ],
      "execution_count": 13,
      "outputs": [
        {
          "output_type": "execute_result",
          "data": {
            "text/plain": [
              "Index(['review_date', 'movie_id', 'user_id', 'is_spoiler', 'review_text',\n",
              "       'rating', 'review_summary'],\n",
              "      dtype='object')"
            ]
          },
          "metadata": {
            "tags": []
          },
          "execution_count": 13
        }
      ]
    },
    {
      "cell_type": "code",
      "metadata": {
        "colab": {
          "base_uri": "https://localhost:8080/"
        },
        "id": "BzCG9WeVa0gs",
        "outputId": "f1e8aea9-ea01-4a86-ff22-12e90a4a50b5"
      },
      "source": [
        "df_details.columns"
      ],
      "execution_count": 14,
      "outputs": [
        {
          "output_type": "execute_result",
          "data": {
            "text/plain": [
              "Index(['movie_id', 'plot_summary', 'duration', 'genre', 'rating',\n",
              "       'release_date', 'plot_synopsis'],\n",
              "      dtype='object')"
            ]
          },
          "metadata": {
            "tags": []
          },
          "execution_count": 14
        }
      ]
    },
    {
      "cell_type": "code",
      "metadata": {
        "id": "rY4wKRSha3wZ"
      },
      "source": [
        "df=pd.merge(df_reviews,df_details,on='movie_id')"
      ],
      "execution_count": 15,
      "outputs": []
    },
    {
      "cell_type": "code",
      "metadata": {
        "colab": {
          "base_uri": "https://localhost:8080/"
        },
        "id": "4_ud-o1tb1fx",
        "outputId": "090a6f6c-c68d-46f2-9372-0d4b2958df49"
      },
      "source": [
        "df.columns"
      ],
      "execution_count": 16,
      "outputs": [
        {
          "output_type": "execute_result",
          "data": {
            "text/plain": [
              "Index(['review_date', 'movie_id', 'user_id', 'is_spoiler', 'review_text',\n",
              "       'rating_x', 'review_summary', 'plot_summary', 'duration', 'genre',\n",
              "       'rating_y', 'release_date', 'plot_synopsis'],\n",
              "      dtype='object')"
            ]
          },
          "metadata": {
            "tags": []
          },
          "execution_count": 16
        }
      ]
    },
    {
      "cell_type": "code",
      "metadata": {
        "colab": {
          "base_uri": "https://localhost:8080/",
          "height": 0
        },
        "id": "h5b-F2V9dn87",
        "outputId": "8ce568c2-5488-4a8a-887a-0e0e1cefbdd9"
      },
      "source": [
        "df.head()"
      ],
      "execution_count": 17,
      "outputs": [
        {
          "output_type": "execute_result",
          "data": {
            "text/html": [
              "<div>\n",
              "<style scoped>\n",
              "    .dataframe tbody tr th:only-of-type {\n",
              "        vertical-align: middle;\n",
              "    }\n",
              "\n",
              "    .dataframe tbody tr th {\n",
              "        vertical-align: top;\n",
              "    }\n",
              "\n",
              "    .dataframe thead th {\n",
              "        text-align: right;\n",
              "    }\n",
              "</style>\n",
              "<table border=\"1\" class=\"dataframe\">\n",
              "  <thead>\n",
              "    <tr style=\"text-align: right;\">\n",
              "      <th></th>\n",
              "      <th>review_date</th>\n",
              "      <th>movie_id</th>\n",
              "      <th>user_id</th>\n",
              "      <th>is_spoiler</th>\n",
              "      <th>review_text</th>\n",
              "      <th>rating_x</th>\n",
              "      <th>review_summary</th>\n",
              "      <th>plot_summary</th>\n",
              "      <th>duration</th>\n",
              "      <th>genre</th>\n",
              "      <th>rating_y</th>\n",
              "      <th>release_date</th>\n",
              "      <th>plot_synopsis</th>\n",
              "    </tr>\n",
              "  </thead>\n",
              "  <tbody>\n",
              "    <tr>\n",
              "      <th>0</th>\n",
              "      <td>10 February 2006</td>\n",
              "      <td>tt0111161</td>\n",
              "      <td>ur1898687</td>\n",
              "      <td>True</td>\n",
              "      <td>In its Oscar year, Shawshank Redemption (writt...</td>\n",
              "      <td>10</td>\n",
              "      <td>A classic piece of unforgettable film-making.</td>\n",
              "      <td>Chronicles the experiences of a formerly succe...</td>\n",
              "      <td>2h 22min</td>\n",
              "      <td>[Crime, Drama]</td>\n",
              "      <td>9.3</td>\n",
              "      <td>1994-10-14</td>\n",
              "      <td>In 1947, Andy Dufresne (Tim Robbins), a banker...</td>\n",
              "    </tr>\n",
              "    <tr>\n",
              "      <th>1</th>\n",
              "      <td>6 September 2000</td>\n",
              "      <td>tt0111161</td>\n",
              "      <td>ur0842118</td>\n",
              "      <td>True</td>\n",
              "      <td>The Shawshank Redemption is without a doubt on...</td>\n",
              "      <td>10</td>\n",
              "      <td>Simply amazing. The best film of the 90's.</td>\n",
              "      <td>Chronicles the experiences of a formerly succe...</td>\n",
              "      <td>2h 22min</td>\n",
              "      <td>[Crime, Drama]</td>\n",
              "      <td>9.3</td>\n",
              "      <td>1994-10-14</td>\n",
              "      <td>In 1947, Andy Dufresne (Tim Robbins), a banker...</td>\n",
              "    </tr>\n",
              "    <tr>\n",
              "      <th>2</th>\n",
              "      <td>3 August 2001</td>\n",
              "      <td>tt0111161</td>\n",
              "      <td>ur1285640</td>\n",
              "      <td>True</td>\n",
              "      <td>I believe that this film is the best story eve...</td>\n",
              "      <td>8</td>\n",
              "      <td>The best story ever told on film</td>\n",
              "      <td>Chronicles the experiences of a formerly succe...</td>\n",
              "      <td>2h 22min</td>\n",
              "      <td>[Crime, Drama]</td>\n",
              "      <td>9.3</td>\n",
              "      <td>1994-10-14</td>\n",
              "      <td>In 1947, Andy Dufresne (Tim Robbins), a banker...</td>\n",
              "    </tr>\n",
              "    <tr>\n",
              "      <th>3</th>\n",
              "      <td>1 September 2002</td>\n",
              "      <td>tt0111161</td>\n",
              "      <td>ur1003471</td>\n",
              "      <td>True</td>\n",
              "      <td>**Yes, there are SPOILERS here**This film has ...</td>\n",
              "      <td>10</td>\n",
              "      <td>Busy dying or busy living?</td>\n",
              "      <td>Chronicles the experiences of a formerly succe...</td>\n",
              "      <td>2h 22min</td>\n",
              "      <td>[Crime, Drama]</td>\n",
              "      <td>9.3</td>\n",
              "      <td>1994-10-14</td>\n",
              "      <td>In 1947, Andy Dufresne (Tim Robbins), a banker...</td>\n",
              "    </tr>\n",
              "    <tr>\n",
              "      <th>4</th>\n",
              "      <td>20 May 2004</td>\n",
              "      <td>tt0111161</td>\n",
              "      <td>ur0226855</td>\n",
              "      <td>True</td>\n",
              "      <td>At the heart of this extraordinary movie is a ...</td>\n",
              "      <td>8</td>\n",
              "      <td>Great story, wondrously told and acted</td>\n",
              "      <td>Chronicles the experiences of a formerly succe...</td>\n",
              "      <td>2h 22min</td>\n",
              "      <td>[Crime, Drama]</td>\n",
              "      <td>9.3</td>\n",
              "      <td>1994-10-14</td>\n",
              "      <td>In 1947, Andy Dufresne (Tim Robbins), a banker...</td>\n",
              "    </tr>\n",
              "  </tbody>\n",
              "</table>\n",
              "</div>"
            ],
            "text/plain": [
              "        review_date  ...                                      plot_synopsis\n",
              "0  10 February 2006  ...  In 1947, Andy Dufresne (Tim Robbins), a banker...\n",
              "1  6 September 2000  ...  In 1947, Andy Dufresne (Tim Robbins), a banker...\n",
              "2     3 August 2001  ...  In 1947, Andy Dufresne (Tim Robbins), a banker...\n",
              "3  1 September 2002  ...  In 1947, Andy Dufresne (Tim Robbins), a banker...\n",
              "4       20 May 2004  ...  In 1947, Andy Dufresne (Tim Robbins), a banker...\n",
              "\n",
              "[5 rows x 13 columns]"
            ]
          },
          "metadata": {
            "tags": []
          },
          "execution_count": 17
        }
      ]
    },
    {
      "cell_type": "code",
      "metadata": {
        "id": "rHfb6-0Zb1bv"
      },
      "source": [
        "df.rename(columns = {'rating_x':'userrating','rating_y':'actualrating'}, inplace = True)"
      ],
      "execution_count": 18,
      "outputs": []
    },
    {
      "cell_type": "code",
      "metadata": {
        "id": "GMHylc-ab1WN"
      },
      "source": [
        "df['is_spoiler']=df['is_spoiler']+0"
      ],
      "execution_count": 19,
      "outputs": []
    },
    {
      "cell_type": "code",
      "metadata": {
        "id": "EkYAvPR5laEW"
      },
      "source": [
        "df[\"review_date\"]=pd.to_datetime(df[\"review_date\"])\n",
        "df[\"release_date\"]=pd.to_datetime(df[\"release_date\"])\n",
        "df[\"days_elapsed\"]=abs(df[\"review_date\"]-df[\"release_date\"]).dt.days"
      ],
      "execution_count": 20,
      "outputs": []
    },
    {
      "cell_type": "code",
      "metadata": {
        "colab": {
          "base_uri": "https://localhost:8080/",
          "height": 0
        },
        "id": "dcdaPlI1mVly",
        "outputId": "45500a89-df36-4180-d2d1-ddd5095a82c2"
      },
      "source": [
        "df.head()"
      ],
      "execution_count": 21,
      "outputs": [
        {
          "output_type": "execute_result",
          "data": {
            "text/html": [
              "<div>\n",
              "<style scoped>\n",
              "    .dataframe tbody tr th:only-of-type {\n",
              "        vertical-align: middle;\n",
              "    }\n",
              "\n",
              "    .dataframe tbody tr th {\n",
              "        vertical-align: top;\n",
              "    }\n",
              "\n",
              "    .dataframe thead th {\n",
              "        text-align: right;\n",
              "    }\n",
              "</style>\n",
              "<table border=\"1\" class=\"dataframe\">\n",
              "  <thead>\n",
              "    <tr style=\"text-align: right;\">\n",
              "      <th></th>\n",
              "      <th>review_date</th>\n",
              "      <th>movie_id</th>\n",
              "      <th>user_id</th>\n",
              "      <th>is_spoiler</th>\n",
              "      <th>review_text</th>\n",
              "      <th>userrating</th>\n",
              "      <th>review_summary</th>\n",
              "      <th>plot_summary</th>\n",
              "      <th>duration</th>\n",
              "      <th>genre</th>\n",
              "      <th>actualrating</th>\n",
              "      <th>release_date</th>\n",
              "      <th>plot_synopsis</th>\n",
              "      <th>days_elapsed</th>\n",
              "    </tr>\n",
              "  </thead>\n",
              "  <tbody>\n",
              "    <tr>\n",
              "      <th>0</th>\n",
              "      <td>2006-02-10</td>\n",
              "      <td>tt0111161</td>\n",
              "      <td>ur1898687</td>\n",
              "      <td>1</td>\n",
              "      <td>In its Oscar year, Shawshank Redemption (writt...</td>\n",
              "      <td>10</td>\n",
              "      <td>A classic piece of unforgettable film-making.</td>\n",
              "      <td>Chronicles the experiences of a formerly succe...</td>\n",
              "      <td>2h 22min</td>\n",
              "      <td>[Crime, Drama]</td>\n",
              "      <td>9.3</td>\n",
              "      <td>1994-10-14</td>\n",
              "      <td>In 1947, Andy Dufresne (Tim Robbins), a banker...</td>\n",
              "      <td>4137</td>\n",
              "    </tr>\n",
              "    <tr>\n",
              "      <th>1</th>\n",
              "      <td>2000-09-06</td>\n",
              "      <td>tt0111161</td>\n",
              "      <td>ur0842118</td>\n",
              "      <td>1</td>\n",
              "      <td>The Shawshank Redemption is without a doubt on...</td>\n",
              "      <td>10</td>\n",
              "      <td>Simply amazing. The best film of the 90's.</td>\n",
              "      <td>Chronicles the experiences of a formerly succe...</td>\n",
              "      <td>2h 22min</td>\n",
              "      <td>[Crime, Drama]</td>\n",
              "      <td>9.3</td>\n",
              "      <td>1994-10-14</td>\n",
              "      <td>In 1947, Andy Dufresne (Tim Robbins), a banker...</td>\n",
              "      <td>2154</td>\n",
              "    </tr>\n",
              "    <tr>\n",
              "      <th>2</th>\n",
              "      <td>2001-08-03</td>\n",
              "      <td>tt0111161</td>\n",
              "      <td>ur1285640</td>\n",
              "      <td>1</td>\n",
              "      <td>I believe that this film is the best story eve...</td>\n",
              "      <td>8</td>\n",
              "      <td>The best story ever told on film</td>\n",
              "      <td>Chronicles the experiences of a formerly succe...</td>\n",
              "      <td>2h 22min</td>\n",
              "      <td>[Crime, Drama]</td>\n",
              "      <td>9.3</td>\n",
              "      <td>1994-10-14</td>\n",
              "      <td>In 1947, Andy Dufresne (Tim Robbins), a banker...</td>\n",
              "      <td>2485</td>\n",
              "    </tr>\n",
              "    <tr>\n",
              "      <th>3</th>\n",
              "      <td>2002-09-01</td>\n",
              "      <td>tt0111161</td>\n",
              "      <td>ur1003471</td>\n",
              "      <td>1</td>\n",
              "      <td>**Yes, there are SPOILERS here**This film has ...</td>\n",
              "      <td>10</td>\n",
              "      <td>Busy dying or busy living?</td>\n",
              "      <td>Chronicles the experiences of a formerly succe...</td>\n",
              "      <td>2h 22min</td>\n",
              "      <td>[Crime, Drama]</td>\n",
              "      <td>9.3</td>\n",
              "      <td>1994-10-14</td>\n",
              "      <td>In 1947, Andy Dufresne (Tim Robbins), a banker...</td>\n",
              "      <td>2879</td>\n",
              "    </tr>\n",
              "    <tr>\n",
              "      <th>4</th>\n",
              "      <td>2004-05-20</td>\n",
              "      <td>tt0111161</td>\n",
              "      <td>ur0226855</td>\n",
              "      <td>1</td>\n",
              "      <td>At the heart of this extraordinary movie is a ...</td>\n",
              "      <td>8</td>\n",
              "      <td>Great story, wondrously told and acted</td>\n",
              "      <td>Chronicles the experiences of a formerly succe...</td>\n",
              "      <td>2h 22min</td>\n",
              "      <td>[Crime, Drama]</td>\n",
              "      <td>9.3</td>\n",
              "      <td>1994-10-14</td>\n",
              "      <td>In 1947, Andy Dufresne (Tim Robbins), a banker...</td>\n",
              "      <td>3506</td>\n",
              "    </tr>\n",
              "  </tbody>\n",
              "</table>\n",
              "</div>"
            ],
            "text/plain": [
              "  review_date  ... days_elapsed\n",
              "0  2006-02-10  ...         4137\n",
              "1  2000-09-06  ...         2154\n",
              "2  2001-08-03  ...         2485\n",
              "3  2002-09-01  ...         2879\n",
              "4  2004-05-20  ...         3506\n",
              "\n",
              "[5 rows x 14 columns]"
            ]
          },
          "metadata": {
            "tags": []
          },
          "execution_count": 21
        }
      ]
    },
    {
      "cell_type": "markdown",
      "metadata": {
        "id": "6PeC3yp60m_s"
      },
      "source": [
        "# Exploratory Analysis\n",
        " \n"
      ]
    },
    {
      "cell_type": "code",
      "metadata": {
        "colab": {
          "base_uri": "https://localhost:8080/"
        },
        "id": "uoLyMDzyVNqq",
        "outputId": "df8a49ad-620f-4f4c-9fc7-1c9add217a3d"
      },
      "source": [
        "df.dtypes"
      ],
      "execution_count": 22,
      "outputs": [
        {
          "output_type": "execute_result",
          "data": {
            "text/plain": [
              "review_date       datetime64[ns]\n",
              "movie_id                  object\n",
              "user_id                   object\n",
              "is_spoiler                 int64\n",
              "review_text               object\n",
              "userrating                 int64\n",
              "review_summary            object\n",
              "plot_summary              object\n",
              "duration                  object\n",
              "genre                     object\n",
              "actualrating             float64\n",
              "release_date      datetime64[ns]\n",
              "plot_synopsis             object\n",
              "days_elapsed               int64\n",
              "dtype: object"
            ]
          },
          "metadata": {
            "tags": []
          },
          "execution_count": 22
        }
      ]
    },
    {
      "cell_type": "code",
      "metadata": {
        "colab": {
          "base_uri": "https://localhost:8080/",
          "height": 0
        },
        "id": "ws9N9IYCBaoK",
        "outputId": "07bc6649-14cc-4293-ae38-eadfb1ff3fdd"
      },
      "source": [
        "df.head()"
      ],
      "execution_count": 23,
      "outputs": [
        {
          "output_type": "execute_result",
          "data": {
            "text/html": [
              "<div>\n",
              "<style scoped>\n",
              "    .dataframe tbody tr th:only-of-type {\n",
              "        vertical-align: middle;\n",
              "    }\n",
              "\n",
              "    .dataframe tbody tr th {\n",
              "        vertical-align: top;\n",
              "    }\n",
              "\n",
              "    .dataframe thead th {\n",
              "        text-align: right;\n",
              "    }\n",
              "</style>\n",
              "<table border=\"1\" class=\"dataframe\">\n",
              "  <thead>\n",
              "    <tr style=\"text-align: right;\">\n",
              "      <th></th>\n",
              "      <th>review_date</th>\n",
              "      <th>movie_id</th>\n",
              "      <th>user_id</th>\n",
              "      <th>is_spoiler</th>\n",
              "      <th>review_text</th>\n",
              "      <th>userrating</th>\n",
              "      <th>review_summary</th>\n",
              "      <th>plot_summary</th>\n",
              "      <th>duration</th>\n",
              "      <th>genre</th>\n",
              "      <th>actualrating</th>\n",
              "      <th>release_date</th>\n",
              "      <th>plot_synopsis</th>\n",
              "      <th>days_elapsed</th>\n",
              "    </tr>\n",
              "  </thead>\n",
              "  <tbody>\n",
              "    <tr>\n",
              "      <th>0</th>\n",
              "      <td>2006-02-10</td>\n",
              "      <td>tt0111161</td>\n",
              "      <td>ur1898687</td>\n",
              "      <td>1</td>\n",
              "      <td>In its Oscar year, Shawshank Redemption (writt...</td>\n",
              "      <td>10</td>\n",
              "      <td>A classic piece of unforgettable film-making.</td>\n",
              "      <td>Chronicles the experiences of a formerly succe...</td>\n",
              "      <td>2h 22min</td>\n",
              "      <td>[Crime, Drama]</td>\n",
              "      <td>9.3</td>\n",
              "      <td>1994-10-14</td>\n",
              "      <td>In 1947, Andy Dufresne (Tim Robbins), a banker...</td>\n",
              "      <td>4137</td>\n",
              "    </tr>\n",
              "    <tr>\n",
              "      <th>1</th>\n",
              "      <td>2000-09-06</td>\n",
              "      <td>tt0111161</td>\n",
              "      <td>ur0842118</td>\n",
              "      <td>1</td>\n",
              "      <td>The Shawshank Redemption is without a doubt on...</td>\n",
              "      <td>10</td>\n",
              "      <td>Simply amazing. The best film of the 90's.</td>\n",
              "      <td>Chronicles the experiences of a formerly succe...</td>\n",
              "      <td>2h 22min</td>\n",
              "      <td>[Crime, Drama]</td>\n",
              "      <td>9.3</td>\n",
              "      <td>1994-10-14</td>\n",
              "      <td>In 1947, Andy Dufresne (Tim Robbins), a banker...</td>\n",
              "      <td>2154</td>\n",
              "    </tr>\n",
              "    <tr>\n",
              "      <th>2</th>\n",
              "      <td>2001-08-03</td>\n",
              "      <td>tt0111161</td>\n",
              "      <td>ur1285640</td>\n",
              "      <td>1</td>\n",
              "      <td>I believe that this film is the best story eve...</td>\n",
              "      <td>8</td>\n",
              "      <td>The best story ever told on film</td>\n",
              "      <td>Chronicles the experiences of a formerly succe...</td>\n",
              "      <td>2h 22min</td>\n",
              "      <td>[Crime, Drama]</td>\n",
              "      <td>9.3</td>\n",
              "      <td>1994-10-14</td>\n",
              "      <td>In 1947, Andy Dufresne (Tim Robbins), a banker...</td>\n",
              "      <td>2485</td>\n",
              "    </tr>\n",
              "    <tr>\n",
              "      <th>3</th>\n",
              "      <td>2002-09-01</td>\n",
              "      <td>tt0111161</td>\n",
              "      <td>ur1003471</td>\n",
              "      <td>1</td>\n",
              "      <td>**Yes, there are SPOILERS here**This film has ...</td>\n",
              "      <td>10</td>\n",
              "      <td>Busy dying or busy living?</td>\n",
              "      <td>Chronicles the experiences of a formerly succe...</td>\n",
              "      <td>2h 22min</td>\n",
              "      <td>[Crime, Drama]</td>\n",
              "      <td>9.3</td>\n",
              "      <td>1994-10-14</td>\n",
              "      <td>In 1947, Andy Dufresne (Tim Robbins), a banker...</td>\n",
              "      <td>2879</td>\n",
              "    </tr>\n",
              "    <tr>\n",
              "      <th>4</th>\n",
              "      <td>2004-05-20</td>\n",
              "      <td>tt0111161</td>\n",
              "      <td>ur0226855</td>\n",
              "      <td>1</td>\n",
              "      <td>At the heart of this extraordinary movie is a ...</td>\n",
              "      <td>8</td>\n",
              "      <td>Great story, wondrously told and acted</td>\n",
              "      <td>Chronicles the experiences of a formerly succe...</td>\n",
              "      <td>2h 22min</td>\n",
              "      <td>[Crime, Drama]</td>\n",
              "      <td>9.3</td>\n",
              "      <td>1994-10-14</td>\n",
              "      <td>In 1947, Andy Dufresne (Tim Robbins), a banker...</td>\n",
              "      <td>3506</td>\n",
              "    </tr>\n",
              "  </tbody>\n",
              "</table>\n",
              "</div>"
            ],
            "text/plain": [
              "  review_date  ... days_elapsed\n",
              "0  2006-02-10  ...         4137\n",
              "1  2000-09-06  ...         2154\n",
              "2  2001-08-03  ...         2485\n",
              "3  2002-09-01  ...         2879\n",
              "4  2004-05-20  ...         3506\n",
              "\n",
              "[5 rows x 14 columns]"
            ]
          },
          "metadata": {
            "tags": []
          },
          "execution_count": 23
        }
      ]
    },
    {
      "cell_type": "code",
      "metadata": {
        "colab": {
          "base_uri": "https://localhost:8080/"
        },
        "id": "xf6pginSifGb",
        "outputId": "a85028a3-1247-4927-8d2d-ed89d27a1aa9"
      },
      "source": [
        "print('Total no. of reviews:' , len(df))"
      ],
      "execution_count": 24,
      "outputs": [
        {
          "output_type": "stream",
          "text": [
            "Total no. of reviews: 573906\n"
          ],
          "name": "stdout"
        }
      ]
    },
    {
      "cell_type": "code",
      "metadata": {
        "colab": {
          "base_uri": "https://localhost:8080/"
        },
        "id": "ruvkAvuHi8K-",
        "outputId": "4d6d5499-8a36-416c-d798-84fbe4ea3c93"
      },
      "source": [
        "print(\"Total no. of users who gave reviews:\",df['user_id'].nunique() )"
      ],
      "execution_count": 25,
      "outputs": [
        {
          "output_type": "stream",
          "text": [
            "Total no. of users who gave reviews: 263404\n"
          ],
          "name": "stdout"
        }
      ]
    },
    {
      "cell_type": "code",
      "metadata": {
        "colab": {
          "base_uri": "https://localhost:8080/"
        },
        "id": "uAnazPoFFBjf",
        "outputId": "c321d700-6bc6-4d7e-eabb-c62e0347beeb"
      },
      "source": [
        "print('Total films in dataset :', df['movie_id'].nunique())"
      ],
      "execution_count": 26,
      "outputs": [
        {
          "output_type": "stream",
          "text": [
            "Total films in dataset : 1570\n"
          ],
          "name": "stdout"
        }
      ]
    },
    {
      "cell_type": "code",
      "metadata": {
        "colab": {
          "base_uri": "https://localhost:8080/",
          "height": 0
        },
        "id": "pksquFetTf5v",
        "outputId": "a0a6274c-41b5-4a0f-af27-f4f465e2894b"
      },
      "source": [
        "print(\"Distribution of rating across all movie reviews:\")\n",
        "df[df[\"is_spoiler\"]==0]['actualrating'].plot(kind='hist')"
      ],
      "execution_count": 27,
      "outputs": [
        {
          "output_type": "stream",
          "text": [
            "Distribution of rating across all movie reviews:\n"
          ],
          "name": "stdout"
        },
        {
          "output_type": "execute_result",
          "data": {
            "text/plain": [
              "<matplotlib.axes._subplots.AxesSubplot at 0x7f77fec61198>"
            ]
          },
          "metadata": {
            "tags": []
          },
          "execution_count": 27
        },
        {
          "output_type": "display_data",
          "data": {
            "image/png": "[encoded data removed]",
            "text/plain": [
              "<Figure size 432x288 with 1 Axes>"
            ]
          },
          "metadata": {
            "tags": [],
            "needs_background": "light"
          }
        }
      ]
    },
    {
      "cell_type": "code",
      "metadata": {
        "colab": {
          "base_uri": "https://localhost:8080/",
          "height": 0
        },
        "id": "3tL4Ic9W1T2y",
        "outputId": "1c70fbfb-e391-47c2-b46a-750ab4ab6692"
      },
      "source": [
        "print(\"Distribution of rating across all movie reviews:\")\n",
        "df[df[\"is_spoiler\"]==1]['actualrating'].plot(kind='hist')"
      ],
      "execution_count": 28,
      "outputs": [
        {
          "output_type": "stream",
          "text": [
            "Distribution of rating across all movie reviews:\n"
          ],
          "name": "stdout"
        },
        {
          "output_type": "execute_result",
          "data": {
            "text/plain": [
              "<matplotlib.axes._subplots.AxesSubplot at 0x7f77fec7c048>"
            ]
          },
          "metadata": {
            "tags": []
          },
          "execution_count": 28
        },
        {
          "output_type": "display_data",
          "data": {
            "image/png": "[encoded data removed]",
            "text/plain": [
              "<Figure size 432x288 with 1 Axes>"
            ]
          },
          "metadata": {
            "tags": [],
            "needs_background": "light"
          }
        }
      ]
    },
    {
      "cell_type": "markdown",
      "metadata": {
        "id": "9Xlpq3Ky09-9"
      },
      "source": [
        "Most of the ratings are concentrated around 6-9  for both reviews either containing spoiler or not."
      ]
    },
    {
      "cell_type": "code",
      "metadata": {
        "colab": {
          "base_uri": "https://localhost:8080/",
          "height": 0
        },
        "id": "CvvshqO10p8D",
        "outputId": "119123e1-d8b2-4615-acea-000a75e85053"
      },
      "source": [
        "labels, frequencies = np.unique(df.is_spoiler.values,return_counts = True)\n",
        "plt.figure(figsize = (10,10))\n",
        "x=plt.pie(frequencies,labels = labels, autopct = '%1.1f%%')\n",
        "plt.title('Pie chart of distribution of reviews with and without spoilers in dataset')\n",
        "plt.legend(labels=['Without spoilers', 'With spoilers'])"
      ],
      "execution_count": 29,
      "outputs": [
        {
          "output_type": "execute_result",
          "data": {
            "text/plain": [
              "<matplotlib.legend.Legend at 0x7f77fea28710>"
            ]
          },
          "metadata": {
            "tags": []
          },
          "execution_count": 29
        },
        {
          "output_type": "display_data",
          "data": {
            "image/png": "[encoded data removed]",
            "text/plain": [
              "<Figure size 720x720 with 1 Axes>"
            ]
          },
          "metadata": {
            "tags": []
          }
        }
      ]
    },
    {
      "cell_type": "code",
      "metadata": {
        "colab": {
          "base_uri": "https://localhost:8080/",
          "height": 0
        },
        "id": "3y1YX8l-DBLl",
        "outputId": "372798ec-df98-440a-ea87-1dc98fba4670"
      },
      "source": [
        "labels, frequencies = np.unique(df.genre.values,return_counts = True)\n",
        "plt.figure(figsize = (8,8))\n",
        "x=plt.pie(frequencies[:10],labels = labels[:10], autopct = '%1.1f%%')\n",
        "plt.tight_layout()\n",
        "plt.title('Pie chart for reviews for top 10 genres:')"
      ],
      "execution_count": 30,
      "outputs": [
        {
          "output_type": "execute_result",
          "data": {
            "text/plain": [
              "Text(0.5, 1.0, 'Pie chart for reviews for top 10 genres:')"
            ]
          },
          "metadata": {
            "tags": []
          },
          "execution_count": 30
        },
        {
          "output_type": "display_data",
          "data": {
            "image/png": "[encoded data removed]",
            "text/plain": [
              "<Figure size 576x576 with 1 Axes>"
            ]
          },
          "metadata": {
            "tags": []
          }
        }
      ]
    },
    {
      "cell_type": "markdown",
      "metadata": {
        "id": "30-HbSM41n6i"
      },
      "source": [
        "These are the top 10 genre sets with most spoiler reviews."
      ]
    },
    {
      "cell_type": "code",
      "metadata": {
        "colab": {
          "base_uri": "https://localhost:8080/",
          "height": 0
        },
        "id": "V7IaQj7imzfG",
        "outputId": "00f79640-e4e5-4e7a-d4e1-f498dbbad3d4"
      },
      "source": [
        "df_temp=df[[\"is_spoiler\",\"days_elapsed\"]]\n",
        "df_temp=df_temp.groupby(['is_spoiler', 'days_elapsed']).size().reset_index(name='count').sort_values('days_elapsed')\n",
        "\n",
        "fig = plt.figure(figsize=(16, 8))\n",
        "\n",
        "\n",
        "ax1 = fig.add_subplot(1, 2, 1)\n",
        "ax2 = fig.add_subplot(1, 2, 2)\n",
        "\n",
        "ax1.plot(df_temp[df_temp[\"is_spoiler\"]==1][\"days_elapsed\"].values,df_temp[df_temp[\"is_spoiler\"]==1][\"count\"].values)\n",
        "ax1.set_title('for entire dataset')\n",
        "ax1.set_xlabel('No. of days_elapsed')\n",
        "ax1.set_ylabel('No. of  spoiler reviews')\n",
        "\n",
        "ax2.plot(df_temp[df_temp[\"is_spoiler\"]==1][\"days_elapsed\"][:100].values,df_temp[df_temp[\"is_spoiler\"]==1][\"count\"][:100].values)\n",
        "ax2.set_xlabel('No. of days_elapsed')\n",
        "ax2.set_title('for initial 100 days')\n",
        "ax2.set_ylabel('No. of  spoiler reviews')\n",
        "\n",
        "plt.show()"
      ],
      "execution_count": 31,
      "outputs": [
        {
          "output_type": "display_data",
          "data": {
            "image/png": "[encoded data removed]",
            "text/plain": [
              "<Figure size 1152x576 with 2 Axes>"
            ]
          },
          "metadata": {
            "tags": [],
            "needs_background": "light"
          }
        }
      ]
    },
    {
      "cell_type": "code",
      "metadata": {
        "colab": {
          "base_uri": "https://localhost:8080/",
          "height": 0
        },
        "id": "6AR4R-oly4mi",
        "outputId": "6d50ed77-6cb9-47a9-d24d-b8f12a4f1235"
      },
      "source": [
        "fig = plt.figure(figsize=(16, 8))\n",
        "\n",
        "\n",
        "ax1 = fig.add_subplot(1, 2, 1)\n",
        "ax2 = fig.add_subplot(1, 2, 2)\n",
        "\n",
        "ax1.plot(df_temp[\"days_elapsed\"].values,df_temp[\"count\"].values)\n",
        "ax1.set_title('for entire dataset')\n",
        "ax1.set_xlabel('No. of days_elapsed')\n",
        "ax1.set_ylabel('No. of  total  reviews')\n",
        "\n",
        "ax2.plot(df_temp[\"days_elapsed\"][:100].values,df_temp[\"count\"][:100].values)\n",
        "ax2.set_xlabel('No. of days_elapsed')\n",
        "ax2.set_title('for initial 100 days')\n",
        "ax2.set_ylabel('No. of  total  reviews')\n",
        "\n",
        "plt.show()"
      ],
      "execution_count": 32,
      "outputs": [
        {
          "output_type": "display_data",
          "data": {
            "image/png": "[encoded data removed]",
            "text/plain": [
              "<Figure size 1152x576 with 2 Axes>"
            ]
          },
          "metadata": {
            "tags": [],
            "needs_background": "light"
          }
        }
      ]
    },
    {
      "cell_type": "markdown",
      "metadata": {
        "id": "hXx_TCYL0Sml"
      },
      "source": [
        "As can be seen from above set of graphs that most of the reviews occur around the release date of the movie and with time the reviews corresponding to the  movie get lesser and lesser and thus reviews have as evident from graphs the tendency to contain spoilers more if they are near the release date."
      ]
    },
    {
      "cell_type": "code",
      "metadata": {
        "colab": {
          "base_uri": "https://localhost:8080/"
        },
        "id": "LL9SAi63fXsH",
        "outputId": "d778624d-6b26-45ea-e8fe-d8bd0e637edb"
      },
      "source": [
        "print(\"Top 10 Movies with most spoilers\")\n",
        "print(df[df['is_spoiler']==1].movie_id.value_counts()[:10])\n"
      ],
      "execution_count": 33,
      "outputs": [
        {
          "output_type": "stream",
          "text": [
            "Top 10 Movies with most spoilers\n",
            "tt0468569    1482\n",
            "tt0111161     956\n",
            "tt0167260     490\n",
            "tt2488496     482\n",
            "tt0137523     459\n",
            "tt0068646     420\n",
            "tt1446714     400\n",
            "tt0110912     397\n",
            "tt1300854     390\n",
            "tt1074638     366\n",
            "Name: movie_id, dtype: int64\n"
          ],
          "name": "stdout"
        }
      ]
    },
    {
      "cell_type": "code",
      "metadata": {
        "colab": {
          "base_uri": "https://localhost:8080/",
          "height": 0
        },
        "id": "ceVZyJSNe6tT",
        "outputId": "3f580564-2b87-42e7-9ebe-6eb6a2e8cd45"
      },
      "source": [
        "df[df['is_spoiler']==1].movie_id.value_counts()[:10].plot.bar()\n",
        "plt.title(\"Top 10  users who gave  most spoilers :\")\n",
        "plt.xlabel('user_id')\n",
        "plt.ylabel('No. of reviews with spoilers')\n",
        "plt.show()"
      ],
      "execution_count": 34,
      "outputs": [
        {
          "output_type": "display_data",
          "data": {
            "image/png": "[encoded data removed]",
            "text/plain": [
              "<Figure size 432x288 with 1 Axes>"
            ]
          },
          "metadata": {
            "tags": [],
            "needs_background": "light"
          }
        }
      ]
    },
    {
      "cell_type": "code",
      "metadata": {
        "colab": {
          "base_uri": "https://localhost:8080/"
        },
        "id": "hWX8V_NXgQ23",
        "outputId": "ea16af18-6865-4e81-ffeb-8c9328a79561"
      },
      "source": [
        "print(\"Top 10 Users with most spoilers\")\n",
        "print(df[df['is_spoiler']==1].user_id.value_counts()[:10])"
      ],
      "execution_count": 35,
      "outputs": [
        {
          "output_type": "stream",
          "text": [
            "Top 10 Users with most spoilers\n",
            "ur4248714     1019\n",
            "ur60028700     767\n",
            "ur5291991      540\n",
            "ur7813355      503\n",
            "ur22668817     473\n",
            "ur2079400      454\n",
            "ur2707735      441\n",
            "ur45215448     422\n",
            "ur13977076     417\n",
            "ur1697212      415\n",
            "Name: user_id, dtype: int64\n"
          ],
          "name": "stdout"
        }
      ]
    },
    {
      "cell_type": "code",
      "metadata": {
        "colab": {
          "base_uri": "https://localhost:8080/",
          "height": 0
        },
        "id": "C0GJ0e2GPsb1",
        "outputId": "2876be22-8aa1-423e-88fc-8ee7f09341d5"
      },
      "source": [
        "df[df['is_spoiler']==1].user_id.value_counts()[:10].plot.bar()\n",
        "plt.title(\"Top 10  users who gave  most spoilers :\")\n",
        "plt.xlabel('user_id')\n",
        "plt.ylabel('No. of reviews with spoilers')\n",
        "plt.show()"
      ],
      "execution_count": 36,
      "outputs": [
        {
          "output_type": "display_data",
          "data": {
            "image/png": "[encoded data removed]",
            "text/plain": [
              "<Figure size 432x288 with 1 Axes>"
            ]
          },
          "metadata": {
            "tags": [],
            "needs_background": "light"
          }
        }
      ]
    },
    {
      "cell_type": "code",
      "metadata": {
        "colab": {
          "base_uri": "https://localhost:8080/",
          "height": 0
        },
        "id": "hdyXgzJMhLeo",
        "outputId": "7a256876-a7a0-44e0-83c8-f8d98332c8c9"
      },
      "source": [
        "labels, frequencies = np.unique(df[df['movie_id']=='tt1446714'].is_spoiler.values,return_counts = True)\n",
        "plt.figure(figsize = (10,10))\n",
        "plt.pie(frequencies,labels = labels, autopct = '%1.1f%%')\n",
        "plt.title(\"% of spoiler reviews / total reviews for a movie\")\n",
        "plt.show()"
      ],
      "execution_count": 37,
      "outputs": [
        {
          "output_type": "display_data",
          "data": {
            "image/png": "[encoded data removed]",
            "text/plain": [
              "<Figure size 720x720 with 1 Axes>"
            ]
          },
          "metadata": {
            "tags": []
          }
        }
      ]
    },
    {
      "cell_type": "code",
      "metadata": {
        "colab": {
          "base_uri": "https://localhost:8080/",
          "height": 0
        },
        "id": "vdUVg4FaIis7",
        "outputId": "5651ef9c-e7d2-4855-a556-ca3264c1c559"
      },
      "source": [
        "labels, frequencies = np.unique(df[df['user_id']=='ur2898520'].is_spoiler.values,return_counts = True)\n",
        "plt.figure(figsize = (10,10))\n",
        "plt.pie(frequencies,labels = labels, autopct = '%1.1f%%')\n",
        "plt.title(\"% of spoiler reviews / total reviews from a user\")\n",
        "plt.show()"
      ],
      "execution_count": 38,
      "outputs": [
        {
          "output_type": "display_data",
          "data": {
            "image/png": "[encoded data removed]",
            "text/plain": [
              "<Figure size 720x720 with 1 Axes>"
            ]
          },
          "metadata": {
            "tags": []
          }
        }
      ]
    },
    {
      "cell_type": "code",
      "metadata": {
        "colab": {
          "base_uri": "https://localhost:8080/",
          "height": 0
        },
        "id": "qfRBcDgWM8nl",
        "outputId": "b4f54537-a65b-4806-84a6-8632a53b19b3"
      },
      "source": [
        "labels, frequencies = np.unique(df[df['movie_id']=='tt1291584'].userrating.values,return_counts = True)\n",
        "\n",
        "plt.figure(figsize = (10,10))\n",
        "plt.pie(frequencies,labels = labels, autopct = '%1.1f%%')\n",
        "plt.title(\"Distribution of movie rating for a movie\")\n",
        "plt.show()"
      ],
      "execution_count": 39,
      "outputs": [
        {
          "output_type": "display_data",
          "data": {
            "image/png": "[encoded data removed]",
            "text/plain": [
              "<Figure size 720x720 with 1 Axes>"
            ]
          },
          "metadata": {
            "tags": []
          }
        }
      ]
    },
    {
      "cell_type": "code",
      "metadata": {
        "colab": {
          "base_uri": "https://localhost:8080/"
        },
        "id": "j1rbmzJpHteL",
        "outputId": "332cd107-1db3-48b6-e910-118efb6c472a"
      },
      "source": [
        "df['user_id'].value_counts()[:5]"
      ],
      "execution_count": 40,
      "outputs": [
        {
          "output_type": "execute_result",
          "data": {
            "text/plain": [
              "ur2898520     1303\n",
              "ur4248714     1021\n",
              "ur0453068      806\n",
              "ur60028700     770\n",
              "ur20552756     755\n",
              "Name: user_id, dtype: int64"
            ]
          },
          "metadata": {
            "tags": []
          },
          "execution_count": 40
        }
      ]
    },
    {
      "cell_type": "code",
      "metadata": {
        "colab": {
          "base_uri": "https://localhost:8080/",
          "height": 0
        },
        "id": "361_6zdCiQc-",
        "outputId": "c8fbe360-06ea-4017-b423-7723173f2f4d"
      },
      "source": [
        "df['user_id'].value_counts()[:10].plot.bar()\n",
        "plt.title(\"Top 10  users who gave most reviews :\")\n",
        "plt.xlabel('user_id')\n",
        "plt.ylabel('No. of reviews with spoilers')\n",
        "plt.show()"
      ],
      "execution_count": 41,
      "outputs": [
        {
          "output_type": "display_data",
          "data": {
            "image/png": "[encoded data removed]",
            "text/plain": [
              "<Figure size 432x288 with 1 Axes>"
            ]
          },
          "metadata": {
            "tags": [],
            "needs_background": "light"
          }
        }
      ]
    },
    {
      "cell_type": "code",
      "metadata": {
        "colab": {
          "base_uri": "https://localhost:8080/",
          "height": 0
        },
        "id": "CpE4Db3GaRvL",
        "outputId": "e562d267-d4c8-4735-9446-82bbb248498f"
      },
      "source": [
        "\n",
        "sns.boxplot(x= df.is_spoiler,y=df.actualrating)\n"
      ],
      "execution_count": 42,
      "outputs": [
        {
          "output_type": "execute_result",
          "data": {
            "text/plain": [
              "<matplotlib.axes._subplots.AxesSubplot at 0x7f77fe4d06d8>"
            ]
          },
          "metadata": {
            "tags": []
          },
          "execution_count": 42
        },
        {
          "output_type": "display_data",
          "data": {
            "image/png": "[encoded data removed]",
            "text/plain": [
              "<Figure size 432x288 with 1 Axes>"
            ]
          },
          "metadata": {
            "tags": [],
            "needs_background": "light"
          }
        }
      ]
    },
    {
      "cell_type": "code",
      "metadata": {
        "colab": {
          "base_uri": "https://localhost:8080/",
          "height": 0
        },
        "id": "fOufl1B2aYPp",
        "outputId": "95a8fd3f-adab-457b-8130-d3d7dfadeae7"
      },
      "source": [
        "sns.boxplot(x= df.is_spoiler,y=df.userrating)"
      ],
      "execution_count": 43,
      "outputs": [
        {
          "output_type": "execute_result",
          "data": {
            "text/plain": [
              "<matplotlib.axes._subplots.AxesSubplot at 0x7f77fe65f390>"
            ]
          },
          "metadata": {
            "tags": []
          },
          "execution_count": 43
        },
        {
          "output_type": "display_data",
          "data": {
            "image/png": "[encoded data removed]",
            "text/plain": [
              "<Figure size 432x288 with 1 Axes>"
            ]
          },
          "metadata": {
            "tags": [],
            "needs_background": "light"
          }
        }
      ]
    },
    {
      "cell_type": "markdown",
      "metadata": {
        "id": "6UpLkshnfPyb"
      },
      "source": [
        "# Movie spoiler ratio(MSR)"
      ]
    },
    {
      "cell_type": "code",
      "metadata": {
        "id": "F_6N4-lab1OJ"
      },
      "source": [
        "total_spoilers= df.groupby(by='movie_id').is_spoiler.agg(['sum']).reset_index().rename(columns={'sum':'total_spoilers'})"
      ],
      "execution_count": 44,
      "outputs": []
    },
    {
      "cell_type": "code",
      "metadata": {
        "id": "vOlLy0g_b1Ms"
      },
      "source": [
        "total_movies = df.groupby(by='movie_id').movie_id.agg(['count']).reset_index().rename(columns={'count':'total_movies'})"
      ],
      "execution_count": 45,
      "outputs": []
    },
    {
      "cell_type": "code",
      "metadata": {
        "id": "bvUzSoBob1Iy"
      },
      "source": [
        "msr = pd.merge(total_spoilers,total_movies, on='movie_id')"
      ],
      "execution_count": 46,
      "outputs": []
    },
    {
      "cell_type": "code",
      "metadata": {
        "id": "K4aZvjUxb1HC"
      },
      "source": [
        "msr['msr']=msr.total_spoilers/msr.total_movies"
      ],
      "execution_count": 47,
      "outputs": []
    },
    {
      "cell_type": "code",
      "metadata": {
        "colab": {
          "base_uri": "https://localhost:8080/",
          "height": 0
        },
        "id": "s03do7a4b1Do",
        "outputId": "ef45efc1-6ea3-4342-c692-545dfa6f1e79"
      },
      "source": [
        "msr.head()"
      ],
      "execution_count": 48,
      "outputs": [
        {
          "output_type": "execute_result",
          "data": {
            "text/html": [
              "<div>\n",
              "<style scoped>\n",
              "    .dataframe tbody tr th:only-of-type {\n",
              "        vertical-align: middle;\n",
              "    }\n",
              "\n",
              "    .dataframe tbody tr th {\n",
              "        vertical-align: top;\n",
              "    }\n",
              "\n",
              "    .dataframe thead th {\n",
              "        text-align: right;\n",
              "    }\n",
              "</style>\n",
              "<table border=\"1\" class=\"dataframe\">\n",
              "  <thead>\n",
              "    <tr style=\"text-align: right;\">\n",
              "      <th></th>\n",
              "      <th>movie_id</th>\n",
              "      <th>total_spoilers</th>\n",
              "      <th>total_movies</th>\n",
              "      <th>msr</th>\n",
              "    </tr>\n",
              "  </thead>\n",
              "  <tbody>\n",
              "    <tr>\n",
              "      <th>0</th>\n",
              "      <td>tt0012349</td>\n",
              "      <td>26</td>\n",
              "      <td>104</td>\n",
              "      <td>0.250000</td>\n",
              "    </tr>\n",
              "    <tr>\n",
              "      <th>1</th>\n",
              "      <td>tt0015864</td>\n",
              "      <td>39</td>\n",
              "      <td>128</td>\n",
              "      <td>0.304688</td>\n",
              "    </tr>\n",
              "    <tr>\n",
              "      <th>2</th>\n",
              "      <td>tt0017136</td>\n",
              "      <td>73</td>\n",
              "      <td>337</td>\n",
              "      <td>0.216617</td>\n",
              "    </tr>\n",
              "    <tr>\n",
              "      <th>3</th>\n",
              "      <td>tt0017925</td>\n",
              "      <td>50</td>\n",
              "      <td>192</td>\n",
              "      <td>0.260417</td>\n",
              "    </tr>\n",
              "    <tr>\n",
              "      <th>4</th>\n",
              "      <td>tt0018455</td>\n",
              "      <td>63</td>\n",
              "      <td>178</td>\n",
              "      <td>0.353933</td>\n",
              "    </tr>\n",
              "  </tbody>\n",
              "</table>\n",
              "</div>"
            ],
            "text/plain": [
              "    movie_id  total_spoilers  total_movies       msr\n",
              "0  tt0012349              26           104  0.250000\n",
              "1  tt0015864              39           128  0.304688\n",
              "2  tt0017136              73           337  0.216617\n",
              "3  tt0017925              50           192  0.260417\n",
              "4  tt0018455              63           178  0.353933"
            ]
          },
          "metadata": {
            "tags": []
          },
          "execution_count": 48
        }
      ]
    },
    {
      "cell_type": "code",
      "metadata": {
        "id": "b-sny02ob1BW"
      },
      "source": [
        "msr.drop(['total_spoilers','total_movies'], axis=1, inplace=True)"
      ],
      "execution_count": 49,
      "outputs": []
    },
    {
      "cell_type": "code",
      "metadata": {
        "id": "oHUFxo7ub0_E"
      },
      "source": [
        "df=pd.merge(df,msr,on='movie_id')"
      ],
      "execution_count": 50,
      "outputs": []
    },
    {
      "cell_type": "code",
      "metadata": {
        "colab": {
          "base_uri": "https://localhost:8080/",
          "height": 0
        },
        "id": "s4QlCeG48aq7",
        "outputId": "adc1b0a7-874f-4648-f9a8-e51759182626"
      },
      "source": [
        "sns.lmplot(x =\"msr\", y =\"is_spoiler\", data = df, order = 2, ci = None) "
      ],
      "execution_count": 51,
      "outputs": [
        {
          "output_type": "execute_result",
          "data": {
            "text/plain": [
              "<seaborn.axisgrid.FacetGrid at 0x7f77fe612518>"
            ]
          },
          "metadata": {
            "tags": []
          },
          "execution_count": 51
        },
        {
          "output_type": "display_data",
          "data": {
            "image/png": "[encoded data removed]",
            "text/plain": [
              "<Figure size 360x360 with 1 Axes>"
            ]
          },
          "metadata": {
            "tags": [],
            "needs_background": "light"
          }
        }
      ]
    },
    {
      "cell_type": "markdown",
      "metadata": {
        "id": "3sYllapIhgYy"
      },
      "source": [
        "#User Spoiler Ratio (USR)"
      ]
    },
    {
      "cell_type": "code",
      "metadata": {
        "id": "8csDZxEyb05Z"
      },
      "source": [
        "total_user_spoilers = df.groupby(by='user_id').is_spoiler.agg(['sum']).reset_index().rename(columns={'sum':'total_user_spoilers'})\n"
      ],
      "execution_count": 52,
      "outputs": []
    },
    {
      "cell_type": "code",
      "metadata": {
        "id": "TBwIy47Rb03r"
      },
      "source": [
        "total_users = df.groupby(by='user_id').user_id.agg(['count']).reset_index().rename(columns={'count':'total_users'})\n"
      ],
      "execution_count": 53,
      "outputs": []
    },
    {
      "cell_type": "code",
      "metadata": {
        "id": "IPm0mlSLb0z7"
      },
      "source": [
        "usr = pd.merge(total_user_spoilers,total_users, on='user_id')"
      ],
      "execution_count": 54,
      "outputs": []
    },
    {
      "cell_type": "code",
      "metadata": {
        "id": "Ul7kb4Egb0yJ"
      },
      "source": [
        "usr['usr']=usr.total_user_spoilers / usr.total_users"
      ],
      "execution_count": 55,
      "outputs": []
    },
    {
      "cell_type": "code",
      "metadata": {
        "id": "f_yy78o-b0vN"
      },
      "source": [
        "usr.drop(['total_user_spoilers','total_users'], axis=1,inplace=True)"
      ],
      "execution_count": 56,
      "outputs": []
    },
    {
      "cell_type": "code",
      "metadata": {
        "id": "QYuAWMeYb0sp"
      },
      "source": [
        "df= pd.merge(df, usr, on='user_id')"
      ],
      "execution_count": 57,
      "outputs": []
    },
    {
      "cell_type": "code",
      "metadata": {
        "colab": {
          "base_uri": "https://localhost:8080/",
          "height": 0
        },
        "id": "U_u1N9Ho9uVJ",
        "outputId": "036e713e-7755-4dad-b90f-0db4994fdae1"
      },
      "source": [
        "sns.lmplot(x =\"usr\", y =\"is_spoiler\", data = df, order = 2, ci = None) "
      ],
      "execution_count": 58,
      "outputs": [
        {
          "output_type": "execute_result",
          "data": {
            "text/plain": [
              "<seaborn.axisgrid.FacetGrid at 0x7f77fd94f2b0>"
            ]
          },
          "metadata": {
            "tags": []
          },
          "execution_count": 58
        },
        {
          "output_type": "display_data",
          "data": {
            "image/png": "[encoded data removed]",
            "text/plain": [
              "<Figure size 360x360 with 1 Axes>"
            ]
          },
          "metadata": {
            "tags": [],
            "needs_background": "light"
          }
        }
      ]
    },
    {
      "cell_type": "markdown",
      "metadata": {
        "id": "uuPHWrrgiroi"
      },
      "source": [
        "# Some Genres tend to have more spoilers\n",
        "\n",
        "<h2>Some genre categories combined together will produce more spoilers so our goal is to segregate those particular genre category combos and use them to predict if movie can have spoiler review or not</h2>"
      ]
    },
    {
      "cell_type": "code",
      "metadata": {
        "id": "1-VprFxAirSj"
      },
      "source": [
        "genres= np.unique(np.array(' '.join(df.genre.str.join(' ')).split()))"
      ],
      "execution_count": 59,
      "outputs": []
    },
    {
      "cell_type": "code",
      "metadata": {
        "colab": {
          "base_uri": "https://localhost:8080/"
        },
        "id": "4DDd-clYb0mb",
        "outputId": "dbece996-6190-4726-b20e-6a695ed132cc"
      },
      "source": [
        "genres"
      ],
      "execution_count": 60,
      "outputs": [
        {
          "output_type": "execute_result",
          "data": {
            "text/plain": [
              "array(['Action', 'Adventure', 'Animation', 'Biography', 'Comedy', 'Crime',\n",
              "       'Drama', 'Family', 'Fantasy', 'Film-Noir', 'History', 'Horror',\n",
              "       'Music', 'Musical', 'Mystery', 'Romance', 'Sci-Fi', 'Sport',\n",
              "       'Thriller', 'War', 'Western'], dtype='<U9')"
            ]
          },
          "metadata": {
            "tags": []
          },
          "execution_count": 60
        }
      ]
    },
    {
      "cell_type": "code",
      "metadata": {
        "id": "W0J00CKZb0iQ"
      },
      "source": [
        "genre_df=pd.DataFrame()"
      ],
      "execution_count": 61,
      "outputs": []
    },
    {
      "cell_type": "code",
      "metadata": {
        "id": "HCfpnouwb0fm"
      },
      "source": [
        "for i in genres:\n",
        "    genre_df[i.lower()]=0"
      ],
      "execution_count": 62,
      "outputs": []
    },
    {
      "cell_type": "code",
      "metadata": {
        "id": "RwLxF2DTpVVj"
      },
      "source": [
        "c=0"
      ],
      "execution_count": 63,
      "outputs": []
    },
    {
      "cell_type": "code",
      "metadata": {
        "colab": {
          "base_uri": "https://localhost:8080/",
          "height": 0
        },
        "id": "Yhw2dXx3ssrS",
        "outputId": "2140afc7-9db0-49c8-acd9-6de2a0aeb5b8"
      },
      "source": [
        "df.isnull()"
      ],
      "execution_count": 64,
      "outputs": [
        {
          "output_type": "execute_result",
          "data": {
            "text/html": [
              "<div>\n",
              "<style scoped>\n",
              "    .dataframe tbody tr th:only-of-type {\n",
              "        vertical-align: middle;\n",
              "    }\n",
              "\n",
              "    .dataframe tbody tr th {\n",
              "        vertical-align: top;\n",
              "    }\n",
              "\n",
              "    .dataframe thead th {\n",
              "        text-align: right;\n",
              "    }\n",
              "</style>\n",
              "<table border=\"1\" class=\"dataframe\">\n",
              "  <thead>\n",
              "    <tr style=\"text-align: right;\">\n",
              "      <th></th>\n",
              "      <th>review_date</th>\n",
              "      <th>movie_id</th>\n",
              "      <th>user_id</th>\n",
              "      <th>is_spoiler</th>\n",
              "      <th>review_text</th>\n",
              "      <th>userrating</th>\n",
              "      <th>review_summary</th>\n",
              "      <th>plot_summary</th>\n",
              "      <th>duration</th>\n",
              "      <th>genre</th>\n",
              "      <th>actualrating</th>\n",
              "      <th>release_date</th>\n",
              "      <th>plot_synopsis</th>\n",
              "      <th>days_elapsed</th>\n",
              "      <th>msr</th>\n",
              "      <th>usr</th>\n",
              "    </tr>\n",
              "  </thead>\n",
              "  <tbody>\n",
              "    <tr>\n",
              "      <th>0</th>\n",
              "      <td>False</td>\n",
              "      <td>False</td>\n",
              "      <td>False</td>\n",
              "      <td>False</td>\n",
              "      <td>False</td>\n",
              "      <td>False</td>\n",
              "      <td>False</td>\n",
              "      <td>False</td>\n",
              "      <td>False</td>\n",
              "      <td>False</td>\n",
              "      <td>False</td>\n",
              "      <td>False</td>\n",
              "      <td>False</td>\n",
              "      <td>False</td>\n",
              "      <td>False</td>\n",
              "      <td>False</td>\n",
              "    </tr>\n",
              "    <tr>\n",
              "      <th>1</th>\n",
              "      <td>False</td>\n",
              "      <td>False</td>\n",
              "      <td>False</td>\n",
              "      <td>False</td>\n",
              "      <td>False</td>\n",
              "      <td>False</td>\n",
              "      <td>False</td>\n",
              "      <td>False</td>\n",
              "      <td>False</td>\n",
              "      <td>False</td>\n",
              "      <td>False</td>\n",
              "      <td>False</td>\n",
              "      <td>False</td>\n",
              "      <td>False</td>\n",
              "      <td>False</td>\n",
              "      <td>False</td>\n",
              "    </tr>\n",
              "    <tr>\n",
              "      <th>2</th>\n",
              "      <td>False</td>\n",
              "      <td>False</td>\n",
              "      <td>False</td>\n",
              "      <td>False</td>\n",
              "      <td>False</td>\n",
              "      <td>False</td>\n",
              "      <td>False</td>\n",
              "      <td>False</td>\n",
              "      <td>False</td>\n",
              "      <td>False</td>\n",
              "      <td>False</td>\n",
              "      <td>False</td>\n",
              "      <td>False</td>\n",
              "      <td>False</td>\n",
              "      <td>False</td>\n",
              "      <td>False</td>\n",
              "    </tr>\n",
              "    <tr>\n",
              "      <th>3</th>\n",
              "      <td>False</td>\n",
              "      <td>False</td>\n",
              "      <td>False</td>\n",
              "      <td>False</td>\n",
              "      <td>False</td>\n",
              "      <td>False</td>\n",
              "      <td>False</td>\n",
              "      <td>False</td>\n",
              "      <td>False</td>\n",
              "      <td>False</td>\n",
              "      <td>False</td>\n",
              "      <td>False</td>\n",
              "      <td>False</td>\n",
              "      <td>False</td>\n",
              "      <td>False</td>\n",
              "      <td>False</td>\n",
              "    </tr>\n",
              "    <tr>\n",
              "      <th>4</th>\n",
              "      <td>False</td>\n",
              "      <td>False</td>\n",
              "      <td>False</td>\n",
              "      <td>False</td>\n",
              "      <td>False</td>\n",
              "      <td>False</td>\n",
              "      <td>False</td>\n",
              "      <td>False</td>\n",
              "      <td>False</td>\n",
              "      <td>False</td>\n",
              "      <td>False</td>\n",
              "      <td>False</td>\n",
              "      <td>False</td>\n",
              "      <td>False</td>\n",
              "      <td>False</td>\n",
              "      <td>False</td>\n",
              "    </tr>\n",
              "    <tr>\n",
              "      <th>...</th>\n",
              "      <td>...</td>\n",
              "      <td>...</td>\n",
              "      <td>...</td>\n",
              "      <td>...</td>\n",
              "      <td>...</td>\n",
              "      <td>...</td>\n",
              "      <td>...</td>\n",
              "      <td>...</td>\n",
              "      <td>...</td>\n",
              "      <td>...</td>\n",
              "      <td>...</td>\n",
              "      <td>...</td>\n",
              "      <td>...</td>\n",
              "      <td>...</td>\n",
              "      <td>...</td>\n",
              "      <td>...</td>\n",
              "    </tr>\n",
              "    <tr>\n",
              "      <th>573901</th>\n",
              "      <td>False</td>\n",
              "      <td>False</td>\n",
              "      <td>False</td>\n",
              "      <td>False</td>\n",
              "      <td>False</td>\n",
              "      <td>False</td>\n",
              "      <td>False</td>\n",
              "      <td>False</td>\n",
              "      <td>False</td>\n",
              "      <td>False</td>\n",
              "      <td>False</td>\n",
              "      <td>False</td>\n",
              "      <td>False</td>\n",
              "      <td>False</td>\n",
              "      <td>False</td>\n",
              "      <td>False</td>\n",
              "    </tr>\n",
              "    <tr>\n",
              "      <th>573902</th>\n",
              "      <td>False</td>\n",
              "      <td>False</td>\n",
              "      <td>False</td>\n",
              "      <td>False</td>\n",
              "      <td>False</td>\n",
              "      <td>False</td>\n",
              "      <td>False</td>\n",
              "      <td>False</td>\n",
              "      <td>False</td>\n",
              "      <td>False</td>\n",
              "      <td>False</td>\n",
              "      <td>False</td>\n",
              "      <td>False</td>\n",
              "      <td>False</td>\n",
              "      <td>False</td>\n",
              "      <td>False</td>\n",
              "    </tr>\n",
              "    <tr>\n",
              "      <th>573903</th>\n",
              "      <td>False</td>\n",
              "      <td>False</td>\n",
              "      <td>False</td>\n",
              "      <td>False</td>\n",
              "      <td>False</td>\n",
              "      <td>False</td>\n",
              "      <td>False</td>\n",
              "      <td>False</td>\n",
              "      <td>False</td>\n",
              "      <td>False</td>\n",
              "      <td>False</td>\n",
              "      <td>False</td>\n",
              "      <td>False</td>\n",
              "      <td>False</td>\n",
              "      <td>False</td>\n",
              "      <td>False</td>\n",
              "    </tr>\n",
              "    <tr>\n",
              "      <th>573904</th>\n",
              "      <td>False</td>\n",
              "      <td>False</td>\n",
              "      <td>False</td>\n",
              "      <td>False</td>\n",
              "      <td>False</td>\n",
              "      <td>False</td>\n",
              "      <td>False</td>\n",
              "      <td>False</td>\n",
              "      <td>False</td>\n",
              "      <td>False</td>\n",
              "      <td>False</td>\n",
              "      <td>False</td>\n",
              "      <td>False</td>\n",
              "      <td>False</td>\n",
              "      <td>False</td>\n",
              "      <td>False</td>\n",
              "    </tr>\n",
              "    <tr>\n",
              "      <th>573905</th>\n",
              "      <td>False</td>\n",
              "      <td>False</td>\n",
              "      <td>False</td>\n",
              "      <td>False</td>\n",
              "      <td>False</td>\n",
              "      <td>False</td>\n",
              "      <td>False</td>\n",
              "      <td>False</td>\n",
              "      <td>False</td>\n",
              "      <td>False</td>\n",
              "      <td>False</td>\n",
              "      <td>False</td>\n",
              "      <td>False</td>\n",
              "      <td>False</td>\n",
              "      <td>False</td>\n",
              "      <td>False</td>\n",
              "    </tr>\n",
              "  </tbody>\n",
              "</table>\n",
              "<p>573906 rows × 16 columns</p>\n",
              "</div>"
            ],
            "text/plain": [
              "        review_date  movie_id  user_id  ...  days_elapsed    msr    usr\n",
              "0             False     False    False  ...         False  False  False\n",
              "1             False     False    False  ...         False  False  False\n",
              "2             False     False    False  ...         False  False  False\n",
              "3             False     False    False  ...         False  False  False\n",
              "4             False     False    False  ...         False  False  False\n",
              "...             ...       ...      ...  ...           ...    ...    ...\n",
              "573901        False     False    False  ...         False  False  False\n",
              "573902        False     False    False  ...         False  False  False\n",
              "573903        False     False    False  ...         False  False  False\n",
              "573904        False     False    False  ...         False  False  False\n",
              "573905        False     False    False  ...         False  False  False\n",
              "\n",
              "[573906 rows x 16 columns]"
            ]
          },
          "metadata": {
            "tags": []
          },
          "execution_count": 64
        }
      ]
    },
    {
      "cell_type": "code",
      "metadata": {
        "id": "Zs54h9Stb0dA"
      },
      "source": [
        "for i,data in df_details.iterrows():\n",
        "    #Assigns details pertaining to a movie to a variable\n",
        "    details=df_details[df_details.movie_id==data['movie_id']]\n",
        "    genre_df.at[i,'movie_id']=data['movie_id']\n",
        "    for genre in genres:\n",
        "        #Checks if movie belongs to the genre or not \n",
        "        genre_df.at[i,genre.lower()]=int(genre in details['genre'].tolist()[0])"
      ],
      "execution_count": 65,
      "outputs": []
    },
    {
      "cell_type": "code",
      "metadata": {
        "colab": {
          "base_uri": "https://localhost:8080/",
          "height": 0
        },
        "id": "1ZmxanY3b0aQ",
        "outputId": "246a117f-7b28-4bb9-d636-2880a8c3bd22"
      },
      "source": [
        "genre_df.head()"
      ],
      "execution_count": 66,
      "outputs": [
        {
          "output_type": "execute_result",
          "data": {
            "text/html": [
              "<div>\n",
              "<style scoped>\n",
              "    .dataframe tbody tr th:only-of-type {\n",
              "        vertical-align: middle;\n",
              "    }\n",
              "\n",
              "    .dataframe tbody tr th {\n",
              "        vertical-align: top;\n",
              "    }\n",
              "\n",
              "    .dataframe thead th {\n",
              "        text-align: right;\n",
              "    }\n",
              "</style>\n",
              "<table border=\"1\" class=\"dataframe\">\n",
              "  <thead>\n",
              "    <tr style=\"text-align: right;\">\n",
              "      <th></th>\n",
              "      <th>action</th>\n",
              "      <th>adventure</th>\n",
              "      <th>animation</th>\n",
              "      <th>biography</th>\n",
              "      <th>comedy</th>\n",
              "      <th>crime</th>\n",
              "      <th>drama</th>\n",
              "      <th>family</th>\n",
              "      <th>fantasy</th>\n",
              "      <th>film-noir</th>\n",
              "      <th>history</th>\n",
              "      <th>horror</th>\n",
              "      <th>music</th>\n",
              "      <th>musical</th>\n",
              "      <th>mystery</th>\n",
              "      <th>romance</th>\n",
              "      <th>sci-fi</th>\n",
              "      <th>sport</th>\n",
              "      <th>thriller</th>\n",
              "      <th>war</th>\n",
              "      <th>western</th>\n",
              "      <th>movie_id</th>\n",
              "    </tr>\n",
              "  </thead>\n",
              "  <tbody>\n",
              "    <tr>\n",
              "      <th>0</th>\n",
              "      <td>1.0</td>\n",
              "      <td>0.0</td>\n",
              "      <td>0.0</td>\n",
              "      <td>0.0</td>\n",
              "      <td>0.0</td>\n",
              "      <td>0.0</td>\n",
              "      <td>0.0</td>\n",
              "      <td>0.0</td>\n",
              "      <td>0.0</td>\n",
              "      <td>0.0</td>\n",
              "      <td>0.0</td>\n",
              "      <td>0.0</td>\n",
              "      <td>0.0</td>\n",
              "      <td>0.0</td>\n",
              "      <td>0.0</td>\n",
              "      <td>0.0</td>\n",
              "      <td>0.0</td>\n",
              "      <td>0.0</td>\n",
              "      <td>1.0</td>\n",
              "      <td>0.0</td>\n",
              "      <td>0.0</td>\n",
              "      <td>tt0105112</td>\n",
              "    </tr>\n",
              "    <tr>\n",
              "      <th>1</th>\n",
              "      <td>0.0</td>\n",
              "      <td>0.0</td>\n",
              "      <td>0.0</td>\n",
              "      <td>0.0</td>\n",
              "      <td>1.0</td>\n",
              "      <td>0.0</td>\n",
              "      <td>0.0</td>\n",
              "      <td>0.0</td>\n",
              "      <td>0.0</td>\n",
              "      <td>0.0</td>\n",
              "      <td>0.0</td>\n",
              "      <td>0.0</td>\n",
              "      <td>0.0</td>\n",
              "      <td>0.0</td>\n",
              "      <td>0.0</td>\n",
              "      <td>0.0</td>\n",
              "      <td>0.0</td>\n",
              "      <td>0.0</td>\n",
              "      <td>0.0</td>\n",
              "      <td>0.0</td>\n",
              "      <td>0.0</td>\n",
              "      <td>tt1204975</td>\n",
              "    </tr>\n",
              "    <tr>\n",
              "      <th>2</th>\n",
              "      <td>0.0</td>\n",
              "      <td>0.0</td>\n",
              "      <td>0.0</td>\n",
              "      <td>0.0</td>\n",
              "      <td>1.0</td>\n",
              "      <td>0.0</td>\n",
              "      <td>0.0</td>\n",
              "      <td>0.0</td>\n",
              "      <td>0.0</td>\n",
              "      <td>0.0</td>\n",
              "      <td>0.0</td>\n",
              "      <td>0.0</td>\n",
              "      <td>0.0</td>\n",
              "      <td>0.0</td>\n",
              "      <td>0.0</td>\n",
              "      <td>1.0</td>\n",
              "      <td>0.0</td>\n",
              "      <td>0.0</td>\n",
              "      <td>0.0</td>\n",
              "      <td>0.0</td>\n",
              "      <td>0.0</td>\n",
              "      <td>tt0243655</td>\n",
              "    </tr>\n",
              "    <tr>\n",
              "      <th>3</th>\n",
              "      <td>0.0</td>\n",
              "      <td>1.0</td>\n",
              "      <td>0.0</td>\n",
              "      <td>0.0</td>\n",
              "      <td>0.0</td>\n",
              "      <td>0.0</td>\n",
              "      <td>1.0</td>\n",
              "      <td>0.0</td>\n",
              "      <td>0.0</td>\n",
              "      <td>0.0</td>\n",
              "      <td>0.0</td>\n",
              "      <td>0.0</td>\n",
              "      <td>0.0</td>\n",
              "      <td>0.0</td>\n",
              "      <td>0.0</td>\n",
              "      <td>0.0</td>\n",
              "      <td>0.0</td>\n",
              "      <td>0.0</td>\n",
              "      <td>0.0</td>\n",
              "      <td>0.0</td>\n",
              "      <td>1.0</td>\n",
              "      <td>tt0040897</td>\n",
              "    </tr>\n",
              "    <tr>\n",
              "      <th>4</th>\n",
              "      <td>0.0</td>\n",
              "      <td>0.0</td>\n",
              "      <td>0.0</td>\n",
              "      <td>0.0</td>\n",
              "      <td>1.0</td>\n",
              "      <td>0.0</td>\n",
              "      <td>1.0</td>\n",
              "      <td>0.0</td>\n",
              "      <td>0.0</td>\n",
              "      <td>0.0</td>\n",
              "      <td>0.0</td>\n",
              "      <td>0.0</td>\n",
              "      <td>0.0</td>\n",
              "      <td>0.0</td>\n",
              "      <td>0.0</td>\n",
              "      <td>1.0</td>\n",
              "      <td>0.0</td>\n",
              "      <td>0.0</td>\n",
              "      <td>0.0</td>\n",
              "      <td>0.0</td>\n",
              "      <td>0.0</td>\n",
              "      <td>tt0126886</td>\n",
              "    </tr>\n",
              "  </tbody>\n",
              "</table>\n",
              "</div>"
            ],
            "text/plain": [
              "   action  adventure  animation  biography  ...  thriller  war  western   movie_id\n",
              "0     1.0        0.0        0.0        0.0  ...       1.0  0.0      0.0  tt0105112\n",
              "1     0.0        0.0        0.0        0.0  ...       0.0  0.0      0.0  tt1204975\n",
              "2     0.0        0.0        0.0        0.0  ...       0.0  0.0      0.0  tt0243655\n",
              "3     0.0        1.0        0.0        0.0  ...       0.0  0.0      1.0  tt0040897\n",
              "4     0.0        0.0        0.0        0.0  ...       0.0  0.0      0.0  tt0126886\n",
              "\n",
              "[5 rows x 22 columns]"
            ]
          },
          "metadata": {
            "tags": []
          },
          "execution_count": 66
        }
      ]
    },
    {
      "cell_type": "code",
      "metadata": {
        "id": "3sz-jUrOb0Y8"
      },
      "source": [
        "df_temp= pd.merge(df, genre_df, on=\"movie_id\")"
      ],
      "execution_count": 67,
      "outputs": []
    },
    {
      "cell_type": "code",
      "metadata": {
        "colab": {
          "base_uri": "https://localhost:8080/",
          "height": 0
        },
        "id": "NsdqPQGPb0VS",
        "outputId": "e40a9980-da7e-4a9b-887a-184c17bffd45"
      },
      "source": [
        "df_temp.head()"
      ],
      "execution_count": 68,
      "outputs": [
        {
          "output_type": "execute_result",
          "data": {
            "text/html": [
              "<div>\n",
              "<style scoped>\n",
              "    .dataframe tbody tr th:only-of-type {\n",
              "        vertical-align: middle;\n",
              "    }\n",
              "\n",
              "    .dataframe tbody tr th {\n",
              "        vertical-align: top;\n",
              "    }\n",
              "\n",
              "    .dataframe thead th {\n",
              "        text-align: right;\n",
              "    }\n",
              "</style>\n",
              "<table border=\"1\" class=\"dataframe\">\n",
              "  <thead>\n",
              "    <tr style=\"text-align: right;\">\n",
              "      <th></th>\n",
              "      <th>review_date</th>\n",
              "      <th>movie_id</th>\n",
              "      <th>user_id</th>\n",
              "      <th>is_spoiler</th>\n",
              "      <th>review_text</th>\n",
              "      <th>userrating</th>\n",
              "      <th>review_summary</th>\n",
              "      <th>plot_summary</th>\n",
              "      <th>duration</th>\n",
              "      <th>genre</th>\n",
              "      <th>actualrating</th>\n",
              "      <th>release_date</th>\n",
              "      <th>plot_synopsis</th>\n",
              "      <th>days_elapsed</th>\n",
              "      <th>msr</th>\n",
              "      <th>usr</th>\n",
              "      <th>action</th>\n",
              "      <th>adventure</th>\n",
              "      <th>animation</th>\n",
              "      <th>biography</th>\n",
              "      <th>comedy</th>\n",
              "      <th>crime</th>\n",
              "      <th>drama</th>\n",
              "      <th>family</th>\n",
              "      <th>fantasy</th>\n",
              "      <th>film-noir</th>\n",
              "      <th>history</th>\n",
              "      <th>horror</th>\n",
              "      <th>music</th>\n",
              "      <th>musical</th>\n",
              "      <th>mystery</th>\n",
              "      <th>romance</th>\n",
              "      <th>sci-fi</th>\n",
              "      <th>sport</th>\n",
              "      <th>thriller</th>\n",
              "      <th>war</th>\n",
              "      <th>western</th>\n",
              "    </tr>\n",
              "  </thead>\n",
              "  <tbody>\n",
              "    <tr>\n",
              "      <th>0</th>\n",
              "      <td>2006-02-10</td>\n",
              "      <td>tt0111161</td>\n",
              "      <td>ur1898687</td>\n",
              "      <td>1</td>\n",
              "      <td>In its Oscar year, Shawshank Redemption (writt...</td>\n",
              "      <td>10</td>\n",
              "      <td>A classic piece of unforgettable film-making.</td>\n",
              "      <td>Chronicles the experiences of a formerly succe...</td>\n",
              "      <td>2h 22min</td>\n",
              "      <td>[Crime, Drama]</td>\n",
              "      <td>9.3</td>\n",
              "      <td>1994-10-14</td>\n",
              "      <td>In 1947, Andy Dufresne (Tim Robbins), a banker...</td>\n",
              "      <td>4137</td>\n",
              "      <td>0.219216</td>\n",
              "      <td>0.600000</td>\n",
              "      <td>0.0</td>\n",
              "      <td>0.0</td>\n",
              "      <td>0.0</td>\n",
              "      <td>0.0</td>\n",
              "      <td>0.0</td>\n",
              "      <td>1.0</td>\n",
              "      <td>1.0</td>\n",
              "      <td>0.0</td>\n",
              "      <td>0.0</td>\n",
              "      <td>0.0</td>\n",
              "      <td>0.0</td>\n",
              "      <td>0.0</td>\n",
              "      <td>0.0</td>\n",
              "      <td>0.0</td>\n",
              "      <td>0.0</td>\n",
              "      <td>0.0</td>\n",
              "      <td>0.0</td>\n",
              "      <td>0.0</td>\n",
              "      <td>0.0</td>\n",
              "      <td>0.0</td>\n",
              "      <td>0.0</td>\n",
              "    </tr>\n",
              "    <tr>\n",
              "      <th>1</th>\n",
              "      <td>2000-09-06</td>\n",
              "      <td>tt0111161</td>\n",
              "      <td>ur0842118</td>\n",
              "      <td>1</td>\n",
              "      <td>The Shawshank Redemption is without a doubt on...</td>\n",
              "      <td>10</td>\n",
              "      <td>Simply amazing. The best film of the 90's.</td>\n",
              "      <td>Chronicles the experiences of a formerly succe...</td>\n",
              "      <td>2h 22min</td>\n",
              "      <td>[Crime, Drama]</td>\n",
              "      <td>9.3</td>\n",
              "      <td>1994-10-14</td>\n",
              "      <td>In 1947, Andy Dufresne (Tim Robbins), a banker...</td>\n",
              "      <td>2154</td>\n",
              "      <td>0.219216</td>\n",
              "      <td>0.250000</td>\n",
              "      <td>0.0</td>\n",
              "      <td>0.0</td>\n",
              "      <td>0.0</td>\n",
              "      <td>0.0</td>\n",
              "      <td>0.0</td>\n",
              "      <td>1.0</td>\n",
              "      <td>1.0</td>\n",
              "      <td>0.0</td>\n",
              "      <td>0.0</td>\n",
              "      <td>0.0</td>\n",
              "      <td>0.0</td>\n",
              "      <td>0.0</td>\n",
              "      <td>0.0</td>\n",
              "      <td>0.0</td>\n",
              "      <td>0.0</td>\n",
              "      <td>0.0</td>\n",
              "      <td>0.0</td>\n",
              "      <td>0.0</td>\n",
              "      <td>0.0</td>\n",
              "      <td>0.0</td>\n",
              "      <td>0.0</td>\n",
              "    </tr>\n",
              "    <tr>\n",
              "      <th>2</th>\n",
              "      <td>2001-08-03</td>\n",
              "      <td>tt0111161</td>\n",
              "      <td>ur1285640</td>\n",
              "      <td>1</td>\n",
              "      <td>I believe that this film is the best story eve...</td>\n",
              "      <td>8</td>\n",
              "      <td>The best story ever told on film</td>\n",
              "      <td>Chronicles the experiences of a formerly succe...</td>\n",
              "      <td>2h 22min</td>\n",
              "      <td>[Crime, Drama]</td>\n",
              "      <td>9.3</td>\n",
              "      <td>1994-10-14</td>\n",
              "      <td>In 1947, Andy Dufresne (Tim Robbins), a banker...</td>\n",
              "      <td>2485</td>\n",
              "      <td>0.219216</td>\n",
              "      <td>1.000000</td>\n",
              "      <td>0.0</td>\n",
              "      <td>0.0</td>\n",
              "      <td>0.0</td>\n",
              "      <td>0.0</td>\n",
              "      <td>0.0</td>\n",
              "      <td>1.0</td>\n",
              "      <td>1.0</td>\n",
              "      <td>0.0</td>\n",
              "      <td>0.0</td>\n",
              "      <td>0.0</td>\n",
              "      <td>0.0</td>\n",
              "      <td>0.0</td>\n",
              "      <td>0.0</td>\n",
              "      <td>0.0</td>\n",
              "      <td>0.0</td>\n",
              "      <td>0.0</td>\n",
              "      <td>0.0</td>\n",
              "      <td>0.0</td>\n",
              "      <td>0.0</td>\n",
              "      <td>0.0</td>\n",
              "      <td>0.0</td>\n",
              "    </tr>\n",
              "    <tr>\n",
              "      <th>3</th>\n",
              "      <td>2002-09-01</td>\n",
              "      <td>tt0111161</td>\n",
              "      <td>ur1003471</td>\n",
              "      <td>1</td>\n",
              "      <td>**Yes, there are SPOILERS here**This film has ...</td>\n",
              "      <td>10</td>\n",
              "      <td>Busy dying or busy living?</td>\n",
              "      <td>Chronicles the experiences of a formerly succe...</td>\n",
              "      <td>2h 22min</td>\n",
              "      <td>[Crime, Drama]</td>\n",
              "      <td>9.3</td>\n",
              "      <td>1994-10-14</td>\n",
              "      <td>In 1947, Andy Dufresne (Tim Robbins), a banker...</td>\n",
              "      <td>2879</td>\n",
              "      <td>0.219216</td>\n",
              "      <td>0.500000</td>\n",
              "      <td>0.0</td>\n",
              "      <td>0.0</td>\n",
              "      <td>0.0</td>\n",
              "      <td>0.0</td>\n",
              "      <td>0.0</td>\n",
              "      <td>1.0</td>\n",
              "      <td>1.0</td>\n",
              "      <td>0.0</td>\n",
              "      <td>0.0</td>\n",
              "      <td>0.0</td>\n",
              "      <td>0.0</td>\n",
              "      <td>0.0</td>\n",
              "      <td>0.0</td>\n",
              "      <td>0.0</td>\n",
              "      <td>0.0</td>\n",
              "      <td>0.0</td>\n",
              "      <td>0.0</td>\n",
              "      <td>0.0</td>\n",
              "      <td>0.0</td>\n",
              "      <td>0.0</td>\n",
              "      <td>0.0</td>\n",
              "    </tr>\n",
              "    <tr>\n",
              "      <th>4</th>\n",
              "      <td>2004-05-20</td>\n",
              "      <td>tt0111161</td>\n",
              "      <td>ur0226855</td>\n",
              "      <td>1</td>\n",
              "      <td>At the heart of this extraordinary movie is a ...</td>\n",
              "      <td>8</td>\n",
              "      <td>Great story, wondrously told and acted</td>\n",
              "      <td>Chronicles the experiences of a formerly succe...</td>\n",
              "      <td>2h 22min</td>\n",
              "      <td>[Crime, Drama]</td>\n",
              "      <td>9.3</td>\n",
              "      <td>1994-10-14</td>\n",
              "      <td>In 1947, Andy Dufresne (Tim Robbins), a banker...</td>\n",
              "      <td>3506</td>\n",
              "      <td>0.219216</td>\n",
              "      <td>0.135714</td>\n",
              "      <td>0.0</td>\n",
              "      <td>0.0</td>\n",
              "      <td>0.0</td>\n",
              "      <td>0.0</td>\n",
              "      <td>0.0</td>\n",
              "      <td>1.0</td>\n",
              "      <td>1.0</td>\n",
              "      <td>0.0</td>\n",
              "      <td>0.0</td>\n",
              "      <td>0.0</td>\n",
              "      <td>0.0</td>\n",
              "      <td>0.0</td>\n",
              "      <td>0.0</td>\n",
              "      <td>0.0</td>\n",
              "      <td>0.0</td>\n",
              "      <td>0.0</td>\n",
              "      <td>0.0</td>\n",
              "      <td>0.0</td>\n",
              "      <td>0.0</td>\n",
              "      <td>0.0</td>\n",
              "      <td>0.0</td>\n",
              "    </tr>\n",
              "  </tbody>\n",
              "</table>\n",
              "</div>"
            ],
            "text/plain": [
              "  review_date   movie_id    user_id  is_spoiler  ... sport  thriller  war western\n",
              "0  2006-02-10  tt0111161  ur1898687           1  ...   0.0       0.0  0.0     0.0\n",
              "1  2000-09-06  tt0111161  ur0842118           1  ...   0.0       0.0  0.0     0.0\n",
              "2  2001-08-03  tt0111161  ur1285640           1  ...   0.0       0.0  0.0     0.0\n",
              "3  2002-09-01  tt0111161  ur1003471           1  ...   0.0       0.0  0.0     0.0\n",
              "4  2004-05-20  tt0111161  ur0226855           1  ...   0.0       0.0  0.0     0.0\n",
              "\n",
              "[5 rows x 37 columns]"
            ]
          },
          "metadata": {
            "tags": []
          },
          "execution_count": 68
        }
      ]
    },
    {
      "cell_type": "code",
      "metadata": {
        "colab": {
          "base_uri": "https://localhost:8080/"
        },
        "id": "LP9JYhbYb0Ts",
        "outputId": "af31ead6-b5bc-4bd0-9b5e-8b7c7b9e0d1f"
      },
      "source": [
        "df_temp.shape"
      ],
      "execution_count": 69,
      "outputs": [
        {
          "output_type": "execute_result",
          "data": {
            "text/plain": [
              "(573906, 37)"
            ]
          },
          "metadata": {
            "tags": []
          },
          "execution_count": 69
        }
      ]
    },
    {
      "cell_type": "code",
      "metadata": {
        "id": "rkp6QUicb0Qe"
      },
      "source": [
        "e = 0.001\n",
        "gsr = np.zeros(len(genres))\n",
        "for i,g in enumerate(genres):\n",
        "    # i.e. total no. of reviews with spoiler belonging to a genre /total no. of reviews of movie genre\n",
        "    gsr[i] = df_temp[(df_temp.is_spoiler==1) &\n",
        "                                     (df_temp[g.lower()]==1)].shape[0] / (df_temp[df_temp[g.lower()]==1].shape[0]\n",
        "                                                                          +e)"
      ],
      "execution_count": 70,
      "outputs": []
    },
    {
      "cell_type": "code",
      "metadata": {
        "colab": {
          "base_uri": "https://localhost:8080/"
        },
        "id": "SfCrNUAduDvq",
        "outputId": "1d63d0ba-fbc8-497c-c16c-d4ac4082e816"
      },
      "source": [
        "gsr"
      ],
      "execution_count": 71,
      "outputs": [
        {
          "output_type": "execute_result",
          "data": {
            "text/plain": [
              "array([0.28260197, 0.28689807, 0.25694626, 0.24139909, 0.2156022 ,\n",
              "       0.24629342, 0.25653166, 0.27053262, 0.28138213, 0.27247333,\n",
              "       0.23578351, 0.29666125, 0.20991318, 0.20297205, 0.28947245,\n",
              "       0.23652655, 0.31211931, 0.23998089, 0.28114596, 0.24305825,\n",
              "       0.25500944])"
            ]
          },
          "metadata": {
            "tags": []
          },
          "execution_count": 71
        }
      ]
    },
    {
      "cell_type": "code",
      "metadata": {
        "colab": {
          "base_uri": "https://localhost:8080/",
          "height": 0
        },
        "id": "yC7YxjPkb0OQ",
        "outputId": "a2f9ed31-9ec9-482e-f59c-df13d4d66936"
      },
      "source": [
        "plt.figure(figsize=(12,12))\n",
        "ax = sns.barplot(x=gsr,y=genres)\n",
        "ax.set(xlabel=\"Spoiler ratio\",ylabel=\"Genres\");\n",
        "plt.show();"
      ],
      "execution_count": 72,
      "outputs": [
        {
          "output_type": "display_data",
          "data": {
            "image/png": "[encoded data removed]",
            "text/plain": [
              "<Figure size 864x864 with 1 Axes>"
            ]
          },
          "metadata": {
            "tags": [],
            "needs_background": "light"
          }
        }
      ]
    },
    {
      "cell_type": "markdown",
      "metadata": {
        "id": "v_3oFZK_lgCb"
      },
      "source": [
        "<h2> Calculating spoiler ratio for combination of genres (GSR)</h2>"
      ]
    },
    {
      "cell_type": "code",
      "metadata": {
        "colab": {
          "base_uri": "https://localhost:8080/",
          "height": 0
        },
        "id": "kIo_LMxwlff1",
        "outputId": "6ea2260e-a227-434b-9652-b659d6438ff6"
      },
      "source": [
        "e = 0.001\n",
        "selected = [\"Action\",\"Adventure\",\"Fantasy\",\"Horror\",\"Mystery\",\"Sci-Fi\",\"Thriller\"]\n",
        "\n",
        "genre2 = []\n",
        "genre2ratios = []\n",
        "\n",
        "i=0\n",
        "while i < len(selected):\n",
        "    j = i+1\n",
        "    while j < len(selected):\n",
        "        # i.e. ratio of total movies reviews having spoilers belonging to selected genres / total reviews of the movies of selected genres\n",
        "        genre2.append(selected[i]+\"+\"+selected[j])\n",
        "        spoilers = df_temp[(df_temp[selected[i].lower()]==1) & (df_temp[selected[j].lower()]==1) & df_temp.is_spoiler].shape[0]\n",
        "        total = df_temp[(df_temp[selected[i].lower()]==1) & (df_temp[selected[j].lower()]==1)].shape[0]\n",
        "        genre2ratios.append(spoilers / (total+e))\n",
        "        j+=1\n",
        "    i+=1\n",
        "plt.figure(figsize=(10,10))    \n",
        "ax = sns.barplot(x=genre2ratios,y=genre2)\n",
        "ax.set(xlabel=\"Spoiler ratio\");\n",
        "plt.show();"
      ],
      "execution_count": 73,
      "outputs": [
        {
          "output_type": "display_data",
          "data": {
            "image/png": "[encoded data removed]",
            "text/plain": [
              "<Figure size 720x720 with 1 Axes>"
            ]
          },
          "metadata": {
            "tags": [],
            "needs_background": "light"
          }
        }
      ]
    },
    {
      "cell_type": "code",
      "metadata": {
        "colab": {
          "base_uri": "https://localhost:8080/",
          "height": 0
        },
        "id": "oB36AltOb0LW",
        "outputId": "ef5d8898-d32f-464e-fb9f-f9955eb40b95"
      },
      "source": [
        "genre3= []\n",
        "genre3ratios = []\n",
        "\n",
        "i=0\n",
        "while i < len(selected):\n",
        "    j = i+1\n",
        "    while j < len(selected):\n",
        "        k = j+1\n",
        "        while k < len(selected):\n",
        "            genre3.append(selected[i]+\"+\"+selected[j]+\"+\"+selected[k])\n",
        "            spoilers = df_temp[(df_temp[selected[k].lower()]==1) & (df_temp[selected[i].lower()]==1) & (df_temp[selected[j].lower()]==1) & df_temp.is_spoiler].shape[0]\n",
        "            total = df_temp[(df_temp[selected[k].lower()]==1) & (df_temp[selected[i].lower()]==1) & (df_temp[selected[j].lower()]==1)].shape[0]\n",
        "            genre3ratios.append(spoilers / (total+e))\n",
        "            k+=1\n",
        "        j+=1\n",
        "    i+=1\n",
        "    \n",
        "plt.figure(figsize=(10,10))\n",
        "ax = sns.barplot(x=genre3ratios,y=genre3)\n",
        "ax.set(xlabel=\"Spoiler ratio\");\n",
        "plt.show();"
      ],
      "execution_count": 74,
      "outputs": [
        {
          "output_type": "display_data",
          "data": {
            "image/png": "[encoded data removed]",
            "text/plain": [
              "<Figure size 720x720 with 1 Axes>"
            ]
          },
          "metadata": {
            "tags": [],
            "needs_background": "light"
          }
        }
      ]
    },
    {
      "cell_type": "code",
      "metadata": {
        "id": "lZ2SAaLpb0Id"
      },
      "source": [
        "def isListSubset(a,b):\n",
        "    count = 0\n",
        "    for i,v in enumerate(a):\n",
        "        if v in b:\n",
        "            count += 1\n",
        "    return count == len(a)\n",
        "\n",
        "def getGenreRatio(genres):\n",
        "    return isListSubset([\"Fantasy\",\"Sci-Fi\"], genres) or isListSubset([\"Adventure\",\"Mystery\"], genres) or isListSubset([\"Action\",\"Mystery\",\"Sci-Fi\"], genres) or isListSubset([\"Adventure\",\"Horror\",\"Thriller\"], genres) or isListSubset([\"Adventure\",\"Thriller\"], genres) or isListSubset([\"Fantasy\",\"Mystery\"], genres)"
      ],
      "execution_count": 75,
      "outputs": []
    },
    {
      "cell_type": "code",
      "metadata": {
        "colab": {
          "base_uri": "https://localhost:8080/",
          "height": 0
        },
        "id": "ALykWkFBwgnU",
        "outputId": "617d4cdf-f135-4740-b39a-47207d270fae"
      },
      "source": [
        "df_details.head()"
      ],
      "execution_count": 76,
      "outputs": [
        {
          "output_type": "execute_result",
          "data": {
            "text/html": [
              "<div>\n",
              "<style scoped>\n",
              "    .dataframe tbody tr th:only-of-type {\n",
              "        vertical-align: middle;\n",
              "    }\n",
              "\n",
              "    .dataframe tbody tr th {\n",
              "        vertical-align: top;\n",
              "    }\n",
              "\n",
              "    .dataframe thead th {\n",
              "        text-align: right;\n",
              "    }\n",
              "</style>\n",
              "<table border=\"1\" class=\"dataframe\">\n",
              "  <thead>\n",
              "    <tr style=\"text-align: right;\">\n",
              "      <th></th>\n",
              "      <th>movie_id</th>\n",
              "      <th>plot_summary</th>\n",
              "      <th>duration</th>\n",
              "      <th>genre</th>\n",
              "      <th>rating</th>\n",
              "      <th>release_date</th>\n",
              "      <th>plot_synopsis</th>\n",
              "    </tr>\n",
              "  </thead>\n",
              "  <tbody>\n",
              "    <tr>\n",
              "      <th>0</th>\n",
              "      <td>tt0105112</td>\n",
              "      <td>Former CIA analyst, Jack Ryan is in England wi...</td>\n",
              "      <td>1h 57min</td>\n",
              "      <td>[Action, Thriller]</td>\n",
              "      <td>6.9</td>\n",
              "      <td>1992-06-05</td>\n",
              "      <td>Jack Ryan (Ford) is on a \"working vacation\" in...</td>\n",
              "    </tr>\n",
              "    <tr>\n",
              "      <th>1</th>\n",
              "      <td>tt1204975</td>\n",
              "      <td>Billy (Michael Douglas), Paddy (Robert De Niro...</td>\n",
              "      <td>1h 45min</td>\n",
              "      <td>[Comedy]</td>\n",
              "      <td>6.6</td>\n",
              "      <td>2013-11-01</td>\n",
              "      <td>Four boys around the age of 10 are friends in ...</td>\n",
              "    </tr>\n",
              "    <tr>\n",
              "      <th>2</th>\n",
              "      <td>tt0243655</td>\n",
              "      <td>The setting is Camp Firewood, the year 1981. I...</td>\n",
              "      <td>1h 37min</td>\n",
              "      <td>[Comedy, Romance]</td>\n",
              "      <td>6.7</td>\n",
              "      <td>2002-04-11</td>\n",
              "      <td></td>\n",
              "    </tr>\n",
              "    <tr>\n",
              "      <th>3</th>\n",
              "      <td>tt0040897</td>\n",
              "      <td>Fred C. Dobbs and Bob Curtin, both down on the...</td>\n",
              "      <td>2h 6min</td>\n",
              "      <td>[Adventure, Drama, Western]</td>\n",
              "      <td>8.3</td>\n",
              "      <td>1948-01-24</td>\n",
              "      <td>Fred Dobbs (Humphrey Bogart) and Bob Curtin (T...</td>\n",
              "    </tr>\n",
              "    <tr>\n",
              "      <th>4</th>\n",
              "      <td>tt0126886</td>\n",
              "      <td>Tracy Flick is running unopposed for this year...</td>\n",
              "      <td>1h 43min</td>\n",
              "      <td>[Comedy, Drama, Romance]</td>\n",
              "      <td>7.3</td>\n",
              "      <td>1999-05-07</td>\n",
              "      <td>Jim McAllister (Matthew Broderick) is a much-a...</td>\n",
              "    </tr>\n",
              "  </tbody>\n",
              "</table>\n",
              "</div>"
            ],
            "text/plain": [
              "    movie_id  ...                                      plot_synopsis\n",
              "0  tt0105112  ...  Jack Ryan (Ford) is on a \"working vacation\" in...\n",
              "1  tt1204975  ...  Four boys around the age of 10 are friends in ...\n",
              "2  tt0243655  ...                                                   \n",
              "3  tt0040897  ...  Fred Dobbs (Humphrey Bogart) and Bob Curtin (T...\n",
              "4  tt0126886  ...  Jim McAllister (Matthew Broderick) is a much-a...\n",
              "\n",
              "[5 rows x 7 columns]"
            ]
          },
          "metadata": {
            "tags": []
          },
          "execution_count": 76
        }
      ]
    },
    {
      "cell_type": "code",
      "metadata": {
        "id": "25dUQ139l0sk"
      },
      "source": [
        "df['gsr'] = pd.merge(df,df_details.drop(['genre'],axis=1),on=\"movie_id\").genre.apply(getGenreRatio)+0"
      ],
      "execution_count": 77,
      "outputs": []
    },
    {
      "cell_type": "code",
      "metadata": {
        "colab": {
          "base_uri": "https://localhost:8080/",
          "height": 0
        },
        "id": "E7c39dMywwxW",
        "outputId": "ff9e222c-5750-4bbc-a530-aa497d7dbc95"
      },
      "source": [
        "df.head()"
      ],
      "execution_count": 78,
      "outputs": [
        {
          "output_type": "execute_result",
          "data": {
            "text/html": [
              "<div>\n",
              "<style scoped>\n",
              "    .dataframe tbody tr th:only-of-type {\n",
              "        vertical-align: middle;\n",
              "    }\n",
              "\n",
              "    .dataframe tbody tr th {\n",
              "        vertical-align: top;\n",
              "    }\n",
              "\n",
              "    .dataframe thead th {\n",
              "        text-align: right;\n",
              "    }\n",
              "</style>\n",
              "<table border=\"1\" class=\"dataframe\">\n",
              "  <thead>\n",
              "    <tr style=\"text-align: right;\">\n",
              "      <th></th>\n",
              "      <th>review_date</th>\n",
              "      <th>movie_id</th>\n",
              "      <th>user_id</th>\n",
              "      <th>is_spoiler</th>\n",
              "      <th>review_text</th>\n",
              "      <th>userrating</th>\n",
              "      <th>review_summary</th>\n",
              "      <th>plot_summary</th>\n",
              "      <th>duration</th>\n",
              "      <th>genre</th>\n",
              "      <th>actualrating</th>\n",
              "      <th>release_date</th>\n",
              "      <th>plot_synopsis</th>\n",
              "      <th>days_elapsed</th>\n",
              "      <th>msr</th>\n",
              "      <th>usr</th>\n",
              "      <th>gsr</th>\n",
              "    </tr>\n",
              "  </thead>\n",
              "  <tbody>\n",
              "    <tr>\n",
              "      <th>0</th>\n",
              "      <td>2006-02-10</td>\n",
              "      <td>tt0111161</td>\n",
              "      <td>ur1898687</td>\n",
              "      <td>1</td>\n",
              "      <td>In its Oscar year, Shawshank Redemption (writt...</td>\n",
              "      <td>10</td>\n",
              "      <td>A classic piece of unforgettable film-making.</td>\n",
              "      <td>Chronicles the experiences of a formerly succe...</td>\n",
              "      <td>2h 22min</td>\n",
              "      <td>[Crime, Drama]</td>\n",
              "      <td>9.3</td>\n",
              "      <td>1994-10-14</td>\n",
              "      <td>In 1947, Andy Dufresne (Tim Robbins), a banker...</td>\n",
              "      <td>4137</td>\n",
              "      <td>0.219216</td>\n",
              "      <td>0.6</td>\n",
              "      <td>0</td>\n",
              "    </tr>\n",
              "    <tr>\n",
              "      <th>1</th>\n",
              "      <td>2006-03-19</td>\n",
              "      <td>tt0144084</td>\n",
              "      <td>ur1898687</td>\n",
              "      <td>0</td>\n",
              "      <td>Starring: Christian Bale, Willem Dafoe, Chloë ...</td>\n",
              "      <td>8</td>\n",
              "      <td>Worth seeing, if only for the post-viewing dis...</td>\n",
              "      <td>Patrick Bateman is handsome, well educated and...</td>\n",
              "      <td>1h 42min</td>\n",
              "      <td>[Crime, Drama]</td>\n",
              "      <td>7.6</td>\n",
              "      <td>2000-04-14</td>\n",
              "      <td>A white background. Red drops begin to fall pa...</td>\n",
              "      <td>2165</td>\n",
              "      <td>0.274725</td>\n",
              "      <td>0.6</td>\n",
              "      <td>0</td>\n",
              "    </tr>\n",
              "    <tr>\n",
              "      <th>2</th>\n",
              "      <td>2006-02-10</td>\n",
              "      <td>tt0298203</td>\n",
              "      <td>ur1898687</td>\n",
              "      <td>1</td>\n",
              "      <td>Eminem's \"semi-autobiographical\" rap movie. Do...</td>\n",
              "      <td>7</td>\n",
              "      <td>Better than it needed to be.</td>\n",
              "      <td>This is the inspiring captivating story of the...</td>\n",
              "      <td>1h 50min</td>\n",
              "      <td>[Drama, Music]</td>\n",
              "      <td>7.1</td>\n",
              "      <td>2002-11-08</td>\n",
              "      <td>It's 1995. Jimmy \"B-Rabbit\" Smith Jr. (Eminem)...</td>\n",
              "      <td>1190</td>\n",
              "      <td>0.164456</td>\n",
              "      <td>0.6</td>\n",
              "      <td>0</td>\n",
              "    </tr>\n",
              "    <tr>\n",
              "      <th>3</th>\n",
              "      <td>2006-02-10</td>\n",
              "      <td>tt0319061</td>\n",
              "      <td>ur1898687</td>\n",
              "      <td>0</td>\n",
              "      <td>The grass is so green / The sky is so blue / S...</td>\n",
              "      <td>9</td>\n",
              "      <td>An immediate classic that works on both a visu...</td>\n",
              "      <td>United Press International journalist Will Blo...</td>\n",
              "      <td>2h 5min</td>\n",
              "      <td>[Adventure, Drama, Fantasy]</td>\n",
              "      <td>8.0</td>\n",
              "      <td>2004-01-09</td>\n",
              "      <td>Edward Bloom (Albert Finney), a charismatic te...</td>\n",
              "      <td>763</td>\n",
              "      <td>0.158416</td>\n",
              "      <td>0.6</td>\n",
              "      <td>0</td>\n",
              "    </tr>\n",
              "    <tr>\n",
              "      <th>4</th>\n",
              "      <td>2006-02-10</td>\n",
              "      <td>tt0377092</td>\n",
              "      <td>ur1898687</td>\n",
              "      <td>1</td>\n",
              "      <td>There are a few signs heading into Mean Girls ...</td>\n",
              "      <td>7</td>\n",
              "      <td>A smart, but flawed, look at high school life</td>\n",
              "      <td>Her parents being zoologists, homeschooled Cad...</td>\n",
              "      <td>1h 37min</td>\n",
              "      <td>[Comedy]</td>\n",
              "      <td>7.0</td>\n",
              "      <td>2004-04-30</td>\n",
              "      <td>Cady (Lindsay Lohan) is the 16-year-old home-s...</td>\n",
              "      <td>651</td>\n",
              "      <td>0.222472</td>\n",
              "      <td>0.6</td>\n",
              "      <td>0</td>\n",
              "    </tr>\n",
              "  </tbody>\n",
              "</table>\n",
              "</div>"
            ],
            "text/plain": [
              "  review_date   movie_id    user_id  ...       msr  usr  gsr\n",
              "0  2006-02-10  tt0111161  ur1898687  ...  0.219216  0.6    0\n",
              "1  2006-03-19  tt0144084  ur1898687  ...  0.274725  0.6    0\n",
              "2  2006-02-10  tt0298203  ur1898687  ...  0.164456  0.6    0\n",
              "3  2006-02-10  tt0319061  ur1898687  ...  0.158416  0.6    0\n",
              "4  2006-02-10  tt0377092  ur1898687  ...  0.222472  0.6    0\n",
              "\n",
              "[5 rows x 17 columns]"
            ]
          },
          "metadata": {
            "tags": []
          },
          "execution_count": 78
        }
      ]
    },
    {
      "cell_type": "code",
      "metadata": {
        "colab": {
          "base_uri": "https://localhost:8080/",
          "height": 0
        },
        "id": "ySgdHF-h9x9k",
        "outputId": "c3feae59-770a-4884-d027-11195b539854"
      },
      "source": [
        "sns.lmplot(x =\"gsr\", y =\"is_spoiler\", data = df, order = 2, ci = None) "
      ],
      "execution_count": 79,
      "outputs": [
        {
          "output_type": "stream",
          "text": [
            "/usr/local/lib/python3.6/dist-packages/seaborn/regression.py:256: RankWarning: Polyfit may be poorly conditioned\n",
            "  yhat = reg_func(x, y)\n"
          ],
          "name": "stderr"
        },
        {
          "output_type": "execute_result",
          "data": {
            "text/plain": [
              "<seaborn.axisgrid.FacetGrid at 0x7f77fd72a908>"
            ]
          },
          "metadata": {
            "tags": []
          },
          "execution_count": 79
        },
        {
          "output_type": "display_data",
          "data": {
            "image/png": "[encoded data removed]",
            "text/plain": [
              "<Figure size 360x360 with 1 Axes>"
            ]
          },
          "metadata": {
            "tags": [],
            "needs_background": "light"
          }
        }
      ]
    },
    {
      "cell_type": "markdown",
      "metadata": {
        "id": "wFuKV9jWytKg"
      },
      "source": [
        "# Spoiler Text in review "
      ]
    },
    {
      "cell_type": "code",
      "metadata": {
        "colab": {
          "base_uri": "https://localhost:8080/",
          "height": 0
        },
        "id": "LoPosySYxXO_",
        "outputId": "eca39f9e-ebd8-4ec4-a0a2-de034229f57f"
      },
      "source": [
        "df[df.review_text.str.contains('SPOILERS')]"
      ],
      "execution_count": 80,
      "outputs": [
        {
          "output_type": "execute_result",
          "data": {
            "text/html": [
              "<div>\n",
              "<style scoped>\n",
              "    .dataframe tbody tr th:only-of-type {\n",
              "        vertical-align: middle;\n",
              "    }\n",
              "\n",
              "    .dataframe tbody tr th {\n",
              "        vertical-align: top;\n",
              "    }\n",
              "\n",
              "    .dataframe thead th {\n",
              "        text-align: right;\n",
              "    }\n",
              "</style>\n",
              "<table border=\"1\" class=\"dataframe\">\n",
              "  <thead>\n",
              "    <tr style=\"text-align: right;\">\n",
              "      <th></th>\n",
              "      <th>review_date</th>\n",
              "      <th>movie_id</th>\n",
              "      <th>user_id</th>\n",
              "      <th>is_spoiler</th>\n",
              "      <th>review_text</th>\n",
              "      <th>userrating</th>\n",
              "      <th>review_summary</th>\n",
              "      <th>plot_summary</th>\n",
              "      <th>duration</th>\n",
              "      <th>genre</th>\n",
              "      <th>actualrating</th>\n",
              "      <th>release_date</th>\n",
              "      <th>plot_synopsis</th>\n",
              "      <th>days_elapsed</th>\n",
              "      <th>msr</th>\n",
              "      <th>usr</th>\n",
              "      <th>gsr</th>\n",
              "    </tr>\n",
              "  </thead>\n",
              "  <tbody>\n",
              "    <tr>\n",
              "      <th>10</th>\n",
              "      <td>2002-09-01</td>\n",
              "      <td>tt0111161</td>\n",
              "      <td>ur1003471</td>\n",
              "      <td>1</td>\n",
              "      <td>**Yes, there are SPOILERS here**This film has ...</td>\n",
              "      <td>10</td>\n",
              "      <td>Busy dying or busy living?</td>\n",
              "      <td>Chronicles the experiences of a formerly succe...</td>\n",
              "      <td>2h 22min</td>\n",
              "      <td>[Crime, Drama]</td>\n",
              "      <td>9.3</td>\n",
              "      <td>1994-10-14</td>\n",
              "      <td>In 1947, Andy Dufresne (Tim Robbins), a banker...</td>\n",
              "      <td>2879</td>\n",
              "      <td>0.219216</td>\n",
              "      <td>0.5</td>\n",
              "      <td>0</td>\n",
              "    </tr>\n",
              "    <tr>\n",
              "      <th>14</th>\n",
              "      <td>2002-02-13</td>\n",
              "      <td>tt0088247</td>\n",
              "      <td>ur1003471</td>\n",
              "      <td>1</td>\n",
              "      <td>***MINOR SPOILERS AHEAD***There's been so much...</td>\n",
              "      <td>8</td>\n",
              "      <td>Simple idea, perfect realization</td>\n",
              "      <td>A cyborg is sent from the future on a deadly m...</td>\n",
              "      <td>1h 47min</td>\n",
              "      <td>[Action, Sci-Fi]</td>\n",
              "      <td>8.0</td>\n",
              "      <td>1984-10-26</td>\n",
              "      <td>Over an apocalyptic battlefield in the year 20...</td>\n",
              "      <td>6319</td>\n",
              "      <td>0.261261</td>\n",
              "      <td>0.5</td>\n",
              "      <td>0</td>\n",
              "    </tr>\n",
              "    <tr>\n",
              "      <th>16</th>\n",
              "      <td>2002-02-15</td>\n",
              "      <td>tt0240772</td>\n",
              "      <td>ur1003471</td>\n",
              "      <td>1</td>\n",
              "      <td>***MINOR SPOILERS***Soderbergh goes Vegas!OK, ...</td>\n",
              "      <td>8</td>\n",
              "      <td>Start spreading the news...</td>\n",
              "      <td>Danny Ocean wants to score the biggest heist i...</td>\n",
              "      <td>1h 56min</td>\n",
              "      <td>[Crime, Thriller]</td>\n",
              "      <td>7.8</td>\n",
              "      <td>2001-12-07</td>\n",
              "      <td>Daniel Ocean (George Clooney), a convicted thi...</td>\n",
              "      <td>70</td>\n",
              "      <td>0.134935</td>\n",
              "      <td>0.5</td>\n",
              "      <td>0</td>\n",
              "    </tr>\n",
              "    <tr>\n",
              "      <th>17</th>\n",
              "      <td>2003-01-13</td>\n",
              "      <td>tt0217505</td>\n",
              "      <td>ur1003471</td>\n",
              "      <td>1</td>\n",
              "      <td>***SPOILERS HO!***Before I start I'd like to s...</td>\n",
              "      <td>4</td>\n",
              "      <td>The cat in the hat comes back.  Why?</td>\n",
              "      <td>Having seen his father killed in a major gang ...</td>\n",
              "      <td>2h 47min</td>\n",
              "      <td>[Crime, Drama]</td>\n",
              "      <td>7.5</td>\n",
              "      <td>2002-12-20</td>\n",
              "      <td>The film opens with Priest Vallon (Liam Neeson...</td>\n",
              "      <td>24</td>\n",
              "      <td>0.171322</td>\n",
              "      <td>0.5</td>\n",
              "      <td>0</td>\n",
              "    </tr>\n",
              "    <tr>\n",
              "      <th>19</th>\n",
              "      <td>2002-04-19</td>\n",
              "      <td>tt0286499</td>\n",
              "      <td>ur1003471</td>\n",
              "      <td>1</td>\n",
              "      <td>** MINOR SPOILERS **This film is like that epi...</td>\n",
              "      <td>4</td>\n",
              "      <td>The best British women's football film since G...</td>\n",
              "      <td>A comedy about bending the rules to reach your...</td>\n",
              "      <td>1h 52min</td>\n",
              "      <td>[Comedy, Drama, Romance]</td>\n",
              "      <td>6.7</td>\n",
              "      <td>2003-08-01</td>\n",
              "      <td>Jesminder \"Jess\" Bhamra (Parminder Nagra) is t...</td>\n",
              "      <td>469</td>\n",
              "      <td>0.100946</td>\n",
              "      <td>0.5</td>\n",
              "      <td>0</td>\n",
              "    </tr>\n",
              "    <tr>\n",
              "      <th>...</th>\n",
              "      <td>...</td>\n",
              "      <td>...</td>\n",
              "      <td>...</td>\n",
              "      <td>...</td>\n",
              "      <td>...</td>\n",
              "      <td>...</td>\n",
              "      <td>...</td>\n",
              "      <td>...</td>\n",
              "      <td>...</td>\n",
              "      <td>...</td>\n",
              "      <td>...</td>\n",
              "      <td>...</td>\n",
              "      <td>...</td>\n",
              "      <td>...</td>\n",
              "      <td>...</td>\n",
              "      <td>...</td>\n",
              "      <td>...</td>\n",
              "    </tr>\n",
              "    <tr>\n",
              "      <th>572748</th>\n",
              "      <td>2001-09-14</td>\n",
              "      <td>tt0182789</td>\n",
              "      <td>ur1354522</td>\n",
              "      <td>1</td>\n",
              "      <td>***SPOILERS***   ***SPOILERS*** The movie did ...</td>\n",
              "      <td>10</td>\n",
              "      <td>Asimov's 3 laws of robotics are the central th...</td>\n",
              "      <td>This film follows the 'life' and times of the ...</td>\n",
              "      <td>2h 12min</td>\n",
              "      <td>[Comedy, Drama, Sci-Fi]</td>\n",
              "      <td>6.8</td>\n",
              "      <td>1999-12-17</td>\n",
              "      <td>The NDR series robot \"Andrew\" is introduced in...</td>\n",
              "      <td>637</td>\n",
              "      <td>0.203636</td>\n",
              "      <td>1.0</td>\n",
              "      <td>0</td>\n",
              "    </tr>\n",
              "    <tr>\n",
              "      <th>572749</th>\n",
              "      <td>2002-07-25</td>\n",
              "      <td>tt0182789</td>\n",
              "      <td>ur1288887</td>\n",
              "      <td>1</td>\n",
              "      <td>SPOILERS BEWARE!!!!\\nI am late.. But, I just s...</td>\n",
              "      <td>10</td>\n",
              "      <td>Awesome movie. Very touching.</td>\n",
              "      <td>This film follows the 'life' and times of the ...</td>\n",
              "      <td>2h 12min</td>\n",
              "      <td>[Comedy, Drama, Sci-Fi]</td>\n",
              "      <td>6.8</td>\n",
              "      <td>1999-12-17</td>\n",
              "      <td>The NDR series robot \"Andrew\" is introduced in...</td>\n",
              "      <td>951</td>\n",
              "      <td>0.203636</td>\n",
              "      <td>1.0</td>\n",
              "      <td>0</td>\n",
              "    </tr>\n",
              "    <tr>\n",
              "      <th>572926</th>\n",
              "      <td>2001-10-03</td>\n",
              "      <td>tt0171804</td>\n",
              "      <td>ur1359036</td>\n",
              "      <td>1</td>\n",
              "      <td>***SPOILERS***   ***SPOILERS***   ***SPOILERS*...</td>\n",
              "      <td>10</td>\n",
              "      <td>A tragic masterpiece</td>\n",
              "      <td>Based on actual events. Brandon Teena is the p...</td>\n",
              "      <td>1h 58min</td>\n",
              "      <td>[Biography, Crime, Drama]</td>\n",
              "      <td>7.6</td>\n",
              "      <td>2000-03-31</td>\n",
              "      <td>The film opens with Brandon Teena (Hilary Swan...</td>\n",
              "      <td>551</td>\n",
              "      <td>0.161074</td>\n",
              "      <td>1.0</td>\n",
              "      <td>0</td>\n",
              "    </tr>\n",
              "    <tr>\n",
              "      <th>573140</th>\n",
              "      <td>2001-06-30</td>\n",
              "      <td>tt0140352</td>\n",
              "      <td>ur1242481</td>\n",
              "      <td>1</td>\n",
              "      <td>***SPOILERS***   ***SPOILERS*** Having taken t...</td>\n",
              "      <td>10</td>\n",
              "      <td>If only all films were this cinematic, this en...</td>\n",
              "      <td>Balls-out \"60 Minutes\" producer Lowell Bergman...</td>\n",
              "      <td>2h 37min</td>\n",
              "      <td>[Biography, Drama, Thriller]</td>\n",
              "      <td>7.9</td>\n",
              "      <td>1999-11-05</td>\n",
              "      <td>In Lebanon, Hezbollah militants escort produce...</td>\n",
              "      <td>603</td>\n",
              "      <td>0.082687</td>\n",
              "      <td>1.0</td>\n",
              "      <td>0</td>\n",
              "    </tr>\n",
              "    <tr>\n",
              "      <th>573477</th>\n",
              "      <td>2000-11-13</td>\n",
              "      <td>tt0124315</td>\n",
              "      <td>ur0408040</td>\n",
              "      <td>1</td>\n",
              "      <td>*SPOILERS - DON'T READ IF YOU WANT TO SEE THIS...</td>\n",
              "      <td>1</td>\n",
              "      <td>Feelgood Liberal Racism at its most heartwarmi...</td>\n",
              "      <td>Homer is an orphan in remote St. Cloud, Maine....</td>\n",
              "      <td>2h 6min</td>\n",
              "      <td>[Drama, Romance]</td>\n",
              "      <td>7.4</td>\n",
              "      <td>2000-01-07</td>\n",
              "      <td>Homer Wells (Tobey Maguire), an orphan, is the...</td>\n",
              "      <td>311</td>\n",
              "      <td>0.170347</td>\n",
              "      <td>1.0</td>\n",
              "      <td>0</td>\n",
              "    </tr>\n",
              "  </tbody>\n",
              "</table>\n",
              "<p>4991 rows × 17 columns</p>\n",
              "</div>"
            ],
            "text/plain": [
              "       review_date   movie_id    user_id  ...       msr  usr  gsr\n",
              "10      2002-09-01  tt0111161  ur1003471  ...  0.219216  0.5    0\n",
              "14      2002-02-13  tt0088247  ur1003471  ...  0.261261  0.5    0\n",
              "16      2002-02-15  tt0240772  ur1003471  ...  0.134935  0.5    0\n",
              "17      2003-01-13  tt0217505  ur1003471  ...  0.171322  0.5    0\n",
              "19      2002-04-19  tt0286499  ur1003471  ...  0.100946  0.5    0\n",
              "...            ...        ...        ...  ...       ...  ...  ...\n",
              "572748  2001-09-14  tt0182789  ur1354522  ...  0.203636  1.0    0\n",
              "572749  2002-07-25  tt0182789  ur1288887  ...  0.203636  1.0    0\n",
              "572926  2001-10-03  tt0171804  ur1359036  ...  0.161074  1.0    0\n",
              "573140  2001-06-30  tt0140352  ur1242481  ...  0.082687  1.0    0\n",
              "573477  2000-11-13  tt0124315  ur0408040  ...  0.170347  1.0    0\n",
              "\n",
              "[4991 rows x 17 columns]"
            ]
          },
          "metadata": {
            "tags": []
          },
          "execution_count": 80
        }
      ]
    },
    {
      "cell_type": "code",
      "metadata": {
        "id": "r1NYgMS0yk2w"
      },
      "source": [
        "df['spoiltext'] = df.review_text.str.contains('SPOILERS')+0"
      ],
      "execution_count": 81,
      "outputs": []
    },
    {
      "cell_type": "code",
      "metadata": {
        "colab": {
          "base_uri": "https://localhost:8080/",
          "height": 0
        },
        "id": "8TzsqK1r1QDf",
        "outputId": "4038a712-f59a-4c00-8ce3-748bcdd8dc2e"
      },
      "source": [
        "df.head()"
      ],
      "execution_count": 82,
      "outputs": [
        {
          "output_type": "execute_result",
          "data": {
            "text/html": [
              "<div>\n",
              "<style scoped>\n",
              "    .dataframe tbody tr th:only-of-type {\n",
              "        vertical-align: middle;\n",
              "    }\n",
              "\n",
              "    .dataframe tbody tr th {\n",
              "        vertical-align: top;\n",
              "    }\n",
              "\n",
              "    .dataframe thead th {\n",
              "        text-align: right;\n",
              "    }\n",
              "</style>\n",
              "<table border=\"1\" class=\"dataframe\">\n",
              "  <thead>\n",
              "    <tr style=\"text-align: right;\">\n",
              "      <th></th>\n",
              "      <th>review_date</th>\n",
              "      <th>movie_id</th>\n",
              "      <th>user_id</th>\n",
              "      <th>is_spoiler</th>\n",
              "      <th>review_text</th>\n",
              "      <th>userrating</th>\n",
              "      <th>review_summary</th>\n",
              "      <th>plot_summary</th>\n",
              "      <th>duration</th>\n",
              "      <th>genre</th>\n",
              "      <th>actualrating</th>\n",
              "      <th>release_date</th>\n",
              "      <th>plot_synopsis</th>\n",
              "      <th>days_elapsed</th>\n",
              "      <th>msr</th>\n",
              "      <th>usr</th>\n",
              "      <th>gsr</th>\n",
              "      <th>spoiltext</th>\n",
              "    </tr>\n",
              "  </thead>\n",
              "  <tbody>\n",
              "    <tr>\n",
              "      <th>0</th>\n",
              "      <td>2006-02-10</td>\n",
              "      <td>tt0111161</td>\n",
              "      <td>ur1898687</td>\n",
              "      <td>1</td>\n",
              "      <td>In its Oscar year, Shawshank Redemption (writt...</td>\n",
              "      <td>10</td>\n",
              "      <td>A classic piece of unforgettable film-making.</td>\n",
              "      <td>Chronicles the experiences of a formerly succe...</td>\n",
              "      <td>2h 22min</td>\n",
              "      <td>[Crime, Drama]</td>\n",
              "      <td>9.3</td>\n",
              "      <td>1994-10-14</td>\n",
              "      <td>In 1947, Andy Dufresne (Tim Robbins), a banker...</td>\n",
              "      <td>4137</td>\n",
              "      <td>0.219216</td>\n",
              "      <td>0.6</td>\n",
              "      <td>0</td>\n",
              "      <td>0</td>\n",
              "    </tr>\n",
              "    <tr>\n",
              "      <th>1</th>\n",
              "      <td>2006-03-19</td>\n",
              "      <td>tt0144084</td>\n",
              "      <td>ur1898687</td>\n",
              "      <td>0</td>\n",
              "      <td>Starring: Christian Bale, Willem Dafoe, Chloë ...</td>\n",
              "      <td>8</td>\n",
              "      <td>Worth seeing, if only for the post-viewing dis...</td>\n",
              "      <td>Patrick Bateman is handsome, well educated and...</td>\n",
              "      <td>1h 42min</td>\n",
              "      <td>[Crime, Drama]</td>\n",
              "      <td>7.6</td>\n",
              "      <td>2000-04-14</td>\n",
              "      <td>A white background. Red drops begin to fall pa...</td>\n",
              "      <td>2165</td>\n",
              "      <td>0.274725</td>\n",
              "      <td>0.6</td>\n",
              "      <td>0</td>\n",
              "      <td>0</td>\n",
              "    </tr>\n",
              "    <tr>\n",
              "      <th>2</th>\n",
              "      <td>2006-02-10</td>\n",
              "      <td>tt0298203</td>\n",
              "      <td>ur1898687</td>\n",
              "      <td>1</td>\n",
              "      <td>Eminem's \"semi-autobiographical\" rap movie. Do...</td>\n",
              "      <td>7</td>\n",
              "      <td>Better than it needed to be.</td>\n",
              "      <td>This is the inspiring captivating story of the...</td>\n",
              "      <td>1h 50min</td>\n",
              "      <td>[Drama, Music]</td>\n",
              "      <td>7.1</td>\n",
              "      <td>2002-11-08</td>\n",
              "      <td>It's 1995. Jimmy \"B-Rabbit\" Smith Jr. (Eminem)...</td>\n",
              "      <td>1190</td>\n",
              "      <td>0.164456</td>\n",
              "      <td>0.6</td>\n",
              "      <td>0</td>\n",
              "      <td>0</td>\n",
              "    </tr>\n",
              "    <tr>\n",
              "      <th>3</th>\n",
              "      <td>2006-02-10</td>\n",
              "      <td>tt0319061</td>\n",
              "      <td>ur1898687</td>\n",
              "      <td>0</td>\n",
              "      <td>The grass is so green / The sky is so blue / S...</td>\n",
              "      <td>9</td>\n",
              "      <td>An immediate classic that works on both a visu...</td>\n",
              "      <td>United Press International journalist Will Blo...</td>\n",
              "      <td>2h 5min</td>\n",
              "      <td>[Adventure, Drama, Fantasy]</td>\n",
              "      <td>8.0</td>\n",
              "      <td>2004-01-09</td>\n",
              "      <td>Edward Bloom (Albert Finney), a charismatic te...</td>\n",
              "      <td>763</td>\n",
              "      <td>0.158416</td>\n",
              "      <td>0.6</td>\n",
              "      <td>0</td>\n",
              "      <td>0</td>\n",
              "    </tr>\n",
              "    <tr>\n",
              "      <th>4</th>\n",
              "      <td>2006-02-10</td>\n",
              "      <td>tt0377092</td>\n",
              "      <td>ur1898687</td>\n",
              "      <td>1</td>\n",
              "      <td>There are a few signs heading into Mean Girls ...</td>\n",
              "      <td>7</td>\n",
              "      <td>A smart, but flawed, look at high school life</td>\n",
              "      <td>Her parents being zoologists, homeschooled Cad...</td>\n",
              "      <td>1h 37min</td>\n",
              "      <td>[Comedy]</td>\n",
              "      <td>7.0</td>\n",
              "      <td>2004-04-30</td>\n",
              "      <td>Cady (Lindsay Lohan) is the 16-year-old home-s...</td>\n",
              "      <td>651</td>\n",
              "      <td>0.222472</td>\n",
              "      <td>0.6</td>\n",
              "      <td>0</td>\n",
              "      <td>0</td>\n",
              "    </tr>\n",
              "  </tbody>\n",
              "</table>\n",
              "</div>"
            ],
            "text/plain": [
              "  review_date   movie_id    user_id  is_spoiler  ...       msr  usr gsr spoiltext\n",
              "0  2006-02-10  tt0111161  ur1898687           1  ...  0.219216  0.6   0         0\n",
              "1  2006-03-19  tt0144084  ur1898687           0  ...  0.274725  0.6   0         0\n",
              "2  2006-02-10  tt0298203  ur1898687           1  ...  0.164456  0.6   0         0\n",
              "3  2006-02-10  tt0319061  ur1898687           0  ...  0.158416  0.6   0         0\n",
              "4  2006-02-10  tt0377092  ur1898687           1  ...  0.222472  0.6   0         0\n",
              "\n",
              "[5 rows x 18 columns]"
            ]
          },
          "metadata": {
            "tags": []
          },
          "execution_count": 82
        }
      ]
    },
    {
      "cell_type": "code",
      "metadata": {
        "colab": {
          "base_uri": "https://localhost:8080/",
          "height": 0
        },
        "id": "FC0irDthWiv-",
        "outputId": "fddba0ec-d6fb-4891-a054-c45aa5614d14"
      },
      "source": [
        "labels, frequencies = np.unique(df[df['is_spoiler']==1].spoiltext.values,return_counts = True)\n",
        "\n",
        "plt.figure(figsize = (10,10))\n",
        "plt.pie(frequencies,labels = labels, autopct = '%1.1f%%')\n",
        "plt.show()"
      ],
      "execution_count": 83,
      "outputs": [
        {
          "output_type": "display_data",
          "data": {
            "image/png": "[encoded data removed]",
            "text/plain": [
              "<Figure size 720x720 with 1 Axes>"
            ]
          },
          "metadata": {
            "tags": []
          }
        }
      ]
    },
    {
      "cell_type": "markdown",
      "metadata": {
        "id": "665NThyrmIVG"
      },
      "source": [
        "#  Matching Text from reviews with plot summary\n",
        "\n",
        "\n",
        "Comparing the similarity of spoiler reviews to movie plot summary will be a good indicator as to if a review contains spoiler or not "
      ]
    },
    {
      "cell_type": "code",
      "metadata": {
        "colab": {
          "base_uri": "https://localhost:8080/"
        },
        "id": "0UatC0PE4sZK",
        "outputId": "3aafdcd0-8c14-4571-86fb-15c651dd69c1"
      },
      "source": [
        "nltk.download('stopwords')\n"
      ],
      "execution_count": 84,
      "outputs": [
        {
          "output_type": "stream",
          "text": [
            "[nltk_data] Downloading package stopwords to /root/nltk_data...\n",
            "[nltk_data]   Package stopwords is already up-to-date!\n"
          ],
          "name": "stderr"
        },
        {
          "output_type": "execute_result",
          "data": {
            "text/plain": [
              "True"
            ]
          },
          "metadata": {
            "tags": []
          },
          "execution_count": 84
        }
      ]
    },
    {
      "cell_type": "code",
      "metadata": {
        "id": "92-bW23tmEN5"
      },
      "source": [
        "stopwords=set(stopwords.words('english'))"
      ],
      "execution_count": 85,
      "outputs": []
    },
    {
      "cell_type": "code",
      "metadata": {
        "colab": {
          "base_uri": "https://localhost:8080/"
        },
        "id": "ERqWlIMwl6Xa",
        "outputId": "6311a51d-aea3-49ba-a4c4-d023a4cd8357"
      },
      "source": [
        "len(stopwords)"
      ],
      "execution_count": 86,
      "outputs": [
        {
          "output_type": "execute_result",
          "data": {
            "text/plain": [
              "179"
            ]
          },
          "metadata": {
            "tags": []
          },
          "execution_count": 86
        }
      ]
    },
    {
      "cell_type": "code",
      "metadata": {
        "id": "ojjOo_l5l6Up"
      },
      "source": [
        "stopwords_dict=Counter(stopwords)"
      ],
      "execution_count": 87,
      "outputs": []
    },
    {
      "cell_type": "code",
      "metadata": {
        "id": "ksysl8f8l6SC"
      },
      "source": [
        "def preprocesstext(review):\n",
        "    review=review.lower()\n",
        "    review=re.sub('[^a-zA-Z]',' ',review)\n",
        "    words=review.split()\n",
        "    word=[word for word in words if word not in stopwords_dict]\n",
        "    review=\" \".join(words)\n",
        "    return review"
      ],
      "execution_count": 88,
      "outputs": []
    },
    {
      "cell_type": "code",
      "metadata": {
        "id": "Ne28pIFFl6Pc"
      },
      "source": [
        "df.review_text=df.review_text.apply(preprocesstext)"
      ],
      "execution_count": 89,
      "outputs": []
    },
    {
      "cell_type": "code",
      "metadata": {
        "colab": {
          "base_uri": "https://localhost:8080/"
        },
        "id": "16mZU3Yjl6Mu",
        "outputId": "763b8f4f-a1aa-482d-ee74-f606cd86dd64"
      },
      "source": [
        "df.review_text"
      ],
      "execution_count": 90,
      "outputs": [
        {
          "output_type": "execute_result",
          "data": {
            "text/plain": [
              "0         in its oscar year shawshank redemption written...\n",
              "1         starring christian bale willem dafoe chlo sevi...\n",
              "2         eminem s semi autobiographical rap movie do i ...\n",
              "3         the grass is so green the sky is so blue spect...\n",
              "4         there are a few signs heading into mean girls ...\n",
              "                                ...                        \n",
              "573901    i think this movie was under appreciated by am...\n",
              "573902    this type of movie is one that i would not ord...\n",
              "573903    go is wise fast and pure entertainment assembl...\n",
              "573904    go is the best movie i have ever seen and i ve...\n",
              "573905    why was this movie made no doubt to sucker in ...\n",
              "Name: review_text, Length: 573906, dtype: object"
            ]
          },
          "metadata": {
            "tags": []
          },
          "execution_count": 90
        }
      ]
    },
    {
      "cell_type": "markdown",
      "metadata": {
        "id": "Q9o1K8NkmU7j"
      },
      "source": [
        "Using glove-global-vectors for words.These pre-trained embeddings are used  to quantify word co-occurrence (which also captures some aspects of word meaning). This dataset contains 50-dimensional, 100-dimensional and 200-dimensional pre trained word vectors"
      ]
    },
    {
      "cell_type": "code",
      "metadata": {
        "id": "eTdyCAG8l6JU"
      },
      "source": [
        "#Saving the words and their corresponding vectors in  a dictionary\n",
        "embeddings=dict()\n",
        "f=open('/content/glove.6B.50d.txt')\n",
        "for i in f: \n",
        "    values=i.split()\n",
        "    word=values[0]\n",
        "    cofss = np.asarray(values[1:], dtype='float32')\n",
        "    embeddings[word]=cofss\n",
        "f.close()    "
      ],
      "execution_count": 91,
      "outputs": []
    },
    {
      "cell_type": "code",
      "metadata": {
        "id": "ZPwHn7Yul6Gx"
      },
      "source": [
        "def getAvgWordEmbedding(text):\n",
        "    words = text.split()\n",
        "    n = 0\n",
        "    sumEmbed = np.zeros(50)\n",
        "    # because 50 dim of word vectors\n",
        "    \n",
        "    for word in words:\n",
        "        if word in embeddings:\n",
        "            sumEmbed += embeddings[word]\n",
        "            n += 1\n",
        "    \n",
        "    avgEmbed = sumEmbed / n\n",
        "    return avgEmbed\n",
        "    \n",
        "def Dist(e1, e2):\n",
        "    return np.sum(np.square(e1-e2), axis = 1)"
      ],
      "execution_count": 92,
      "outputs": []
    },
    {
      "cell_type": "code",
      "metadata": {
        "colab": {
          "base_uri": "https://localhost:8080/"
        },
        "id": "afLa4ON1l6D_",
        "outputId": "385b8d54-16cf-457c-a828-7d1f8c5ec0a7"
      },
      "source": [
        "df_details.plot_summary"
      ],
      "execution_count": 93,
      "outputs": [
        {
          "output_type": "execute_result",
          "data": {
            "text/plain": [
              "0       Former CIA analyst, Jack Ryan is in England wi...\n",
              "1       Billy (Michael Douglas), Paddy (Robert De Niro...\n",
              "2       The setting is Camp Firewood, the year 1981. I...\n",
              "3       Fred C. Dobbs and Bob Curtin, both down on the...\n",
              "4       Tracy Flick is running unopposed for this year...\n",
              "                              ...                        \n",
              "1567    Evan Treborn grows up in a small town with his...\n",
              "1568    Brandon is a 30-something man living in New Yo...\n",
              "1569    Evacuation of Allied soldiers from the British...\n",
              "1570    For a while now, beautiful 24-year-old Diana B...\n",
              "1571    The marriage of David Burgess, a senior execut...\n",
              "Name: plot_summary, Length: 1572, dtype: object"
            ]
          },
          "metadata": {
            "tags": []
          },
          "execution_count": 93
        }
      ]
    },
    {
      "cell_type": "code",
      "metadata": {
        "id": "g8Ifb1cMl57W"
      },
      "source": [
        "plot_embed = df.plot_summary.apply(getAvgWordEmbedding)\n",
        "review_embed = df.review_text.apply(getAvgWordEmbedding)"
      ],
      "execution_count": 94,
      "outputs": []
    },
    {
      "cell_type": "code",
      "metadata": {
        "id": "J6UsyZRFl54L"
      },
      "source": [
        "distance=Dist(np.stack(review_embed),np.stack(plot_embed))"
      ],
      "execution_count": 95,
      "outputs": []
    },
    {
      "cell_type": "code",
      "metadata": {
        "id": "vWExkRAJl51q"
      },
      "source": [
        "df['distance']=distance"
      ],
      "execution_count": 96,
      "outputs": []
    },
    {
      "cell_type": "code",
      "metadata": {
        "colab": {
          "base_uri": "https://localhost:8080/",
          "height": 0
        },
        "id": "XWakD0_el5yR",
        "outputId": "2622168c-3c6a-42bc-bc44-3fe6a4339a32"
      },
      "source": [
        "df_temp = pd.DataFrame({\"label\":[\"spoiler\", \"non spoiler\"], \n",
        "                        \"distance\":[df[df.is_spoiler==1].distance.mean(), \n",
        "                                        df[df.is_spoiler==0].distance.mean()]})\n",
        "sns.barplot(x = \"label\", y = \"distance\", data = df_temp);"
      ],
      "execution_count": 97,
      "outputs": [
        {
          "output_type": "display_data",
          "data": {
            "image/png": "[encoded data removed]",
            "text/plain": [
              "<Figure size 432x288 with 1 Axes>"
            ]
          },
          "metadata": {
            "tags": [],
            "needs_background": "light"
          }
        }
      ]
    },
    {
      "cell_type": "code",
      "metadata": {
        "colab": {
          "base_uri": "https://localhost:8080/",
          "height": 0
        },
        "id": "DhhK7qsh912Q",
        "outputId": "fad0575d-ca72-4d3c-bd19-de4874452aec"
      },
      "source": [
        "sns.lmplot(x =\"distance\", y =\"is_spoiler\", data = df, order = 2, ci = None) "
      ],
      "execution_count": 98,
      "outputs": [
        {
          "output_type": "execute_result",
          "data": {
            "text/plain": [
              "<seaborn.axisgrid.FacetGrid at 0x7f77fd15ce48>"
            ]
          },
          "metadata": {
            "tags": []
          },
          "execution_count": 98
        },
        {
          "output_type": "display_data",
          "data": {
            "image/png": "[encoded data removed]",
            "text/plain": [
              "<Figure size 360x360 with 1 Axes>"
            ]
          },
          "metadata": {
            "tags": [],
            "needs_background": "light"
          }
        }
      ]
    },
    {
      "cell_type": "markdown",
      "metadata": {
        "id": "CDH4MKrV_Hjt"
      },
      "source": [
        "As can be seen from all the above new dimensions introduced we don't have a single  criteria to distinguish between spoiler and non spoiler reviews  but its dependent a no. of criterias  so in order to solve this problem we will now look into a way to unify all these criterias using machine learning to help us in separating non spoiler reviews from spoiler reviews.\n"
      ]
    },
    {
      "cell_type": "markdown",
      "metadata": {
        "id": "frNpwkGGFU5y"
      },
      "source": [
        "# Saving the processed dataset for future use\n"
      ]
    },
    {
      "cell_type": "code",
      "metadata": {
        "id": "8h409lWBFX67"
      },
      "source": [
        "#df.to_csv('/content/drive/MyDrive/Spoiler_alert_model/processed_data/processed_data.csv',index=False)"
      ],
      "execution_count": 99,
      "outputs": []
    },
    {
      "cell_type": "markdown",
      "metadata": {
        "id": "39oA5kx6COaA"
      },
      "source": [
        "#Preparing  Triain / Valid / Test Sets\n"
      ]
    },
    {
      "cell_type": "code",
      "metadata": {
        "id": "RfT3DQnA1LJw"
      },
      "source": [
        "spoilers = df[df.is_spoiler == 1].sample(frac=1).reset_index(drop=True)\n",
        "notspoilers = df[df.is_spoiler == 0].sample(frac=1).reset_index(drop=True)"
      ],
      "execution_count": 97,
      "outputs": []
    },
    {
      "cell_type": "code",
      "metadata": {
        "colab": {
          "base_uri": "https://localhost:8080/"
        },
        "id": "dYo0teOK1QHX",
        "outputId": "be05598b-7dd7-4cce-94e8-3ab182aa3907"
      },
      "source": [
        "len(spoilers),len(notspoilers)"
      ],
      "execution_count": 98,
      "outputs": [
        {
          "output_type": "execute_result",
          "data": {
            "text/plain": [
              "(150924, 422982)"
            ]
          },
          "metadata": {
            "tags": []
          },
          "execution_count": 98
        }
      ]
    },
    {
      "cell_type": "code",
      "metadata": {
        "id": "LrhlSA8n1ATQ"
      },
      "source": [
        "# train set\n",
        "train = pd.concat([spoilers.head(100000), notspoilers.head(100000)]).sample(frac=1).reset_index(drop=True)\n",
        "\n",
        "# test set\n",
        "test = pd.concat([spoilers.tail(50000), notspoilers.tail(100000)]).sample(frac=1).reset_index(drop=True)"
      ],
      "execution_count": 99,
      "outputs": []
    },
    {
      "cell_type": "code",
      "metadata": {
        "colab": {
          "base_uri": "https://localhost:8080/"
        },
        "id": "5IxEWoIG9xYL",
        "outputId": "38290838-307f-43da-9a36-4990c0c627d4"
      },
      "source": [
        "train.columns"
      ],
      "execution_count": 101,
      "outputs": [
        {
          "output_type": "execute_result",
          "data": {
            "text/plain": [
              "Index(['review_date', 'movie_id', 'user_id', 'is_spoiler', 'review_text',\n",
              "       'userrating', 'review_summary', 'plot_summary', 'duration', 'genre',\n",
              "       'actualrating', 'release_date', 'plot_synopsis', 'days_elapsed', 'msr',\n",
              "       'usr', 'gsr', 'spoiltext', 'distance'],\n",
              "      dtype='object')"
            ]
          },
          "metadata": {
            "tags": []
          },
          "execution_count": 101
        }
      ]
    },
    {
      "cell_type": "code",
      "metadata": {
        "id": "k7kFT2OCl5tK"
      },
      "source": [
        "x_train = train[['msr','usr','gsr','distance','spoiltext','actualrating']]\n",
        "x_train= x_train.fillna(0).values"
      ],
      "execution_count": 205,
      "outputs": []
    },
    {
      "cell_type": "code",
      "metadata": {
        "id": "jFL7dS8ZFD7H"
      },
      "source": [
        "y_train=train['is_spoiler'].values"
      ],
      "execution_count": 206,
      "outputs": []
    },
    {
      "cell_type": "code",
      "metadata": {
        "colab": {
          "base_uri": "https://localhost:8080/"
        },
        "id": "f-6COeNKl5qC",
        "outputId": "2d9a5de6-ab74-4808-af22-b9c28553f499"
      },
      "source": [
        "x_train.shape"
      ],
      "execution_count": 194,
      "outputs": [
        {
          "output_type": "execute_result",
          "data": {
            "text/plain": [
              "(200000, 7)"
            ]
          },
          "metadata": {
            "tags": []
          },
          "execution_count": 194
        }
      ]
    },
    {
      "cell_type": "code",
      "metadata": {
        "colab": {
          "base_uri": "https://localhost:8080/"
        },
        "id": "cgq8VXMBrT6T",
        "outputId": "3717e8ba-a049-4ad9-9614-8c2a17760a24"
      },
      "source": [
        "test.columns"
      ],
      "execution_count": 195,
      "outputs": [
        {
          "output_type": "execute_result",
          "data": {
            "text/plain": [
              "Index(['review_date', 'movie_id', 'user_id', 'is_spoiler', 'review_text',\n",
              "       'userrating', 'review_summary', 'plot_summary', 'duration', 'genre',\n",
              "       'actualrating', 'release_date', 'plot_synopsis', 'days_elapsed', 'msr',\n",
              "       'usr', 'gsr', 'spoiltext', 'distance'],\n",
              "      dtype='object')"
            ]
          },
          "metadata": {
            "tags": []
          },
          "execution_count": 195
        }
      ]
    },
    {
      "cell_type": "code",
      "metadata": {
        "id": "xJMKFTY-l5bD"
      },
      "source": [
        "x_test = test[['msr','usr','gsr','distance','spoiltext','actualrating']]\n",
        "x_test = x_test.fillna(0).values"
      ],
      "execution_count": 207,
      "outputs": []
    },
    {
      "cell_type": "code",
      "metadata": {
        "id": "21XQc5UTFI-J"
      },
      "source": [
        "y_test=test['is_spoiler']\n",
        "y_test=y_test.values"
      ],
      "execution_count": 208,
      "outputs": []
    },
    {
      "cell_type": "markdown",
      "metadata": {
        "id": "yVtDn_z1_iw-"
      },
      "source": [
        "# Linear Regression "
      ]
    },
    {
      "cell_type": "code",
      "metadata": {
        "id": "vohRjwcy_5NK"
      },
      "source": [
        "from sklearn.linear_model import LogisticRegression"
      ],
      "execution_count": 198,
      "outputs": []
    },
    {
      "cell_type": "code",
      "metadata": {
        "colab": {
          "base_uri": "https://localhost:8080/"
        },
        "id": "pHFVJe4n_lSf",
        "outputId": "2a05f074-0985-44dd-855a-01d4dad0fcc0"
      },
      "source": [
        "linear= LogisticRegression() \n",
        "linear.fit(x_train, y_train) \n",
        "print(linear.score(x_test, y_test))"
      ],
      "execution_count": 209,
      "outputs": [
        {
          "output_type": "stream",
          "text": [
            "0.91526\n"
          ],
          "name": "stdout"
        }
      ]
    },
    {
      "cell_type": "code",
      "metadata": {
        "colab": {
          "base_uri": "https://localhost:8080/"
        },
        "id": "nw1J93HHqIPB",
        "outputId": "9f4f18ba-0840-48b2-e2d9-490cf92d4693"
      },
      "source": [
        "linearpredstrain=linear.predict(x_train)\n",
        "print(classification_report(y_train, linearpredstrain))\n",
        "print(confusion_matrix(y_train, linearpredstrain))"
      ],
      "execution_count": 210,
      "outputs": [
        {
          "output_type": "stream",
          "text": [
            "              precision    recall  f1-score   support\n",
            "\n",
            "           0       0.90      0.93      0.91    100000\n",
            "           1       0.92      0.89      0.91    100000\n",
            "\n",
            "    accuracy                           0.91    200000\n",
            "   macro avg       0.91      0.91      0.91    200000\n",
            "weighted avg       0.91      0.91      0.91    200000\n",
            "\n",
            "[[92607  7393]\n",
            " [10747 89253]]\n"
          ],
          "name": "stdout"
        }
      ]
    },
    {
      "cell_type": "code",
      "metadata": {
        "colab": {
          "base_uri": "https://localhost:8080/",
          "height": 267
        },
        "id": "uRlG8mEdtakw",
        "outputId": "6146783f-7940-4159-cd73-b65d392a58aa"
      },
      "source": [
        "plt.title(\"Heatmap for Training prediction confusion matrix on Linear Regression\", fontsize =20)\n",
        "sns.heatmap(confusion_matrix(y_train, linearpredstrain)/np.sum(confusion_matrix(y_train, linearpredstrain)), annot=True)"
      ],
      "execution_count": 140,
      "outputs": [
        {
          "output_type": "execute_result",
          "data": {
            "text/plain": [
              "<matplotlib.axes._subplots.AxesSubplot at 0x7f1a79774ba8>"
            ]
          },
          "metadata": {
            "tags": []
          },
          "execution_count": 140
        },
        {
          "output_type": "display_data",
          "data": {
            "image/png": "[encoded data removed]",
            "text/plain": [
              "<Figure size 432x288 with 2 Axes>"
            ]
          },
          "metadata": {
            "tags": [],
            "needs_background": "light"
          }
        }
      ]
    },
    {
      "cell_type": "code",
      "metadata": {
        "id": "twjWI_SFOwDE"
      },
      "source": [
        "linearpredstest=linear.predict(x_test)"
      ],
      "execution_count": 202,
      "outputs": []
    },
    {
      "cell_type": "code",
      "metadata": {
        "colab": {
          "base_uri": "https://localhost:8080/"
        },
        "id": "a7HZLtsRC8ga",
        "outputId": "96f83663-9d5c-41a1-a101-3d026ff53b6b"
      },
      "source": [
        "print(classification_report(y_test, linearpredstest))\n",
        "print(confusion_matrix(y_test, linearpredstest))"
      ],
      "execution_count": 203,
      "outputs": [
        {
          "output_type": "stream",
          "text": [
            "              precision    recall  f1-score   support\n",
            "\n",
            "           0       0.94      0.93      0.94    100000\n",
            "           1       0.86      0.89      0.87     50000\n",
            "\n",
            "    accuracy                           0.91    150000\n",
            "   macro avg       0.90      0.91      0.90    150000\n",
            "weighted avg       0.92      0.91      0.92    150000\n",
            "\n",
            "[[92767  7233]\n",
            " [ 5540 44460]]\n"
          ],
          "name": "stdout"
        }
      ]
    },
    {
      "cell_type": "code",
      "metadata": {
        "colab": {
          "base_uri": "https://localhost:8080/",
          "height": 265
        },
        "id": "7q75NfJAtRG0",
        "outputId": "3c2dbb35-2e37-4a7b-db2a-5804cc1e8d75"
      },
      "source": [
        "plt.title(\"Heatmap for Testdata prediction confusion matrix on Linear Regression\", fontsize =20)\n",
        "sns.heatmap(confusion_matrix(y_test, linearpredstest)/np.sum(confusion_matrix(y_test, linearpredstest)), annot=True)"
      ],
      "execution_count": 141,
      "outputs": [
        {
          "output_type": "execute_result",
          "data": {
            "text/plain": [
              "<matplotlib.axes._subplots.AxesSubplot at 0x7f1a7918d240>"
            ]
          },
          "metadata": {
            "tags": []
          },
          "execution_count": 141
        },
        {
          "output_type": "display_data",
          "data": {
            "image/png": "[encoded data removed]",
            "text/plain": [
              "<Figure size 432x288 with 2 Axes>"
            ]
          },
          "metadata": {
            "tags": [],
            "needs_background": "light"
          }
        }
      ]
    },
    {
      "cell_type": "markdown",
      "metadata": {
        "id": "-D9lPdOZ_HoR"
      },
      "source": [
        "# Using Linear svm model for  training  using the newly created dimensions for the reviews which more aptly represent the data\n",
        "\n"
      ]
    },
    {
      "cell_type": "code",
      "metadata": {
        "colab": {
          "base_uri": "https://localhost:8080/"
        },
        "id": "e-xsXdhLl44Z",
        "outputId": "6f171854-6c90-49bc-cb14-9b97ef2fc5f9"
      },
      "source": [
        "model_svm= svm.SVC(kernel='linear')\n",
        "model_svm.fit(x_train, y_train)\n"
      ],
      "execution_count": 112,
      "outputs": [
        {
          "output_type": "execute_result",
          "data": {
            "text/plain": [
              "SVC(C=1.0, break_ties=False, cache_size=200, class_weight=None, coef0=0.0,\n",
              "    decision_function_shape='ovr', degree=3, gamma='scale', kernel='linear',\n",
              "    max_iter=-1, probability=False, random_state=None, shrinking=True,\n",
              "    tol=0.001, verbose=False)"
            ]
          },
          "metadata": {
            "tags": []
          },
          "execution_count": 112
        }
      ]
    },
    {
      "cell_type": "code",
      "metadata": {
        "colab": {
          "base_uri": "https://localhost:8080/"
        },
        "id": "pCxSzxol9L1h",
        "outputId": "a0b4c821-d69c-47fd-e7af-5b27d1509f3f"
      },
      "source": [
        "print(model_svm.score(x_test, y_test))"
      ],
      "execution_count": 176,
      "outputs": [
        {
          "output_type": "stream",
          "text": [
            "0.9129\n"
          ],
          "name": "stdout"
        }
      ]
    },
    {
      "cell_type": "code",
      "metadata": {
        "id": "x9UAULv0l42K"
      },
      "source": [
        "svmpredstrain = model_svm.predict(x_train)"
      ],
      "execution_count": 123,
      "outputs": []
    },
    {
      "cell_type": "code",
      "metadata": {
        "colab": {
          "base_uri": "https://localhost:8080/"
        },
        "id": "ICAlUOP-l4y1",
        "outputId": "708fa001-be34-4b04-c662-f8b5e0b88520"
      },
      "source": [
        "print(classification_report(y_train, svmpredstrain))\n",
        "print(confusion_matrix(y_train, svmpredstrain))"
      ],
      "execution_count": 124,
      "outputs": [
        {
          "output_type": "stream",
          "text": [
            "              precision    recall  f1-score   support\n",
            "\n",
            "           0       0.91      0.91      0.91    100000\n",
            "           1       0.91      0.91      0.91    100000\n",
            "\n",
            "    accuracy                           0.91    200000\n",
            "   macro avg       0.91      0.91      0.91    200000\n",
            "weighted avg       0.91      0.91      0.91    200000\n",
            "\n",
            "[[91441  8559]\n",
            " [ 9173 90827]]\n"
          ],
          "name": "stdout"
        }
      ]
    },
    {
      "cell_type": "code",
      "metadata": {
        "colab": {
          "base_uri": "https://localhost:8080/",
          "height": 295
        },
        "id": "qEqVZ4xgwXsd",
        "outputId": "6170ee3c-0f6f-45e9-cc4a-821ec8aff877"
      },
      "source": [
        "plt.title(\"Heatmap for Traindata  prediction confusion matrix SVM Linear\", fontsize =20)\n",
        "sns.heatmap(confusion_matrix(y_train, svmpredstrain)/np.sum(confusion_matrix(y_train, svmpredstrain)), annot=True)"
      ],
      "execution_count": 174,
      "outputs": [
        {
          "output_type": "execute_result",
          "data": {
            "text/plain": [
              "<matplotlib.axes._subplots.AxesSubplot at 0x7f1a7792e710>"
            ]
          },
          "metadata": {
            "tags": []
          },
          "execution_count": 174
        },
        {
          "output_type": "display_data",
          "data": {
            "image/png": "[encoded data removed]",
            "text/plain": [
              "<Figure size 432x288 with 2 Axes>"
            ]
          },
          "metadata": {
            "tags": [],
            "needs_background": "light"
          }
        }
      ]
    },
    {
      "cell_type": "code",
      "metadata": {
        "id": "2vYBljm9BfTz"
      },
      "source": [
        "svmpredstest = model_svm.predict(x_test)"
      ],
      "execution_count": 125,
      "outputs": []
    },
    {
      "cell_type": "code",
      "metadata": {
        "id": "af21Wq_ol4wl",
        "colab": {
          "base_uri": "https://localhost:8080/"
        },
        "outputId": "d4eb0ad3-9edd-4f61-ca27-92fe27f0e1e3"
      },
      "source": [
        "print(classification_report(y_test, svmpredstest))\n",
        "print(confusion_matrix(y_test, svmpredstest))"
      ],
      "execution_count": 126,
      "outputs": [
        {
          "output_type": "stream",
          "text": [
            "              precision    recall  f1-score   support\n",
            "\n",
            "           0       0.95      0.92      0.93    100000\n",
            "           1       0.84      0.91      0.87     50000\n",
            "\n",
            "    accuracy                           0.91    150000\n",
            "   macro avg       0.90      0.91      0.90    150000\n",
            "weighted avg       0.92      0.91      0.91    150000\n",
            "\n",
            "[[91590  8410]\n",
            " [ 4655 45345]]\n"
          ],
          "name": "stdout"
        }
      ]
    },
    {
      "cell_type": "code",
      "metadata": {
        "colab": {
          "base_uri": "https://localhost:8080/",
          "height": 298
        },
        "id": "HqkDFnBDwXOM",
        "outputId": "3f572bbe-b471-4200-b2f4-4a48eed3cb12"
      },
      "source": [
        "plt.title(\"Heatmap for Testdata  prediction confusion matrix SVM Linear\", fontsize =20)\n",
        "sns.heatmap(confusion_matrix(y_test, svmpredstest)/np.sum(confusion_matrix(y_test, svmpredstest)), annot=True)"
      ],
      "execution_count": 173,
      "outputs": [
        {
          "output_type": "execute_result",
          "data": {
            "text/plain": [
              "<matplotlib.axes._subplots.AxesSubplot at 0x7f1a77eec2b0>"
            ]
          },
          "metadata": {
            "tags": []
          },
          "execution_count": 173
        },
        {
          "output_type": "display_data",
          "data": {
            "image/png": "[encoded data removed]",
            "text/plain": [
              "<Figure size 432x288 with 2 Axes>"
            ]
          },
          "metadata": {
            "tags": [],
            "needs_background": "light"
          }
        }
      ]
    },
    {
      "cell_type": "markdown",
      "metadata": {
        "id": "FN-RK3IG-5De"
      },
      "source": [
        "#Tweaking Hyperparameters of SVM for training"
      ]
    },
    {
      "cell_type": "code",
      "metadata": {
        "colab": {
          "base_uri": "https://localhost:8080/"
        },
        "id": "SvEYndmql5nn",
        "outputId": "397e230c-eda0-46a1-bd36-32ac57b85402"
      },
      "source": [
        "model_svm_rdf = svm.SVC(gamma='scale',C=10)\n",
        "model_svm_rdf.fit(x_train, y_train)\n"
      ],
      "execution_count": 177,
      "outputs": [
        {
          "output_type": "execute_result",
          "data": {
            "text/plain": [
              "SVC(C=10, break_ties=False, cache_size=200, class_weight=None, coef0=0.0,\n",
              "    decision_function_shape='ovr', degree=3, gamma='scale', kernel='rbf',\n",
              "    max_iter=-1, probability=False, random_state=None, shrinking=True,\n",
              "    tol=0.001, verbose=False)"
            ]
          },
          "metadata": {
            "tags": []
          },
          "execution_count": 177
        }
      ]
    },
    {
      "cell_type": "code",
      "metadata": {
        "colab": {
          "base_uri": "https://localhost:8080/"
        },
        "id": "ky5d71nl9QzA",
        "outputId": "3f05fcdd-2afc-4590-a142-d3e199e2e852"
      },
      "source": [
        "print(model_svm_rdf.score(x_test, y_test))"
      ],
      "execution_count": 178,
      "outputs": [
        {
          "output_type": "stream",
          "text": [
            "0.9105666666666666\n"
          ],
          "name": "stdout"
        }
      ]
    },
    {
      "cell_type": "code",
      "metadata": {
        "id": "ZrFfpSv-l5lM"
      },
      "source": [
        "rdfpredstrain = model_svm_rdf.predict(x_train)"
      ],
      "execution_count": 179,
      "outputs": []
    },
    {
      "cell_type": "code",
      "metadata": {
        "colab": {
          "base_uri": "https://localhost:8080/"
        },
        "id": "63CZOB2wl5g6",
        "outputId": "ca510569-1cce-4792-f966-3f99f361121c"
      },
      "source": [
        "print(classification_report(y_train, rdfpredstrain))\n",
        "print(confusion_matrix(y_train, rdfpredstrain))"
      ],
      "execution_count": 180,
      "outputs": [
        {
          "output_type": "stream",
          "text": [
            "              precision    recall  f1-score   support\n",
            "\n",
            "           0       0.92      0.91      0.91    100000\n",
            "           1       0.91      0.92      0.91    100000\n",
            "\n",
            "    accuracy                           0.91    200000\n",
            "   macro avg       0.91      0.91      0.91    200000\n",
            "weighted avg       0.91      0.91      0.91    200000\n",
            "\n",
            "[[90539  9461]\n",
            " [ 8000 92000]]\n"
          ],
          "name": "stdout"
        }
      ]
    },
    {
      "cell_type": "code",
      "metadata": {
        "colab": {
          "base_uri": "https://localhost:8080/",
          "height": 303
        },
        "id": "oXK8HH3g9gYS",
        "outputId": "9dfd76f6-9b48-4335-e899-59d5d4f55e89"
      },
      "source": [
        "plt.title(\"Heatmap for Traindata  prediction confusion matrix SVM RDF\", fontsize =20)\n",
        "sns.heatmap(confusion_matrix(y_train, rdfpredstrain)/np.sum(confusion_matrix(y_train, rdfpredstrain)), annot=True)"
      ],
      "execution_count": 181,
      "outputs": [
        {
          "output_type": "execute_result",
          "data": {
            "text/plain": [
              "<matplotlib.axes._subplots.AxesSubplot at 0x7f1a77900d30>"
            ]
          },
          "metadata": {
            "tags": []
          },
          "execution_count": 181
        },
        {
          "output_type": "display_data",
          "data": {
            "image/png": "[encoded data removed]",
            "text/plain": [
              "<Figure size 432x288 with 2 Axes>"
            ]
          },
          "metadata": {
            "tags": [],
            "needs_background": "light"
          }
        }
      ]
    },
    {
      "cell_type": "code",
      "metadata": {
        "id": "WIOr8SufCo1t"
      },
      "source": [
        "rdfpredstest = model_svm_rdf.predict(x_test)  "
      ],
      "execution_count": 182,
      "outputs": []
    },
    {
      "cell_type": "code",
      "metadata": {
        "colab": {
          "base_uri": "https://localhost:8080/"
        },
        "id": "wkmZFb0Wl5VG",
        "outputId": "82fe6b59-500a-41ff-d822-333891e1fc01"
      },
      "source": [
        "print(classification_report(y_test, rdfpredstest))\n",
        "print(confusion_matrix(y_test, rdfpredstest))"
      ],
      "execution_count": 183,
      "outputs": [
        {
          "output_type": "stream",
          "text": [
            "              precision    recall  f1-score   support\n",
            "\n",
            "           0       0.96      0.91      0.93    100000\n",
            "           1       0.83      0.92      0.87     50000\n",
            "\n",
            "    accuracy                           0.91    150000\n",
            "   macro avg       0.89      0.91      0.90    150000\n",
            "weighted avg       0.92      0.91      0.91    150000\n",
            "\n",
            "[[90644  9356]\n",
            " [ 4059 45941]]\n"
          ],
          "name": "stdout"
        }
      ]
    },
    {
      "cell_type": "code",
      "metadata": {
        "colab": {
          "base_uri": "https://localhost:8080/",
          "height": 303
        },
        "id": "XE4jjF4795o6",
        "outputId": "82aa2214-58bd-4d35-a2fc-5fa82452c96a"
      },
      "source": [
        "plt.title(\"Heatmap for Testdata  prediction confusion matrix SVM RDF\", fontsize =20)\n",
        "sns.heatmap(confusion_matrix(y_test, rdfpredstest)/np.sum(confusion_matrix(y_test, rdfpredstest)), annot=True)"
      ],
      "execution_count": 184,
      "outputs": [
        {
          "output_type": "execute_result",
          "data": {
            "text/plain": [
              "<matplotlib.axes._subplots.AxesSubplot at 0x7f1a77738320>"
            ]
          },
          "metadata": {
            "tags": []
          },
          "execution_count": 184
        },
        {
          "output_type": "display_data",
          "data": {
            "image/png": "[encoded data removed]",
            "text/plain": [
              "<Figure size 432x288 with 2 Axes>"
            ]
          },
          "metadata": {
            "tags": [],
            "needs_background": "light"
          }
        }
      ]
    },
    {
      "cell_type": "markdown",
      "metadata": {
        "id": "oKB82RwYo_fh"
      },
      "source": [
        "# Saving and Loading the Model "
      ]
    },
    {
      "cell_type": "code",
      "metadata": {
        "id": "G5hI6UBDpDAX"
      },
      "source": [
        "filename = '/content/drive/MyDrive/Spoiler_alert_model/Spoiler_alert.sav'\n"
      ],
      "execution_count": 185,
      "outputs": []
    },
    {
      "cell_type": "code",
      "metadata": {
        "id": "jTtsyeaXB-FK"
      },
      "source": [
        "import pickle"
      ],
      "execution_count": 187,
      "outputs": []
    },
    {
      "cell_type": "code",
      "metadata": {
        "id": "ARGoCI4Yp_98"
      },
      "source": [
        "pickle.dump(linear, open(filename, 'wb'))"
      ],
      "execution_count": 188,
      "outputs": []
    },
    {
      "cell_type": "code",
      "metadata": {
        "id": "mYxupKZtpGSZ"
      },
      "source": [
        " \n",
        "# load the model from disk\n",
        "loaded_model = pickle.load(open(filename, 'rb'))\n"
      ],
      "execution_count": 189,
      "outputs": []
    },
    {
      "cell_type": "code",
      "metadata": {
        "colab": {
          "base_uri": "https://localhost:8080/"
        },
        "id": "pEXdtx_zCDOW",
        "outputId": "eefc6255-ef2b-4175-9fbb-3760c4120366"
      },
      "source": [
        "result = loaded_model.score(x_test, y_test)\n",
        "print(result)"
      ],
      "execution_count": 190,
      "outputs": [
        {
          "output_type": "stream",
          "text": [
            "0.91526\n"
          ],
          "name": "stdout"
        }
      ]
    },
    {
      "cell_type": "code",
      "metadata": {
        "id": "RsqxqeNXCHM2"
      },
      "source": [
        "loaded_model.predict()"
      ],
      "execution_count": null,
      "outputs": []
    },
    {
      "cell_type": "markdown",
      "metadata": {
        "id": "Va0bQ3gPDera"
      },
      "source": [
        "# Appendix"
      ]
    },
    {
      "cell_type": "markdown",
      "metadata": {
        "id": "KSId4_gIKIP_"
      },
      "source": [
        "\n",
        "for application main columns needed are   [userid,movieid,review_text,userrating,actualrating,plot_synopsis]\n",
        "rest all columns such as [msr,usr,gsr,spoiltext,distance]  are then  build from this existing info  using  code given below  in a modified manner\n",
        "and then finally ['msr','usr','gsr','distance','spoiltext','actualrating'] these cols are passed to model for getting a prediction "
      ]
    },
    {
      "cell_type": "code",
      "metadata": {
        "id": "UerkDmY2G6oT"
      },
      "source": [
        "#If used train_test_split earlier for randomly sampled data from entire dataset add these pramas just as we did while training\n",
        "\n",
        "# test0 = pd.merge(test, usr, how = 'left', on = 'user_id')\n",
        "# test0 = pd.merge(test0, msr, how = 'left', on = 'movie_id')\n",
        "# test0['gsr'] = test0.genre.apply(getGenreRatio)+0\n",
        "# test0.review_text = test0.review_text.apply(preprocesstext)\n",
        "# review_embed_test = test.review_text.apply(getAvgWordEmbedding)\n",
        "# plot_embed_test = test.plot_summary.apply(getAvgWordEmbedding)\n",
        "# test0['distance'] = Dist(np.stack(review_embed_test), np.stack(plot_embed_test))\n",
        "#test0['spoiltext'] = test0.review_summary.str.contains('SPOILERS')+0"
      ],
      "execution_count": null,
      "outputs": []
    }
  ]
}