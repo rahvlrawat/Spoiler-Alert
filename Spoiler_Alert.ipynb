{
  "nbformat": 4,
  "nbformat_minor": 0,
  "metadata": {
    "colab": {
      "name": "Spoiler Alert",
      "provenance": [],
      "collapsed_sections": [
        "SM-tqsbcZORw",
        "fiNOjKVrZWVs",
        "6PeC3yp60m_s",
        "6UpLkshnfPyb",
        "3sYllapIhgYy",
        "uuPHWrrgiroi",
        "665NThyrmIVG",
        "frNpwkGGFU5y",
        "39oA5kx6COaA",
        "oKB82RwYo_fh",
        "Va0bQ3gPDera"
      ],
      "mount_file_id": "1SZKtVT3H2148hwuyTk7NEEcJc2euexoP",
      "authorship_tag": "ABX9TyMFrARtEry3izvCgufZCaua",
      "include_colab_link": true
    },
    "kernelspec": {
      "display_name": "Python 3",
      "name": "python3"
    }
  },
  "cells": [
    {
      "cell_type": "markdown",
      "metadata": {
        "id": "view-in-github",
        "colab_type": "text"
      },
      "source": [
        "<a href=\"https://colab.research.google.com/github/rahvlrawat/Spoiler-Alert/blob/main/Spoiler_Alert.ipynb\" target=\"_parent\"><img src=\"https://colab.research.google.com/assets/colab-badge.svg\" alt=\"Open In Colab\"/></a>"
      ]
    },
    {
      "cell_type": "markdown",
      "metadata": {
        "id": "SM-tqsbcZORw"
      },
      "source": [
        "# Imports/Installations "
      ]
    },
    {
      "cell_type": "code",
      "metadata": {
        "id": "TBra12cnLqiw"
      },
      "source": [
        "import os"
      ],
      "execution_count": 1,
      "outputs": []
    },
    {
      "cell_type": "code",
      "metadata": {
        "colab": {
          "base_uri": "https://localhost:8080/"
        },
        "id": "6cyzSD0NVATD",
        "outputId": "1eb0ff2d-0254-45a0-dd0c-e7d03af1f303"
      },
      "source": [
        "os.system('pip install -q kaggle')\n",
        "os.system('mkdir ~/.kaggle')\n",
        "os.system('cp /content/drive/MyDrive/kaggle.json   ~/.kaggle/')\n",
        "os.system('chmod 600 ~/.kaggle/kaggle.json')\n",
        "os.system('kaggle datasets download -d  rmisra/imdb-spoiler-dataset')\n",
        "os.system('kaggle datasets download -d   rtatman/glove-global-vectors-for-word-representation')\n",
        "\n",
        "\n"
      ],
      "execution_count": 2,
      "outputs": [
        {
          "output_type": "execute_result",
          "data": {
            "text/plain": [
              "0"
            ]
          },
          "metadata": {
            "tags": []
          },
          "execution_count": 2
        }
      ]
    },
    {
      "cell_type": "code",
      "metadata": {
        "colab": {
          "base_uri": "https://localhost:8080/"
        },
        "id": "5vaDvghQlBFu",
        "outputId": "99f11bd0-e521-4b19-e526-a6ae5e68f918"
      },
      "source": [
        "os.system('unzip  /content/imdb-spoiler-dataset.zip')"
      ],
      "execution_count": 3,
      "outputs": [
        {
          "output_type": "execute_result",
          "data": {
            "text/plain": [
              "0"
            ]
          },
          "metadata": {
            "tags": []
          },
          "execution_count": 3
        }
      ]
    },
    {
      "cell_type": "code",
      "metadata": {
        "colab": {
          "base_uri": "https://localhost:8080/"
        },
        "id": "nUsGJ1xpkNqn",
        "outputId": "94715191-028b-4707-ce09-054bc4d8ef07"
      },
      "source": [
        "os.system('unzip /content/glove-global-vectors-for-word-representation.zip')"
      ],
      "execution_count": 4,
      "outputs": [
        {
          "output_type": "execute_result",
          "data": {
            "text/plain": [
              "0"
            ]
          },
          "metadata": {
            "tags": []
          },
          "execution_count": 4
        }
      ]
    },
    {
      "cell_type": "code",
      "metadata": {
        "colab": {
          "base_uri": "https://localhost:8080/"
        },
        "id": "LcChG8Np3ban",
        "outputId": "a6123113-f826-44d1-c5ea-c6b256d8a108"
      },
      "source": [
        "pip install --user -U nltk"
      ],
      "execution_count": 5,
      "outputs": [
        {
          "output_type": "stream",
          "text": [
            "Collecting nltk\n",
            "\u001b[?25l  Downloading https://files.pythonhosted.org/packages/92/75/ce35194d8e3022203cca0d2f896dbb88689f9b3fce8e9f9cff942913519d/nltk-3.5.zip (1.4MB)\n",
            "\r\u001b[K     |▎                               | 10kB 13.8MB/s eta 0:00:01\r\u001b[K     |▌                               | 20kB 19.2MB/s eta 0:00:01\r\u001b[K     |▊                               | 30kB 14.8MB/s eta 0:00:01\r\u001b[K     |█                               | 40kB 10.4MB/s eta 0:00:01\r\u001b[K     |█▏                              | 51kB 8.1MB/s eta 0:00:01\r\u001b[K     |█▍                              | 61kB 8.5MB/s eta 0:00:01\r\u001b[K     |█▋                              | 71kB 7.9MB/s eta 0:00:01\r\u001b[K     |█▉                              | 81kB 8.8MB/s eta 0:00:01\r\u001b[K     |██                              | 92kB 8.6MB/s eta 0:00:01\r\u001b[K     |██▎                             | 102kB 8.8MB/s eta 0:00:01\r\u001b[K     |██▌                             | 112kB 8.8MB/s eta 0:00:01\r\u001b[K     |██▊                             | 122kB 8.8MB/s eta 0:00:01\r\u001b[K     |███                             | 133kB 8.8MB/s eta 0:00:01\r\u001b[K     |███▏                            | 143kB 8.8MB/s eta 0:00:01\r\u001b[K     |███▍                            | 153kB 8.8MB/s eta 0:00:01\r\u001b[K     |███▋                            | 163kB 8.8MB/s eta 0:00:01\r\u001b[K     |███▉                            | 174kB 8.8MB/s eta 0:00:01\r\u001b[K     |████▏                           | 184kB 8.8MB/s eta 0:00:01\r\u001b[K     |████▍                           | 194kB 8.8MB/s eta 0:00:01\r\u001b[K     |████▋                           | 204kB 8.8MB/s eta 0:00:01\r\u001b[K     |████▉                           | 215kB 8.8MB/s eta 0:00:01\r\u001b[K     |█████                           | 225kB 8.8MB/s eta 0:00:01\r\u001b[K     |█████▎                          | 235kB 8.8MB/s eta 0:00:01\r\u001b[K     |█████▌                          | 245kB 8.8MB/s eta 0:00:01\r\u001b[K     |█████▊                          | 256kB 8.8MB/s eta 0:00:01\r\u001b[K     |██████                          | 266kB 8.8MB/s eta 0:00:01\r\u001b[K     |██████▏                         | 276kB 8.8MB/s eta 0:00:01\r\u001b[K     |██████▍                         | 286kB 8.8MB/s eta 0:00:01\r\u001b[K     |██████▋                         | 296kB 8.8MB/s eta 0:00:01\r\u001b[K     |██████▉                         | 307kB 8.8MB/s eta 0:00:01\r\u001b[K     |███████                         | 317kB 8.8MB/s eta 0:00:01\r\u001b[K     |███████▎                        | 327kB 8.8MB/s eta 0:00:01\r\u001b[K     |███████▌                        | 337kB 8.8MB/s eta 0:00:01\r\u001b[K     |███████▊                        | 348kB 8.8MB/s eta 0:00:01\r\u001b[K     |████████                        | 358kB 8.8MB/s eta 0:00:01\r\u001b[K     |████████▎                       | 368kB 8.8MB/s eta 0:00:01\r\u001b[K     |████████▌                       | 378kB 8.8MB/s eta 0:00:01\r\u001b[K     |████████▊                       | 389kB 8.8MB/s eta 0:00:01\r\u001b[K     |█████████                       | 399kB 8.8MB/s eta 0:00:01\r\u001b[K     |█████████▏                      | 409kB 8.8MB/s eta 0:00:01\r\u001b[K     |█████████▍                      | 419kB 8.8MB/s eta 0:00:01\r\u001b[K     |█████████▋                      | 430kB 8.8MB/s eta 0:00:01\r\u001b[K     |█████████▉                      | 440kB 8.8MB/s eta 0:00:01\r\u001b[K     |██████████                      | 450kB 8.8MB/s eta 0:00:01\r\u001b[K     |██████████▎                     | 460kB 8.8MB/s eta 0:00:01\r\u001b[K     |██████████▌                     | 471kB 8.8MB/s eta 0:00:01\r\u001b[K     |██████████▊                     | 481kB 8.8MB/s eta 0:00:01\r\u001b[K     |███████████                     | 491kB 8.8MB/s eta 0:00:01\r\u001b[K     |███████████▏                    | 501kB 8.8MB/s eta 0:00:01\r\u001b[K     |███████████▍                    | 512kB 8.8MB/s eta 0:00:01\r\u001b[K     |███████████▋                    | 522kB 8.8MB/s eta 0:00:01\r\u001b[K     |███████████▉                    | 532kB 8.8MB/s eta 0:00:01\r\u001b[K     |████████████▏                   | 542kB 8.8MB/s eta 0:00:01\r\u001b[K     |████████████▍                   | 552kB 8.8MB/s eta 0:00:01\r\u001b[K     |████████████▋                   | 563kB 8.8MB/s eta 0:00:01\r\u001b[K     |████████████▉                   | 573kB 8.8MB/s eta 0:00:01\r\u001b[K     |█████████████                   | 583kB 8.8MB/s eta 0:00:01\r\u001b[K     |█████████████▎                  | 593kB 8.8MB/s eta 0:00:01\r\u001b[K     |█████████████▌                  | 604kB 8.8MB/s eta 0:00:01\r\u001b[K     |█████████████▊                  | 614kB 8.8MB/s eta 0:00:01\r\u001b[K     |██████████████                  | 624kB 8.8MB/s eta 0:00:01\r\u001b[K     |██████████████▏                 | 634kB 8.8MB/s eta 0:00:01\r\u001b[K     |██████████████▍                 | 645kB 8.8MB/s eta 0:00:01\r\u001b[K     |██████████████▋                 | 655kB 8.8MB/s eta 0:00:01\r\u001b[K     |██████████████▉                 | 665kB 8.8MB/s eta 0:00:01\r\u001b[K     |███████████████                 | 675kB 8.8MB/s eta 0:00:01\r\u001b[K     |███████████████▎                | 686kB 8.8MB/s eta 0:00:01\r\u001b[K     |███████████████▌                | 696kB 8.8MB/s eta 0:00:01\r\u001b[K     |███████████████▊                | 706kB 8.8MB/s eta 0:00:01\r\u001b[K     |████████████████                | 716kB 8.8MB/s eta 0:00:01\r\u001b[K     |████████████████▎               | 727kB 8.8MB/s eta 0:00:01\r\u001b[K     |████████████████▌               | 737kB 8.8MB/s eta 0:00:01\r\u001b[K     |████████████████▊               | 747kB 8.8MB/s eta 0:00:01\r\u001b[K     |█████████████████               | 757kB 8.8MB/s eta 0:00:01\r\u001b[K     |█████████████████▏              | 768kB 8.8MB/s eta 0:00:01\r\u001b[K     |█████████████████▍              | 778kB 8.8MB/s eta 0:00:01\r\u001b[K     |█████████████████▋              | 788kB 8.8MB/s eta 0:00:01\r\u001b[K     |█████████████████▉              | 798kB 8.8MB/s eta 0:00:01\r\u001b[K     |██████████████████              | 808kB 8.8MB/s eta 0:00:01\r\u001b[K     |██████████████████▎             | 819kB 8.8MB/s eta 0:00:01\r\u001b[K     |██████████████████▌             | 829kB 8.8MB/s eta 0:00:01\r\u001b[K     |██████████████████▊             | 839kB 8.8MB/s eta 0:00:01\r\u001b[K     |███████████████████             | 849kB 8.8MB/s eta 0:00:01\r\u001b[K     |███████████████████▏            | 860kB 8.8MB/s eta 0:00:01\r\u001b[K     |███████████████████▍            | 870kB 8.8MB/s eta 0:00:01\r\u001b[K     |███████████████████▋            | 880kB 8.8MB/s eta 0:00:01\r\u001b[K     |███████████████████▉            | 890kB 8.8MB/s eta 0:00:01\r\u001b[K     |████████████████████▏           | 901kB 8.8MB/s eta 0:00:01\r\u001b[K     |████████████████████▍           | 911kB 8.8MB/s eta 0:00:01\r\u001b[K     |████████████████████▋           | 921kB 8.8MB/s eta 0:00:01\r\u001b[K     |████████████████████▉           | 931kB 8.8MB/s eta 0:00:01\r\u001b[K     |█████████████████████           | 942kB 8.8MB/s eta 0:00:01\r\u001b[K     |█████████████████████▎          | 952kB 8.8MB/s eta 0:00:01\r\u001b[K     |█████████████████████▌          | 962kB 8.8MB/s eta 0:00:01\r\u001b[K     |█████████████████████▊          | 972kB 8.8MB/s eta 0:00:01\r\u001b[K     |██████████████████████          | 983kB 8.8MB/s eta 0:00:01\r\u001b[K     |██████████████████████▏         | 993kB 8.8MB/s eta 0:00:01\r\u001b[K     |██████████████████████▍         | 1.0MB 8.8MB/s eta 0:00:01\r\u001b[K     |██████████████████████▋         | 1.0MB 8.8MB/s eta 0:00:01\r\u001b[K     |██████████████████████▉         | 1.0MB 8.8MB/s eta 0:00:01\r\u001b[K     |███████████████████████         | 1.0MB 8.8MB/s eta 0:00:01\r\u001b[K     |███████████████████████▎        | 1.0MB 8.8MB/s eta 0:00:01\r\u001b[K     |███████████████████████▌        | 1.1MB 8.8MB/s eta 0:00:01\r\u001b[K     |███████████████████████▊        | 1.1MB 8.8MB/s eta 0:00:01\r\u001b[K     |████████████████████████        | 1.1MB 8.8MB/s eta 0:00:01\r\u001b[K     |████████████████████████▎       | 1.1MB 8.8MB/s eta 0:00:01\r\u001b[K     |████████████████████████▌       | 1.1MB 8.8MB/s eta 0:00:01\r\u001b[K     |████████████████████████▊       | 1.1MB 8.8MB/s eta 0:00:01\r\u001b[K     |█████████████████████████       | 1.1MB 8.8MB/s eta 0:00:01\r\u001b[K     |█████████████████████████▏      | 1.1MB 8.8MB/s eta 0:00:01\r\u001b[K     |█████████████████████████▍      | 1.1MB 8.8MB/s eta 0:00:01\r\u001b[K     |█████████████████████████▋      | 1.1MB 8.8MB/s eta 0:00:01\r\u001b[K     |█████████████████████████▉      | 1.2MB 8.8MB/s eta 0:00:01\r\u001b[K     |██████████████████████████      | 1.2MB 8.8MB/s eta 0:00:01\r\u001b[K     |██████████████████████████▎     | 1.2MB 8.8MB/s eta 0:00:01\r\u001b[K     |██████████████████████████▌     | 1.2MB 8.8MB/s eta 0:00:01\r\u001b[K     |██████████████████████████▊     | 1.2MB 8.8MB/s eta 0:00:01\r\u001b[K     |███████████████████████████     | 1.2MB 8.8MB/s eta 0:00:01\r\u001b[K     |███████████████████████████▏    | 1.2MB 8.8MB/s eta 0:00:01\r\u001b[K     |███████████████████████████▍    | 1.2MB 8.8MB/s eta 0:00:01\r\u001b[K     |███████████████████████████▋    | 1.2MB 8.8MB/s eta 0:00:01\r\u001b[K     |███████████████████████████▉    | 1.2MB 8.8MB/s eta 0:00:01\r\u001b[K     |████████████████████████████▏   | 1.3MB 8.8MB/s eta 0:00:01\r\u001b[K     |████████████████████████████▍   | 1.3MB 8.8MB/s eta 0:00:01\r\u001b[K     |████████████████████████████▋   | 1.3MB 8.8MB/s eta 0:00:01\r\u001b[K     |████████████████████████████▉   | 1.3MB 8.8MB/s eta 0:00:01\r\u001b[K     |█████████████████████████████   | 1.3MB 8.8MB/s eta 0:00:01\r\u001b[K     |█████████████████████████████▎  | 1.3MB 8.8MB/s eta 0:00:01\r\u001b[K     |█████████████████████████████▌  | 1.3MB 8.8MB/s eta 0:00:01\r\u001b[K     |█████████████████████████████▊  | 1.3MB 8.8MB/s eta 0:00:01\r\u001b[K     |██████████████████████████████  | 1.3MB 8.8MB/s eta 0:00:01\r\u001b[K     |██████████████████████████████▏ | 1.4MB 8.8MB/s eta 0:00:01\r\u001b[K     |██████████████████████████████▍ | 1.4MB 8.8MB/s eta 0:00:01\r\u001b[K     |██████████████████████████████▋ | 1.4MB 8.8MB/s eta 0:00:01\r\u001b[K     |██████████████████████████████▉ | 1.4MB 8.8MB/s eta 0:00:01\r\u001b[K     |███████████████████████████████ | 1.4MB 8.8MB/s eta 0:00:01\r\u001b[K     |███████████████████████████████▎| 1.4MB 8.8MB/s eta 0:00:01\r\u001b[K     |███████████████████████████████▌| 1.4MB 8.8MB/s eta 0:00:01\r\u001b[K     |███████████████████████████████▊| 1.4MB 8.8MB/s eta 0:00:01\r\u001b[K     |████████████████████████████████| 1.4MB 8.8MB/s \n",
            "\u001b[?25hRequirement already satisfied, skipping upgrade: click in /usr/local/lib/python3.6/dist-packages (from nltk) (7.1.2)\n",
            "Requirement already satisfied, skipping upgrade: joblib in /usr/local/lib/python3.6/dist-packages (from nltk) (0.17.0)\n",
            "Requirement already satisfied, skipping upgrade: regex in /usr/local/lib/python3.6/dist-packages (from nltk) (2019.12.20)\n",
            "Requirement already satisfied, skipping upgrade: tqdm in /usr/local/lib/python3.6/dist-packages (from nltk) (4.41.1)\n",
            "Building wheels for collected packages: nltk\n",
            "  Building wheel for nltk (setup.py) ... \u001b[?25l\u001b[?25hdone\n",
            "  Created wheel for nltk: filename=nltk-3.5-cp36-none-any.whl size=1434677 sha256=388f65891530ee95b65b62ced97bf45deb402eed91fbef8d987e0d98e29b81d4\n",
            "  Stored in directory: /root/.cache/pip/wheels/ae/8c/3f/b1fe0ba04555b08b57ab52ab7f86023639a526d8bc8d384306\n",
            "Successfully built nltk\n",
            "Installing collected packages: nltk\n",
            "\u001b[33m  WARNING: The script nltk is installed in '/root/.local/bin' which is not on PATH.\n",
            "  Consider adding this directory to PATH or, if you prefer to suppress this warning, use --no-warn-script-location.\u001b[0m\n",
            "Successfully installed nltk-3.5\n"
          ],
          "name": "stdout"
        }
      ]
    },
    {
      "cell_type": "code",
      "metadata": {
        "id": "JvGJVOuZZZge"
      },
      "source": [
        "import pandas as pd\n",
        "import numpy as np\n",
        "import seaborn as sns\n",
        "import matplotlib.pyplot as plt\n",
        "from numpy.linalg import norm\n",
        "from datetime import datetime\n",
        "import re\n",
        "from wordcloud import WordCloud, STOPWORDS\n",
        "from collections import Counter\n",
        "from sklearn import preprocessing\n",
        "from sklearn.model_selection import train_test_split\n",
        "from sklearn.metrics import confusion_matrix, classification_report, precision_recall_curve\n",
        "from sklearn.linear_model import LogisticRegression\n",
        "from sklearn.metrics import mean_squared_error\n",
        "from sklearn.ensemble import RandomForestClassifier\n",
        "from sklearn.metrics import roc_auc_score\n",
        "import sklearn.metrics as metrics\n",
        "import matplotlib.pyplot as plt\n",
        "from sklearn import svm\n",
        "import re\n",
        "import nltk\n",
        "from nltk.corpus import stopwords\n",
        "import pickle"
      ],
      "execution_count": 6,
      "outputs": []
    },
    {
      "cell_type": "markdown",
      "metadata": {
        "id": "fiNOjKVrZWVs"
      },
      "source": [
        "# Data Preprocessing"
      ]
    },
    {
      "cell_type": "code",
      "metadata": {
        "id": "wlDJOp1oU97e"
      },
      "source": [
        "df_reviews = pd.read_json('/content/IMDB_reviews.json', lines=True)\n",
        "df_details = pd.read_json('/content/IMDB_movie_details.json', lines=True)\n"
      ],
      "execution_count": 7,
      "outputs": []
    },
    {
      "cell_type": "code",
      "metadata": {
        "colab": {
          "base_uri": "https://localhost:8080/",
          "height": 0
        },
        "id": "tOz_c6cXac2O",
        "outputId": "f457a68d-e360-4b02-b574-abd2832c726e"
      },
      "source": [
        "df_reviews.head()"
      ],
      "execution_count": 8,
      "outputs": [
        {
          "output_type": "execute_result",
          "data": {
            "text/html": [
              "<div>\n",
              "<style scoped>\n",
              "    .dataframe tbody tr th:only-of-type {\n",
              "        vertical-align: middle;\n",
              "    }\n",
              "\n",
              "    .dataframe tbody tr th {\n",
              "        vertical-align: top;\n",
              "    }\n",
              "\n",
              "    .dataframe thead th {\n",
              "        text-align: right;\n",
              "    }\n",
              "</style>\n",
              "<table border=\"1\" class=\"dataframe\">\n",
              "  <thead>\n",
              "    <tr style=\"text-align: right;\">\n",
              "      <th></th>\n",
              "      <th>review_date</th>\n",
              "      <th>movie_id</th>\n",
              "      <th>user_id</th>\n",
              "      <th>is_spoiler</th>\n",
              "      <th>review_text</th>\n",
              "      <th>rating</th>\n",
              "      <th>review_summary</th>\n",
              "    </tr>\n",
              "  </thead>\n",
              "  <tbody>\n",
              "    <tr>\n",
              "      <th>0</th>\n",
              "      <td>10 February 2006</td>\n",
              "      <td>tt0111161</td>\n",
              "      <td>ur1898687</td>\n",
              "      <td>True</td>\n",
              "      <td>In its Oscar year, Shawshank Redemption (writt...</td>\n",
              "      <td>10</td>\n",
              "      <td>A classic piece of unforgettable film-making.</td>\n",
              "    </tr>\n",
              "    <tr>\n",
              "      <th>1</th>\n",
              "      <td>6 September 2000</td>\n",
              "      <td>tt0111161</td>\n",
              "      <td>ur0842118</td>\n",
              "      <td>True</td>\n",
              "      <td>The Shawshank Redemption is without a doubt on...</td>\n",
              "      <td>10</td>\n",
              "      <td>Simply amazing. The best film of the 90's.</td>\n",
              "    </tr>\n",
              "    <tr>\n",
              "      <th>2</th>\n",
              "      <td>3 August 2001</td>\n",
              "      <td>tt0111161</td>\n",
              "      <td>ur1285640</td>\n",
              "      <td>True</td>\n",
              "      <td>I believe that this film is the best story eve...</td>\n",
              "      <td>8</td>\n",
              "      <td>The best story ever told on film</td>\n",
              "    </tr>\n",
              "    <tr>\n",
              "      <th>3</th>\n",
              "      <td>1 September 2002</td>\n",
              "      <td>tt0111161</td>\n",
              "      <td>ur1003471</td>\n",
              "      <td>True</td>\n",
              "      <td>**Yes, there are SPOILERS here**This film has ...</td>\n",
              "      <td>10</td>\n",
              "      <td>Busy dying or busy living?</td>\n",
              "    </tr>\n",
              "    <tr>\n",
              "      <th>4</th>\n",
              "      <td>20 May 2004</td>\n",
              "      <td>tt0111161</td>\n",
              "      <td>ur0226855</td>\n",
              "      <td>True</td>\n",
              "      <td>At the heart of this extraordinary movie is a ...</td>\n",
              "      <td>8</td>\n",
              "      <td>Great story, wondrously told and acted</td>\n",
              "    </tr>\n",
              "  </tbody>\n",
              "</table>\n",
              "</div>"
            ],
            "text/plain": [
              "        review_date  ...                                 review_summary\n",
              "0  10 February 2006  ...  A classic piece of unforgettable film-making.\n",
              "1  6 September 2000  ...     Simply amazing. The best film of the 90's.\n",
              "2     3 August 2001  ...               The best story ever told on film\n",
              "3  1 September 2002  ...                     Busy dying or busy living?\n",
              "4       20 May 2004  ...         Great story, wondrously told and acted\n",
              "\n",
              "[5 rows x 7 columns]"
            ]
          },
          "metadata": {
            "tags": []
          },
          "execution_count": 8
        }
      ]
    },
    {
      "cell_type": "code",
      "metadata": {
        "colab": {
          "base_uri": "https://localhost:8080/",
          "height": 0
        },
        "id": "D9WBnTpVaf23",
        "outputId": "7b17256c-37c8-45b5-c517-e8c5e47ea295"
      },
      "source": [
        "df_details.head()"
      ],
      "execution_count": 9,
      "outputs": [
        {
          "output_type": "execute_result",
          "data": {
            "text/html": [
              "<div>\n",
              "<style scoped>\n",
              "    .dataframe tbody tr th:only-of-type {\n",
              "        vertical-align: middle;\n",
              "    }\n",
              "\n",
              "    .dataframe tbody tr th {\n",
              "        vertical-align: top;\n",
              "    }\n",
              "\n",
              "    .dataframe thead th {\n",
              "        text-align: right;\n",
              "    }\n",
              "</style>\n",
              "<table border=\"1\" class=\"dataframe\">\n",
              "  <thead>\n",
              "    <tr style=\"text-align: right;\">\n",
              "      <th></th>\n",
              "      <th>movie_id</th>\n",
              "      <th>plot_summary</th>\n",
              "      <th>duration</th>\n",
              "      <th>genre</th>\n",
              "      <th>rating</th>\n",
              "      <th>release_date</th>\n",
              "      <th>plot_synopsis</th>\n",
              "    </tr>\n",
              "  </thead>\n",
              "  <tbody>\n",
              "    <tr>\n",
              "      <th>0</th>\n",
              "      <td>tt0105112</td>\n",
              "      <td>Former CIA analyst, Jack Ryan is in England wi...</td>\n",
              "      <td>1h 57min</td>\n",
              "      <td>[Action, Thriller]</td>\n",
              "      <td>6.9</td>\n",
              "      <td>1992-06-05</td>\n",
              "      <td>Jack Ryan (Ford) is on a \"working vacation\" in...</td>\n",
              "    </tr>\n",
              "    <tr>\n",
              "      <th>1</th>\n",
              "      <td>tt1204975</td>\n",
              "      <td>Billy (Michael Douglas), Paddy (Robert De Niro...</td>\n",
              "      <td>1h 45min</td>\n",
              "      <td>[Comedy]</td>\n",
              "      <td>6.6</td>\n",
              "      <td>2013-11-01</td>\n",
              "      <td>Four boys around the age of 10 are friends in ...</td>\n",
              "    </tr>\n",
              "    <tr>\n",
              "      <th>2</th>\n",
              "      <td>tt0243655</td>\n",
              "      <td>The setting is Camp Firewood, the year 1981. I...</td>\n",
              "      <td>1h 37min</td>\n",
              "      <td>[Comedy, Romance]</td>\n",
              "      <td>6.7</td>\n",
              "      <td>2002-04-11</td>\n",
              "      <td></td>\n",
              "    </tr>\n",
              "    <tr>\n",
              "      <th>3</th>\n",
              "      <td>tt0040897</td>\n",
              "      <td>Fred C. Dobbs and Bob Curtin, both down on the...</td>\n",
              "      <td>2h 6min</td>\n",
              "      <td>[Adventure, Drama, Western]</td>\n",
              "      <td>8.3</td>\n",
              "      <td>1948-01-24</td>\n",
              "      <td>Fred Dobbs (Humphrey Bogart) and Bob Curtin (T...</td>\n",
              "    </tr>\n",
              "    <tr>\n",
              "      <th>4</th>\n",
              "      <td>tt0126886</td>\n",
              "      <td>Tracy Flick is running unopposed for this year...</td>\n",
              "      <td>1h 43min</td>\n",
              "      <td>[Comedy, Drama, Romance]</td>\n",
              "      <td>7.3</td>\n",
              "      <td>1999-05-07</td>\n",
              "      <td>Jim McAllister (Matthew Broderick) is a much-a...</td>\n",
              "    </tr>\n",
              "  </tbody>\n",
              "</table>\n",
              "</div>"
            ],
            "text/plain": [
              "    movie_id  ...                                      plot_synopsis\n",
              "0  tt0105112  ...  Jack Ryan (Ford) is on a \"working vacation\" in...\n",
              "1  tt1204975  ...  Four boys around the age of 10 are friends in ...\n",
              "2  tt0243655  ...                                                   \n",
              "3  tt0040897  ...  Fred Dobbs (Humphrey Bogart) and Bob Curtin (T...\n",
              "4  tt0126886  ...  Jim McAllister (Matthew Broderick) is a much-a...\n",
              "\n",
              "[5 rows x 7 columns]"
            ]
          },
          "metadata": {
            "tags": []
          },
          "execution_count": 9
        }
      ]
    },
    {
      "cell_type": "code",
      "metadata": {
        "colab": {
          "base_uri": "https://localhost:8080/"
        },
        "id": "MZSz7lxMaxnO",
        "outputId": "7f33ef74-ac44-4bcb-a41f-13a078cdeb19"
      },
      "source": [
        "df_reviews.columns"
      ],
      "execution_count": 10,
      "outputs": [
        {
          "output_type": "execute_result",
          "data": {
            "text/plain": [
              "Index(['review_date', 'movie_id', 'user_id', 'is_spoiler', 'review_text',\n",
              "       'rating', 'review_summary'],\n",
              "      dtype='object')"
            ]
          },
          "metadata": {
            "tags": []
          },
          "execution_count": 10
        }
      ]
    },
    {
      "cell_type": "code",
      "metadata": {
        "colab": {
          "base_uri": "https://localhost:8080/"
        },
        "id": "BzCG9WeVa0gs",
        "outputId": "f1792237-4cfa-47a1-bb39-3826ed274544"
      },
      "source": [
        "df_details.columns"
      ],
      "execution_count": 11,
      "outputs": [
        {
          "output_type": "execute_result",
          "data": {
            "text/plain": [
              "Index(['movie_id', 'plot_summary', 'duration', 'genre', 'rating',\n",
              "       'release_date', 'plot_synopsis'],\n",
              "      dtype='object')"
            ]
          },
          "metadata": {
            "tags": []
          },
          "execution_count": 11
        }
      ]
    },
    {
      "cell_type": "code",
      "metadata": {
        "id": "rY4wKRSha3wZ"
      },
      "source": [
        "df=pd.merge(df_reviews,df_details,on='movie_id')"
      ],
      "execution_count": 12,
      "outputs": []
    },
    {
      "cell_type": "code",
      "metadata": {
        "colab": {
          "base_uri": "https://localhost:8080/"
        },
        "id": "4_ud-o1tb1fx",
        "outputId": "e8823bb0-218b-4375-cbd8-7f42194c8dbb"
      },
      "source": [
        "df.columns"
      ],
      "execution_count": 13,
      "outputs": [
        {
          "output_type": "execute_result",
          "data": {
            "text/plain": [
              "Index(['review_date', 'movie_id', 'user_id', 'is_spoiler', 'review_text',\n",
              "       'rating_x', 'review_summary', 'plot_summary', 'duration', 'genre',\n",
              "       'rating_y', 'release_date', 'plot_synopsis'],\n",
              "      dtype='object')"
            ]
          },
          "metadata": {
            "tags": []
          },
          "execution_count": 13
        }
      ]
    },
    {
      "cell_type": "code",
      "metadata": {
        "colab": {
          "base_uri": "https://localhost:8080/",
          "height": 0
        },
        "id": "h5b-F2V9dn87",
        "outputId": "7d426db4-5856-4d76-92de-db0f95fb11e4"
      },
      "source": [
        "df.head()"
      ],
      "execution_count": 14,
      "outputs": [
        {
          "output_type": "execute_result",
          "data": {
            "text/html": [
              "<div>\n",
              "<style scoped>\n",
              "    .dataframe tbody tr th:only-of-type {\n",
              "        vertical-align: middle;\n",
              "    }\n",
              "\n",
              "    .dataframe tbody tr th {\n",
              "        vertical-align: top;\n",
              "    }\n",
              "\n",
              "    .dataframe thead th {\n",
              "        text-align: right;\n",
              "    }\n",
              "</style>\n",
              "<table border=\"1\" class=\"dataframe\">\n",
              "  <thead>\n",
              "    <tr style=\"text-align: right;\">\n",
              "      <th></th>\n",
              "      <th>review_date</th>\n",
              "      <th>movie_id</th>\n",
              "      <th>user_id</th>\n",
              "      <th>is_spoiler</th>\n",
              "      <th>review_text</th>\n",
              "      <th>rating_x</th>\n",
              "      <th>review_summary</th>\n",
              "      <th>plot_summary</th>\n",
              "      <th>duration</th>\n",
              "      <th>genre</th>\n",
              "      <th>rating_y</th>\n",
              "      <th>release_date</th>\n",
              "      <th>plot_synopsis</th>\n",
              "    </tr>\n",
              "  </thead>\n",
              "  <tbody>\n",
              "    <tr>\n",
              "      <th>0</th>\n",
              "      <td>10 February 2006</td>\n",
              "      <td>tt0111161</td>\n",
              "      <td>ur1898687</td>\n",
              "      <td>True</td>\n",
              "      <td>In its Oscar year, Shawshank Redemption (writt...</td>\n",
              "      <td>10</td>\n",
              "      <td>A classic piece of unforgettable film-making.</td>\n",
              "      <td>Chronicles the experiences of a formerly succe...</td>\n",
              "      <td>2h 22min</td>\n",
              "      <td>[Crime, Drama]</td>\n",
              "      <td>9.3</td>\n",
              "      <td>1994-10-14</td>\n",
              "      <td>In 1947, Andy Dufresne (Tim Robbins), a banker...</td>\n",
              "    </tr>\n",
              "    <tr>\n",
              "      <th>1</th>\n",
              "      <td>6 September 2000</td>\n",
              "      <td>tt0111161</td>\n",
              "      <td>ur0842118</td>\n",
              "      <td>True</td>\n",
              "      <td>The Shawshank Redemption is without a doubt on...</td>\n",
              "      <td>10</td>\n",
              "      <td>Simply amazing. The best film of the 90's.</td>\n",
              "      <td>Chronicles the experiences of a formerly succe...</td>\n",
              "      <td>2h 22min</td>\n",
              "      <td>[Crime, Drama]</td>\n",
              "      <td>9.3</td>\n",
              "      <td>1994-10-14</td>\n",
              "      <td>In 1947, Andy Dufresne (Tim Robbins), a banker...</td>\n",
              "    </tr>\n",
              "    <tr>\n",
              "      <th>2</th>\n",
              "      <td>3 August 2001</td>\n",
              "      <td>tt0111161</td>\n",
              "      <td>ur1285640</td>\n",
              "      <td>True</td>\n",
              "      <td>I believe that this film is the best story eve...</td>\n",
              "      <td>8</td>\n",
              "      <td>The best story ever told on film</td>\n",
              "      <td>Chronicles the experiences of a formerly succe...</td>\n",
              "      <td>2h 22min</td>\n",
              "      <td>[Crime, Drama]</td>\n",
              "      <td>9.3</td>\n",
              "      <td>1994-10-14</td>\n",
              "      <td>In 1947, Andy Dufresne (Tim Robbins), a banker...</td>\n",
              "    </tr>\n",
              "    <tr>\n",
              "      <th>3</th>\n",
              "      <td>1 September 2002</td>\n",
              "      <td>tt0111161</td>\n",
              "      <td>ur1003471</td>\n",
              "      <td>True</td>\n",
              "      <td>**Yes, there are SPOILERS here**This film has ...</td>\n",
              "      <td>10</td>\n",
              "      <td>Busy dying or busy living?</td>\n",
              "      <td>Chronicles the experiences of a formerly succe...</td>\n",
              "      <td>2h 22min</td>\n",
              "      <td>[Crime, Drama]</td>\n",
              "      <td>9.3</td>\n",
              "      <td>1994-10-14</td>\n",
              "      <td>In 1947, Andy Dufresne (Tim Robbins), a banker...</td>\n",
              "    </tr>\n",
              "    <tr>\n",
              "      <th>4</th>\n",
              "      <td>20 May 2004</td>\n",
              "      <td>tt0111161</td>\n",
              "      <td>ur0226855</td>\n",
              "      <td>True</td>\n",
              "      <td>At the heart of this extraordinary movie is a ...</td>\n",
              "      <td>8</td>\n",
              "      <td>Great story, wondrously told and acted</td>\n",
              "      <td>Chronicles the experiences of a formerly succe...</td>\n",
              "      <td>2h 22min</td>\n",
              "      <td>[Crime, Drama]</td>\n",
              "      <td>9.3</td>\n",
              "      <td>1994-10-14</td>\n",
              "      <td>In 1947, Andy Dufresne (Tim Robbins), a banker...</td>\n",
              "    </tr>\n",
              "  </tbody>\n",
              "</table>\n",
              "</div>"
            ],
            "text/plain": [
              "        review_date  ...                                      plot_synopsis\n",
              "0  10 February 2006  ...  In 1947, Andy Dufresne (Tim Robbins), a banker...\n",
              "1  6 September 2000  ...  In 1947, Andy Dufresne (Tim Robbins), a banker...\n",
              "2     3 August 2001  ...  In 1947, Andy Dufresne (Tim Robbins), a banker...\n",
              "3  1 September 2002  ...  In 1947, Andy Dufresne (Tim Robbins), a banker...\n",
              "4       20 May 2004  ...  In 1947, Andy Dufresne (Tim Robbins), a banker...\n",
              "\n",
              "[5 rows x 13 columns]"
            ]
          },
          "metadata": {
            "tags": []
          },
          "execution_count": 14
        }
      ]
    },
    {
      "cell_type": "code",
      "metadata": {
        "id": "rHfb6-0Zb1bv"
      },
      "source": [
        "df.rename(columns = {'rating_x':'userrating','rating_y':'actualrating'}, inplace = True)"
      ],
      "execution_count": 15,
      "outputs": []
    },
    {
      "cell_type": "code",
      "metadata": {
        "id": "GMHylc-ab1WN"
      },
      "source": [
        "df['is_spoiler']=df['is_spoiler']+0"
      ],
      "execution_count": 16,
      "outputs": []
    },
    {
      "cell_type": "code",
      "metadata": {
        "id": "EkYAvPR5laEW"
      },
      "source": [
        "\n",
        "#df[\"days_elapsed\"]=abs(df[\"review_date\"]-df[\"release_date\"]).dt.days"
      ],
      "execution_count": 17,
      "outputs": []
    },
    {
      "cell_type": "code",
      "metadata": {
        "colab": {
          "base_uri": "https://localhost:8080/",
          "height": 0
        },
        "id": "dcdaPlI1mVly",
        "outputId": "aa7b8598-8cc9-46fb-f421-0aab3d744f8e"
      },
      "source": [
        "df.head()"
      ],
      "execution_count": 18,
      "outputs": [
        {
          "output_type": "execute_result",
          "data": {
            "text/html": [
              "<div>\n",
              "<style scoped>\n",
              "    .dataframe tbody tr th:only-of-type {\n",
              "        vertical-align: middle;\n",
              "    }\n",
              "\n",
              "    .dataframe tbody tr th {\n",
              "        vertical-align: top;\n",
              "    }\n",
              "\n",
              "    .dataframe thead th {\n",
              "        text-align: right;\n",
              "    }\n",
              "</style>\n",
              "<table border=\"1\" class=\"dataframe\">\n",
              "  <thead>\n",
              "    <tr style=\"text-align: right;\">\n",
              "      <th></th>\n",
              "      <th>review_date</th>\n",
              "      <th>movie_id</th>\n",
              "      <th>user_id</th>\n",
              "      <th>is_spoiler</th>\n",
              "      <th>review_text</th>\n",
              "      <th>userrating</th>\n",
              "      <th>review_summary</th>\n",
              "      <th>plot_summary</th>\n",
              "      <th>duration</th>\n",
              "      <th>genre</th>\n",
              "      <th>actualrating</th>\n",
              "      <th>release_date</th>\n",
              "      <th>plot_synopsis</th>\n",
              "    </tr>\n",
              "  </thead>\n",
              "  <tbody>\n",
              "    <tr>\n",
              "      <th>0</th>\n",
              "      <td>10 February 2006</td>\n",
              "      <td>tt0111161</td>\n",
              "      <td>ur1898687</td>\n",
              "      <td>1</td>\n",
              "      <td>In its Oscar year, Shawshank Redemption (writt...</td>\n",
              "      <td>10</td>\n",
              "      <td>A classic piece of unforgettable film-making.</td>\n",
              "      <td>Chronicles the experiences of a formerly succe...</td>\n",
              "      <td>2h 22min</td>\n",
              "      <td>[Crime, Drama]</td>\n",
              "      <td>9.3</td>\n",
              "      <td>1994-10-14</td>\n",
              "      <td>In 1947, Andy Dufresne (Tim Robbins), a banker...</td>\n",
              "    </tr>\n",
              "    <tr>\n",
              "      <th>1</th>\n",
              "      <td>6 September 2000</td>\n",
              "      <td>tt0111161</td>\n",
              "      <td>ur0842118</td>\n",
              "      <td>1</td>\n",
              "      <td>The Shawshank Redemption is without a doubt on...</td>\n",
              "      <td>10</td>\n",
              "      <td>Simply amazing. The best film of the 90's.</td>\n",
              "      <td>Chronicles the experiences of a formerly succe...</td>\n",
              "      <td>2h 22min</td>\n",
              "      <td>[Crime, Drama]</td>\n",
              "      <td>9.3</td>\n",
              "      <td>1994-10-14</td>\n",
              "      <td>In 1947, Andy Dufresne (Tim Robbins), a banker...</td>\n",
              "    </tr>\n",
              "    <tr>\n",
              "      <th>2</th>\n",
              "      <td>3 August 2001</td>\n",
              "      <td>tt0111161</td>\n",
              "      <td>ur1285640</td>\n",
              "      <td>1</td>\n",
              "      <td>I believe that this film is the best story eve...</td>\n",
              "      <td>8</td>\n",
              "      <td>The best story ever told on film</td>\n",
              "      <td>Chronicles the experiences of a formerly succe...</td>\n",
              "      <td>2h 22min</td>\n",
              "      <td>[Crime, Drama]</td>\n",
              "      <td>9.3</td>\n",
              "      <td>1994-10-14</td>\n",
              "      <td>In 1947, Andy Dufresne (Tim Robbins), a banker...</td>\n",
              "    </tr>\n",
              "    <tr>\n",
              "      <th>3</th>\n",
              "      <td>1 September 2002</td>\n",
              "      <td>tt0111161</td>\n",
              "      <td>ur1003471</td>\n",
              "      <td>1</td>\n",
              "      <td>**Yes, there are SPOILERS here**This film has ...</td>\n",
              "      <td>10</td>\n",
              "      <td>Busy dying or busy living?</td>\n",
              "      <td>Chronicles the experiences of a formerly succe...</td>\n",
              "      <td>2h 22min</td>\n",
              "      <td>[Crime, Drama]</td>\n",
              "      <td>9.3</td>\n",
              "      <td>1994-10-14</td>\n",
              "      <td>In 1947, Andy Dufresne (Tim Robbins), a banker...</td>\n",
              "    </tr>\n",
              "    <tr>\n",
              "      <th>4</th>\n",
              "      <td>20 May 2004</td>\n",
              "      <td>tt0111161</td>\n",
              "      <td>ur0226855</td>\n",
              "      <td>1</td>\n",
              "      <td>At the heart of this extraordinary movie is a ...</td>\n",
              "      <td>8</td>\n",
              "      <td>Great story, wondrously told and acted</td>\n",
              "      <td>Chronicles the experiences of a formerly succe...</td>\n",
              "      <td>2h 22min</td>\n",
              "      <td>[Crime, Drama]</td>\n",
              "      <td>9.3</td>\n",
              "      <td>1994-10-14</td>\n",
              "      <td>In 1947, Andy Dufresne (Tim Robbins), a banker...</td>\n",
              "    </tr>\n",
              "  </tbody>\n",
              "</table>\n",
              "</div>"
            ],
            "text/plain": [
              "        review_date  ...                                      plot_synopsis\n",
              "0  10 February 2006  ...  In 1947, Andy Dufresne (Tim Robbins), a banker...\n",
              "1  6 September 2000  ...  In 1947, Andy Dufresne (Tim Robbins), a banker...\n",
              "2     3 August 2001  ...  In 1947, Andy Dufresne (Tim Robbins), a banker...\n",
              "3  1 September 2002  ...  In 1947, Andy Dufresne (Tim Robbins), a banker...\n",
              "4       20 May 2004  ...  In 1947, Andy Dufresne (Tim Robbins), a banker...\n",
              "\n",
              "[5 rows x 13 columns]"
            ]
          },
          "metadata": {
            "tags": []
          },
          "execution_count": 18
        }
      ]
    },
    {
      "cell_type": "markdown",
      "metadata": {
        "id": "6PeC3yp60m_s"
      },
      "source": [
        "# Exploratory Analysis\n",
        " \n"
      ]
    },
    {
      "cell_type": "code",
      "metadata": {
        "colab": {
          "base_uri": "https://localhost:8080/"
        },
        "id": "uoLyMDzyVNqq",
        "outputId": "7ba69a63-9698-47e7-fc24-b0c73c7e720c"
      },
      "source": [
        "df.dtypes"
      ],
      "execution_count": 19,
      "outputs": [
        {
          "output_type": "execute_result",
          "data": {
            "text/plain": [
              "review_date        object\n",
              "movie_id           object\n",
              "user_id            object\n",
              "is_spoiler          int64\n",
              "review_text        object\n",
              "userrating          int64\n",
              "review_summary     object\n",
              "plot_summary       object\n",
              "duration           object\n",
              "genre              object\n",
              "actualrating      float64\n",
              "release_date       object\n",
              "plot_synopsis      object\n",
              "dtype: object"
            ]
          },
          "metadata": {
            "tags": []
          },
          "execution_count": 19
        }
      ]
    },
    {
      "cell_type": "markdown",
      "metadata": {
        "id": "NQg70oN-AkMe"
      },
      "source": [
        "As can be seen from data both review date and review date are here as object dtype but to use it  will have to convert these into datetime format for proper analysis"
      ]
    },
    {
      "cell_type": "code",
      "metadata": {
        "id": "hITVwOpx6y08"
      },
      "source": [
        "df[\"review_date\"]=pd.to_datetime(df[\"review_date\"])\n",
        "df[\"release_date\"]=pd.to_datetime(df[\"release_date\"])"
      ],
      "execution_count": 20,
      "outputs": []
    },
    {
      "cell_type": "code",
      "metadata": {
        "colab": {
          "base_uri": "https://localhost:8080/"
        },
        "id": "u4XoZ5wm8vhg",
        "outputId": "8c75b293-988a-4789-8860-03b5ff5f257e"
      },
      "source": [
        "df.dtypes"
      ],
      "execution_count": 21,
      "outputs": [
        {
          "output_type": "execute_result",
          "data": {
            "text/plain": [
              "review_date       datetime64[ns]\n",
              "movie_id                  object\n",
              "user_id                   object\n",
              "is_spoiler                 int64\n",
              "review_text               object\n",
              "userrating                 int64\n",
              "review_summary            object\n",
              "plot_summary              object\n",
              "duration                  object\n",
              "genre                     object\n",
              "actualrating             float64\n",
              "release_date      datetime64[ns]\n",
              "plot_synopsis             object\n",
              "dtype: object"
            ]
          },
          "metadata": {
            "tags": []
          },
          "execution_count": 21
        }
      ]
    },
    {
      "cell_type": "code",
      "metadata": {
        "colab": {
          "base_uri": "https://localhost:8080/",
          "height": 0
        },
        "id": "ws9N9IYCBaoK",
        "outputId": "b43ff061-5096-4ffb-8c78-d25210c78236"
      },
      "source": [
        "df.head()"
      ],
      "execution_count": 22,
      "outputs": [
        {
          "output_type": "execute_result",
          "data": {
            "text/html": [
              "<div>\n",
              "<style scoped>\n",
              "    .dataframe tbody tr th:only-of-type {\n",
              "        vertical-align: middle;\n",
              "    }\n",
              "\n",
              "    .dataframe tbody tr th {\n",
              "        vertical-align: top;\n",
              "    }\n",
              "\n",
              "    .dataframe thead th {\n",
              "        text-align: right;\n",
              "    }\n",
              "</style>\n",
              "<table border=\"1\" class=\"dataframe\">\n",
              "  <thead>\n",
              "    <tr style=\"text-align: right;\">\n",
              "      <th></th>\n",
              "      <th>review_date</th>\n",
              "      <th>movie_id</th>\n",
              "      <th>user_id</th>\n",
              "      <th>is_spoiler</th>\n",
              "      <th>review_text</th>\n",
              "      <th>userrating</th>\n",
              "      <th>review_summary</th>\n",
              "      <th>plot_summary</th>\n",
              "      <th>duration</th>\n",
              "      <th>genre</th>\n",
              "      <th>actualrating</th>\n",
              "      <th>release_date</th>\n",
              "      <th>plot_synopsis</th>\n",
              "    </tr>\n",
              "  </thead>\n",
              "  <tbody>\n",
              "    <tr>\n",
              "      <th>0</th>\n",
              "      <td>2006-02-10</td>\n",
              "      <td>tt0111161</td>\n",
              "      <td>ur1898687</td>\n",
              "      <td>1</td>\n",
              "      <td>In its Oscar year, Shawshank Redemption (writt...</td>\n",
              "      <td>10</td>\n",
              "      <td>A classic piece of unforgettable film-making.</td>\n",
              "      <td>Chronicles the experiences of a formerly succe...</td>\n",
              "      <td>2h 22min</td>\n",
              "      <td>[Crime, Drama]</td>\n",
              "      <td>9.3</td>\n",
              "      <td>1994-10-14</td>\n",
              "      <td>In 1947, Andy Dufresne (Tim Robbins), a banker...</td>\n",
              "    </tr>\n",
              "    <tr>\n",
              "      <th>1</th>\n",
              "      <td>2000-09-06</td>\n",
              "      <td>tt0111161</td>\n",
              "      <td>ur0842118</td>\n",
              "      <td>1</td>\n",
              "      <td>The Shawshank Redemption is without a doubt on...</td>\n",
              "      <td>10</td>\n",
              "      <td>Simply amazing. The best film of the 90's.</td>\n",
              "      <td>Chronicles the experiences of a formerly succe...</td>\n",
              "      <td>2h 22min</td>\n",
              "      <td>[Crime, Drama]</td>\n",
              "      <td>9.3</td>\n",
              "      <td>1994-10-14</td>\n",
              "      <td>In 1947, Andy Dufresne (Tim Robbins), a banker...</td>\n",
              "    </tr>\n",
              "    <tr>\n",
              "      <th>2</th>\n",
              "      <td>2001-08-03</td>\n",
              "      <td>tt0111161</td>\n",
              "      <td>ur1285640</td>\n",
              "      <td>1</td>\n",
              "      <td>I believe that this film is the best story eve...</td>\n",
              "      <td>8</td>\n",
              "      <td>The best story ever told on film</td>\n",
              "      <td>Chronicles the experiences of a formerly succe...</td>\n",
              "      <td>2h 22min</td>\n",
              "      <td>[Crime, Drama]</td>\n",
              "      <td>9.3</td>\n",
              "      <td>1994-10-14</td>\n",
              "      <td>In 1947, Andy Dufresne (Tim Robbins), a banker...</td>\n",
              "    </tr>\n",
              "    <tr>\n",
              "      <th>3</th>\n",
              "      <td>2002-09-01</td>\n",
              "      <td>tt0111161</td>\n",
              "      <td>ur1003471</td>\n",
              "      <td>1</td>\n",
              "      <td>**Yes, there are SPOILERS here**This film has ...</td>\n",
              "      <td>10</td>\n",
              "      <td>Busy dying or busy living?</td>\n",
              "      <td>Chronicles the experiences of a formerly succe...</td>\n",
              "      <td>2h 22min</td>\n",
              "      <td>[Crime, Drama]</td>\n",
              "      <td>9.3</td>\n",
              "      <td>1994-10-14</td>\n",
              "      <td>In 1947, Andy Dufresne (Tim Robbins), a banker...</td>\n",
              "    </tr>\n",
              "    <tr>\n",
              "      <th>4</th>\n",
              "      <td>2004-05-20</td>\n",
              "      <td>tt0111161</td>\n",
              "      <td>ur0226855</td>\n",
              "      <td>1</td>\n",
              "      <td>At the heart of this extraordinary movie is a ...</td>\n",
              "      <td>8</td>\n",
              "      <td>Great story, wondrously told and acted</td>\n",
              "      <td>Chronicles the experiences of a formerly succe...</td>\n",
              "      <td>2h 22min</td>\n",
              "      <td>[Crime, Drama]</td>\n",
              "      <td>9.3</td>\n",
              "      <td>1994-10-14</td>\n",
              "      <td>In 1947, Andy Dufresne (Tim Robbins), a banker...</td>\n",
              "    </tr>\n",
              "  </tbody>\n",
              "</table>\n",
              "</div>"
            ],
            "text/plain": [
              "  review_date  ...                                      plot_synopsis\n",
              "0  2006-02-10  ...  In 1947, Andy Dufresne (Tim Robbins), a banker...\n",
              "1  2000-09-06  ...  In 1947, Andy Dufresne (Tim Robbins), a banker...\n",
              "2  2001-08-03  ...  In 1947, Andy Dufresne (Tim Robbins), a banker...\n",
              "3  2002-09-01  ...  In 1947, Andy Dufresne (Tim Robbins), a banker...\n",
              "4  2004-05-20  ...  In 1947, Andy Dufresne (Tim Robbins), a banker...\n",
              "\n",
              "[5 rows x 13 columns]"
            ]
          },
          "metadata": {
            "tags": []
          },
          "execution_count": 22
        }
      ]
    },
    {
      "cell_type": "markdown",
      "metadata": {
        "id": "IeBv6XoLA4ui"
      },
      "source": [
        "Let's check  if there are any underlying missing values in the dataset "
      ]
    },
    {
      "cell_type": "code",
      "metadata": {
        "colab": {
          "base_uri": "https://localhost:8080/",
          "height": 0
        },
        "id": "_QMdRxlKU3aW",
        "outputId": "3c689de7-cfe9-4ae4-bc5d-2423a5fe2eac"
      },
      "source": [
        "df.hist(layout=(5,4), figsize=(15,10))\n",
        "plt.tight_layout()\n",
        "plt.show()"
      ],
      "execution_count": 23,
      "outputs": [
        {
          "output_type": "display_data",
          "data": {
            "image/png": "[encoded data removed]",
            "text/plain": [
              "<Figure size 1080x720 with 20 Axes>"
            ]
          },
          "metadata": {
            "tags": [],
            "needs_background": "light"
          }
        }
      ]
    },
    {
      "cell_type": "markdown",
      "metadata": {
        "id": "8wch3AfwU_r0"
      },
      "source": [
        "Above graph shows distribution of data for the features such as userrating,actualrating and is_spoiler."
      ]
    },
    {
      "cell_type": "code",
      "metadata": {
        "id": "9lo1fyZP6oJt"
      },
      "source": [
        "df=df[df.isna().any(axis=1)==False]"
      ],
      "execution_count": 24,
      "outputs": []
    },
    {
      "cell_type": "code",
      "metadata": {
        "id": "g2aWwUzoMdO6",
        "colab": {
          "base_uri": "https://localhost:8080/"
        },
        "outputId": "4d89ef6d-7bab-438c-fc41-da4c9953260d"
      },
      "source": [
        "df.isnull().sum()"
      ],
      "execution_count": 25,
      "outputs": [
        {
          "output_type": "execute_result",
          "data": {
            "text/plain": [
              "review_date       0\n",
              "movie_id          0\n",
              "user_id           0\n",
              "is_spoiler        0\n",
              "review_text       0\n",
              "userrating        0\n",
              "review_summary    0\n",
              "plot_summary      0\n",
              "duration          0\n",
              "genre             0\n",
              "actualrating      0\n",
              "release_date      0\n",
              "plot_synopsis     0\n",
              "dtype: int64"
            ]
          },
          "metadata": {
            "tags": []
          },
          "execution_count": 25
        }
      ]
    },
    {
      "cell_type": "code",
      "metadata": {
        "colab": {
          "base_uri": "https://localhost:8080/"
        },
        "id": "xf6pginSifGb",
        "outputId": "2727389e-154c-4730-c7a4-dbc7f9d0592f"
      },
      "source": [
        "print('Total no. of reviews:' , len(df))"
      ],
      "execution_count": 26,
      "outputs": [
        {
          "output_type": "stream",
          "text": [
            "Total no. of reviews: 573906\n"
          ],
          "name": "stdout"
        }
      ]
    },
    {
      "cell_type": "code",
      "metadata": {
        "colab": {
          "base_uri": "https://localhost:8080/"
        },
        "id": "ruvkAvuHi8K-",
        "outputId": "7f9b291f-24cc-4e42-c935-2336bfc07fcf"
      },
      "source": [
        "print(\"Total no. of users who gave reviews:\",df['user_id'].nunique() )"
      ],
      "execution_count": 27,
      "outputs": [
        {
          "output_type": "stream",
          "text": [
            "Total no. of users who gave reviews: 263404\n"
          ],
          "name": "stdout"
        }
      ]
    },
    {
      "cell_type": "code",
      "metadata": {
        "colab": {
          "base_uri": "https://localhost:8080/"
        },
        "id": "uAnazPoFFBjf",
        "outputId": "a3837c85-a44d-4751-9e40-d96f1798700e"
      },
      "source": [
        "print('Total films in dataset :', df['movie_id'].nunique())"
      ],
      "execution_count": 28,
      "outputs": [
        {
          "output_type": "stream",
          "text": [
            "Total films in dataset : 1570\n"
          ],
          "name": "stdout"
        }
      ]
    },
    {
      "cell_type": "markdown",
      "metadata": {
        "id": "EwKj2XhSBEZy"
      },
      "source": [
        "Now lets have a look at data heat map to see if the features bear any correlation wrt eachother "
      ]
    },
    {
      "cell_type": "code",
      "metadata": {
        "colab": {
          "base_uri": "https://localhost:8080/",
          "height": 0
        },
        "id": "pN4Vkmsw8bzR",
        "outputId": "abf3416d-3718-45de-9979-4f44e4355b6a"
      },
      "source": [
        "#correlation matrix\n",
        "corrmat = df.corr()\n",
        "fig = plt.figure(figsize = (12, 9))\n",
        "sns.heatmap(corrmat, vmax=.8, square=True);\n",
        "plt.show()"
      ],
      "execution_count": 29,
      "outputs": [
        {
          "output_type": "display_data",
          "data": {
            "image/png": "[encoded data removed]",
            "text/plain": [
              "<Figure size 864x648 with 2 Axes>"
            ]
          },
          "metadata": {
            "tags": [],
            "needs_background": "light"
          }
        }
      ]
    },
    {
      "cell_type": "markdown",
      "metadata": {
        "id": "uJ7REwKqBSwd"
      },
      "source": [
        "as can be see from the heatmap that wrt there us quite little correlationst amongst the features "
      ]
    },
    {
      "cell_type": "markdown",
      "metadata": {
        "id": "I89KCHFSBeJA"
      },
      "source": [
        "Lets have a look at distribution of movie's actual rating wrt the reviews containing spoilers and not containing spoilers"
      ]
    },
    {
      "cell_type": "code",
      "metadata": {
        "colab": {
          "base_uri": "https://localhost:8080/",
          "height": 0
        },
        "id": "pksquFetTf5v",
        "outputId": "15902412-d138-4640-89d7-ffefd0264342"
      },
      "source": [
        "print(\"Distribution of rating across all movie reviews:\")\n",
        "df[df[\"is_spoiler\"]==0]['actualrating'].plot(kind='hist')"
      ],
      "execution_count": 30,
      "outputs": [
        {
          "output_type": "stream",
          "text": [
            "Distribution of rating across all movie reviews:\n"
          ],
          "name": "stdout"
        },
        {
          "output_type": "execute_result",
          "data": {
            "text/plain": [
              "<matplotlib.axes._subplots.AxesSubplot at 0x7f13ac5d16a0>"
            ]
          },
          "metadata": {
            "tags": []
          },
          "execution_count": 30
        },
        {
          "output_type": "display_data",
          "data": {
            "image/png": "[encoded data removed]",
            "text/plain": [
              "<Figure size 432x288 with 1 Axes>"
            ]
          },
          "metadata": {
            "tags": [],
            "needs_background": "light"
          }
        }
      ]
    },
    {
      "cell_type": "code",
      "metadata": {
        "colab": {
          "base_uri": "https://localhost:8080/",
          "height": 0
        },
        "id": "3tL4Ic9W1T2y",
        "outputId": "3daa1861-4617-46fe-96f5-0e6d839debdd"
      },
      "source": [
        "print(\"Distribution of rating across  movie reviews with spoilers:\")\n",
        "df[df[\"is_spoiler\"]==1]['actualrating'].plot(kind='hist')"
      ],
      "execution_count": 31,
      "outputs": [
        {
          "output_type": "stream",
          "text": [
            "Distribution of rating across  movie reviews with spoilers:\n"
          ],
          "name": "stdout"
        },
        {
          "output_type": "execute_result",
          "data": {
            "text/plain": [
              "<matplotlib.axes._subplots.AxesSubplot at 0x7f13ac5d1e80>"
            ]
          },
          "metadata": {
            "tags": []
          },
          "execution_count": 31
        },
        {
          "output_type": "display_data",
          "data": {
            "image/png": "[encoded data removed]",
            "text/plain": [
              "<Figure size 432x288 with 1 Axes>"
            ]
          },
          "metadata": {
            "tags": [],
            "needs_background": "light"
          }
        }
      ]
    },
    {
      "cell_type": "markdown",
      "metadata": {
        "id": "9Xlpq3Ky09-9"
      },
      "source": [
        "Most of the ratings are concentrated around 6-9  for both reviews either containing spoiler or not."
      ]
    },
    {
      "cell_type": "markdown",
      "metadata": {
        "id": "L_PxElqUB7UQ"
      },
      "source": [
        "On similar grounds lets also try to find different insights into the data through some more visualisations "
      ]
    },
    {
      "cell_type": "code",
      "metadata": {
        "colab": {
          "base_uri": "https://localhost:8080/",
          "height": 0
        },
        "id": "CvvshqO10p8D",
        "outputId": "2b83fe43-1805-4411-ca3d-8c13bc32ea22"
      },
      "source": [
        "labels, frequencies = np.unique(df.is_spoiler.values,return_counts = True)\n",
        "plt.figure(figsize = (10,10))\n",
        "x=plt.pie(frequencies,labels = labels, autopct = '%1.1f%%')\n",
        "plt.title('Pie chart of distribution of reviews with and without spoilers in dataset')\n",
        "plt.legend(labels=['Without spoilers', 'With spoilers'])"
      ],
      "execution_count": 32,
      "outputs": [
        {
          "output_type": "execute_result",
          "data": {
            "text/plain": [
              "<matplotlib.legend.Legend at 0x7f13ac4892b0>"
            ]
          },
          "metadata": {
            "tags": []
          },
          "execution_count": 32
        },
        {
          "output_type": "display_data",
          "data": {
            "image/png": "[encoded data removed]",
            "text/plain": [
              "<Figure size 720x720 with 1 Axes>"
            ]
          },
          "metadata": {
            "tags": []
          }
        }
      ]
    },
    {
      "cell_type": "markdown",
      "metadata": {
        "id": "ekJgQwY1V_GK"
      },
      "source": [
        "About 70-30  ratio is there between non spoiler and spoiler reviews in the dataset "
      ]
    },
    {
      "cell_type": "code",
      "metadata": {
        "colab": {
          "base_uri": "https://localhost:8080/",
          "height": 0
        },
        "id": "3y1YX8l-DBLl",
        "outputId": "b3f3864c-e6c0-44b6-a706-e1692ba3b8fa"
      },
      "source": [
        "labels, frequencies = np.unique(df[df[\"is_spoiler\"]==1].genre.values,return_counts = True)\n",
        "plt.figure(figsize = (8,8))\n",
        "x=plt.pie(frequencies[:10],labels = labels[:10], autopct = '%1.1f%%')\n",
        "plt.tight_layout()\n",
        "plt.title('Pie chart for reviews for top 10 genres:')"
      ],
      "execution_count": 33,
      "outputs": [
        {
          "output_type": "execute_result",
          "data": {
            "text/plain": [
              "Text(0.5, 1.0, 'Pie chart for reviews for top 10 genres:')"
            ]
          },
          "metadata": {
            "tags": []
          },
          "execution_count": 33
        },
        {
          "output_type": "display_data",
          "data": {
            "image/png": "[encoded data removed]",
            "text/plain": [
              "<Figure size 576x576 with 1 Axes>"
            ]
          },
          "metadata": {
            "tags": []
          }
        }
      ]
    },
    {
      "cell_type": "markdown",
      "metadata": {
        "id": "30-HbSM41n6i"
      },
      "source": [
        "These are the top 10 genre sets with most spoiler reviews.This indicates that some movie genres have much more tendency to correspond with spoiler in the reviews than other genres."
      ]
    },
    {
      "cell_type": "code",
      "metadata": {
        "id": "1nnGU5ocLHwH"
      },
      "source": [
        "df_temp=pd.DataFrame()\n",
        "df_temp[\"is_spoiler\"]=df[\"is_spoiler\"]\n",
        "df_temp[\"days_elapsed\"]=abs(df[\"review_date\"]-df[\"release_date\"]).dt.days\n",
        "df_temp=df_temp.groupby(['is_spoiler', 'days_elapsed']).size().reset_index(name='count').sort_values('days_elapsed')"
      ],
      "execution_count": 34,
      "outputs": []
    },
    {
      "cell_type": "code",
      "metadata": {
        "colab": {
          "base_uri": "https://localhost:8080/",
          "height": 0
        },
        "id": "0UU7T_P131h7",
        "outputId": "43801550-e21c-4a89-af42-2119a4fa3ce6"
      },
      "source": [
        "fig = plt.figure(figsize=(16, 8))\n",
        "\n",
        "\n",
        "ax1 = fig.add_subplot(1, 2, 1)\n",
        "ax2 = fig.add_subplot(1, 2, 2)\n",
        "\n",
        "ax1.plot(df_temp[df_temp[\"is_spoiler\"]==1][\"days_elapsed\"].values,df_temp[df_temp[\"is_spoiler\"]==1][\"count\"].values)\n",
        "ax1.set_title('for entire dataset')\n",
        "ax1.set_xlabel('No. of days_elapsed')\n",
        "ax1.set_ylabel('No. of  spoiler reviews')\n",
        "\n",
        "ax2.plot(df_temp[df_temp[\"is_spoiler\"]==1][\"days_elapsed\"][:100].values,df_temp[df_temp[\"is_spoiler\"]==1][\"count\"][:100].values)\n",
        "ax2.set_xlabel('No. of days_elapsed')\n",
        "ax2.set_title('for initial 100 days')\n",
        "ax2.set_ylabel('No. of  spoiler reviews')\n",
        "\n",
        "plt.show()"
      ],
      "execution_count": 35,
      "outputs": [
        {
          "output_type": "display_data",
          "data": {
            "image/png": "[encoded data removed]",
            "text/plain": [
              "<Figure size 1152x576 with 2 Axes>"
            ]
          },
          "metadata": {
            "tags": [],
            "needs_background": "light"
          }
        }
      ]
    },
    {
      "cell_type": "code",
      "metadata": {
        "colab": {
          "base_uri": "https://localhost:8080/",
          "height": 0
        },
        "id": "6AR4R-oly4mi",
        "outputId": "c94da79b-d232-4e71-b39a-480aff68bde8"
      },
      "source": [
        "fig = plt.figure(figsize=(16, 8))\n",
        "\n",
        "\n",
        "ax1 = fig.add_subplot(1, 2, 1)\n",
        "ax2 = fig.add_subplot(1, 2, 2)\n",
        "\n",
        "ax1.plot(df_temp[df_temp[\"is_spoiler\"]==0][\"days_elapsed\"].values,df_temp[df_temp[\"is_spoiler\"]==0][\"count\"].values)\n",
        "ax1.set_title('for entire dataset')\n",
        "ax1.set_xlabel('No. of days_elapsed')\n",
        "ax1.set_ylabel('No. of  non-spoiler reviews')\n",
        "\n",
        "ax2.plot(df_temp[df_temp[\"is_spoiler\"]==0][\"days_elapsed\"][:100].values,df_temp[df_temp[\"is_spoiler\"]==0][\"count\"][:100].values)\n",
        "ax2.set_xlabel('No. of days_elapsed')\n",
        "ax2.set_title('for initial 100 days')\n",
        "ax2.set_ylabel('No. of  non-spoiler reviews')\n",
        "\n",
        "plt.show()"
      ],
      "execution_count": 36,
      "outputs": [
        {
          "output_type": "display_data",
          "data": {
            "image/png": "[encoded data removed]",
            "text/plain": [
              "<Figure size 1152x576 with 2 Axes>"
            ]
          },
          "metadata": {
            "tags": [],
            "needs_background": "light"
          }
        }
      ]
    },
    {
      "cell_type": "code",
      "metadata": {
        "id": "QSB57bjo2PRE"
      },
      "source": [
        "df[\"days_elapsed\"]=abs(df[\"review_date\"]-df[\"release_date\"]).dt.days"
      ],
      "execution_count": 37,
      "outputs": []
    },
    {
      "cell_type": "markdown",
      "metadata": {
        "id": "HjlY9z1kC3gr"
      },
      "source": [
        "Above graphs clearly shows most reviews for a movie are around the time of the release of the movie and as it  moves away from the release date after some days the review logging for the respective movie also depreciates.Same trend can be seen for the reviews with spoilers.Thus it can be deducted that the days_elapsed has no partiular influence on the reviewer giving spoilers as  when there are more spoilers naturally more spoilers will follow."
      ]
    },
    {
      "cell_type": "code",
      "metadata": {
        "id": "jgUSnEfE8XEW"
      },
      "source": [
        "spoilermovies=df[df['is_spoiler']==1].movie_id.value_counts()[:20].index.to_list()\n",
        "pivot_df=df.groupby(['is_spoiler', 'movie_id']).size().reset_index(name='count').sort_values('count')\n",
        "pivot_df=pivot_df[pivot_df[\"movie_id\"].isin(spoilermovies)]\n",
        "pivot_df=pivot_df.pivot(index='movie_id',  columns='is_spoiler', values='count')\n",
        "pivot_df=pivot_df.fillna(0)"
      ],
      "execution_count": 38,
      "outputs": []
    },
    {
      "cell_type": "code",
      "metadata": {
        "colab": {
          "base_uri": "https://localhost:8080/",
          "height": 0
        },
        "id": "qxubNVNl1yPo",
        "outputId": "e9f9c5d2-444a-4f51-a31a-d1c1c6fa569c"
      },
      "source": [
        "colors = [\"#006D2C\",\"#74C476\"]\n",
        "pivot_df.plot.bar(stacked=True, color=colors, figsize=(10,7),title=\"Distribution of reviews for top 20 spoiler reviewed movies\")\n"
      ],
      "execution_count": 39,
      "outputs": [
        {
          "output_type": "execute_result",
          "data": {
            "text/plain": [
              "<matplotlib.axes._subplots.AxesSubplot at 0x7f13ac1aa390>"
            ]
          },
          "metadata": {
            "tags": []
          },
          "execution_count": 39
        },
        {
          "output_type": "display_data",
          "data": {
            "image/png": "[encoded data removed]",
            "text/plain": [
              "<Figure size 720x504 with 1 Axes>"
            ]
          },
          "metadata": {
            "tags": [],
            "needs_background": "light"
          }
        }
      ]
    },
    {
      "cell_type": "markdown",
      "metadata": {
        "id": "vf8Ap6s57sQu"
      },
      "source": [
        "Based on graph it can be seen that some movies have more chances  of having spoiler reviews when compared with others."
      ]
    },
    {
      "cell_type": "code",
      "metadata": {
        "id": "hWX8V_NXgQ23"
      },
      "source": [
        "spoilermovies=df[df['is_spoiler']==1].user_id.value_counts()[:20].index.to_list()\n",
        "pivot_df=df.groupby(['is_spoiler', 'user_id']).size().reset_index(name='count').sort_values('count')\n",
        "pivot_df=pivot_df[pivot_df[\"user_id\"].isin(spoilermovies)]\n",
        "pivot_df=pivot_df.pivot(index='user_id',  columns='is_spoiler', values='count')\n",
        "pivot_df=pivot_df.fillna(0)"
      ],
      "execution_count": 40,
      "outputs": []
    },
    {
      "cell_type": "code",
      "metadata": {
        "colab": {
          "base_uri": "https://localhost:8080/",
          "height": 0
        },
        "id": "C0GJ0e2GPsb1",
        "outputId": "e807e93e-b7fe-4ea6-fabe-e4d5eb51bc11"
      },
      "source": [
        "colors = [\"#006D2C\",\"#74C476\"]\n",
        "pivot_df.plot.bar(stacked=True, color=colors, figsize=(10,7),title=\"Distribution of reviews for top 20 users who gave most reviews\")"
      ],
      "execution_count": 41,
      "outputs": [
        {
          "output_type": "execute_result",
          "data": {
            "text/plain": [
              "<matplotlib.axes._subplots.AxesSubplot at 0x7f13ac074b38>"
            ]
          },
          "metadata": {
            "tags": []
          },
          "execution_count": 41
        },
        {
          "output_type": "display_data",
          "data": {
            "image/png": "[encoded data removed]",
            "text/plain": [
              "<Figure size 720x504 with 1 Axes>"
            ]
          },
          "metadata": {
            "tags": [],
            "needs_background": "light"
          }
        }
      ]
    },
    {
      "cell_type": "markdown",
      "metadata": {
        "id": "UgN3A_wT9V06"
      },
      "source": [
        "As can be seen from the above graphs most of the top users have mostly given more spoiler reviews when compared to non spoiler ones.\n",
        "This indicates that some users are more likely to give spoiler reviews than others."
      ]
    },
    {
      "cell_type": "code",
      "metadata": {
        "id": "9TrKKps3Qe3p",
        "colab": {
          "base_uri": "https://localhost:8080/",
          "height": 0
        },
        "outputId": "d6c94232-6119-41af-b065-ab43a3497a0f"
      },
      "source": [
        "df.groupby(['movie_id']).size().reset_index(name='count').sort_values('count')"
      ],
      "execution_count": 42,
      "outputs": [
        {
          "output_type": "execute_result",
          "data": {
            "text/html": [
              "<div>\n",
              "<style scoped>\n",
              "    .dataframe tbody tr th:only-of-type {\n",
              "        vertical-align: middle;\n",
              "    }\n",
              "\n",
              "    .dataframe tbody tr th {\n",
              "        vertical-align: top;\n",
              "    }\n",
              "\n",
              "    .dataframe thead th {\n",
              "        text-align: right;\n",
              "    }\n",
              "</style>\n",
              "<table border=\"1\" class=\"dataframe\">\n",
              "  <thead>\n",
              "    <tr style=\"text-align: right;\">\n",
              "      <th></th>\n",
              "      <th>movie_id</th>\n",
              "      <th>count</th>\n",
              "    </tr>\n",
              "  </thead>\n",
              "  <tbody>\n",
              "    <tr>\n",
              "      <th>676</th>\n",
              "      <td>tt0201265</td>\n",
              "      <td>4</td>\n",
              "    </tr>\n",
              "    <tr>\n",
              "      <th>1566</th>\n",
              "      <td>tt6294822</td>\n",
              "      <td>11</td>\n",
              "    </tr>\n",
              "    <tr>\n",
              "      <th>299</th>\n",
              "      <td>tt0107719</td>\n",
              "      <td>12</td>\n",
              "    </tr>\n",
              "    <tr>\n",
              "      <th>1567</th>\n",
              "      <td>tt6868216</td>\n",
              "      <td>13</td>\n",
              "    </tr>\n",
              "    <tr>\n",
              "      <th>167</th>\n",
              "      <td>tt0101301</td>\n",
              "      <td>15</td>\n",
              "    </tr>\n",
              "    <tr>\n",
              "      <th>...</th>\n",
              "      <td>...</td>\n",
              "      <td>...</td>\n",
              "    </tr>\n",
              "    <tr>\n",
              "      <th>68</th>\n",
              "      <td>tt0068646</td>\n",
              "      <td>2137</td>\n",
              "    </tr>\n",
              "    <tr>\n",
              "      <th>597</th>\n",
              "      <td>tt0137523</td>\n",
              "      <td>2480</td>\n",
              "    </tr>\n",
              "    <tr>\n",
              "      <th>639</th>\n",
              "      <td>tt0167260</td>\n",
              "      <td>2729</td>\n",
              "    </tr>\n",
              "    <tr>\n",
              "      <th>359</th>\n",
              "      <td>tt0111161</td>\n",
              "      <td>4361</td>\n",
              "    </tr>\n",
              "    <tr>\n",
              "      <th>1038</th>\n",
              "      <td>tt0468569</td>\n",
              "      <td>4845</td>\n",
              "    </tr>\n",
              "  </tbody>\n",
              "</table>\n",
              "<p>1570 rows × 2 columns</p>\n",
              "</div>"
            ],
            "text/plain": [
              "       movie_id  count\n",
              "676   tt0201265      4\n",
              "1566  tt6294822     11\n",
              "299   tt0107719     12\n",
              "1567  tt6868216     13\n",
              "167   tt0101301     15\n",
              "...         ...    ...\n",
              "68    tt0068646   2137\n",
              "597   tt0137523   2480\n",
              "639   tt0167260   2729\n",
              "359   tt0111161   4361\n",
              "1038  tt0468569   4845\n",
              "\n",
              "[1570 rows x 2 columns]"
            ]
          },
          "metadata": {
            "tags": []
          },
          "execution_count": 42
        }
      ]
    },
    {
      "cell_type": "markdown",
      "metadata": {
        "id": "PKGNM7vOQ9j9"
      },
      "source": [
        "As can be seen from the above data some movie have much more reviews than other movies which is  a good indicator of popularity of the movie."
      ]
    },
    {
      "cell_type": "code",
      "metadata": {
        "id": "HUWiFb3VbZ69"
      },
      "source": [
        "df_temp2=pd.DataFrame()\n",
        "df_temp2['word_count'] = df['review_text'].apply(lambda text: len(text.split(' ')))\n",
        "df_temp2[\"is_spoiler\"]=df.is_spoiler"
      ],
      "execution_count": 43,
      "outputs": []
    },
    {
      "cell_type": "code",
      "metadata": {
        "colab": {
          "base_uri": "https://localhost:8080/",
          "height": 0
        },
        "id": "grTpQ3wcblIj",
        "outputId": "01945e26-0581-4fb3-8464-25f92a9b6005"
      },
      "source": [
        "plt.figure(figsize=(12, 6))\n",
        "sns.distplot(df_temp2[df_temp2['is_spoiler'] == False]['word_count'], hist=False, label='Without spoilers')\n",
        "sns.distplot(df_temp2[df_temp2['is_spoiler'] == True]['word_count'], hist=False, label='Containing spoilers')\n",
        "plt.legend()\n",
        "plt.xlim([-100, 1100])\n",
        "plt.xlabel('Word Count')\n",
        "plt.title('Distribution according to review length')\n",
        "plt.show()"
      ],
      "execution_count": 44,
      "outputs": [
        {
          "output_type": "stream",
          "text": [
            "/usr/local/lib/python3.6/dist-packages/seaborn/distributions.py:2551: FutureWarning: `distplot` is a deprecated function and will be removed in a future version. Please adapt your code to use either `displot` (a figure-level function with similar flexibility) or `kdeplot` (an axes-level function for kernel density plots).\n",
            "  warnings.warn(msg, FutureWarning)\n",
            "/usr/local/lib/python3.6/dist-packages/seaborn/distributions.py:2551: FutureWarning: `distplot` is a deprecated function and will be removed in a future version. Please adapt your code to use either `displot` (a figure-level function with similar flexibility) or `kdeplot` (an axes-level function for kernel density plots).\n",
            "  warnings.warn(msg, FutureWarning)\n"
          ],
          "name": "stderr"
        },
        {
          "output_type": "display_data",
          "data": {
            "image/png": "[encoded data removed]",
            "text/plain": [
              "<Figure size 864x432 with 1 Axes>"
            ]
          },
          "metadata": {
            "tags": [],
            "needs_background": "light"
          }
        }
      ]
    },
    {
      "cell_type": "markdown",
      "metadata": {
        "id": "HlMC9-McaUPu"
      },
      "source": [
        "This clearly indicates that word count for reviews containing spoilers are mostly larger as compared to non-spoiler reviews"
      ]
    },
    {
      "cell_type": "code",
      "metadata": {
        "id": "gAB3wWN59iEF"
      },
      "source": [
        "df[\"word_count\"]=df['review_text'].apply(lambda text: len(text.split(' ')))"
      ],
      "execution_count": 45,
      "outputs": []
    },
    {
      "cell_type": "code",
      "metadata": {
        "id": "zYiQspxCb8F-"
      },
      "source": [
        "df_temp2[\"review_text\"]=df[\"review_text\"].str.lower()"
      ],
      "execution_count": 46,
      "outputs": []
    },
    {
      "cell_type": "code",
      "metadata": {
        "id": "1N1nt34NgJ9I"
      },
      "source": [
        "df_temp2[\"spoiltext\"]=df_temp2.review_text.str.contains(\"spoiler\")+0"
      ],
      "execution_count": 47,
      "outputs": []
    },
    {
      "cell_type": "code",
      "metadata": {
        "colab": {
          "base_uri": "https://localhost:8080/"
        },
        "id": "Xvx5AkUfg9dc",
        "outputId": "b14830a1-f229-483c-9ccf-87175f9306d5"
      },
      "source": [
        "df_temp2.review_text.str.contains(\"dies\").value_counts()"
      ],
      "execution_count": 48,
      "outputs": [
        {
          "output_type": "execute_result",
          "data": {
            "text/plain": [
              "False    539582\n",
              "True      34324\n",
              "Name: review_text, dtype: int64"
            ]
          },
          "metadata": {
            "tags": []
          },
          "execution_count": 48
        }
      ]
    },
    {
      "cell_type": "code",
      "metadata": {
        "colab": {
          "base_uri": "https://localhost:8080/"
        },
        "id": "7HQ10ulReiWY",
        "outputId": "73c487b5-b07b-4c26-b228-de8036623e22"
      },
      "source": [
        "df_temp2[\"spoiltext\"].value_counts()"
      ],
      "execution_count": 49,
      "outputs": [
        {
          "output_type": "execute_result",
          "data": {
            "text/plain": [
              "0    547470\n",
              "1     26436\n",
              "Name: spoiltext, dtype: int64"
            ]
          },
          "metadata": {
            "tags": []
          },
          "execution_count": 49
        }
      ]
    },
    {
      "cell_type": "code",
      "metadata": {
        "colab": {
          "base_uri": "https://localhost:8080/",
          "height": 0
        },
        "id": "iLgh69RwbAkC",
        "outputId": "e695af3b-9fa4-4e54-ea66-9544c45908ae"
      },
      "source": [
        "labels, frequencies = np.unique(df_temp2[df_temp2[\"is_spoiler\"]==1].spoiltext.values,return_counts = True)\n",
        "plt.figure(figsize = (10,10))\n",
        "plt.pie(frequencies,labels = labels, autopct = '%1.1f%%')\n",
        "plt.show()"
      ],
      "execution_count": 50,
      "outputs": [
        {
          "output_type": "display_data",
          "data": {
            "image/png": "[encoded data removed]",
            "text/plain": [
              "<Figure size 720x720 with 1 Axes>"
            ]
          },
          "metadata": {
            "tags": []
          }
        }
      ]
    },
    {
      "cell_type": "markdown",
      "metadata": {
        "id": "_4-Ct2krguQq"
      },
      "source": [
        "While the ratio itself isn't much appreciable but this can be a great criteria along with some other words that all spoiler reviews may contain frequently."
      ]
    },
    {
      "cell_type": "code",
      "metadata": {
        "colab": {
          "base_uri": "https://localhost:8080/"
        },
        "id": "yr5MgU4TnZM5",
        "outputId": "5e6477dd-4922-4240-8001-7e6a47bc6fb3"
      },
      "source": [
        "nltk.download('stopwords')\n",
        "stopwords=set(stopwords.words('english'))\n",
        "stopwords_dict=Counter(stopwords)\n",
        "def preprocesstext(review):\n",
        "    review=review.lower()\n",
        "    review=re.sub('[^a-zA-Z]',' ',review)\n",
        "    words=review.split()\n",
        "    word=[word for word in words if word not in stopwords_dict]\n",
        "    review=\" \".join(words)\n",
        "    return review\n",
        "df_temp2.review_text=df_temp2.review_text.apply(preprocesstext)"
      ],
      "execution_count": 51,
      "outputs": [
        {
          "output_type": "stream",
          "text": [
            "[nltk_data] Downloading package stopwords to /root/nltk_data...\n",
            "[nltk_data]   Unzipping corpora/stopwords.zip.\n"
          ],
          "name": "stdout"
        }
      ]
    },
    {
      "cell_type": "code",
      "metadata": {
        "colab": {
          "base_uri": "https://localhost:8080/"
        },
        "id": "Ib-vLdObnZM_",
        "outputId": "d4eb14cf-3250-4d25-d1a6-5548a1152765"
      },
      "source": [
        "df_temp2.review_text"
      ],
      "execution_count": 52,
      "outputs": [
        {
          "output_type": "execute_result",
          "data": {
            "text/plain": [
              "0         in its oscar year shawshank redemption written...\n",
              "1         the shawshank redemption is without a doubt on...\n",
              "2         i believe that this film is the best story eve...\n",
              "3         yes there are spoilers here this film has had ...\n",
              "4         at the heart of this extraordinary movie is a ...\n",
              "                                ...                        \n",
              "573901    go is wise fast and pure entertainment assembl...\n",
              "573902    well what shall i say this one s fun at any ra...\n",
              "573903    go is the best movie i have ever seen and i ve...\n",
              "573904    call this teenage version of pulp fiction what...\n",
              "573905    why was this movie made no doubt to sucker in ...\n",
              "Name: review_text, Length: 573906, dtype: object"
            ]
          },
          "metadata": {
            "tags": []
          },
          "execution_count": 52
        }
      ]
    },
    {
      "cell_type": "code",
      "metadata": {
        "colab": {
          "base_uri": "https://localhost:8080/"
        },
        "id": "AVFGqMLvp2jj",
        "outputId": "86af351b-fdec-46cd-d187-12e3202ca48f"
      },
      "source": [
        "Counter(\" \".join(df_temp2[\"review_text\"][:200000]).split()).most_common(100)"
      ],
      "execution_count": 53,
      "outputs": [
        {
          "output_type": "execute_result",
          "data": {
            "text/plain": [
              "[('the', 3290656),\n",
              " ('and', 1630399),\n",
              " ('a', 1436389),\n",
              " ('of', 1396191),\n",
              " ('to', 1276042),\n",
              " ('is', 1074861),\n",
              " ('it', 944538),\n",
              " ('i', 870044),\n",
              " ('in', 859430),\n",
              " ('that', 722125),\n",
              " ('this', 659288),\n",
              " ('s', 578380),\n",
              " ('movie', 488797),\n",
              " ('as', 445589),\n",
              " ('was', 443013),\n",
              " ('for', 421420),\n",
              " ('with', 417172),\n",
              " ('film', 414228),\n",
              " ('but', 406147),\n",
              " ('you', 350253),\n",
              " ('t', 312710),\n",
              " ('he', 309249),\n",
              " ('his', 306074),\n",
              " ('not', 303358),\n",
              " ('on', 283273),\n",
              " ('are', 274044),\n",
              " ('be', 260485),\n",
              " ('have', 251552),\n",
              " ('one', 248405),\n",
              " ('all', 244810),\n",
              " ('by', 206330),\n",
              " ('so', 204752),\n",
              " ('an', 201187),\n",
              " ('they', 193822),\n",
              " ('at', 193309),\n",
              " ('from', 193055),\n",
              " ('like', 188745),\n",
              " ('who', 173455),\n",
              " ('just', 173119),\n",
              " ('there', 173084),\n",
              " ('has', 169106),\n",
              " ('about', 165141),\n",
              " ('what', 162790),\n",
              " ('or', 153832),\n",
              " ('more', 153512),\n",
              " ('story', 151195),\n",
              " ('out', 144622),\n",
              " ('can', 144301),\n",
              " ('if', 143798),\n",
              " ('good', 139417),\n",
              " ('time', 137801),\n",
              " ('my', 132057),\n",
              " ('some', 130704),\n",
              " ('very', 130564),\n",
              " ('when', 129316),\n",
              " ('me', 121686),\n",
              " ('we', 120039),\n",
              " ('great', 119770),\n",
              " ('will', 118609),\n",
              " ('see', 116985),\n",
              " ('really', 116829),\n",
              " ('which', 116624),\n",
              " ('up', 116184),\n",
              " ('would', 110418),\n",
              " ('no', 110254),\n",
              " ('well', 110230),\n",
              " ('even', 107033),\n",
              " ('their', 105641),\n",
              " ('her', 103518),\n",
              " ('best', 102201),\n",
              " ('much', 97811),\n",
              " ('how', 97442),\n",
              " ('only', 97054),\n",
              " ('also', 96797),\n",
              " ('first', 94724),\n",
              " ('its', 94042),\n",
              " ('were', 93933),\n",
              " ('had', 93237),\n",
              " ('than', 92083),\n",
              " ('most', 91756),\n",
              " ('because', 90900),\n",
              " ('character', 89798),\n",
              " ('him', 88777),\n",
              " ('characters', 88668),\n",
              " ('into', 88431),\n",
              " ('people', 88369),\n",
              " ('movies', 88048),\n",
              " ('other', 87273),\n",
              " ('been', 83853),\n",
              " ('way', 82728),\n",
              " ('do', 82428),\n",
              " ('get', 81170),\n",
              " ('she', 80075),\n",
              " ('don', 79983),\n",
              " ('them', 74415),\n",
              " ('think', 74126),\n",
              " ('life', 73697),\n",
              " ('watch', 73401),\n",
              " ('many', 73333),\n",
              " ('after', 73166)]"
            ]
          },
          "metadata": {
            "tags": []
          },
          "execution_count": 53
        }
      ]
    },
    {
      "cell_type": "code",
      "metadata": {
        "id": "dL-SzFRK-WeX"
      },
      "source": [
        "df[\"spoiltext\"]=df.review_text.str.contains(\"spoiler\")+0"
      ],
      "execution_count": 54,
      "outputs": []
    },
    {
      "cell_type": "markdown",
      "metadata": {
        "id": "V4gVZv4dsGUe"
      },
      "source": [
        "Opposed to the intution the most common words as  can be seen bear no semantic role towards indicating a spoiler.Despite of this i think if \"spoiler\" word is present in the review than its very likely to be a spoiler review."
      ]
    },
    {
      "cell_type": "code",
      "metadata": {
        "id": "Y5v3HZTy_3h9"
      },
      "source": [
        "df_temp2=pd.DataFrame()"
      ],
      "execution_count": 55,
      "outputs": []
    },
    {
      "cell_type": "code",
      "metadata": {
        "id": "7hmcja3T-9uY"
      },
      "source": [
        "df_temp2[\"year\"]=df[\"review_date\"].dt.year\n",
        "df_temp2[\"is_spoiler\"]=df[\"is_spoiler\"]"
      ],
      "execution_count": 56,
      "outputs": []
    },
    {
      "cell_type": "code",
      "metadata": {
        "id": "zMePkM1iBrz7"
      },
      "source": [
        "pivot_df=df_temp2.groupby([\"year\",\"is_spoiler\"]).size().reset_index(name='count').sort_values('count')\n",
        "pivot_df=pivot_df.pivot(index='year',  columns='is_spoiler', values='count')\n",
        "pivot_df=pivot_df.fillna(0)[:-1]"
      ],
      "execution_count": 57,
      "outputs": []
    },
    {
      "cell_type": "code",
      "metadata": {
        "colab": {
          "base_uri": "https://localhost:8080/",
          "height": 0
        },
        "id": "cKdqZGmdCnNx",
        "outputId": "ebf90f78-cc9d-4f36-8d17-1b8bb5e2913a"
      },
      "source": [
        "pivot_df.plot(ylabel=\"No. of reviews\",figsize=(15,7))"
      ],
      "execution_count": 58,
      "outputs": [
        {
          "output_type": "execute_result",
          "data": {
            "text/plain": [
              "<matplotlib.axes._subplots.AxesSubplot at 0x7f13ac8236d8>"
            ]
          },
          "metadata": {
            "tags": []
          },
          "execution_count": 58
        },
        {
          "output_type": "display_data",
          "data": {
            "image/png": "[encoded data removed]",
            "text/plain": [
              "<Figure size 1080x504 with 1 Axes>"
            ]
          },
          "metadata": {
            "tags": [],
            "needs_background": "light"
          }
        }
      ]
    },
    {
      "cell_type": "markdown",
      "metadata": {
        "id": "6P9cOxKyFMew"
      },
      "source": [
        "Nothing could make it more clear than this graph on why we need this project.Over the years with the accessebility to give reviews the trend of spoiler reviews has only increased and to keep the review sections spoil-free  for the users it is important to come up with a good tool to curb this as much as possible."
      ]
    },
    {
      "cell_type": "code",
      "metadata": {
        "colab": {
          "base_uri": "https://localhost:8080/",
          "height": 0
        },
        "id": "CpE4Db3GaRvL",
        "outputId": "ec1f634a-aacb-40e6-ebab-631a3268f0eb"
      },
      "source": [
        "  \n",
        "sns.boxplot(x= df.is_spoiler,y=df.actualrating)"
      ],
      "execution_count": 59,
      "outputs": [
        {
          "output_type": "execute_result",
          "data": {
            "text/plain": [
              "<matplotlib.axes._subplots.AxesSubplot at 0x7f13acc71b38>"
            ]
          },
          "metadata": {
            "tags": []
          },
          "execution_count": 59
        },
        {
          "output_type": "display_data",
          "data": {
            "image/png": "[encoded data removed]",
            "text/plain": [
              "<Figure size 432x288 with 1 Axes>"
            ]
          },
          "metadata": {
            "tags": [],
            "needs_background": "light"
          }
        }
      ]
    },
    {
      "cell_type": "markdown",
      "metadata": {
        "id": "8Vwph7qlLXp6"
      },
      "source": [
        "Almost the same  actualrating  data  variance for both kind of reviews ."
      ]
    },
    {
      "cell_type": "code",
      "metadata": {
        "colab": {
          "base_uri": "https://localhost:8080/",
          "height": 0
        },
        "id": "hwlvkqT0-cba",
        "outputId": "dfd13ac5-7621-41df-d611-2c0efb2a7e7d"
      },
      "source": [
        "sns.boxplot(x= df.is_spoiler,y=df.days_elapsed)"
      ],
      "execution_count": 60,
      "outputs": [
        {
          "output_type": "execute_result",
          "data": {
            "text/plain": [
              "<matplotlib.axes._subplots.AxesSubplot at 0x7f13ac94bdd8>"
            ]
          },
          "metadata": {
            "tags": []
          },
          "execution_count": 60
        },
        {
          "output_type": "display_data",
          "data": {
            "image/png": "[encoded data removed]",
            "text/plain": [
              "<Figure size 432x288 with 1 Axes>"
            ]
          },
          "metadata": {
            "tags": [],
            "needs_background": "light"
          }
        }
      ]
    },
    {
      "cell_type": "markdown",
      "metadata": {
        "id": "T6wXZ27VLjp1"
      },
      "source": [
        "Clearly days_elapsed also have same kind of data dispersion for both cases but in this case there are a lot of outliers."
      ]
    },
    {
      "cell_type": "code",
      "metadata": {
        "colab": {
          "base_uri": "https://localhost:8080/",
          "height": 0
        },
        "id": "fOufl1B2aYPp",
        "outputId": "5fc3fe3b-41b6-4702-e814-964cba95da12"
      },
      "source": [
        "sns.boxplot(x= df.is_spoiler,y=df.userrating)"
      ],
      "execution_count": 61,
      "outputs": [
        {
          "output_type": "execute_result",
          "data": {
            "text/plain": [
              "<matplotlib.axes._subplots.AxesSubplot at 0x7f13acec5240>"
            ]
          },
          "metadata": {
            "tags": []
          },
          "execution_count": 61
        },
        {
          "output_type": "display_data",
          "data": {
            "image/png": "[encoded data removed]",
            "text/plain": [
              "<Figure size 432x288 with 1 Axes>"
            ]
          },
          "metadata": {
            "tags": [],
            "needs_background": "light"
          }
        }
      ]
    },
    {
      "cell_type": "markdown",
      "metadata": {
        "id": "hvgPMi6tLWic"
      },
      "source": [
        "User ratings for ratings with spoiler reviews are somewhat lower  overall as compared with without spoilers."
      ]
    },
    {
      "cell_type": "code",
      "metadata": {
        "colab": {
          "base_uri": "https://localhost:8080/",
          "height": 0
        },
        "id": "5x2xYorHGpDf",
        "outputId": "82b72597-0c6a-4895-bbfe-33728582bf36"
      },
      "source": [
        "df.hist(layout=(5,4), figsize=(15,10),)\n",
        "plt.tight_layout()\n",
        "plt.show()"
      ],
      "execution_count": 62,
      "outputs": [
        {
          "output_type": "display_data",
          "data": {
            "image/png": "[encoded data removed]",
            "text/plain": [
              "<Figure size 1080x720 with 20 Axes>"
            ]
          },
          "metadata": {
            "tags": [],
            "needs_background": "light"
          }
        }
      ]
    },
    {
      "cell_type": "markdown",
      "metadata": {
        "id": "clesNDgdT9PW"
      },
      "source": [
        "Above fig helps in understanding the disrtibution of various features in the dataset where some new features have been added to help in the predictions."
      ]
    },
    {
      "cell_type": "code",
      "metadata": {
        "colab": {
          "base_uri": "https://localhost:8080/"
        },
        "id": "rzlW6lS3WCZd",
        "outputId": "ef49eec4-a2d2-48c4-a606-faea1dfe14bb"
      },
      "source": [
        "df.columns"
      ],
      "execution_count": 63,
      "outputs": [
        {
          "output_type": "execute_result",
          "data": {
            "text/plain": [
              "Index(['review_date', 'movie_id', 'user_id', 'is_spoiler', 'review_text',\n",
              "       'userrating', 'review_summary', 'plot_summary', 'duration', 'genre',\n",
              "       'actualrating', 'release_date', 'plot_synopsis', 'days_elapsed',\n",
              "       'word_count', 'spoiltext'],\n",
              "      dtype='object')"
            ]
          },
          "metadata": {
            "tags": []
          },
          "execution_count": 63
        }
      ]
    },
    {
      "cell_type": "markdown",
      "metadata": {
        "id": "qYPwDqWrVe37"
      },
      "source": [
        "After exploratory analysis  some key insights were gained which are as following:-\n",
        "\n",
        "\n",
        "*   Some users,movies and genres have greater chances of containing reviews with spoilers so to exploit this  can create parameter corresponding each feature mentioned above where  assign every movie,user,genre pool a certain ratio attributing to its affinity for spoilers\n",
        "\n",
        "*  Some spoilers will clearly contain the word \"spoiler\" indicative of it containing the spoilers so will assign a feature which tells us if review text for respective row contains the word \"spoiler\" or not \n",
        "\n",
        "*   The period  b/w review_date and release_date doesn't seem to be having any difference for spoiler and non spoiler reviews as evident from respective boxplot however it also holds information and might be helpful so will later try to make predictions both with and without it and compare the results\n",
        "\n",
        "*   Can  also exploit the word count of reviews as a feature for the predictions \n",
        "\n",
        "* As can be observed  both review and corresponding plot summary so \n",
        "another good indicator for spoilers will be how close a review is to its plot synopsis \n",
        "\n",
        "\n",
        "\n",
        "\n",
        "\n",
        "\n"
      ]
    },
    {
      "cell_type": "markdown",
      "metadata": {
        "id": "6UpLkshnfPyb"
      },
      "source": [
        "# Movie spoiler ratio(MSR)"
      ]
    },
    {
      "cell_type": "markdown",
      "metadata": {
        "id": "Vo58lwrmZINX"
      },
      "source": [
        "For every movie  will compare its no. of reviews with spoilers to total no. of reviews for the movie  and assign this ratio as ***Movie spoiler ratio  aka msr***"
      ]
    },
    {
      "cell_type": "code",
      "metadata": {
        "id": "F_6N4-lab1OJ"
      },
      "source": [
        "total_spoilers= df.groupby(by='movie_id').is_spoiler.agg(['sum']).reset_index().rename(columns={'sum':'total_spoilers'})"
      ],
      "execution_count": 64,
      "outputs": []
    },
    {
      "cell_type": "code",
      "metadata": {
        "id": "vOlLy0g_b1Ms"
      },
      "source": [
        "total_movies = df.groupby(by='movie_id').movie_id.agg(['count']).reset_index().rename(columns={'count':'total_movies'})"
      ],
      "execution_count": 65,
      "outputs": []
    },
    {
      "cell_type": "code",
      "metadata": {
        "id": "bvUzSoBob1Iy"
      },
      "source": [
        "msr = pd.merge(total_spoilers,total_movies, on='movie_id')"
      ],
      "execution_count": 66,
      "outputs": []
    },
    {
      "cell_type": "code",
      "metadata": {
        "id": "K4aZvjUxb1HC"
      },
      "source": [
        "msr['msr']=msr.total_spoilers/msr.total_movies"
      ],
      "execution_count": 67,
      "outputs": []
    },
    {
      "cell_type": "code",
      "metadata": {
        "colab": {
          "base_uri": "https://localhost:8080/",
          "height": 0
        },
        "id": "s03do7a4b1Do",
        "outputId": "86a3a00c-a9c9-4d22-fa77-cb031ed50f45"
      },
      "source": [
        "msr.head()"
      ],
      "execution_count": 68,
      "outputs": [
        {
          "output_type": "execute_result",
          "data": {
            "text/html": [
              "<div>\n",
              "<style scoped>\n",
              "    .dataframe tbody tr th:only-of-type {\n",
              "        vertical-align: middle;\n",
              "    }\n",
              "\n",
              "    .dataframe tbody tr th {\n",
              "        vertical-align: top;\n",
              "    }\n",
              "\n",
              "    .dataframe thead th {\n",
              "        text-align: right;\n",
              "    }\n",
              "</style>\n",
              "<table border=\"1\" class=\"dataframe\">\n",
              "  <thead>\n",
              "    <tr style=\"text-align: right;\">\n",
              "      <th></th>\n",
              "      <th>movie_id</th>\n",
              "      <th>total_spoilers</th>\n",
              "      <th>total_movies</th>\n",
              "      <th>msr</th>\n",
              "    </tr>\n",
              "  </thead>\n",
              "  <tbody>\n",
              "    <tr>\n",
              "      <th>0</th>\n",
              "      <td>tt0012349</td>\n",
              "      <td>26</td>\n",
              "      <td>104</td>\n",
              "      <td>0.250000</td>\n",
              "    </tr>\n",
              "    <tr>\n",
              "      <th>1</th>\n",
              "      <td>tt0015864</td>\n",
              "      <td>39</td>\n",
              "      <td>128</td>\n",
              "      <td>0.304688</td>\n",
              "    </tr>\n",
              "    <tr>\n",
              "      <th>2</th>\n",
              "      <td>tt0017136</td>\n",
              "      <td>73</td>\n",
              "      <td>337</td>\n",
              "      <td>0.216617</td>\n",
              "    </tr>\n",
              "    <tr>\n",
              "      <th>3</th>\n",
              "      <td>tt0017925</td>\n",
              "      <td>50</td>\n",
              "      <td>192</td>\n",
              "      <td>0.260417</td>\n",
              "    </tr>\n",
              "    <tr>\n",
              "      <th>4</th>\n",
              "      <td>tt0018455</td>\n",
              "      <td>63</td>\n",
              "      <td>178</td>\n",
              "      <td>0.353933</td>\n",
              "    </tr>\n",
              "  </tbody>\n",
              "</table>\n",
              "</div>"
            ],
            "text/plain": [
              "    movie_id  total_spoilers  total_movies       msr\n",
              "0  tt0012349              26           104  0.250000\n",
              "1  tt0015864              39           128  0.304688\n",
              "2  tt0017136              73           337  0.216617\n",
              "3  tt0017925              50           192  0.260417\n",
              "4  tt0018455              63           178  0.353933"
            ]
          },
          "metadata": {
            "tags": []
          },
          "execution_count": 68
        }
      ]
    },
    {
      "cell_type": "code",
      "metadata": {
        "id": "b-sny02ob1BW"
      },
      "source": [
        "msr.drop(['total_spoilers','total_movies'], axis=1, inplace=True)"
      ],
      "execution_count": 69,
      "outputs": []
    },
    {
      "cell_type": "code",
      "metadata": {
        "id": "oHUFxo7ub0_E"
      },
      "source": [
        "df=pd.merge(df,msr,on='movie_id')"
      ],
      "execution_count": 70,
      "outputs": []
    },
    {
      "cell_type": "markdown",
      "metadata": {
        "id": "3sYllapIhgYy"
      },
      "source": [
        "#User Spoiler Ratio (USR)"
      ]
    },
    {
      "cell_type": "markdown",
      "metadata": {
        "id": "jDyrJZp_Z5Az"
      },
      "source": [
        "For every user  will compare its no. of reviews with spoilers to total no. of reviews from the user and assign this ratio as ***User spoiler ratio  aka  usr***"
      ]
    },
    {
      "cell_type": "code",
      "metadata": {
        "id": "8csDZxEyb05Z"
      },
      "source": [
        "total_user_spoilers = df.groupby(by='user_id').is_spoiler.agg(['sum']).reset_index().rename(columns={'sum':'total_user_spoilers'})\n"
      ],
      "execution_count": 71,
      "outputs": []
    },
    {
      "cell_type": "code",
      "metadata": {
        "id": "TBwIy47Rb03r"
      },
      "source": [
        "total_users = df.groupby(by='user_id').user_id.agg(['count']).reset_index().rename(columns={'count':'total_users'})\n"
      ],
      "execution_count": 72,
      "outputs": []
    },
    {
      "cell_type": "code",
      "metadata": {
        "id": "IPm0mlSLb0z7"
      },
      "source": [
        "usr = pd.merge(total_user_spoilers,total_users, on='user_id')"
      ],
      "execution_count": 73,
      "outputs": []
    },
    {
      "cell_type": "code",
      "metadata": {
        "id": "Ul7kb4Egb0yJ"
      },
      "source": [
        "usr['usr']=usr.total_user_spoilers / usr.total_users"
      ],
      "execution_count": 74,
      "outputs": []
    },
    {
      "cell_type": "code",
      "metadata": {
        "id": "f_yy78o-b0vN"
      },
      "source": [
        "usr.drop(['total_user_spoilers','total_users'], axis=1,inplace=True)"
      ],
      "execution_count": 75,
      "outputs": []
    },
    {
      "cell_type": "code",
      "metadata": {
        "id": "QYuAWMeYb0sp"
      },
      "source": [
        "df= pd.merge(df, usr, on='user_id')"
      ],
      "execution_count": 76,
      "outputs": []
    },
    {
      "cell_type": "markdown",
      "metadata": {
        "id": "uuPHWrrgiroi"
      },
      "source": [
        "# Genre Analysis\n",
        "\n",
        "<h2>For differenet genres there will be diffrent likelihood of having spoilers so i'll assign ratio similar to the way of USR and MSR for each genre category </h2>"
      ]
    },
    {
      "cell_type": "code",
      "metadata": {
        "id": "1-VprFxAirSj"
      },
      "source": [
        "genres= np.unique(np.array(' '.join(df.genre.str.join(' ')).split()))"
      ],
      "execution_count": 77,
      "outputs": []
    },
    {
      "cell_type": "code",
      "metadata": {
        "colab": {
          "base_uri": "https://localhost:8080/"
        },
        "id": "4DDd-clYb0mb",
        "outputId": "f3317c93-e897-4fcf-fbc7-fa700a538d85"
      },
      "source": [
        "genres"
      ],
      "execution_count": 78,
      "outputs": [
        {
          "output_type": "execute_result",
          "data": {
            "text/plain": [
              "array(['Action', 'Adventure', 'Animation', 'Biography', 'Comedy', 'Crime',\n",
              "       'Drama', 'Family', 'Fantasy', 'Film-Noir', 'History', 'Horror',\n",
              "       'Music', 'Musical', 'Mystery', 'Romance', 'Sci-Fi', 'Sport',\n",
              "       'Thriller', 'War', 'Western'], dtype='<U9')"
            ]
          },
          "metadata": {
            "tags": []
          },
          "execution_count": 78
        }
      ]
    },
    {
      "cell_type": "code",
      "metadata": {
        "id": "W0J00CKZb0iQ"
      },
      "source": [
        "genre_df=pd.DataFrame()"
      ],
      "execution_count": 79,
      "outputs": []
    },
    {
      "cell_type": "code",
      "metadata": {
        "id": "HCfpnouwb0fm"
      },
      "source": [
        "for i in genres:\n",
        "    genre_df[i.lower()]=0"
      ],
      "execution_count": 80,
      "outputs": []
    },
    {
      "cell_type": "code",
      "metadata": {
        "id": "Zs54h9Stb0dA"
      },
      "source": [
        "for i,data in df_details.iterrows():\n",
        "    #Assigns details pertaining to a movie to a variable\n",
        "    details=df_details[df_details.movie_id==data['movie_id']]\n",
        "    genre_df.at[i,'movie_id']=data['movie_id']\n",
        "    for genre in genres:\n",
        "        #Checks if movie belongs to the genre or not \n",
        "        genre_df.at[i,genre.lower()]=int(genre in details['genre'].tolist()[0])"
      ],
      "execution_count": 81,
      "outputs": []
    },
    {
      "cell_type": "code",
      "metadata": {
        "colab": {
          "base_uri": "https://localhost:8080/",
          "height": 0
        },
        "id": "1ZmxanY3b0aQ",
        "outputId": "44356b49-95c3-4a8f-8dc3-8b60bf0145ea"
      },
      "source": [
        "genre_df.head()"
      ],
      "execution_count": 82,
      "outputs": [
        {
          "output_type": "execute_result",
          "data": {
            "text/html": [
              "<div>\n",
              "<style scoped>\n",
              "    .dataframe tbody tr th:only-of-type {\n",
              "        vertical-align: middle;\n",
              "    }\n",
              "\n",
              "    .dataframe tbody tr th {\n",
              "        vertical-align: top;\n",
              "    }\n",
              "\n",
              "    .dataframe thead th {\n",
              "        text-align: right;\n",
              "    }\n",
              "</style>\n",
              "<table border=\"1\" class=\"dataframe\">\n",
              "  <thead>\n",
              "    <tr style=\"text-align: right;\">\n",
              "      <th></th>\n",
              "      <th>action</th>\n",
              "      <th>adventure</th>\n",
              "      <th>animation</th>\n",
              "      <th>biography</th>\n",
              "      <th>comedy</th>\n",
              "      <th>crime</th>\n",
              "      <th>drama</th>\n",
              "      <th>family</th>\n",
              "      <th>fantasy</th>\n",
              "      <th>film-noir</th>\n",
              "      <th>history</th>\n",
              "      <th>horror</th>\n",
              "      <th>music</th>\n",
              "      <th>musical</th>\n",
              "      <th>mystery</th>\n",
              "      <th>romance</th>\n",
              "      <th>sci-fi</th>\n",
              "      <th>sport</th>\n",
              "      <th>thriller</th>\n",
              "      <th>war</th>\n",
              "      <th>western</th>\n",
              "      <th>movie_id</th>\n",
              "    </tr>\n",
              "  </thead>\n",
              "  <tbody>\n",
              "    <tr>\n",
              "      <th>0</th>\n",
              "      <td>1.0</td>\n",
              "      <td>0.0</td>\n",
              "      <td>0.0</td>\n",
              "      <td>0.0</td>\n",
              "      <td>0.0</td>\n",
              "      <td>0.0</td>\n",
              "      <td>0.0</td>\n",
              "      <td>0.0</td>\n",
              "      <td>0.0</td>\n",
              "      <td>0.0</td>\n",
              "      <td>0.0</td>\n",
              "      <td>0.0</td>\n",
              "      <td>0.0</td>\n",
              "      <td>0.0</td>\n",
              "      <td>0.0</td>\n",
              "      <td>0.0</td>\n",
              "      <td>0.0</td>\n",
              "      <td>0.0</td>\n",
              "      <td>1.0</td>\n",
              "      <td>0.0</td>\n",
              "      <td>0.0</td>\n",
              "      <td>tt0105112</td>\n",
              "    </tr>\n",
              "    <tr>\n",
              "      <th>1</th>\n",
              "      <td>0.0</td>\n",
              "      <td>0.0</td>\n",
              "      <td>0.0</td>\n",
              "      <td>0.0</td>\n",
              "      <td>1.0</td>\n",
              "      <td>0.0</td>\n",
              "      <td>0.0</td>\n",
              "      <td>0.0</td>\n",
              "      <td>0.0</td>\n",
              "      <td>0.0</td>\n",
              "      <td>0.0</td>\n",
              "      <td>0.0</td>\n",
              "      <td>0.0</td>\n",
              "      <td>0.0</td>\n",
              "      <td>0.0</td>\n",
              "      <td>0.0</td>\n",
              "      <td>0.0</td>\n",
              "      <td>0.0</td>\n",
              "      <td>0.0</td>\n",
              "      <td>0.0</td>\n",
              "      <td>0.0</td>\n",
              "      <td>tt1204975</td>\n",
              "    </tr>\n",
              "    <tr>\n",
              "      <th>2</th>\n",
              "      <td>0.0</td>\n",
              "      <td>0.0</td>\n",
              "      <td>0.0</td>\n",
              "      <td>0.0</td>\n",
              "      <td>1.0</td>\n",
              "      <td>0.0</td>\n",
              "      <td>0.0</td>\n",
              "      <td>0.0</td>\n",
              "      <td>0.0</td>\n",
              "      <td>0.0</td>\n",
              "      <td>0.0</td>\n",
              "      <td>0.0</td>\n",
              "      <td>0.0</td>\n",
              "      <td>0.0</td>\n",
              "      <td>0.0</td>\n",
              "      <td>1.0</td>\n",
              "      <td>0.0</td>\n",
              "      <td>0.0</td>\n",
              "      <td>0.0</td>\n",
              "      <td>0.0</td>\n",
              "      <td>0.0</td>\n",
              "      <td>tt0243655</td>\n",
              "    </tr>\n",
              "    <tr>\n",
              "      <th>3</th>\n",
              "      <td>0.0</td>\n",
              "      <td>1.0</td>\n",
              "      <td>0.0</td>\n",
              "      <td>0.0</td>\n",
              "      <td>0.0</td>\n",
              "      <td>0.0</td>\n",
              "      <td>1.0</td>\n",
              "      <td>0.0</td>\n",
              "      <td>0.0</td>\n",
              "      <td>0.0</td>\n",
              "      <td>0.0</td>\n",
              "      <td>0.0</td>\n",
              "      <td>0.0</td>\n",
              "      <td>0.0</td>\n",
              "      <td>0.0</td>\n",
              "      <td>0.0</td>\n",
              "      <td>0.0</td>\n",
              "      <td>0.0</td>\n",
              "      <td>0.0</td>\n",
              "      <td>0.0</td>\n",
              "      <td>1.0</td>\n",
              "      <td>tt0040897</td>\n",
              "    </tr>\n",
              "    <tr>\n",
              "      <th>4</th>\n",
              "      <td>0.0</td>\n",
              "      <td>0.0</td>\n",
              "      <td>0.0</td>\n",
              "      <td>0.0</td>\n",
              "      <td>1.0</td>\n",
              "      <td>0.0</td>\n",
              "      <td>1.0</td>\n",
              "      <td>0.0</td>\n",
              "      <td>0.0</td>\n",
              "      <td>0.0</td>\n",
              "      <td>0.0</td>\n",
              "      <td>0.0</td>\n",
              "      <td>0.0</td>\n",
              "      <td>0.0</td>\n",
              "      <td>0.0</td>\n",
              "      <td>1.0</td>\n",
              "      <td>0.0</td>\n",
              "      <td>0.0</td>\n",
              "      <td>0.0</td>\n",
              "      <td>0.0</td>\n",
              "      <td>0.0</td>\n",
              "      <td>tt0126886</td>\n",
              "    </tr>\n",
              "  </tbody>\n",
              "</table>\n",
              "</div>"
            ],
            "text/plain": [
              "   action  adventure  animation  biography  ...  thriller  war  western   movie_id\n",
              "0     1.0        0.0        0.0        0.0  ...       1.0  0.0      0.0  tt0105112\n",
              "1     0.0        0.0        0.0        0.0  ...       0.0  0.0      0.0  tt1204975\n",
              "2     0.0        0.0        0.0        0.0  ...       0.0  0.0      0.0  tt0243655\n",
              "3     0.0        1.0        0.0        0.0  ...       0.0  0.0      1.0  tt0040897\n",
              "4     0.0        0.0        0.0        0.0  ...       0.0  0.0      0.0  tt0126886\n",
              "\n",
              "[5 rows x 22 columns]"
            ]
          },
          "metadata": {
            "tags": []
          },
          "execution_count": 82
        }
      ]
    },
    {
      "cell_type": "code",
      "metadata": {
        "id": "3sz-jUrOb0Y8"
      },
      "source": [
        "df_temp= pd.merge(df, genre_df, on=\"movie_id\")"
      ],
      "execution_count": 83,
      "outputs": []
    },
    {
      "cell_type": "code",
      "metadata": {
        "colab": {
          "base_uri": "https://localhost:8080/"
        },
        "id": "T7EI5wkDqjZC",
        "outputId": "beb2cff8-48f9-43af-da63-19a3d661f05f"
      },
      "source": [
        "np.zeros(len(genres))"
      ],
      "execution_count": 84,
      "outputs": [
        {
          "output_type": "execute_result",
          "data": {
            "text/plain": [
              "array([0., 0., 0., 0., 0., 0., 0., 0., 0., 0., 0., 0., 0., 0., 0., 0., 0.,\n",
              "       0., 0., 0., 0.])"
            ]
          },
          "metadata": {
            "tags": []
          },
          "execution_count": 84
        }
      ]
    },
    {
      "cell_type": "code",
      "metadata": {
        "id": "rkp6QUicb0Qe"
      },
      "source": [
        "e = 0.001\n",
        "gsr = np.zeros(len(genres))\n",
        "for i,g in enumerate(genres):\n",
        "    # i.e. total no. of reviews with spoiler belonging to a genre /total no. of reviews of movie genre\n",
        "    gsr[i] = df_temp[(df_temp.is_spoiler==1) &\n",
        "                                     (df_temp[g.lower()]==1)].shape[0] / (df_temp[df_temp[g.lower()]==1].shape[0]\n",
        "                                                                          +e)"
      ],
      "execution_count": 85,
      "outputs": []
    },
    {
      "cell_type": "code",
      "metadata": {
        "colab": {
          "base_uri": "https://localhost:8080/"
        },
        "id": "vpLQ-EMAq5Mb",
        "outputId": "4bf920e7-1c07-419a-f98d-0bd66cbc772c"
      },
      "source": [
        "genres"
      ],
      "execution_count": 86,
      "outputs": [
        {
          "output_type": "execute_result",
          "data": {
            "text/plain": [
              "array(['Action', 'Adventure', 'Animation', 'Biography', 'Comedy', 'Crime',\n",
              "       'Drama', 'Family', 'Fantasy', 'Film-Noir', 'History', 'Horror',\n",
              "       'Music', 'Musical', 'Mystery', 'Romance', 'Sci-Fi', 'Sport',\n",
              "       'Thriller', 'War', 'Western'], dtype='<U9')"
            ]
          },
          "metadata": {
            "tags": []
          },
          "execution_count": 86
        }
      ]
    },
    {
      "cell_type": "code",
      "metadata": {
        "colab": {
          "base_uri": "https://localhost:8080/"
        },
        "id": "SfCrNUAduDvq",
        "outputId": "bff9768f-0c7e-42cb-d1e8-aec46a1a2c8f"
      },
      "source": [
        "gsr"
      ],
      "execution_count": 87,
      "outputs": [
        {
          "output_type": "execute_result",
          "data": {
            "text/plain": [
              "array([0.28260197, 0.28689807, 0.25694626, 0.24139909, 0.2156022 ,\n",
              "       0.24629342, 0.25653166, 0.27053262, 0.28138213, 0.27247333,\n",
              "       0.23578351, 0.29666125, 0.20991318, 0.20297205, 0.28947245,\n",
              "       0.23652655, 0.31211931, 0.23998089, 0.28114596, 0.24305825,\n",
              "       0.25500944])"
            ]
          },
          "metadata": {
            "tags": []
          },
          "execution_count": 87
        }
      ]
    },
    {
      "cell_type": "code",
      "metadata": {
        "id": "QPvk_FOGrF-I"
      },
      "source": [
        "genre_ratio=dict(zip(genres,gsr))"
      ],
      "execution_count": 88,
      "outputs": []
    },
    {
      "cell_type": "code",
      "metadata": {
        "colab": {
          "base_uri": "https://localhost:8080/",
          "height": 0
        },
        "id": "yC7YxjPkb0OQ",
        "outputId": "8f14d9ce-c075-4505-e22d-d243512b5a02"
      },
      "source": [
        "plt.figure(figsize=(12,12))\n",
        "ax = sns.barplot(x=gsr,y=genres)\n",
        "ax.set(xlabel=\"Spoiler ratio\",ylabel=\"Genres\");\n",
        "plt.show();"
      ],
      "execution_count": 89,
      "outputs": [
        {
          "output_type": "display_data",
          "data": {
            "image/png": "[encoded data removed]",
            "text/plain": [
              "<Figure size 864x864 with 1 Axes>"
            ]
          },
          "metadata": {
            "tags": [],
            "needs_background": "light"
          }
        }
      ]
    },
    {
      "cell_type": "code",
      "metadata": {
        "id": "POGuqw8KsUnz"
      },
      "source": [
        "def genrespoilerratio(list):\n",
        "  value=0\n",
        "  for i in list:\n",
        "     value+=genre_ratio[i]\n",
        "  return value   "
      ],
      "execution_count": 90,
      "outputs": []
    },
    {
      "cell_type": "code",
      "metadata": {
        "id": "EOnzq_nss1k5"
      },
      "source": [
        "df['gsr'] = pd.merge(df,df_details.drop(['genre'],axis=1),on=\"movie_id\").genre.apply(genrespoilerratio)"
      ],
      "execution_count": 91,
      "outputs": []
    },
    {
      "cell_type": "markdown",
      "metadata": {
        "id": "665NThyrmIVG"
      },
      "source": [
        "#  Matching Text from reviews with plot summary\n",
        "\n",
        " will find distance between plot summary and  the corresponding reviews.Lesser the distance more is the probability of them containing same information i.e. spoilers . So in order to do this  will first preprocess the text to remove all non alphabetical characters and stop words from the review_text and plot summary and then using glove embeddings will filnd distance between them ."
      ]
    },
    {
      "cell_type": "code",
      "metadata": {
        "colab": {
          "base_uri": "https://localhost:8080/"
        },
        "id": "0UatC0PE4sZK",
        "outputId": "99ee710b-b66c-4316-a511-72fb8a14a062"
      },
      "source": [
        "nltk.download('stopwords')\n",
        "from nltk.corpus import stopwords"
      ],
      "execution_count": 92,
      "outputs": [
        {
          "output_type": "stream",
          "text": [
            "[nltk_data] Downloading package stopwords to /root/nltk_data...\n",
            "[nltk_data]   Package stopwords is already up-to-date!\n"
          ],
          "name": "stdout"
        }
      ]
    },
    {
      "cell_type": "code",
      "metadata": {
        "id": "92-bW23tmEN5"
      },
      "source": [
        "stopwords=set(stopwords.words('english'))"
      ],
      "execution_count": 93,
      "outputs": []
    },
    {
      "cell_type": "code",
      "metadata": {
        "id": "ojjOo_l5l6Up"
      },
      "source": [
        "stopwords_dict=Counter(stopwords)"
      ],
      "execution_count": 94,
      "outputs": []
    },
    {
      "cell_type": "code",
      "metadata": {
        "id": "ksysl8f8l6SC"
      },
      "source": [
        "def preprocesstext(text):\n",
        "    text=text.lower()\n",
        "    text=re.sub('[^a-zA-Z]',' ',text)\n",
        "    words=text.split()\n",
        "    word=[word for word in words if word not in stopwords_dict]\n",
        "    text=\" \".join(words)\n",
        "    return text"
      ],
      "execution_count": 95,
      "outputs": []
    },
    {
      "cell_type": "code",
      "metadata": {
        "id": "Ne28pIFFl6Pc"
      },
      "source": [
        "df.review_text=df.review_text.apply(preprocesstext)\n",
        "df.plot_summary=df.plot_summary.apply(preprocesstext)"
      ],
      "execution_count": 96,
      "outputs": []
    },
    {
      "cell_type": "markdown",
      "metadata": {
        "id": "Q9o1K8NkmU7j"
      },
      "source": [
        "Using glove-global-vectors for words.These pre-trained embeddings are used  to quantify word co-occurrence (which also captures some aspects of word meaning). This dataset contains 50-dimensional, 100-dimensional and 200-dimensional pre trained word vectors.Here i'll be using 50 dimensional one."
      ]
    },
    {
      "cell_type": "code",
      "metadata": {
        "id": "eTdyCAG8l6JU"
      },
      "source": [
        "#Saving the words and their corresponding vectors in  a dictionary\n",
        "embeddings=dict()\n",
        "f=open('/content/glove.6B.50d.txt')\n",
        "for i in f: \n",
        "    values=i.split()\n",
        "    word=values[0]\n",
        "    cofss = np.asarray(values[1:], dtype='float32')\n",
        "    embeddings[word]=cofss\n",
        "f.close()    "
      ],
      "execution_count": 97,
      "outputs": []
    },
    {
      "cell_type": "code",
      "metadata": {
        "id": "ZPwHn7Yul6Gx"
      },
      "source": [
        "def getAvgWordEmbedding(text):\n",
        "    words = text.split()\n",
        "    n = 0\n",
        "    sumEmbed = np.zeros(50)\n",
        "    # because 50 dim of word vectors\n",
        "    \n",
        "    for word in words:\n",
        "        if word in embeddings:\n",
        "            sumEmbed += embeddings[word]\n",
        "            n += 1\n",
        "    \n",
        "    avgEmbed = sumEmbed / n\n",
        "    return avgEmbed\n",
        "    \n",
        "def Dist(e1, e2):\n",
        "    return np.sum(np.square(e1-e2), axis = 1)"
      ],
      "execution_count": 98,
      "outputs": []
    },
    {
      "cell_type": "code",
      "metadata": {
        "id": "g8Ifb1cMl57W"
      },
      "source": [
        "plot_embed = df.plot_summary.apply(getAvgWordEmbedding)\n",
        "review_embed = df.review_text.apply(getAvgWordEmbedding)"
      ],
      "execution_count": 99,
      "outputs": []
    },
    {
      "cell_type": "code",
      "metadata": {
        "id": "J6UsyZRFl54L"
      },
      "source": [
        "distance=Dist(np.stack(review_embed),np.stack(plot_embed))"
      ],
      "execution_count": 100,
      "outputs": []
    },
    {
      "cell_type": "code",
      "metadata": {
        "id": "vWExkRAJl51q"
      },
      "source": [
        "df['distance']=distance"
      ],
      "execution_count": 101,
      "outputs": []
    },
    {
      "cell_type": "markdown",
      "metadata": {
        "id": "frNpwkGGFU5y"
      },
      "source": [
        "# Saving the processed dataset for future use\n"
      ]
    },
    {
      "cell_type": "code",
      "metadata": {
        "colab": {
          "base_uri": "https://localhost:8080/",
          "height": 0
        },
        "id": "eNQPudc_jkHf",
        "outputId": "ed884afb-6d18-4b10-ca00-92acd7d5ba10"
      },
      "source": [
        "df.head()"
      ],
      "execution_count": 102,
      "outputs": [
        {
          "output_type": "execute_result",
          "data": {
            "text/html": [
              "<div>\n",
              "<style scoped>\n",
              "    .dataframe tbody tr th:only-of-type {\n",
              "        vertical-align: middle;\n",
              "    }\n",
              "\n",
              "    .dataframe tbody tr th {\n",
              "        vertical-align: top;\n",
              "    }\n",
              "\n",
              "    .dataframe thead th {\n",
              "        text-align: right;\n",
              "    }\n",
              "</style>\n",
              "<table border=\"1\" class=\"dataframe\">\n",
              "  <thead>\n",
              "    <tr style=\"text-align: right;\">\n",
              "      <th></th>\n",
              "      <th>review_date</th>\n",
              "      <th>movie_id</th>\n",
              "      <th>user_id</th>\n",
              "      <th>is_spoiler</th>\n",
              "      <th>review_text</th>\n",
              "      <th>userrating</th>\n",
              "      <th>review_summary</th>\n",
              "      <th>plot_summary</th>\n",
              "      <th>duration</th>\n",
              "      <th>genre</th>\n",
              "      <th>actualrating</th>\n",
              "      <th>release_date</th>\n",
              "      <th>plot_synopsis</th>\n",
              "      <th>days_elapsed</th>\n",
              "      <th>word_count</th>\n",
              "      <th>spoiltext</th>\n",
              "      <th>msr</th>\n",
              "      <th>usr</th>\n",
              "      <th>gsr</th>\n",
              "      <th>distance</th>\n",
              "    </tr>\n",
              "  </thead>\n",
              "  <tbody>\n",
              "    <tr>\n",
              "      <th>0</th>\n",
              "      <td>2006-02-10</td>\n",
              "      <td>tt0111161</td>\n",
              "      <td>ur1898687</td>\n",
              "      <td>1</td>\n",
              "      <td>in its oscar year shawshank redemption written...</td>\n",
              "      <td>10</td>\n",
              "      <td>A classic piece of unforgettable film-making.</td>\n",
              "      <td>chronicles the experiences of a formerly succe...</td>\n",
              "      <td>2h 22min</td>\n",
              "      <td>[Crime, Drama]</td>\n",
              "      <td>9.3</td>\n",
              "      <td>1994-10-14</td>\n",
              "      <td>In 1947, Andy Dufresne (Tim Robbins), a banker...</td>\n",
              "      <td>4137</td>\n",
              "      <td>843</td>\n",
              "      <td>0</td>\n",
              "      <td>0.219216</td>\n",
              "      <td>0.6</td>\n",
              "      <td>0.502825</td>\n",
              "      <td>0.670662</td>\n",
              "    </tr>\n",
              "    <tr>\n",
              "      <th>1</th>\n",
              "      <td>2006-03-19</td>\n",
              "      <td>tt0144084</td>\n",
              "      <td>ur1898687</td>\n",
              "      <td>0</td>\n",
              "      <td>starring christian bale willem dafoe chlo sevi...</td>\n",
              "      <td>8</td>\n",
              "      <td>Worth seeing, if only for the post-viewing dis...</td>\n",
              "      <td>patrick bateman is handsome well educated and ...</td>\n",
              "      <td>1h 42min</td>\n",
              "      <td>[Crime, Drama]</td>\n",
              "      <td>7.6</td>\n",
              "      <td>2000-04-14</td>\n",
              "      <td>A white background. Red drops begin to fall pa...</td>\n",
              "      <td>2165</td>\n",
              "      <td>526</td>\n",
              "      <td>0</td>\n",
              "      <td>0.274725</td>\n",
              "      <td>0.6</td>\n",
              "      <td>0.502825</td>\n",
              "      <td>0.529877</td>\n",
              "    </tr>\n",
              "    <tr>\n",
              "      <th>2</th>\n",
              "      <td>2006-02-10</td>\n",
              "      <td>tt0298203</td>\n",
              "      <td>ur1898687</td>\n",
              "      <td>1</td>\n",
              "      <td>eminem s semi autobiographical rap movie do i ...</td>\n",
              "      <td>7</td>\n",
              "      <td>Better than it needed to be.</td>\n",
              "      <td>this is the inspiring captivating story of the...</td>\n",
              "      <td>1h 50min</td>\n",
              "      <td>[Drama, Music]</td>\n",
              "      <td>7.1</td>\n",
              "      <td>2002-11-08</td>\n",
              "      <td>It's 1995. Jimmy \"B-Rabbit\" Smith Jr. (Eminem)...</td>\n",
              "      <td>1190</td>\n",
              "      <td>467</td>\n",
              "      <td>0</td>\n",
              "      <td>0.164456</td>\n",
              "      <td>0.6</td>\n",
              "      <td>0.502825</td>\n",
              "      <td>0.287624</td>\n",
              "    </tr>\n",
              "    <tr>\n",
              "      <th>3</th>\n",
              "      <td>2006-02-10</td>\n",
              "      <td>tt0319061</td>\n",
              "      <td>ur1898687</td>\n",
              "      <td>0</td>\n",
              "      <td>the grass is so green the sky is so blue spect...</td>\n",
              "      <td>9</td>\n",
              "      <td>An immediate classic that works on both a visu...</td>\n",
              "      <td>united press international journalist will blo...</td>\n",
              "      <td>2h 5min</td>\n",
              "      <td>[Adventure, Drama, Fantasy]</td>\n",
              "      <td>8.0</td>\n",
              "      <td>2004-01-09</td>\n",
              "      <td>Edward Bloom (Albert Finney), a charismatic te...</td>\n",
              "      <td>763</td>\n",
              "      <td>320</td>\n",
              "      <td>0</td>\n",
              "      <td>0.158416</td>\n",
              "      <td>0.6</td>\n",
              "      <td>0.502825</td>\n",
              "      <td>0.636278</td>\n",
              "    </tr>\n",
              "    <tr>\n",
              "      <th>4</th>\n",
              "      <td>2006-02-10</td>\n",
              "      <td>tt0377092</td>\n",
              "      <td>ur1898687</td>\n",
              "      <td>1</td>\n",
              "      <td>there are a few signs heading into mean girls ...</td>\n",
              "      <td>7</td>\n",
              "      <td>A smart, but flawed, look at high school life</td>\n",
              "      <td>her parents being zoologists homeschooled cady...</td>\n",
              "      <td>1h 37min</td>\n",
              "      <td>[Comedy]</td>\n",
              "      <td>7.0</td>\n",
              "      <td>2004-04-30</td>\n",
              "      <td>Cady (Lindsay Lohan) is the 16-year-old home-s...</td>\n",
              "      <td>651</td>\n",
              "      <td>438</td>\n",
              "      <td>0</td>\n",
              "      <td>0.222472</td>\n",
              "      <td>0.6</td>\n",
              "      <td>0.502825</td>\n",
              "      <td>0.392562</td>\n",
              "    </tr>\n",
              "  </tbody>\n",
              "</table>\n",
              "</div>"
            ],
            "text/plain": [
              "  review_date   movie_id    user_id  ...  usr       gsr  distance\n",
              "0  2006-02-10  tt0111161  ur1898687  ...  0.6  0.502825  0.670662\n",
              "1  2006-03-19  tt0144084  ur1898687  ...  0.6  0.502825  0.529877\n",
              "2  2006-02-10  tt0298203  ur1898687  ...  0.6  0.502825  0.287624\n",
              "3  2006-02-10  tt0319061  ur1898687  ...  0.6  0.502825  0.636278\n",
              "4  2006-02-10  tt0377092  ur1898687  ...  0.6  0.502825  0.392562\n",
              "\n",
              "[5 rows x 20 columns]"
            ]
          },
          "metadata": {
            "tags": []
          },
          "execution_count": 102
        }
      ]
    },
    {
      "cell_type": "code",
      "metadata": {
        "id": "8h409lWBFX67"
      },
      "source": [
        "#df.to_csv('/content/drive/MyDrive/Spoiler_alert_model/processed_data/processed_data.csv',index=False)"
      ],
      "execution_count": 103,
      "outputs": []
    },
    {
      "cell_type": "markdown",
      "metadata": {
        "id": "39oA5kx6COaA"
      },
      "source": [
        "#Preparing  Triain / Valid / Test Sets\n"
      ]
    },
    {
      "cell_type": "code",
      "metadata": {
        "id": "RfT3DQnA1LJw"
      },
      "source": [
        "spoilers = df[df.is_spoiler == 1].sample(frac=1).reset_index(drop=True)\n",
        "notspoilers = df[df.is_spoiler == 0].sample(frac=1).reset_index(drop=True)"
      ],
      "execution_count": 104,
      "outputs": []
    },
    {
      "cell_type": "code",
      "metadata": {
        "colab": {
          "base_uri": "https://localhost:8080/"
        },
        "id": "dYo0teOK1QHX",
        "outputId": "c96470ea-4f57-4052-d99a-5aa2392427a1"
      },
      "source": [
        "len(spoilers),len(notspoilers)"
      ],
      "execution_count": 105,
      "outputs": [
        {
          "output_type": "execute_result",
          "data": {
            "text/plain": [
              "(25924, 297982)"
            ]
          },
          "metadata": {
            "tags": []
          },
          "execution_count": 105
        }
      ]
    },
    {
      "cell_type": "code",
      "metadata": {
        "id": "LrhlSA8n1ATQ"
      },
      "source": [
        "# train set\n",
        "train = pd.concat([spoilers.head(125000), notspoilers.head(125000)]).sample(frac=1).reset_index(drop=True)\n",
        "\n",
        "# test set\n",
        "test = pd.concat([spoilers.tail(25000), notspoilers.tail(25000)]).sample(frac=1).reset_index(drop=True)"
      ],
      "execution_count": 106,
      "outputs": []
    },
    {
      "cell_type": "code",
      "metadata": {
        "colab": {
          "base_uri": "https://localhost:8080/"
        },
        "id": "5IxEWoIG9xYL",
        "outputId": "c5fb033b-ac78-45c8-8a6a-39bc4b107f3b"
      },
      "source": [
        "train.columns"
      ],
      "execution_count": 107,
      "outputs": [
        {
          "output_type": "execute_result",
          "data": {
            "text/plain": [
              "Index(['review_date', 'movie_id', 'user_id', 'is_spoiler', 'review_text',\n",
              "       'userrating', 'review_summary', 'plot_summary', 'duration', 'genre',\n",
              "       'actualrating', 'release_date', 'plot_synopsis', 'days_elapsed',\n",
              "       'word_count', 'spoiltext', 'msr', 'usr', 'gsr', 'distance'],\n",
              "      dtype='object')"
            ]
          },
          "metadata": {
            "tags": []
          },
          "execution_count": 107
        }
      ]
    },
    {
      "cell_type": "code",
      "metadata": {
        "id": "DYzMODGKIVsI"
      },
      "source": [
        "from sklearn.preprocessing import StandardScaler"
      ],
      "execution_count": 108,
      "outputs": []
    },
    {
      "cell_type": "code",
      "metadata": {
        "id": "r3yxfeB6wtGI"
      },
      "source": [
        "columns=['actualrating','days_elapsed','word_count','spoiltext','usr','msr','gsr','distance']"
      ],
      "execution_count": 109,
      "outputs": []
    },
    {
      "cell_type": "code",
      "metadata": {
        "id": "k7kFT2OCl5tK"
      },
      "source": [
        "x_train = train[columns].fillna(0)\n",
        "x_train=StandardScaler().fit_transform(x_train)\n",
        "y_train=train['is_spoiler'].values"
      ],
      "execution_count": 110,
      "outputs": []
    },
    {
      "cell_type": "code",
      "metadata": {
        "id": "xJMKFTY-l5bD"
      },
      "source": [
        "x_test = test[columns].fillna(0)\n",
        "x_test = StandardScaler().fit_transform(x_test)\n",
        "y_test=test['is_spoiler'].values"
      ],
      "execution_count": 111,
      "outputs": []
    },
    {
      "cell_type": "markdown",
      "metadata": {
        "id": "yVtDn_z1_iw-"
      },
      "source": [
        "# Logistic Regression "
      ]
    },
    {
      "cell_type": "code",
      "metadata": {
        "colab": {
          "base_uri": "https://localhost:8080/"
        },
        "id": "LHYdlYWVmFcB",
        "outputId": "44e83aa3-cb87-4b40-a293-92cc9a7cfcec"
      },
      "source": [
        "logistic= LogisticRegression() \n",
        "logistic.fit(x_train, y_train) "
      ],
      "execution_count": 112,
      "outputs": [
        {
          "output_type": "execute_result",
          "data": {
            "text/plain": [
              "LogisticRegression(C=1.0, class_weight=None, dual=False, fit_intercept=True,\n",
              "                   intercept_scaling=1, l1_ratio=None, max_iter=100,\n",
              "                   multi_class='auto', n_jobs=None, penalty='l2',\n",
              "                   random_state=None, solver='lbfgs', tol=0.0001, verbose=0,\n",
              "                   warm_start=False)"
            ]
          },
          "metadata": {
            "tags": []
          },
          "execution_count": 112
        }
      ]
    },
    {
      "cell_type": "code",
      "metadata": {
        "id": "KJ2udfNlM9Mz"
      },
      "source": [
        "logisticpredstest=logistic.predict(x_test)"
      ],
      "execution_count": 113,
      "outputs": []
    },
    {
      "cell_type": "code",
      "metadata": {
        "colab": {
          "base_uri": "https://localhost:8080/"
        },
        "id": "pHFVJe4n_lSf",
        "outputId": "e5508f1c-3874-4cf9-817a-242a426e4015"
      },
      "source": [
        "print(logistic.score(x_test, y_test))"
      ],
      "execution_count": 114,
      "outputs": [
        {
          "output_type": "stream",
          "text": [
            "0.91016\n"
          ],
          "name": "stdout"
        }
      ]
    },
    {
      "cell_type": "code",
      "metadata": {
        "colab": {
          "base_uri": "https://localhost:8080/"
        },
        "id": "-LWDMfSw9Vb-",
        "outputId": "1f4bda5f-d12c-49e4-e737-4154bf17a731"
      },
      "source": [
        "mean_squared_error(logisticpredstest, y_test)"
      ],
      "execution_count": 115,
      "outputs": [
        {
          "output_type": "execute_result",
          "data": {
            "text/plain": [
              "0.08984"
            ]
          },
          "metadata": {
            "tags": []
          },
          "execution_count": 115
        }
      ]
    },
    {
      "cell_type": "code",
      "metadata": {
        "colab": {
          "base_uri": "https://localhost:8080/"
        },
        "id": "76RRcAHH-rsg",
        "outputId": "360f385b-5968-49e4-d2b7-1fc77e88af20"
      },
      "source": [
        "print('AUC: ', roc_auc_score(y_test, logisticpredstest))\n"
      ],
      "execution_count": 116,
      "outputs": [
        {
          "output_type": "stream",
          "text": [
            "AUC:  0.9101600000000001\n"
          ],
          "name": "stdout"
        }
      ]
    },
    {
      "cell_type": "code",
      "metadata": {
        "colab": {
          "base_uri": "https://localhost:8080/"
        },
        "id": "a7HZLtsRC8ga",
        "outputId": "99b1619b-0fb7-45f9-a382-58d1361b19d9"
      },
      "source": [
        "print(classification_report(y_test, logisticpredstest))\n",
        "print(confusion_matrix(y_test, logisticpredstest))"
      ],
      "execution_count": 117,
      "outputs": [
        {
          "output_type": "stream",
          "text": [
            "              precision    recall  f1-score   support\n",
            "\n",
            "           0       0.90      0.92      0.91     25000\n",
            "           1       0.92      0.90      0.91     25000\n",
            "\n",
            "    accuracy                           0.91     50000\n",
            "   macro avg       0.91      0.91      0.91     50000\n",
            "weighted avg       0.91      0.91      0.91     50000\n",
            "\n",
            "[[23124  1876]\n",
            " [ 2616 22384]]\n"
          ],
          "name": "stdout"
        }
      ]
    },
    {
      "cell_type": "code",
      "metadata": {
        "colab": {
          "base_uri": "https://localhost:8080/",
          "height": 303
        },
        "id": "7q75NfJAtRG0",
        "outputId": "9e8c1935-2d3d-460c-9b16-6e95b1bf76db"
      },
      "source": [
        "plt.title(\"Heatmap for Testdata prediction confusion matrix on logistic Regression\", fontsize =20)\n",
        "sns.heatmap(confusion_matrix(y_test, logisticpredstest)/np.sum(confusion_matrix(y_test, logisticpredstest)), annot=True)"
      ],
      "execution_count": 118,
      "outputs": [
        {
          "output_type": "execute_result",
          "data": {
            "text/plain": [
              "<matplotlib.axes._subplots.AxesSubplot at 0x7f13abd0d6d8>"
            ]
          },
          "metadata": {
            "tags": []
          },
          "execution_count": 118
        },
        {
          "output_type": "display_data",
          "data": {
            "image/png": "[encoded data removed]",
            "text/plain": [
              "<Figure size 432x288 with 2 Axes>"
            ]
          },
          "metadata": {
            "tags": [],
            "needs_background": "light"
          }
        }
      ]
    },
    {
      "cell_type": "code",
      "metadata": {
        "colab": {
          "base_uri": "https://localhost:8080/",
          "height": 295
        },
        "id": "_2zAdKWqMjWS",
        "outputId": "33fac066-5922-4b20-db11-619b97180553"
      },
      "source": [
        "# calculate the fpr and tpr for all thresholds of the classification\n",
        "fpr, tpr, threshold = metrics.roc_curve(y_test, logisticpredstest)\n",
        "roc_auc = metrics.auc(fpr, tpr)\n",
        "plt.title('Receiver Operating Characteristic')\n",
        "plt.plot(fpr, tpr, 'b', label = 'AUC = %0.2f' % roc_auc)\n",
        "plt.legend(loc = 'lower right')\n",
        "plt.plot([0, 1], [0, 1],'r--')\n",
        "plt.xlim([0, 1])\n",
        "plt.ylim([0, 1])\n",
        "plt.ylabel('True Positive Rate')\n",
        "plt.xlabel('False Positive Rate')\n",
        "plt.show()"
      ],
      "execution_count": 119,
      "outputs": [
        {
          "output_type": "display_data",
          "data": {
            "image/png": "[encoded data removed]",
            "text/plain": [
              "<Figure size 432x288 with 1 Axes>"
            ]
          },
          "metadata": {
            "tags": [],
            "needs_background": "light"
          }
        }
      ]
    },
    {
      "cell_type": "code",
      "metadata": {
        "colab": {
          "base_uri": "https://localhost:8080/",
          "height": 295
        },
        "id": "DioxbDg2IMEE",
        "outputId": "51a0f5f9-0d42-49a0-ed10-aee061d3ad5c"
      },
      "source": [
        "roc_auc = metrics.auc(1-tpr, 1-fpr)\n",
        "plt.title('Receiver Operating Characteristic')\n",
        "plt.plot(1-tpr,1-fpr, 'b', label = 'AUC = %0.2f' % roc_auc)\n",
        "plt.legend(loc = 'lower right')\n",
        "plt.plot([0, 1], [0, 1],'r--')\n",
        "plt.xlim([0, 1])\n",
        "plt.ylim([0, 1])\n",
        "plt.ylabel('True Negative Rate')\n",
        "plt.xlabel('False Negative Rate')\n",
        "plt.show()"
      ],
      "execution_count": 120,
      "outputs": [
        {
          "output_type": "display_data",
          "data": {
            "image/png": "[encoded data removed]",
            "text/plain": [
              "<Figure size 432x288 with 1 Axes>"
            ]
          },
          "metadata": {
            "tags": [],
            "needs_background": "light"
          }
        }
      ]
    },
    {
      "cell_type": "markdown",
      "metadata": {
        "id": "0WmUUxJr9uvb"
      },
      "source": [
        "# Random Forest "
      ]
    },
    {
      "cell_type": "code",
      "metadata": {
        "id": "dAdR2k8I9xBi"
      },
      "source": [
        "model = RandomForestClassifier()\n",
        "model.fit(x_train, y_train)\n",
        "predictions = model.predict(x_test)"
      ],
      "execution_count": 121,
      "outputs": []
    },
    {
      "cell_type": "code",
      "metadata": {
        "colab": {
          "base_uri": "https://localhost:8080/"
        },
        "id": "fpfHCqfREMey",
        "outputId": "269034b8-30a5-4933-86db-1c69baefc407"
      },
      "source": [
        "print(logistic.score(x_test, y_test))"
      ],
      "execution_count": 122,
      "outputs": [
        {
          "output_type": "stream",
          "text": [
            "0.91016\n"
          ],
          "name": "stdout"
        }
      ]
    },
    {
      "cell_type": "code",
      "metadata": {
        "colab": {
          "base_uri": "https://localhost:8080/"
        },
        "id": "Qzlk1L7cD_y1",
        "outputId": "a21be657-bf66-48dd-f099-a7b5b953dde5"
      },
      "source": [
        "mean_squared_error(predictions, y_test)"
      ],
      "execution_count": 123,
      "outputs": [
        {
          "output_type": "execute_result",
          "data": {
            "text/plain": [
              "0.0844"
            ]
          },
          "metadata": {
            "tags": []
          },
          "execution_count": 123
        }
      ]
    },
    {
      "cell_type": "code",
      "metadata": {
        "colab": {
          "base_uri": "https://localhost:8080/"
        },
        "id": "5sM5QsfuETpO",
        "outputId": "4004efd3-e4a6-43fb-dcae-56573cda4c47"
      },
      "source": [
        "predictions = model.predict(x_test)\n",
        "print('AUC: ', roc_auc_score(y_test, predictions))\n"
      ],
      "execution_count": 124,
      "outputs": [
        {
          "output_type": "stream",
          "text": [
            "AUC:  0.9156\n"
          ],
          "name": "stdout"
        }
      ]
    },
    {
      "cell_type": "code",
      "metadata": {
        "colab": {
          "base_uri": "https://localhost:8080/"
        },
        "id": "cB3Jnn_xAFYy",
        "outputId": "d11ff7a8-6b71-474b-f97a-5b84304ebaba"
      },
      "source": [
        "print(classification_report(y_test, predictions))\n",
        "print(confusion_matrix(y_test, predictions))"
      ],
      "execution_count": 125,
      "outputs": [
        {
          "output_type": "stream",
          "text": [
            "              precision    recall  f1-score   support\n",
            "\n",
            "           0       0.92      0.91      0.91     25000\n",
            "           1       0.91      0.93      0.92     25000\n",
            "\n",
            "    accuracy                           0.92     50000\n",
            "   macro avg       0.92      0.92      0.92     50000\n",
            "weighted avg       0.92      0.92      0.92     50000\n",
            "\n",
            "[[22650  2350]\n",
            " [ 1870 23130]]\n"
          ],
          "name": "stdout"
        }
      ]
    },
    {
      "cell_type": "code",
      "metadata": {
        "colab": {
          "base_uri": "https://localhost:8080/",
          "height": 303
        },
        "id": "zYbKje9zBP5L",
        "outputId": "72daa8e4-9081-4d1e-83b3-726b332bd30e"
      },
      "source": [
        "plt.title(\"Heatmap for Testdata prediction confusion matrix on RandomForest Classifier\", fontsize =20)\n",
        "sns.heatmap(confusion_matrix(y_test, predictions)/np.sum(confusion_matrix(y_test, predictions)), annot=True)"
      ],
      "execution_count": 126,
      "outputs": [
        {
          "output_type": "execute_result",
          "data": {
            "text/plain": [
              "<matplotlib.axes._subplots.AxesSubplot at 0x7f139e41ba20>"
            ]
          },
          "metadata": {
            "tags": []
          },
          "execution_count": 126
        },
        {
          "output_type": "display_data",
          "data": {
            "image/png": "[encoded data removed]",
            "text/plain": [
              "<Figure size 432x288 with 2 Axes>"
            ]
          },
          "metadata": {
            "tags": [],
            "needs_background": "light"
          }
        }
      ]
    },
    {
      "cell_type": "code",
      "metadata": {
        "colab": {
          "base_uri": "https://localhost:8080/",
          "height": 295
        },
        "id": "tg0VuWISNnOq",
        "outputId": "6ff725cc-9752-4ece-98da-5eb7555a0eca"
      },
      "source": [
        "import sklearn.metrics as metrics\n",
        "fpr, tpr, threshold = metrics.roc_curve(y_test, predictions)\n",
        "roc_auc = metrics.auc(fpr, tpr)\n",
        "\n",
        "import matplotlib.pyplot as plt\n",
        "plt.title('Receiver Operating Characteristic')\n",
        "plt.plot(fpr, tpr, 'b', label = 'AUC = %0.2f' % roc_auc)\n",
        "plt.legend(loc = 'lower right')\n",
        "plt.plot([0, 1], [0, 1],'r--')\n",
        "plt.xlim([0, 1])\n",
        "plt.ylim([0, 1])\n",
        "plt.ylabel('True Positive Rate')\n",
        "plt.xlabel('False Positive Rate')\n",
        "plt.show()"
      ],
      "execution_count": 127,
      "outputs": [
        {
          "output_type": "display_data",
          "data": {
            "image/png": "[encoded data removed]",
            "text/plain": [
              "<Figure size 432x288 with 1 Axes>"
            ]
          },
          "metadata": {
            "tags": [],
            "needs_background": "light"
          }
        }
      ]
    },
    {
      "cell_type": "code",
      "metadata": {
        "colab": {
          "base_uri": "https://localhost:8080/",
          "height": 295
        },
        "id": "6Uxmpp2CMHAr",
        "outputId": "4566db16-1fda-4ef3-e10a-dd997a6db027"
      },
      "source": [
        "roc_auc = metrics.auc(1-tpr, 1-fpr)\n",
        "plt.title('Receiver Operating Characteristic')\n",
        "plt.plot(1-tpr,1-fpr, 'b', label = 'AUC = %0.2f' % roc_auc)\n",
        "plt.legend(loc = 'lower right')\n",
        "plt.plot([0, 1], [0, 1],'r--')\n",
        "plt.xlim([0, 1])\n",
        "plt.ylim([0, 1])\n",
        "plt.ylabel('True Negative Rate')\n",
        "plt.xlabel('False Negative Rate')\n",
        "plt.show()"
      ],
      "execution_count": 128,
      "outputs": [
        {
          "output_type": "display_data",
          "data": {
            "image/png": "[encoded data removed]",
            "text/plain": [
              "<Figure size 432x288 with 1 Axes>"
            ]
          },
          "metadata": {
            "tags": [],
            "needs_background": "light"
          }
        }
      ]
    },
    {
      "cell_type": "markdown",
      "metadata": {
        "id": "GTNDUM1bi-wr"
      },
      "source": [
        "# Conclusion "
      ]
    },
    {
      "cell_type": "markdown",
      "metadata": {
        "id": "yp55QnRRP-vB"
      },
      "source": [
        "When comparing these evaluation matrices with that if logistic regression results it can be clearly seen that random forest classifier has given us slightly better recall as well as for other metrics too wrt our target class of spoiler containing text and thus in my opinion this is better model.Here evaluation metrics for our model was chosen to be \"**AUC-ROC metric \"**  as we want to maximise the spoilers caught along with high confidence on the predictions.For deployment **AUC-ROC metric**  makes perfect sense as it  makes sure that we are able to get  a balance of both accuracy and precision metric.  While with only high **recall**  inclusion of more non spoiler reviews as containing spoilers can lead to bad user experience e.g. if large no. of reviews made without spoilers  are classified as containing spoilers and collapsed this can lead to people being unhappy about this issue and decide to leave the platform, in similar way having only high **accuracy** can lead to many potential spoilers going unnoticed thus open for view by readers and spoiling their movies .**AUC-ROC metric** on the other hand kinda balances these out to give us balance point where we can best of both metrics without hampering much performance in either department. "
      ]
    },
    {
      "cell_type": "markdown",
      "metadata": {
        "id": "oKB82RwYo_fh"
      },
      "source": [
        "# Saving and Loading the Model "
      ]
    },
    {
      "cell_type": "code",
      "metadata": {
        "id": "G5hI6UBDpDAX"
      },
      "source": [
        "filename1 = '/content/drive/MyDrive/Spoiler_alert_model/Spoiler_alert_logistic.sav'\n",
        "filename2 = '/content/drive/MyDrive/Spoiler_alert_model/Spoiler_alert_randomforest.sav'\n",
        "\n"
      ],
      "execution_count": 302,
      "outputs": []
    },
    {
      "cell_type": "code",
      "metadata": {
        "id": "ARGoCI4Yp_98"
      },
      "source": [
        "pickle.dump(logistic, open(filename1, 'wb'))\n",
        "pickle.dump(model, open(filename2, 'wb'))"
      ],
      "execution_count": 303,
      "outputs": []
    },
    {
      "cell_type": "code",
      "metadata": {
        "id": "mYxupKZtpGSZ"
      },
      "source": [
        " \n",
        "# load the model from disk\n",
        "loaded_model_logistic= pickle.load(open(filename1, 'rb'))\n",
        "loaded_model_randomforest= pickle.load(open(filename2, 'rb'))\n"
      ],
      "execution_count": null,
      "outputs": []
    },
    {
      "cell_type": "code",
      "metadata": {
        "id": "ssCBdLf3vgbl"
      },
      "source": [
        "datasaved=pd.read_csv('/content/drive/MyDrive/Spoiler_alert_model/processed_data/processed_data.csv')"
      ],
      "execution_count": null,
      "outputs": []
    },
    {
      "cell_type": "code",
      "metadata": {
        "id": "PnlDvSZbvohS",
        "colab": {
          "base_uri": "https://localhost:8080/",
          "height": 598
        },
        "outputId": "98ba2484-d4da-4d47-d319-b380e424913f"
      },
      "source": [
        "datasaved.head()"
      ],
      "execution_count": null,
      "outputs": [
        {
          "output_type": "execute_result",
          "data": {
            "text/html": [
              "<div>\n",
              "<style scoped>\n",
              "    .dataframe tbody tr th:only-of-type {\n",
              "        vertical-align: middle;\n",
              "    }\n",
              "\n",
              "    .dataframe tbody tr th {\n",
              "        vertical-align: top;\n",
              "    }\n",
              "\n",
              "    .dataframe thead th {\n",
              "        text-align: right;\n",
              "    }\n",
              "</style>\n",
              "<table border=\"1\" class=\"dataframe\">\n",
              "  <thead>\n",
              "    <tr style=\"text-align: right;\">\n",
              "      <th></th>\n",
              "      <th>review_date</th>\n",
              "      <th>movie_id</th>\n",
              "      <th>user_id</th>\n",
              "      <th>is_spoiler</th>\n",
              "      <th>review_text</th>\n",
              "      <th>userrating</th>\n",
              "      <th>review_summary</th>\n",
              "      <th>plot_summary</th>\n",
              "      <th>duration</th>\n",
              "      <th>genre</th>\n",
              "      <th>actualrating</th>\n",
              "      <th>release_date</th>\n",
              "      <th>plot_synopsis</th>\n",
              "      <th>days_elapsed</th>\n",
              "      <th>msr</th>\n",
              "      <th>usr</th>\n",
              "      <th>gsr</th>\n",
              "      <th>spoiltext</th>\n",
              "      <th>distance</th>\n",
              "    </tr>\n",
              "  </thead>\n",
              "  <tbody>\n",
              "    <tr>\n",
              "      <th>0</th>\n",
              "      <td>2006-02-10</td>\n",
              "      <td>tt0111161</td>\n",
              "      <td>ur1898687</td>\n",
              "      <td>1</td>\n",
              "      <td>in its oscar year shawshank redemption written...</td>\n",
              "      <td>10</td>\n",
              "      <td>A classic piece of unforgettable film-making.</td>\n",
              "      <td>Chronicles the experiences of a formerly succe...</td>\n",
              "      <td>2h 22min</td>\n",
              "      <td>['Crime', 'Drama']</td>\n",
              "      <td>9.3</td>\n",
              "      <td>1994-10-14</td>\n",
              "      <td>In 1947, Andy Dufresne (Tim Robbins), a banker...</td>\n",
              "      <td>4137</td>\n",
              "      <td>0.219216</td>\n",
              "      <td>0.6</td>\n",
              "      <td>0</td>\n",
              "      <td>0</td>\n",
              "      <td>0.818162</td>\n",
              "    </tr>\n",
              "    <tr>\n",
              "      <th>1</th>\n",
              "      <td>2006-03-19</td>\n",
              "      <td>tt0144084</td>\n",
              "      <td>ur1898687</td>\n",
              "      <td>0</td>\n",
              "      <td>starring christian bale willem dafoe chlo sevi...</td>\n",
              "      <td>8</td>\n",
              "      <td>Worth seeing, if only for the post-viewing dis...</td>\n",
              "      <td>Patrick Bateman is handsome, well educated and...</td>\n",
              "      <td>1h 42min</td>\n",
              "      <td>['Crime', 'Drama']</td>\n",
              "      <td>7.6</td>\n",
              "      <td>2000-04-14</td>\n",
              "      <td>A white background. Red drops begin to fall pa...</td>\n",
              "      <td>2165</td>\n",
              "      <td>0.274725</td>\n",
              "      <td>0.6</td>\n",
              "      <td>0</td>\n",
              "      <td>0</td>\n",
              "      <td>0.800012</td>\n",
              "    </tr>\n",
              "    <tr>\n",
              "      <th>2</th>\n",
              "      <td>2006-02-10</td>\n",
              "      <td>tt0298203</td>\n",
              "      <td>ur1898687</td>\n",
              "      <td>1</td>\n",
              "      <td>eminem s semi autobiographical rap movie do i ...</td>\n",
              "      <td>7</td>\n",
              "      <td>Better than it needed to be.</td>\n",
              "      <td>This is the inspiring captivating story of the...</td>\n",
              "      <td>1h 50min</td>\n",
              "      <td>['Drama', 'Music']</td>\n",
              "      <td>7.1</td>\n",
              "      <td>2002-11-08</td>\n",
              "      <td>It's 1995. Jimmy \"B-Rabbit\" Smith Jr. (Eminem)...</td>\n",
              "      <td>1190</td>\n",
              "      <td>0.164456</td>\n",
              "      <td>0.6</td>\n",
              "      <td>0</td>\n",
              "      <td>0</td>\n",
              "      <td>0.440089</td>\n",
              "    </tr>\n",
              "    <tr>\n",
              "      <th>3</th>\n",
              "      <td>2006-02-10</td>\n",
              "      <td>tt0319061</td>\n",
              "      <td>ur1898687</td>\n",
              "      <td>0</td>\n",
              "      <td>the grass is so green the sky is so blue spect...</td>\n",
              "      <td>9</td>\n",
              "      <td>An immediate classic that works on both a visu...</td>\n",
              "      <td>United Press International journalist Will Blo...</td>\n",
              "      <td>2h 5min</td>\n",
              "      <td>['Adventure', 'Drama', 'Fantasy']</td>\n",
              "      <td>8.0</td>\n",
              "      <td>2004-01-09</td>\n",
              "      <td>Edward Bloom (Albert Finney), a charismatic te...</td>\n",
              "      <td>763</td>\n",
              "      <td>0.158416</td>\n",
              "      <td>0.6</td>\n",
              "      <td>0</td>\n",
              "      <td>0</td>\n",
              "      <td>0.883154</td>\n",
              "    </tr>\n",
              "    <tr>\n",
              "      <th>4</th>\n",
              "      <td>2006-02-10</td>\n",
              "      <td>tt0377092</td>\n",
              "      <td>ur1898687</td>\n",
              "      <td>1</td>\n",
              "      <td>there are a few signs heading into mean girls ...</td>\n",
              "      <td>7</td>\n",
              "      <td>A smart, but flawed, look at high school life</td>\n",
              "      <td>Her parents being zoologists, homeschooled Cad...</td>\n",
              "      <td>1h 37min</td>\n",
              "      <td>['Comedy']</td>\n",
              "      <td>7.0</td>\n",
              "      <td>2004-04-30</td>\n",
              "      <td>Cady (Lindsay Lohan) is the 16-year-old home-s...</td>\n",
              "      <td>651</td>\n",
              "      <td>0.222472</td>\n",
              "      <td>0.6</td>\n",
              "      <td>0</td>\n",
              "      <td>0</td>\n",
              "      <td>0.357090</td>\n",
              "    </tr>\n",
              "  </tbody>\n",
              "</table>\n",
              "</div>"
            ],
            "text/plain": [
              "  review_date   movie_id    user_id  is_spoiler  ...  usr  gsr spoiltext  distance\n",
              "0  2006-02-10  tt0111161  ur1898687           1  ...  0.6    0         0  0.818162\n",
              "1  2006-03-19  tt0144084  ur1898687           0  ...  0.6    0         0  0.800012\n",
              "2  2006-02-10  tt0298203  ur1898687           1  ...  0.6    0         0  0.440089\n",
              "3  2006-02-10  tt0319061  ur1898687           0  ...  0.6    0         0  0.883154\n",
              "4  2006-02-10  tt0377092  ur1898687           1  ...  0.6    0         0  0.357090\n",
              "\n",
              "[5 rows x 19 columns]"
            ]
          },
          "metadata": {
            "tags": []
          },
          "execution_count": 20
        }
      ]
    },
    {
      "cell_type": "code",
      "metadata": {
        "id": "Q5dlOtTcwNaz"
      },
      "source": [
        "testdata=datasaved[['msr','usr','gsr','distance','spoiltext','actualrating'] ].values"
      ],
      "execution_count": null,
      "outputs": []
    },
    {
      "cell_type": "code",
      "metadata": {
        "id": "2q_gkvL7wiCg"
      },
      "source": [
        "testy=datasaved[['is_spoiler']].values"
      ],
      "execution_count": null,
      "outputs": []
    },
    {
      "cell_type": "code",
      "metadata": {
        "id": "55ibMWU1OorW"
      },
      "source": [
        "lrpred=loaded_model_logistic.predict(testdata)\n",
        "rfpred=loaded_model_randomforest.predict(testdata)"
      ],
      "execution_count": null,
      "outputs": []
    },
    {
      "cell_type": "code",
      "metadata": {
        "colab": {
          "base_uri": "https://localhost:8080/"
        },
        "id": "pEXdtx_zCDOW",
        "outputId": "945428dd-bc8b-4506-f9c5-9c22d6e39aa1"
      },
      "source": [
        "resultlogistic = loaded_model_logistic.score(testdata, testy)\n",
        "print(resultlogistic)"
      ],
      "execution_count": null,
      "outputs": [
        {
          "output_type": "stream",
          "text": [
            "0.9178348332912242\n"
          ],
          "name": "stdout"
        }
      ]
    },
    {
      "cell_type": "code",
      "metadata": {
        "colab": {
          "base_uri": "https://localhost:8080/"
        },
        "id": "x31UUrszN1E0",
        "outputId": "fa0444d5-0fce-43f1-c671-0988e0def9d2"
      },
      "source": [
        "mean_squared_error(lrpred, testy)"
      ],
      "execution_count": null,
      "outputs": [
        {
          "output_type": "execute_result",
          "data": {
            "text/plain": [
              "0.08216516670877584"
            ]
          },
          "metadata": {
            "tags": []
          },
          "execution_count": 187
        }
      ]
    },
    {
      "cell_type": "code",
      "metadata": {
        "colab": {
          "base_uri": "https://localhost:8080/"
        },
        "id": "dLGVZqsPOd4r",
        "outputId": "bf833908-4c3d-405a-8dd1-74d275597396"
      },
      "source": [
        "roc_auc_score(testy,lrpred)\n"
      ],
      "execution_count": null,
      "outputs": [
        {
          "output_type": "execute_result",
          "data": {
            "text/plain": [
              "0.9095324339450882"
            ]
          },
          "metadata": {
            "tags": []
          },
          "execution_count": 188
        }
      ]
    },
    {
      "cell_type": "code",
      "metadata": {
        "colab": {
          "base_uri": "https://localhost:8080/"
        },
        "id": "tIpFy_k8L6T5",
        "outputId": "8b219e09-5f74-4ca2-d9aa-31e98492d5a7"
      },
      "source": [
        "resultrf = loaded_model_randomforest.score(testdata, testy)\n",
        "print(resultrf)"
      ],
      "execution_count": null,
      "outputs": [
        {
          "output_type": "stream",
          "text": [
            "0.9130309023270402\n"
          ],
          "name": "stdout"
        }
      ]
    },
    {
      "cell_type": "code",
      "metadata": {
        "colab": {
          "base_uri": "https://localhost:8080/"
        },
        "id": "PyC5S1HPN195",
        "outputId": "86076658-087f-4a41-8be9-9f2e9540af56"
      },
      "source": [
        "mean_squared_error(rfpred, testy)"
      ],
      "execution_count": null,
      "outputs": [
        {
          "output_type": "execute_result",
          "data": {
            "text/plain": [
              "0.08696909767295981"
            ]
          },
          "metadata": {
            "tags": []
          },
          "execution_count": 190
        }
      ]
    },
    {
      "cell_type": "code",
      "metadata": {
        "colab": {
          "base_uri": "https://localhost:8080/"
        },
        "id": "2a5NNBb1Oe9y",
        "outputId": "721af616-3979-4089-f3b3-a9131f20bd9e"
      },
      "source": [
        "roc_auc_score(testy, rfpred)\n"
      ],
      "execution_count": null,
      "outputs": [
        {
          "output_type": "execute_result",
          "data": {
            "text/plain": [
              "0.9205756171555233"
            ]
          },
          "metadata": {
            "tags": []
          },
          "execution_count": 192
        }
      ]
    },
    {
      "cell_type": "markdown",
      "metadata": {
        "id": "Va0bQ3gPDera"
      },
      "source": [
        "# Appendix"
      ]
    },
    {
      "cell_type": "markdown",
      "metadata": {
        "id": "KSId4_gIKIP_"
      },
      "source": [
        "\n",
        "for application main columns needed are   [userid,movieid,review_text,userrating,actualrating,plot_synopsis]\n",
        "rest all columns such as [msr,usr,gsr,spoiltext,distance]  are then  build from this existing info  using  code given below  in a modified manner\n",
        "and then finally ['msr','usr','gsr','distance','spoiltext','actualrating'] these cols are passed to model for getting a prediction "
      ]
    },
    {
      "cell_type": "code",
      "metadata": {
        "id": "UerkDmY2G6oT"
      },
      "source": [
        "#If used train_test_split earlier for randomly sampled data from entire dataset add these pramas just as we did while training\n",
        "\n",
        "# test0 = pd.merge(test, usr, how = 'left', on = 'user_id')\n",
        "# test0 = pd.merge(test0, msr, how = 'left', on = 'movie_id')\n",
        "# test0['gsr'] = test0.genre.apply(getGenreRatio)+0\n",
        "# test0.review_text = test0.review_text.apply(preprocesstext)\n",
        "# review_embed_test = test.review_text.apply(getAvgWordEmbedding)\n",
        "# plot_embed_test = test.plot_summary.apply(getAvgWordEmbedding)\n",
        "# test0['distance'] = Dist(np.stack(review_embed_test), np.stack(plot_embed_test))\n",
        "#test0['spoiltext'] = test0.review_summary.str.contains('SPOILERS')+0"
      ],
      "execution_count": null,
      "outputs": []
    }
  ]
}